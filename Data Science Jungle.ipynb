{
 "cells": [
  {
   "cell_type": "markdown",
   "metadata": {
    "papermill": {
     "duration": 0.03413,
     "end_time": "2021-06-30T04:29:01.810056",
     "exception": false,
     "start_time": "2021-06-30T04:29:01.775926",
     "status": "completed"
    },
    "tags": []
   },
   "source": [
    "We are set to explore the kaggle 2020 survey for insights on what is the difference between working for large company vs small company, what is the next tech to learn and how can datascientists better their salary."
   ]
  },
  {
   "cell_type": "code",
   "execution_count": 38,
   "metadata": {},
   "outputs": [],
   "source": [
    "# **Data Science Jungle: Large firm or Small Firm;AWS or GCP;Countires with best salaries**"
   ]
  },
  {
   "cell_type": "code",
   "execution_count": 39,
   "metadata": {
    "execution": {
     "iopub.execute_input": "2021-06-30T04:29:01.879593Z",
     "iopub.status.busy": "2021-06-30T04:29:01.878432Z",
     "iopub.status.idle": "2021-06-30T04:29:06.031339Z",
     "shell.execute_reply": "2021-06-30T04:29:06.030546Z"
    },
    "papermill": {
     "duration": 4.188624,
     "end_time": "2021-06-30T04:29:06.031506",
     "exception": false,
     "start_time": "2021-06-30T04:29:01.842882",
     "status": "completed"
    },
    "tags": []
   },
   "outputs": [
    {
     "data": {
      "text/html": [
       "        <script type=\"text/javascript\">\n",
       "        window.PlotlyConfig = {MathJaxConfig: 'local'};\n",
       "        if (window.MathJax) {MathJax.Hub.Config({SVG: {font: \"STIX-Web\"}});}\n",
       "        if (typeof require !== 'undefined') {\n",
       "        require.undef(\"plotly\");\n",
       "        requirejs.config({\n",
       "            paths: {\n",
       "                'plotly': ['https://cdn.plot.ly/plotly-2.2.0.min']\n",
       "            }\n",
       "        });\n",
       "        require(['plotly'], function(Plotly) {\n",
       "            window._Plotly = Plotly;\n",
       "        });\n",
       "        }\n",
       "        </script>\n",
       "        "
      ]
     },
     "metadata": {},
     "output_type": "display_data"
    }
   ],
   "source": [
    "#All imports \n",
    "import numpy as np # linear algebra\n",
    "import pandas as pd # data processing, CSV file I/O (e.g. pd.read_csv)\n",
    "import warnings\n",
    "warnings.filterwarnings('ignore')\n",
    "import plotly.express as px\n",
    "from plotly.offline import init_notebook_mode, iplot\n",
    "from plotly import subplots\n",
    "import plotly.figure_factory as ff\n",
    "import plotly as py\n",
    "import plotly.graph_objects as go\n",
    "init_notebook_mode(connected=True)\n",
    "import statsmodels.api as sm\n",
    "from statsmodels.formula.api import ols"
   ]
  },
  {
   "cell_type": "code",
   "execution_count": 40,
   "metadata": {},
   "outputs": [
    {
     "name": "stdout",
     "output_type": "stream",
     "text": [
      "SvgRenderer(width=None, height=None, scale=None, engine='auto')\n",
      "\n",
      "    Renderer to display figures as static SVG images.  This renderer requires\n",
      "    either the kaleido package or the orca command-line utility and is broadly\n",
      "    compatible across IPython environments (classic Jupyter Notebook, JupyterLab,\n",
      "    QtConsole, VSCode, PyCharm, etc) and nbconvert targets (HTML, PDF, etc.).\n",
      "\n",
      "    mime type: 'image/svg+xml'\n",
      "    \n"
     ]
    }
   ],
   "source": [
    "import plotly.io as pio\n",
    "svg_renderer=pio.renderers[\"svg\"]\n",
    "print(svg_renderer)\n",
    "pio.renderers.default=\"svg\""
   ]
  },
  {
   "cell_type": "code",
   "execution_count": 41,
   "metadata": {
    "execution": {
     "iopub.execute_input": "2021-06-30T04:29:06.106129Z",
     "iopub.status.busy": "2021-06-30T04:29:06.105200Z",
     "iopub.status.idle": "2021-06-30T04:29:07.513573Z",
     "shell.execute_reply": "2021-06-30T04:29:07.512773Z",
     "shell.execute_reply.started": "2021-06-29T17:12:27.954765Z"
    },
    "papermill": {
     "duration": 1.44771,
     "end_time": "2021-06-30T04:29:07.513799",
     "exception": false,
     "start_time": "2021-06-30T04:29:06.066089",
     "status": "completed"
    },
    "tags": []
   },
   "outputs": [
    {
     "name": "stdout",
     "output_type": "stream",
     "text": [
      "Survey (No of respondents,No of questions answered): (20037, 355)\n"
     ]
    }
   ],
   "source": [
    "#reading csv and see 20k respondents\n",
    "df=pd.read_csv(\"data/kaggle_survey_2020_responses.csv\")\n",
    "print(\"Survey (No of respondents,No of questions answered):\",df.shape)\n",
    "\n",
    "#Let us investigate the list of columns and let us drop second row with questions text\n",
    "df=df.iloc[1:]"
   ]
  },
  {
   "cell_type": "markdown",
   "metadata": {
    "papermill": {
     "duration": 0.033921,
     "end_time": "2021-06-30T04:29:07.582571",
     "exception": false,
     "start_time": "2021-06-30T04:29:07.548650",
     "status": "completed"
    },
    "tags": []
   },
   "source": [
    "# **First Question we are tackling is what are the differences encountered in a large firm vs small firm in datascience?**"
   ]
  },
  {
   "cell_type": "code",
   "execution_count": 42,
   "metadata": {
    "execution": {
     "iopub.execute_input": "2021-06-30T04:29:07.673502Z",
     "iopub.status.busy": "2021-06-30T04:29:07.667128Z",
     "iopub.status.idle": "2021-06-30T04:29:07.677415Z",
     "shell.execute_reply": "2021-06-30T04:29:07.676899Z",
     "shell.execute_reply.started": "2021-06-29T17:12:29.04821Z"
    },
    "papermill": {
     "duration": 0.060181,
     "end_time": "2021-06-30T04:29:07.677560",
     "exception": false,
     "start_time": "2021-06-30T04:29:07.617379",
     "status": "completed"
    },
    "tags": []
   },
   "outputs": [
    {
     "data": {
      "text/plain": [
       "NaN                         8633\n",
       "0-49 employees              4208\n",
       "10,000 or more employees    2238\n",
       "1000-9,999 employees        1934\n",
       "50-249 employees            1671\n",
       "250-999 employees           1352\n",
       "Name: Q20, dtype: int64"
      ]
     },
     "execution_count": 42,
     "metadata": {},
     "output_type": "execute_result"
    }
   ],
   "source": [
    "#check distribution of employess based on the company size\n",
    "df['Q20'].value_counts(dropna=False)"
   ]
  },
  {
   "cell_type": "code",
   "execution_count": 43,
   "metadata": {
    "execution": {
     "iopub.execute_input": "2021-06-30T04:29:07.752845Z",
     "iopub.status.busy": "2021-06-30T04:29:07.752194Z",
     "iopub.status.idle": "2021-06-30T04:29:07.820080Z",
     "shell.execute_reply": "2021-06-30T04:29:07.820570Z",
     "shell.execute_reply.started": "2021-06-29T17:12:29.064941Z"
    },
    "papermill": {
     "duration": 0.10894,
     "end_time": "2021-06-30T04:29:07.820747",
     "exception": false,
     "start_time": "2021-06-30T04:29:07.711807",
     "status": "completed"
    },
    "tags": []
   },
   "outputs": [
    {
     "name": "stdout",
     "output_type": "stream",
     "text": [
      "Number of respondents with valid company size: 11403\n"
     ]
    }
   ],
   "source": [
    "#dropping all NaN in size\n",
    "df = df[df['Q20'].notna()]\n",
    "print(\"Number of respondents with valid company size:\",df.shape[0])\n",
    "df_size=df['Q20'].value_counts(dropna=False)"
   ]
  },
  {
   "cell_type": "code",
   "execution_count": 44,
   "metadata": {
    "execution": {
     "iopub.execute_input": "2021-06-30T04:29:07.896427Z",
     "iopub.status.busy": "2021-06-30T04:29:07.895771Z",
     "iopub.status.idle": "2021-06-30T04:29:08.147016Z",
     "shell.execute_reply": "2021-06-30T04:29:08.146362Z",
     "shell.execute_reply.started": "2021-06-29T17:12:29.14062Z"
    },
    "papermill": {
     "duration": 0.292122,
     "end_time": "2021-06-30T04:29:08.147162",
     "exception": false,
     "start_time": "2021-06-30T04:29:07.855040",
     "status": "completed"
    },
    "tags": []
   },
   "outputs": [
    {
     "data": {
      "text/plain": [
       "small    7231\n",
       "big      4172\n",
       "Name: corp_type, dtype: int64"
      ]
     },
     "execution_count": 44,
     "metadata": {},
     "output_type": "execute_result"
    }
   ],
   "source": [
    "#Let us tag each of the company into a bucket based on size\n",
    "#writing a function to categorise <1000 employees as small and >=1000 as big\n",
    "def get_corp_type(row):\n",
    "    if row['Q20']=='0-49 employees':\n",
    "        return 'small'\n",
    "    if row['Q20']=='50-249 employees':\n",
    "        return 'small'\n",
    "    if row['Q20']=='250-999 employees':\n",
    "        return 'small'\n",
    "    if row['Q20']=='1000-9,999 employees':\n",
    "        return 'big'\n",
    "    if row['Q20']=='10,000 or more employees':\n",
    "        return 'big'\n",
    "\n",
    "df['corp_type'] = df.apply (lambda row: get_corp_type(row), axis=1)\n",
    "df['corp_type'].value_counts(dropna=False)\n"
   ]
  },
  {
   "cell_type": "markdown",
   "metadata": {
    "papermill": {
     "duration": 0.034997,
     "end_time": "2021-06-30T04:29:08.217403",
     "exception": false,
     "start_time": "2021-06-30T04:29:08.182406",
     "status": "completed"
    },
    "tags": []
   },
   "source": [
    "**Are there any difference in titles?**<br>\n",
    "Answer is we see no big difference in the title used."
   ]
  },
  {
   "cell_type": "code",
   "execution_count": 45,
   "metadata": {
    "_kg_hide-input": true,
    "_kg_hide-output": false,
    "execution": {
     "iopub.execute_input": "2021-06-30T04:29:08.299613Z",
     "iopub.status.busy": "2021-06-30T04:29:08.298803Z",
     "iopub.status.idle": "2021-06-30T04:29:09.398280Z",
     "shell.execute_reply": "2021-06-30T04:29:09.398956Z",
     "shell.execute_reply.started": "2021-06-29T17:12:29.405068Z"
    },
    "papermill": {
     "duration": 1.146681,
     "end_time": "2021-06-30T04:29:09.399136",
     "exception": false,
     "start_time": "2021-06-30T04:29:08.252455",
     "status": "completed"
    },
    "tags": []
   },
   "outputs": [
    {
     "data": {
      "image/svg+xml": [
       "<svg class=\"main-svg\" xmlns=\"http://www.w3.org/2000/svg\" xmlns:xlink=\"http://www.w3.org/1999/xlink\" width=\"600\" height=\"600\" style=\"\" viewBox=\"0 0 600 600\"><rect x=\"0\" y=\"0\" width=\"600\" height=\"600\" style=\"fill: rgb(255, 255, 255); fill-opacity: 1;\"/><defs id=\"defs-80e3b0\"><g class=\"clips\"><clipPath id=\"clip80e3b0xyplot\" class=\"plotclip\"><rect width=\"310\" height=\"460\"/></clipPath><clipPath class=\"axesclip\" id=\"clip80e3b0x\"><rect x=\"80\" y=\"0\" width=\"310\" height=\"600\"/></clipPath><clipPath class=\"axesclip\" id=\"clip80e3b0y\"><rect x=\"0\" y=\"60\" width=\"600\" height=\"460\"/></clipPath><clipPath class=\"axesclip\" id=\"clip80e3b0xy\"><rect x=\"80\" y=\"60\" width=\"310\" height=\"460\"/></clipPath></g><g class=\"gradients\"/><g class=\"patterns\"/></defs><g class=\"bglayer\"><rect class=\"bg\" x=\"80\" y=\"60\" width=\"310\" height=\"460\" style=\"fill: rgb(229, 236, 246); fill-opacity: 1; stroke-width: 0;\"/></g><g class=\"layer-below\"><g class=\"imagelayer\"/><g class=\"shapelayer\"/></g><g class=\"cartesianlayer\"><g class=\"subplot xy\"><g class=\"layer-subplot\"><g class=\"shapelayer\"/><g class=\"imagelayer\"/></g><g class=\"gridlayer\"><g class=\"x\"/><g class=\"y\"><path class=\"ygrid crisp\" transform=\"translate(0,432.6)\" d=\"M80,0h310\" style=\"stroke: rgb(255, 255, 255); stroke-opacity: 1; stroke-width: 1px;\"/><path class=\"ygrid crisp\" transform=\"translate(0,345.2)\" d=\"M80,0h310\" style=\"stroke: rgb(255, 255, 255); stroke-opacity: 1; stroke-width: 1px;\"/><path class=\"ygrid crisp\" transform=\"translate(0,257.8)\" d=\"M80,0h310\" style=\"stroke: rgb(255, 255, 255); stroke-opacity: 1; stroke-width: 1px;\"/><path class=\"ygrid crisp\" transform=\"translate(0,170.4)\" d=\"M80,0h310\" style=\"stroke: rgb(255, 255, 255); stroke-opacity: 1; stroke-width: 1px;\"/><path class=\"ygrid crisp\" transform=\"translate(0,83)\" d=\"M80,0h310\" style=\"stroke: rgb(255, 255, 255); stroke-opacity: 1; stroke-width: 1px;\"/></g></g><g class=\"zerolinelayer\"><path class=\"yzl zl crisp\" transform=\"translate(0,520)\" d=\"M80,0h310\" style=\"stroke: rgb(255, 255, 255); stroke-opacity: 1; stroke-width: 2px;\"/></g><path class=\"xlines-below\"/><path class=\"ylines-below\"/><g class=\"overlines-below\"/><g class=\"xaxislayer-below\"/><g class=\"yaxislayer-below\"/><g class=\"overaxes-below\"/><g class=\"plot\" transform=\"translate(80,60)\" clip-path=\"url(#clip80e3b0xyplot)\"><g class=\"barlayer mlayer\"><g class=\"trace bars\" style=\"opacity: 1;\"><g class=\"points\"><g class=\"point\"><path d=\"M15.5,460V426.8H139.5V460Z\" style=\"vector-effect: non-scaling-stroke; opacity: 1; stroke-width: 0.5px; fill: rgb(99, 110, 250); fill-opacity: 1; stroke: rgb(229, 236, 246); stroke-opacity: 1;\"/></g><g class=\"point\"><path d=\"M170.5,460V436.13H294.5V460Z\" style=\"vector-effect: non-scaling-stroke; opacity: 1; stroke-width: 0.5px; fill: rgb(99, 110, 250); fill-opacity: 1; stroke: rgb(229, 236, 246); stroke-opacity: 1;\"/></g></g></g><g class=\"trace bars\" style=\"opacity: 1;\"><g class=\"points\"><g class=\"point\"><path d=\"M15.5,426.8V421.45H139.5V426.8Z\" style=\"vector-effect: non-scaling-stroke; opacity: 1; stroke-width: 0.5px; fill: rgb(239, 85, 59); fill-opacity: 1; stroke: rgb(229, 236, 246); stroke-opacity: 1;\"/></g><g class=\"point\"><path d=\"M170.5,436.13V432.26H294.5V436.13Z\" style=\"vector-effect: non-scaling-stroke; opacity: 1; stroke-width: 0.5px; fill: rgb(239, 85, 59); fill-opacity: 1; stroke: rgb(229, 236, 246); stroke-opacity: 1;\"/></g></g></g><g class=\"trace bars\" style=\"opacity: 1;\"><g class=\"points\"><g class=\"point\"><path d=\"M15.5,421.45V374.11H139.5V421.45Z\" style=\"vector-effect: non-scaling-stroke; opacity: 1; stroke-width: 0.5px; fill: rgb(0, 204, 150); fill-opacity: 1; stroke: rgb(229, 236, 246); stroke-opacity: 1;\"/></g><g class=\"point\"><path d=\"M170.5,432.26V378.9H294.5V432.26Z\" style=\"vector-effect: non-scaling-stroke; opacity: 1; stroke-width: 0.5px; fill: rgb(0, 204, 150); fill-opacity: 1; stroke: rgb(229, 236, 246); stroke-opacity: 1;\"/></g></g></g><g class=\"trace bars\" style=\"opacity: 1;\"><g class=\"points\"><g class=\"point\"><path d=\"M15.5,374.11V355.99H139.5V374.11Z\" style=\"vector-effect: non-scaling-stroke; opacity: 1; stroke-width: 0.5px; fill: rgb(171, 99, 250); fill-opacity: 1; stroke: rgb(229, 236, 246); stroke-opacity: 1;\"/></g><g class=\"point\"><path d=\"M170.5,378.9V365.84H294.5V378.9Z\" style=\"vector-effect: non-scaling-stroke; opacity: 1; stroke-width: 0.5px; fill: rgb(171, 99, 250); fill-opacity: 1; stroke: rgb(229, 236, 246); stroke-opacity: 1;\"/></g></g></g><g class=\"trace bars\" style=\"opacity: 1;\"><g class=\"points\"><g class=\"point\"><path d=\"M15.5,355.99V253.55H139.5V355.99Z\" style=\"vector-effect: non-scaling-stroke; opacity: 1; stroke-width: 0.5px; fill: rgb(255, 161, 90); fill-opacity: 1; stroke: rgb(229, 236, 246); stroke-opacity: 1;\"/></g><g class=\"point\"><path d=\"M170.5,365.84V273.26H294.5V365.84Z\" style=\"vector-effect: non-scaling-stroke; opacity: 1; stroke-width: 0.5px; fill: rgb(255, 161, 90); fill-opacity: 1; stroke: rgb(229, 236, 246); stroke-opacity: 1;\"/></g></g></g><g class=\"trace bars\" style=\"opacity: 1;\"><g class=\"points\"><g class=\"point\"><path d=\"M15.5,253.55V228.3H139.5V253.55Z\" style=\"vector-effect: non-scaling-stroke; opacity: 1; stroke-width: 0.5px; fill: rgb(25, 211, 243); fill-opacity: 1; stroke: rgb(229, 236, 246); stroke-opacity: 1;\"/></g><g class=\"point\"><path d=\"M170.5,273.26V227.87H294.5V273.26Z\" style=\"vector-effect: non-scaling-stroke; opacity: 1; stroke-width: 0.5px; fill: rgb(25, 211, 243); fill-opacity: 1; stroke: rgb(229, 236, 246); stroke-opacity: 1;\"/></g></g></g><g class=\"trace bars\" style=\"opacity: 1;\"><g class=\"points\"><g class=\"point\"><path d=\"M15.5,228.3V162.63H139.5V228.3Z\" style=\"vector-effect: non-scaling-stroke; opacity: 1; stroke-width: 0.5px; fill: rgb(255, 102, 146); fill-opacity: 1; stroke: rgb(229, 236, 246); stroke-opacity: 1;\"/></g><g class=\"point\"><path d=\"M170.5,227.87V168.71H294.5V227.87Z\" style=\"vector-effect: non-scaling-stroke; opacity: 1; stroke-width: 0.5px; fill: rgb(255, 102, 146); fill-opacity: 1; stroke: rgb(229, 236, 246); stroke-opacity: 1;\"/></g></g></g><g class=\"trace bars\" style=\"opacity: 1;\"><g class=\"points\"><g class=\"point\"><path d=\"M15.5,162.63V136.75H139.5V162.63Z\" style=\"vector-effect: non-scaling-stroke; opacity: 1; stroke-width: 0.5px; fill: rgb(182, 232, 128); fill-opacity: 1; stroke: rgb(229, 236, 246); stroke-opacity: 1;\"/></g><g class=\"point\"><path d=\"M170.5,168.71V145.8H294.5V168.71Z\" style=\"vector-effect: non-scaling-stroke; opacity: 1; stroke-width: 0.5px; fill: rgb(182, 232, 128); fill-opacity: 1; stroke: rgb(229, 236, 246); stroke-opacity: 1;\"/></g></g></g><g class=\"trace bars\" style=\"opacity: 1;\"><g class=\"points\"><g class=\"point\"><path d=\"M15.5,136.75V101.14H139.5V136.75Z\" style=\"vector-effect: non-scaling-stroke; opacity: 1; stroke-width: 0.5px; fill: rgb(255, 151, 255); fill-opacity: 1; stroke: rgb(229, 236, 246); stroke-opacity: 1;\"/></g><g class=\"point\"><path d=\"M170.5,145.8V100.6H294.5V145.8Z\" style=\"vector-effect: non-scaling-stroke; opacity: 1; stroke-width: 0.5px; fill: rgb(255, 151, 255); fill-opacity: 1; stroke: rgb(229, 236, 246); stroke-opacity: 1;\"/></g></g></g><g class=\"trace bars\" style=\"opacity: 1;\"><g class=\"points\"><g class=\"point\"><path d=\"M15.5,101.14V30.44H139.5V101.14Z\" style=\"vector-effect: non-scaling-stroke; opacity: 1; stroke-width: 0.5px; fill: rgb(254, 203, 82); fill-opacity: 1; stroke: rgb(229, 236, 246); stroke-opacity: 1;\"/></g><g class=\"point\"><path d=\"M170.5,100.6V34.78H294.5V100.6Z\" style=\"vector-effect: non-scaling-stroke; opacity: 1; stroke-width: 0.5px; fill: rgb(254, 203, 82); fill-opacity: 1; stroke: rgb(229, 236, 246); stroke-opacity: 1;\"/></g></g></g><g class=\"trace bars\" style=\"opacity: 1;\"><g class=\"points\"><g class=\"point\"><path d=\"M15.5,30.44V23H139.5V30.44Z\" style=\"vector-effect: non-scaling-stroke; opacity: 1; stroke-width: 0.5px; fill: rgb(99, 110, 250); fill-opacity: 1; stroke: rgb(229, 236, 246); stroke-opacity: 1;\"/></g><g class=\"point\"><path d=\"M170.5,34.78V23H294.5V34.78Z\" style=\"vector-effect: non-scaling-stroke; opacity: 1; stroke-width: 0.5px; fill: rgb(99, 110, 250); fill-opacity: 1; stroke: rgb(229, 236, 246); stroke-opacity: 1;\"/></g></g></g></g></g><g class=\"overplot\"/><path class=\"xlines-above crisp\" d=\"M0,0\" style=\"fill: none;\"/><path class=\"ylines-above crisp\" d=\"M0,0\" style=\"fill: none;\"/><g class=\"overlines-above\"/><g class=\"xaxislayer-above\"><g class=\"xtick\"><text text-anchor=\"middle\" x=\"0\" y=\"533\" transform=\"translate(157.5,0)\" style=\"font-family: 'Open Sans', verdana, arial, sans-serif; font-size: 12px; fill: rgb(42, 63, 95); fill-opacity: 1; white-space: pre; opacity: 1;\">Large</text></g><g class=\"xtick\"><text text-anchor=\"middle\" x=\"0\" y=\"533\" transform=\"translate(312.5,0)\" style=\"font-family: 'Open Sans', verdana, arial, sans-serif; font-size: 12px; fill: rgb(42, 63, 95); fill-opacity: 1; white-space: pre; opacity: 1;\">Small</text></g></g><g class=\"yaxislayer-above\"><g class=\"ytick\"><text text-anchor=\"end\" x=\"79\" y=\"4.199999999999999\" transform=\"translate(0,520)\" style=\"font-family: 'Open Sans', verdana, arial, sans-serif; font-size: 12px; fill: rgb(42, 63, 95); fill-opacity: 1; white-space: pre; opacity: 1;\">0</text></g><g class=\"ytick\"><text text-anchor=\"end\" x=\"79\" y=\"4.199999999999999\" style=\"font-family: 'Open Sans', verdana, arial, sans-serif; font-size: 12px; fill: rgb(42, 63, 95); fill-opacity: 1; white-space: pre; opacity: 1;\" transform=\"translate(0,432.6)\">20</text></g><g class=\"ytick\"><text text-anchor=\"end\" x=\"79\" y=\"4.199999999999999\" style=\"font-family: 'Open Sans', verdana, arial, sans-serif; font-size: 12px; fill: rgb(42, 63, 95); fill-opacity: 1; white-space: pre; opacity: 1;\" transform=\"translate(0,345.2)\">40</text></g><g class=\"ytick\"><text text-anchor=\"end\" x=\"79\" y=\"4.199999999999999\" style=\"font-family: 'Open Sans', verdana, arial, sans-serif; font-size: 12px; fill: rgb(42, 63, 95); fill-opacity: 1; white-space: pre; opacity: 1;\" transform=\"translate(0,257.8)\">60</text></g><g class=\"ytick\"><text text-anchor=\"end\" x=\"79\" y=\"4.199999999999999\" style=\"font-family: 'Open Sans', verdana, arial, sans-serif; font-size: 12px; fill: rgb(42, 63, 95); fill-opacity: 1; white-space: pre; opacity: 1;\" transform=\"translate(0,170.4)\">80</text></g><g class=\"ytick\"><text text-anchor=\"end\" x=\"79\" y=\"4.199999999999999\" style=\"font-family: 'Open Sans', verdana, arial, sans-serif; font-size: 12px; fill: rgb(42, 63, 95); fill-opacity: 1; white-space: pre; opacity: 1;\" transform=\"translate(0,83)\">100</text></g></g><g class=\"overaxes-above\"/></g></g><g class=\"polarlayer\"/><g class=\"ternarylayer\"/><g class=\"geolayer\"/><g class=\"funnelarealayer\"/><g class=\"pielayer\"/><g class=\"iciclelayer\"/><g class=\"treemaplayer\"/><g class=\"sunburstlayer\"/><g class=\"glimages\"/><defs id=\"topdefs-80e3b0\"><g class=\"clips\"/><clipPath id=\"legend80e3b0\"><rect width=\"192\" height=\"238\" x=\"0\" y=\"0\"/></clipPath></defs><g class=\"layer-above\"><g class=\"imagelayer\"/><g class=\"shapelayer\"/></g><g class=\"infolayer\"><g class=\"legend\" pointer-events=\"all\" transform=\"translate(396.2,60)\"><rect class=\"bg\" shape-rendering=\"crispEdges\" style=\"stroke: rgb(68, 68, 68); stroke-opacity: 1; fill: rgb(255, 255, 255); fill-opacity: 1; stroke-width: 0px;\" width=\"192\" height=\"238\" x=\"0\" y=\"0\"/><g class=\"scrollbox\" transform=\"\" clip-path=\"url(#legend80e3b0)\"><text class=\"legendtitletext\" text-anchor=\"start\" x=\"2\" y=\"18.2\" style=\"font-family: 'Open Sans', verdana, arial, sans-serif; font-size: 14px; fill: rgb(42, 63, 95); fill-opacity: 1; white-space: pre;\">Title</text><g class=\"groups\" transform=\"\"><g class=\"traces\" transform=\"translate(0,32.7)\" style=\"opacity: 1;\"><text class=\"legendtext\" text-anchor=\"start\" x=\"40\" y=\"4.680000000000001\" style=\"font-family: 'Open Sans', verdana, arial, sans-serif; font-size: 12px; fill: rgb(42, 63, 95); fill-opacity: 1; white-space: pre;\">Business Analyst</text><g class=\"layers\" style=\"opacity: 1;\"><g class=\"legendfill\"/><g class=\"legendlines\"/><g class=\"legendsymbols\"><g class=\"legendpoints\"><path class=\"legendundefined\" d=\"M6,6H-6V-6H6Z\" transform=\"translate(20,0)\" style=\"stroke-width: 0.5px; fill: rgb(99, 110, 250); fill-opacity: 1; stroke: rgb(229, 236, 246); stroke-opacity: 1;\"/></g></g></g><rect class=\"legendtoggle\" x=\"0\" y=\"-9.5\" width=\"186.78125\" height=\"19\" style=\"fill: rgb(0, 0, 0); fill-opacity: 0;\"/></g></g><g class=\"groups\" transform=\"\"><g class=\"traces\" transform=\"translate(0,51.7)\" style=\"opacity: 1;\"><text class=\"legendtext\" text-anchor=\"start\" x=\"40\" y=\"4.680000000000001\" style=\"font-family: 'Open Sans', verdana, arial, sans-serif; font-size: 12px; fill: rgb(42, 63, 95); fill-opacity: 1; white-space: pre;\">DBA/Database Engineer</text><g class=\"layers\" style=\"opacity: 1;\"><g class=\"legendfill\"/><g class=\"legendlines\"/><g class=\"legendsymbols\"><g class=\"legendpoints\"><path class=\"legendundefined\" d=\"M6,6H-6V-6H6Z\" transform=\"translate(20,0)\" style=\"stroke-width: 0.5px; fill: rgb(239, 85, 59); fill-opacity: 1; stroke: rgb(229, 236, 246); stroke-opacity: 1;\"/></g></g></g><rect class=\"legendtoggle\" x=\"0\" y=\"-9.5\" width=\"186.78125\" height=\"19\" style=\"fill: rgb(0, 0, 0); fill-opacity: 0;\"/></g></g><g class=\"groups\" transform=\"\"><g class=\"traces\" transform=\"translate(0,70.7)\" style=\"opacity: 1;\"><text class=\"legendtext\" text-anchor=\"start\" x=\"40\" y=\"4.680000000000001\" style=\"font-family: 'Open Sans', verdana, arial, sans-serif; font-size: 12px; fill: rgb(42, 63, 95); fill-opacity: 1; white-space: pre;\">Data Analyst</text><g class=\"layers\" style=\"opacity: 1;\"><g class=\"legendfill\"/><g class=\"legendlines\"/><g class=\"legendsymbols\"><g class=\"legendpoints\"><path class=\"legendundefined\" d=\"M6,6H-6V-6H6Z\" transform=\"translate(20,0)\" style=\"stroke-width: 0.5px; fill: rgb(0, 204, 150); fill-opacity: 1; stroke: rgb(229, 236, 246); stroke-opacity: 1;\"/></g></g></g><rect class=\"legendtoggle\" x=\"0\" y=\"-9.5\" width=\"186.78125\" height=\"19\" style=\"fill: rgb(0, 0, 0); fill-opacity: 0;\"/></g></g><g class=\"groups\" transform=\"\"><g class=\"traces\" transform=\"translate(0,89.7)\" style=\"opacity: 1;\"><text class=\"legendtext\" text-anchor=\"start\" x=\"40\" y=\"4.680000000000001\" style=\"font-family: 'Open Sans', verdana, arial, sans-serif; font-size: 12px; fill: rgb(42, 63, 95); fill-opacity: 1; white-space: pre;\">Data Engineer</text><g class=\"layers\" style=\"opacity: 1;\"><g class=\"legendfill\"/><g class=\"legendlines\"/><g class=\"legendsymbols\"><g class=\"legendpoints\"><path class=\"legendundefined\" d=\"M6,6H-6V-6H6Z\" transform=\"translate(20,0)\" style=\"stroke-width: 0.5px; fill: rgb(171, 99, 250); fill-opacity: 1; stroke: rgb(229, 236, 246); stroke-opacity: 1;\"/></g></g></g><rect class=\"legendtoggle\" x=\"0\" y=\"-9.5\" width=\"186.78125\" height=\"19\" style=\"fill: rgb(0, 0, 0); fill-opacity: 0;\"/></g></g><g class=\"groups\" transform=\"\"><g class=\"traces\" transform=\"translate(0,108.7)\" style=\"opacity: 1;\"><text class=\"legendtext\" text-anchor=\"start\" x=\"40\" y=\"4.680000000000001\" style=\"font-family: 'Open Sans', verdana, arial, sans-serif; font-size: 12px; fill: rgb(42, 63, 95); fill-opacity: 1; white-space: pre;\">Data Scientist</text><g class=\"layers\" style=\"opacity: 1;\"><g class=\"legendfill\"/><g class=\"legendlines\"/><g class=\"legendsymbols\"><g class=\"legendpoints\"><path class=\"legendundefined\" d=\"M6,6H-6V-6H6Z\" transform=\"translate(20,0)\" style=\"stroke-width: 0.5px; fill: rgb(255, 161, 90); fill-opacity: 1; stroke: rgb(229, 236, 246); stroke-opacity: 1;\"/></g></g></g><rect class=\"legendtoggle\" x=\"0\" y=\"-9.5\" width=\"186.78125\" height=\"19\" style=\"fill: rgb(0, 0, 0); fill-opacity: 0;\"/></g></g><g class=\"groups\" transform=\"\"><g class=\"traces\" transform=\"translate(0,127.7)\" style=\"opacity: 1;\"><text class=\"legendtext\" text-anchor=\"start\" x=\"40\" y=\"4.680000000000001\" style=\"font-family: 'Open Sans', verdana, arial, sans-serif; font-size: 12px; fill: rgb(42, 63, 95); fill-opacity: 1; white-space: pre;\">Machine Learning Engineer</text><g class=\"layers\" style=\"opacity: 1;\"><g class=\"legendfill\"/><g class=\"legendlines\"/><g class=\"legendsymbols\"><g class=\"legendpoints\"><path class=\"legendundefined\" d=\"M6,6H-6V-6H6Z\" transform=\"translate(20,0)\" style=\"stroke-width: 0.5px; fill: rgb(25, 211, 243); fill-opacity: 1; stroke: rgb(229, 236, 246); stroke-opacity: 1;\"/></g></g></g><rect class=\"legendtoggle\" x=\"0\" y=\"-9.5\" width=\"186.78125\" height=\"19\" style=\"fill: rgb(0, 0, 0); fill-opacity: 0;\"/></g></g><g class=\"groups\" transform=\"\"><g class=\"traces\" transform=\"translate(0,146.7)\" style=\"opacity: 1;\"><text class=\"legendtext\" text-anchor=\"start\" x=\"40\" y=\"4.680000000000001\" style=\"font-family: 'Open Sans', verdana, arial, sans-serif; font-size: 12px; fill: rgb(42, 63, 95); fill-opacity: 1; white-space: pre;\">Other</text><g class=\"layers\" style=\"opacity: 1;\"><g class=\"legendfill\"/><g class=\"legendlines\"/><g class=\"legendsymbols\"><g class=\"legendpoints\"><path class=\"legendundefined\" d=\"M6,6H-6V-6H6Z\" transform=\"translate(20,0)\" style=\"stroke-width: 0.5px; fill: rgb(255, 102, 146); fill-opacity: 1; stroke: rgb(229, 236, 246); stroke-opacity: 1;\"/></g></g></g><rect class=\"legendtoggle\" x=\"0\" y=\"-9.5\" width=\"186.78125\" height=\"19\" style=\"fill: rgb(0, 0, 0); fill-opacity: 0;\"/></g></g><g class=\"groups\" transform=\"\"><g class=\"traces\" transform=\"translate(0,165.7)\" style=\"opacity: 1;\"><text class=\"legendtext\" text-anchor=\"start\" x=\"40\" y=\"4.680000000000001\" style=\"font-family: 'Open Sans', verdana, arial, sans-serif; font-size: 12px; fill: rgb(42, 63, 95); fill-opacity: 1; white-space: pre;\">Product/Project Manager</text><g class=\"layers\" style=\"opacity: 1;\"><g class=\"legendfill\"/><g class=\"legendlines\"/><g class=\"legendsymbols\"><g class=\"legendpoints\"><path class=\"legendundefined\" d=\"M6,6H-6V-6H6Z\" transform=\"translate(20,0)\" style=\"stroke-width: 0.5px; fill: rgb(182, 232, 128); fill-opacity: 1; stroke: rgb(229, 236, 246); stroke-opacity: 1;\"/></g></g></g><rect class=\"legendtoggle\" x=\"0\" y=\"-9.5\" width=\"186.78125\" height=\"19\" style=\"fill: rgb(0, 0, 0); fill-opacity: 0;\"/></g></g><g class=\"groups\" transform=\"\"><g class=\"traces\" transform=\"translate(0,184.7)\" style=\"opacity: 1;\"><text class=\"legendtext\" text-anchor=\"start\" x=\"40\" y=\"4.680000000000001\" style=\"font-family: 'Open Sans', verdana, arial, sans-serif; font-size: 12px; fill: rgb(42, 63, 95); fill-opacity: 1; white-space: pre;\">Research Scientist</text><g class=\"layers\" style=\"opacity: 1;\"><g class=\"legendfill\"/><g class=\"legendlines\"/><g class=\"legendsymbols\"><g class=\"legendpoints\"><path class=\"legendundefined\" d=\"M6,6H-6V-6H6Z\" transform=\"translate(20,0)\" style=\"stroke-width: 0.5px; fill: rgb(255, 151, 255); fill-opacity: 1; stroke: rgb(229, 236, 246); stroke-opacity: 1;\"/></g></g></g><rect class=\"legendtoggle\" x=\"0\" y=\"-9.5\" width=\"186.78125\" height=\"19\" style=\"fill: rgb(0, 0, 0); fill-opacity: 0;\"/></g></g><g class=\"groups\" transform=\"\"><g class=\"traces\" transform=\"translate(0,203.7)\" style=\"opacity: 1;\"><text class=\"legendtext\" text-anchor=\"start\" x=\"40\" y=\"4.680000000000001\" style=\"font-family: 'Open Sans', verdana, arial, sans-serif; font-size: 12px; fill: rgb(42, 63, 95); fill-opacity: 1; white-space: pre;\">Software Engineer</text><g class=\"layers\" style=\"opacity: 1;\"><g class=\"legendfill\"/><g class=\"legendlines\"/><g class=\"legendsymbols\"><g class=\"legendpoints\"><path class=\"legendundefined\" d=\"M6,6H-6V-6H6Z\" transform=\"translate(20,0)\" style=\"stroke-width: 0.5px; fill: rgb(254, 203, 82); fill-opacity: 1; stroke: rgb(229, 236, 246); stroke-opacity: 1;\"/></g></g></g><rect class=\"legendtoggle\" x=\"0\" y=\"-9.5\" width=\"186.78125\" height=\"19\" style=\"fill: rgb(0, 0, 0); fill-opacity: 0;\"/></g></g><g class=\"groups\" transform=\"\"><g class=\"traces\" transform=\"translate(0,222.7)\" style=\"opacity: 1;\"><text class=\"legendtext\" text-anchor=\"start\" x=\"40\" y=\"4.680000000000001\" style=\"font-family: 'Open Sans', verdana, arial, sans-serif; font-size: 12px; fill: rgb(42, 63, 95); fill-opacity: 1; white-space: pre;\">Statistician</text><g class=\"layers\" style=\"opacity: 1;\"><g class=\"legendfill\"/><g class=\"legendlines\"/><g class=\"legendsymbols\"><g class=\"legendpoints\"><path class=\"legendundefined\" d=\"M6,6H-6V-6H6Z\" transform=\"translate(20,0)\" style=\"stroke-width: 0.5px; fill: rgb(99, 110, 250); fill-opacity: 1; stroke: rgb(229, 236, 246); stroke-opacity: 1;\"/></g></g></g><rect class=\"legendtoggle\" x=\"0\" y=\"-9.5\" width=\"186.78125\" height=\"19\" style=\"fill: rgb(0, 0, 0); fill-opacity: 0;\"/></g></g></g><rect class=\"scrollbar\" rx=\"20\" ry=\"3\" width=\"0\" height=\"0\" style=\"fill: rgb(128, 139, 164); fill-opacity: 1;\" x=\"0\" y=\"0\"/></g><g class=\"g-gtitle\"/><g class=\"g-xtitle\"><text class=\"xtitle\" x=\"235\" y=\"560.8\" text-anchor=\"middle\" style=\"font-family: 'Open Sans', verdana, arial, sans-serif; font-size: 14px; fill: rgb(42, 63, 95); opacity: 1; font-weight: normal; white-space: pre;\">Corporate Type</text></g><g class=\"g-ytitle\"><text class=\"ytitle\" transform=\"rotate(-90,34.16875,290)\" x=\"34.16875\" y=\"290\" text-anchor=\"middle\" style=\"font-family: 'Open Sans', verdana, arial, sans-serif; font-size: 14px; fill: rgb(42, 63, 95); opacity: 1; font-weight: normal; white-space: pre;\">Pecentage</text></g><g class=\"annotation\" data-index=\"0\" style=\"opacity: 1;\"><g class=\"annotation-text-g\" transform=\"rotate(0,294.5,26.999999999999964)\"><g class=\"cursor-pointer\" transform=\"translate(168,14)\"><rect class=\"bg\" x=\"0.5\" y=\"0.5\" width=\"252\" height=\"25\" style=\"stroke-width: 1px; stroke: rgb(0, 0, 0); stroke-opacity: 0; fill: rgb(0, 0, 0); fill-opacity: 0;\"/><text class=\"annotation-text\" text-anchor=\"middle\" x=\"126.5\" y=\"20\" style=\"font-family: 'Open Sans', verdana, arial, sans-serif; font-size: 12px; fill: rgb(42, 63, 95); fill-opacity: 1; white-space: pre;\"><tspan class=\"line\" dy=\"0em\" x=\"126.5\" y=\"20\"><tspan style=\"font-size:20px; \">Large Vs Small: Split by title</tspan></tspan><tspan class=\"line\" dy=\"1.3em\" x=\"126.5\" y=\"20\"></tspan><tspan class=\"line\" dy=\"2.6em\" x=\"126.5\" y=\"20\"></tspan></text></g></g></g></g></svg>"
      ]
     },
     "metadata": {},
     "output_type": "display_data"
    }
   ],
   "source": [
    "df_title = df.groupby(['corp_type','Q5'], as_index=False).size()\n",
    "\n",
    "df_title = df_title.pivot(index='Q5',columns='corp_type',values='size')\n",
    "df_title ['Large']=df_title ['big']/df_title['big'].sum()*100\n",
    "df_title ['Small']=df_title ['small']/df_title['small'].sum()*100\n",
    "df_title .reset_index(inplace=True)\n",
    "df_title =df_title [['Q5', 'Large', 'Small']]\n",
    "df_title =pd.melt(df_title ,id_vars='Q5', value_name='percent')\n",
    "\n",
    "fig = px.bar(df_title, x=\"corp_type\", y=\"percent\", color=\"Q5\" ,\n",
    "    width = 600,\n",
    "    height = 600)\n",
    "\n",
    "fig.update_layout(legend_title_text = \"Title\")\n",
    "fig.update_xaxes(title_text=\"Corporate Type\")\n",
    "fig.update_yaxes(title_text=\"Pecentage\")\n",
    "\n",
    "large_title_format = \"<span style='font-size:20px; '>Large Vs Small: Split by title</span>\"\n",
    "\n",
    "fig.add_annotation(dict(\n",
    "                            x= 1.1,\n",
    "                            y=1.1,\n",
    "                            showarrow=False,\n",
    "                            text= large_title_format + \"<br><br>\" ,\n",
    "                            textangle=0,\n",
    "                            xref=\"paper\",\n",
    "                            yref=\"paper\"\n",
    "                           ))\n",
    "fig.show()"
   ]
  },
  {
   "cell_type": "code",
   "execution_count": 47,
   "metadata": {},
   "outputs": [
    {
     "data": {
      "image/svg+xml": [
       "<svg class=\"main-svg\" xmlns=\"http://www.w3.org/2000/svg\" xmlns:xlink=\"http://www.w3.org/1999/xlink\" width=\"600\" height=\"600\" style=\"\" viewBox=\"0 0 600 600\"><rect x=\"0\" y=\"0\" width=\"600\" height=\"600\" style=\"fill: rgb(255, 255, 255); fill-opacity: 1;\"/><defs id=\"defs-55256e\"><g class=\"clips\"><clipPath id=\"clip55256exyplot\" class=\"plotclip\"><rect width=\"310\" height=\"460\"/></clipPath><clipPath class=\"axesclip\" id=\"clip55256ex\"><rect x=\"80\" y=\"0\" width=\"310\" height=\"600\"/></clipPath><clipPath class=\"axesclip\" id=\"clip55256ey\"><rect x=\"0\" y=\"60\" width=\"600\" height=\"460\"/></clipPath><clipPath class=\"axesclip\" id=\"clip55256exy\"><rect x=\"80\" y=\"60\" width=\"310\" height=\"460\"/></clipPath></g><g class=\"gradients\"/><g class=\"patterns\"/></defs><g class=\"bglayer\"><rect class=\"bg\" x=\"80\" y=\"60\" width=\"310\" height=\"460\" style=\"fill: rgb(229, 236, 246); fill-opacity: 1; stroke-width: 0;\"/></g><g class=\"layer-below\"><g class=\"imagelayer\"/><g class=\"shapelayer\"/></g><g class=\"cartesianlayer\"><g class=\"subplot xy\"><g class=\"layer-subplot\"><g class=\"shapelayer\"/><g class=\"imagelayer\"/></g><g class=\"gridlayer\"><g class=\"x\"/><g class=\"y\"><path class=\"ygrid crisp\" transform=\"translate(0,432.6)\" d=\"M80,0h310\" style=\"stroke: rgb(255, 255, 255); stroke-opacity: 1; stroke-width: 1px;\"/><path class=\"ygrid crisp\" transform=\"translate(0,345.2)\" d=\"M80,0h310\" style=\"stroke: rgb(255, 255, 255); stroke-opacity: 1; stroke-width: 1px;\"/><path class=\"ygrid crisp\" transform=\"translate(0,257.8)\" d=\"M80,0h310\" style=\"stroke: rgb(255, 255, 255); stroke-opacity: 1; stroke-width: 1px;\"/><path class=\"ygrid crisp\" transform=\"translate(0,170.4)\" d=\"M80,0h310\" style=\"stroke: rgb(255, 255, 255); stroke-opacity: 1; stroke-width: 1px;\"/><path class=\"ygrid crisp\" transform=\"translate(0,83)\" d=\"M80,0h310\" style=\"stroke: rgb(255, 255, 255); stroke-opacity: 1; stroke-width: 1px;\"/></g></g><g class=\"zerolinelayer\"><path class=\"yzl zl crisp\" transform=\"translate(0,520)\" d=\"M80,0h310\" style=\"stroke: rgb(255, 255, 255); stroke-opacity: 1; stroke-width: 2px;\"/></g><path class=\"xlines-below\"/><path class=\"ylines-below\"/><g class=\"overlines-below\"/><g class=\"xaxislayer-below\"/><g class=\"yaxislayer-below\"/><g class=\"overaxes-below\"/><g class=\"plot\" transform=\"translate(80,60)\" clip-path=\"url(#clip55256exyplot)\"><g class=\"barlayer mlayer\"><g class=\"trace bars\" style=\"opacity: 1;\"><g class=\"points\"><g class=\"point\"><path d=\"M15.5,460V426.8H139.5V460Z\" style=\"vector-effect: non-scaling-stroke; opacity: 1; stroke-width: 0.5px; fill: rgb(99, 110, 250); fill-opacity: 1; stroke: rgb(229, 236, 246); stroke-opacity: 1;\"/></g><g class=\"point\"><path d=\"M170.5,460V436.13H294.5V460Z\" style=\"vector-effect: non-scaling-stroke; opacity: 1; stroke-width: 0.5px; fill: rgb(99, 110, 250); fill-opacity: 1; stroke: rgb(229, 236, 246); stroke-opacity: 1;\"/></g></g></g><g class=\"trace bars\" style=\"opacity: 1;\"><g class=\"points\"><g class=\"point\"><path d=\"M15.5,426.8V421.45H139.5V426.8Z\" style=\"vector-effect: non-scaling-stroke; opacity: 1; stroke-width: 0.5px; fill: rgb(239, 85, 59); fill-opacity: 1; stroke: rgb(229, 236, 246); stroke-opacity: 1;\"/></g><g class=\"point\"><path d=\"M170.5,436.13V432.26H294.5V436.13Z\" style=\"vector-effect: non-scaling-stroke; opacity: 1; stroke-width: 0.5px; fill: rgb(239, 85, 59); fill-opacity: 1; stroke: rgb(229, 236, 246); stroke-opacity: 1;\"/></g></g></g><g class=\"trace bars\" style=\"opacity: 1;\"><g class=\"points\"><g class=\"point\"><path d=\"M15.5,421.45V374.11H139.5V421.45Z\" style=\"vector-effect: non-scaling-stroke; opacity: 1; stroke-width: 0.5px; fill: rgb(0, 204, 150); fill-opacity: 1; stroke: rgb(229, 236, 246); stroke-opacity: 1;\"/></g><g class=\"point\"><path d=\"M170.5,432.26V378.9H294.5V432.26Z\" style=\"vector-effect: non-scaling-stroke; opacity: 1; stroke-width: 0.5px; fill: rgb(0, 204, 150); fill-opacity: 1; stroke: rgb(229, 236, 246); stroke-opacity: 1;\"/></g></g></g><g class=\"trace bars\" style=\"opacity: 1;\"><g class=\"points\"><g class=\"point\"><path d=\"M15.5,374.11V355.99H139.5V374.11Z\" style=\"vector-effect: non-scaling-stroke; opacity: 1; stroke-width: 0.5px; fill: rgb(171, 99, 250); fill-opacity: 1; stroke: rgb(229, 236, 246); stroke-opacity: 1;\"/></g><g class=\"point\"><path d=\"M170.5,378.9V365.84H294.5V378.9Z\" style=\"vector-effect: non-scaling-stroke; opacity: 1; stroke-width: 0.5px; fill: rgb(171, 99, 250); fill-opacity: 1; stroke: rgb(229, 236, 246); stroke-opacity: 1;\"/></g></g></g><g class=\"trace bars\" style=\"opacity: 1;\"><g class=\"points\"><g class=\"point\"><path d=\"M15.5,355.99V253.55H139.5V355.99Z\" style=\"vector-effect: non-scaling-stroke; opacity: 1; stroke-width: 0.5px; fill: rgb(255, 161, 90); fill-opacity: 1; stroke: rgb(229, 236, 246); stroke-opacity: 1;\"/></g><g class=\"point\"><path d=\"M170.5,365.84V273.26H294.5V365.84Z\" style=\"vector-effect: non-scaling-stroke; opacity: 1; stroke-width: 0.5px; fill: rgb(255, 161, 90); fill-opacity: 1; stroke: rgb(229, 236, 246); stroke-opacity: 1;\"/></g></g></g><g class=\"trace bars\" style=\"opacity: 1;\"><g class=\"points\"><g class=\"point\"><path d=\"M15.5,253.55V228.3H139.5V253.55Z\" style=\"vector-effect: non-scaling-stroke; opacity: 1; stroke-width: 0.5px; fill: rgb(25, 211, 243); fill-opacity: 1; stroke: rgb(229, 236, 246); stroke-opacity: 1;\"/></g><g class=\"point\"><path d=\"M170.5,273.26V227.87H294.5V273.26Z\" style=\"vector-effect: non-scaling-stroke; opacity: 1; stroke-width: 0.5px; fill: rgb(25, 211, 243); fill-opacity: 1; stroke: rgb(229, 236, 246); stroke-opacity: 1;\"/></g></g></g><g class=\"trace bars\" style=\"opacity: 1;\"><g class=\"points\"><g class=\"point\"><path d=\"M15.5,228.3V162.63H139.5V228.3Z\" style=\"vector-effect: non-scaling-stroke; opacity: 1; stroke-width: 0.5px; fill: rgb(255, 102, 146); fill-opacity: 1; stroke: rgb(229, 236, 246); stroke-opacity: 1;\"/></g><g class=\"point\"><path d=\"M170.5,227.87V168.71H294.5V227.87Z\" style=\"vector-effect: non-scaling-stroke; opacity: 1; stroke-width: 0.5px; fill: rgb(255, 102, 146); fill-opacity: 1; stroke: rgb(229, 236, 246); stroke-opacity: 1;\"/></g></g></g><g class=\"trace bars\" style=\"opacity: 1;\"><g class=\"points\"><g class=\"point\"><path d=\"M15.5,162.63V136.75H139.5V162.63Z\" style=\"vector-effect: non-scaling-stroke; opacity: 1; stroke-width: 0.5px; fill: rgb(182, 232, 128); fill-opacity: 1; stroke: rgb(229, 236, 246); stroke-opacity: 1;\"/></g><g class=\"point\"><path d=\"M170.5,168.71V145.8H294.5V168.71Z\" style=\"vector-effect: non-scaling-stroke; opacity: 1; stroke-width: 0.5px; fill: rgb(182, 232, 128); fill-opacity: 1; stroke: rgb(229, 236, 246); stroke-opacity: 1;\"/></g></g></g><g class=\"trace bars\" style=\"opacity: 1;\"><g class=\"points\"><g class=\"point\"><path d=\"M15.5,136.75V101.14H139.5V136.75Z\" style=\"vector-effect: non-scaling-stroke; opacity: 1; stroke-width: 0.5px; fill: rgb(255, 151, 255); fill-opacity: 1; stroke: rgb(229, 236, 246); stroke-opacity: 1;\"/></g><g class=\"point\"><path d=\"M170.5,145.8V100.6H294.5V145.8Z\" style=\"vector-effect: non-scaling-stroke; opacity: 1; stroke-width: 0.5px; fill: rgb(255, 151, 255); fill-opacity: 1; stroke: rgb(229, 236, 246); stroke-opacity: 1;\"/></g></g></g><g class=\"trace bars\" style=\"opacity: 1;\"><g class=\"points\"><g class=\"point\"><path d=\"M15.5,101.14V30.44H139.5V101.14Z\" style=\"vector-effect: non-scaling-stroke; opacity: 1; stroke-width: 0.5px; fill: rgb(254, 203, 82); fill-opacity: 1; stroke: rgb(229, 236, 246); stroke-opacity: 1;\"/></g><g class=\"point\"><path d=\"M170.5,100.6V34.78H294.5V100.6Z\" style=\"vector-effect: non-scaling-stroke; opacity: 1; stroke-width: 0.5px; fill: rgb(254, 203, 82); fill-opacity: 1; stroke: rgb(229, 236, 246); stroke-opacity: 1;\"/></g></g></g><g class=\"trace bars\" style=\"opacity: 1;\"><g class=\"points\"><g class=\"point\"><path d=\"M15.5,30.44V23H139.5V30.44Z\" style=\"vector-effect: non-scaling-stroke; opacity: 1; stroke-width: 0.5px; fill: rgb(99, 110, 250); fill-opacity: 1; stroke: rgb(229, 236, 246); stroke-opacity: 1;\"/></g><g class=\"point\"><path d=\"M170.5,34.78V23H294.5V34.78Z\" style=\"vector-effect: non-scaling-stroke; opacity: 1; stroke-width: 0.5px; fill: rgb(99, 110, 250); fill-opacity: 1; stroke: rgb(229, 236, 246); stroke-opacity: 1;\"/></g></g></g></g></g><g class=\"overplot\"/><path class=\"xlines-above crisp\" d=\"M0,0\" style=\"fill: none;\"/><path class=\"ylines-above crisp\" d=\"M0,0\" style=\"fill: none;\"/><g class=\"overlines-above\"/><g class=\"xaxislayer-above\"><g class=\"xtick\"><text text-anchor=\"middle\" x=\"0\" y=\"533\" transform=\"translate(157.5,0)\" style=\"font-family: 'Open Sans', verdana, arial, sans-serif; font-size: 12px; fill: rgb(42, 63, 95); fill-opacity: 1; white-space: pre; opacity: 1;\">Large</text></g><g class=\"xtick\"><text text-anchor=\"middle\" x=\"0\" y=\"533\" transform=\"translate(312.5,0)\" style=\"font-family: 'Open Sans', verdana, arial, sans-serif; font-size: 12px; fill: rgb(42, 63, 95); fill-opacity: 1; white-space: pre; opacity: 1;\">Small</text></g></g><g class=\"yaxislayer-above\"><g class=\"ytick\"><text text-anchor=\"end\" x=\"79\" y=\"4.199999999999999\" transform=\"translate(0,520)\" style=\"font-family: 'Open Sans', verdana, arial, sans-serif; font-size: 12px; fill: rgb(42, 63, 95); fill-opacity: 1; white-space: pre; opacity: 1;\">0</text></g><g class=\"ytick\"><text text-anchor=\"end\" x=\"79\" y=\"4.199999999999999\" style=\"font-family: 'Open Sans', verdana, arial, sans-serif; font-size: 12px; fill: rgb(42, 63, 95); fill-opacity: 1; white-space: pre; opacity: 1;\" transform=\"translate(0,432.6)\">20</text></g><g class=\"ytick\"><text text-anchor=\"end\" x=\"79\" y=\"4.199999999999999\" style=\"font-family: 'Open Sans', verdana, arial, sans-serif; font-size: 12px; fill: rgb(42, 63, 95); fill-opacity: 1; white-space: pre; opacity: 1;\" transform=\"translate(0,345.2)\">40</text></g><g class=\"ytick\"><text text-anchor=\"end\" x=\"79\" y=\"4.199999999999999\" style=\"font-family: 'Open Sans', verdana, arial, sans-serif; font-size: 12px; fill: rgb(42, 63, 95); fill-opacity: 1; white-space: pre; opacity: 1;\" transform=\"translate(0,257.8)\">60</text></g><g class=\"ytick\"><text text-anchor=\"end\" x=\"79\" y=\"4.199999999999999\" style=\"font-family: 'Open Sans', verdana, arial, sans-serif; font-size: 12px; fill: rgb(42, 63, 95); fill-opacity: 1; white-space: pre; opacity: 1;\" transform=\"translate(0,170.4)\">80</text></g><g class=\"ytick\"><text text-anchor=\"end\" x=\"79\" y=\"4.199999999999999\" style=\"font-family: 'Open Sans', verdana, arial, sans-serif; font-size: 12px; fill: rgb(42, 63, 95); fill-opacity: 1; white-space: pre; opacity: 1;\" transform=\"translate(0,83)\">100</text></g></g><g class=\"overaxes-above\"/></g></g><g class=\"polarlayer\"/><g class=\"ternarylayer\"/><g class=\"geolayer\"/><g class=\"funnelarealayer\"/><g class=\"pielayer\"/><g class=\"iciclelayer\"/><g class=\"treemaplayer\"/><g class=\"sunburstlayer\"/><g class=\"glimages\"/><defs id=\"topdefs-55256e\"><g class=\"clips\"/><clipPath id=\"legend55256e\"><rect width=\"192\" height=\"238\" x=\"0\" y=\"0\"/></clipPath></defs><g class=\"layer-above\"><g class=\"imagelayer\"/><g class=\"shapelayer\"/></g><g class=\"infolayer\"><g class=\"legend\" pointer-events=\"all\" transform=\"translate(396.2,60)\"><rect class=\"bg\" shape-rendering=\"crispEdges\" width=\"192\" height=\"238\" x=\"0\" y=\"0\" style=\"stroke: rgb(68, 68, 68); stroke-opacity: 1; fill: rgb(255, 255, 255); fill-opacity: 1; stroke-width: 0px;\"/><g class=\"scrollbox\" transform=\"\" clip-path=\"url(#legend55256e)\"><text class=\"legendtitletext\" text-anchor=\"start\" x=\"2\" y=\"18.2\" style=\"font-family: 'Open Sans', verdana, arial, sans-serif; font-size: 14px; fill: rgb(42, 63, 95); fill-opacity: 1; white-space: pre;\">Title</text><g class=\"groups\" transform=\"\"><g class=\"traces\" transform=\"translate(0,32.7)\" style=\"opacity: 1;\"><text class=\"legendtext\" text-anchor=\"start\" x=\"40\" y=\"4.680000000000001\" style=\"font-family: 'Open Sans', verdana, arial, sans-serif; font-size: 12px; fill: rgb(42, 63, 95); fill-opacity: 1; white-space: pre;\">Business Analyst</text><g class=\"layers\" style=\"opacity: 1;\"><g class=\"legendfill\"/><g class=\"legendlines\"/><g class=\"legendsymbols\"><g class=\"legendpoints\"><path class=\"legendundefined\" d=\"M6,6H-6V-6H6Z\" transform=\"translate(20,0)\" style=\"stroke-width: 0.5px; fill: rgb(99, 110, 250); fill-opacity: 1; stroke: rgb(229, 236, 246); stroke-opacity: 1;\"/></g></g></g><rect class=\"legendtoggle\" x=\"0\" y=\"-9.5\" width=\"186.78125\" height=\"19\" style=\"fill: rgb(0, 0, 0); fill-opacity: 0;\"/></g></g><g class=\"groups\" transform=\"\"><g class=\"traces\" transform=\"translate(0,51.7)\" style=\"opacity: 1;\"><text class=\"legendtext\" text-anchor=\"start\" x=\"40\" y=\"4.680000000000001\" style=\"font-family: 'Open Sans', verdana, arial, sans-serif; font-size: 12px; fill: rgb(42, 63, 95); fill-opacity: 1; white-space: pre;\">DBA/Database Engineer</text><g class=\"layers\" style=\"opacity: 1;\"><g class=\"legendfill\"/><g class=\"legendlines\"/><g class=\"legendsymbols\"><g class=\"legendpoints\"><path class=\"legendundefined\" d=\"M6,6H-6V-6H6Z\" transform=\"translate(20,0)\" style=\"stroke-width: 0.5px; fill: rgb(239, 85, 59); fill-opacity: 1; stroke: rgb(229, 236, 246); stroke-opacity: 1;\"/></g></g></g><rect class=\"legendtoggle\" x=\"0\" y=\"-9.5\" width=\"186.78125\" height=\"19\" style=\"fill: rgb(0, 0, 0); fill-opacity: 0;\"/></g></g><g class=\"groups\" transform=\"\"><g class=\"traces\" transform=\"translate(0,70.7)\" style=\"opacity: 1;\"><text class=\"legendtext\" text-anchor=\"start\" x=\"40\" y=\"4.680000000000001\" style=\"font-family: 'Open Sans', verdana, arial, sans-serif; font-size: 12px; fill: rgb(42, 63, 95); fill-opacity: 1; white-space: pre;\">Data Analyst</text><g class=\"layers\" style=\"opacity: 1;\"><g class=\"legendfill\"/><g class=\"legendlines\"/><g class=\"legendsymbols\"><g class=\"legendpoints\"><path class=\"legendundefined\" d=\"M6,6H-6V-6H6Z\" transform=\"translate(20,0)\" style=\"stroke-width: 0.5px; fill: rgb(0, 204, 150); fill-opacity: 1; stroke: rgb(229, 236, 246); stroke-opacity: 1;\"/></g></g></g><rect class=\"legendtoggle\" x=\"0\" y=\"-9.5\" width=\"186.78125\" height=\"19\" style=\"fill: rgb(0, 0, 0); fill-opacity: 0;\"/></g></g><g class=\"groups\" transform=\"\"><g class=\"traces\" transform=\"translate(0,89.7)\" style=\"opacity: 1;\"><text class=\"legendtext\" text-anchor=\"start\" x=\"40\" y=\"4.680000000000001\" style=\"font-family: 'Open Sans', verdana, arial, sans-serif; font-size: 12px; fill: rgb(42, 63, 95); fill-opacity: 1; white-space: pre;\">Data Engineer</text><g class=\"layers\" style=\"opacity: 1;\"><g class=\"legendfill\"/><g class=\"legendlines\"/><g class=\"legendsymbols\"><g class=\"legendpoints\"><path class=\"legendundefined\" d=\"M6,6H-6V-6H6Z\" transform=\"translate(20,0)\" style=\"stroke-width: 0.5px; fill: rgb(171, 99, 250); fill-opacity: 1; stroke: rgb(229, 236, 246); stroke-opacity: 1;\"/></g></g></g><rect class=\"legendtoggle\" x=\"0\" y=\"-9.5\" width=\"186.78125\" height=\"19\" style=\"fill: rgb(0, 0, 0); fill-opacity: 0;\"/></g></g><g class=\"groups\" transform=\"\"><g class=\"traces\" transform=\"translate(0,108.7)\" style=\"opacity: 1;\"><text class=\"legendtext\" text-anchor=\"start\" x=\"40\" y=\"4.680000000000001\" style=\"font-family: 'Open Sans', verdana, arial, sans-serif; font-size: 12px; fill: rgb(42, 63, 95); fill-opacity: 1; white-space: pre;\">Data Scientist</text><g class=\"layers\" style=\"opacity: 1;\"><g class=\"legendfill\"/><g class=\"legendlines\"/><g class=\"legendsymbols\"><g class=\"legendpoints\"><path class=\"legendundefined\" d=\"M6,6H-6V-6H6Z\" transform=\"translate(20,0)\" style=\"stroke-width: 0.5px; fill: rgb(255, 161, 90); fill-opacity: 1; stroke: rgb(229, 236, 246); stroke-opacity: 1;\"/></g></g></g><rect class=\"legendtoggle\" x=\"0\" y=\"-9.5\" width=\"186.78125\" height=\"19\" style=\"fill: rgb(0, 0, 0); fill-opacity: 0;\"/></g></g><g class=\"groups\" transform=\"\"><g class=\"traces\" transform=\"translate(0,127.7)\" style=\"opacity: 1;\"><text class=\"legendtext\" text-anchor=\"start\" x=\"40\" y=\"4.680000000000001\" style=\"font-family: 'Open Sans', verdana, arial, sans-serif; font-size: 12px; fill: rgb(42, 63, 95); fill-opacity: 1; white-space: pre;\">Machine Learning Engineer</text><g class=\"layers\" style=\"opacity: 1;\"><g class=\"legendfill\"/><g class=\"legendlines\"/><g class=\"legendsymbols\"><g class=\"legendpoints\"><path class=\"legendundefined\" d=\"M6,6H-6V-6H6Z\" transform=\"translate(20,0)\" style=\"stroke-width: 0.5px; fill: rgb(25, 211, 243); fill-opacity: 1; stroke: rgb(229, 236, 246); stroke-opacity: 1;\"/></g></g></g><rect class=\"legendtoggle\" x=\"0\" y=\"-9.5\" width=\"186.78125\" height=\"19\" style=\"fill: rgb(0, 0, 0); fill-opacity: 0;\"/></g></g><g class=\"groups\" transform=\"\"><g class=\"traces\" transform=\"translate(0,146.7)\" style=\"opacity: 1;\"><text class=\"legendtext\" text-anchor=\"start\" x=\"40\" y=\"4.680000000000001\" style=\"font-family: 'Open Sans', verdana, arial, sans-serif; font-size: 12px; fill: rgb(42, 63, 95); fill-opacity: 1; white-space: pre;\">Other</text><g class=\"layers\" style=\"opacity: 1;\"><g class=\"legendfill\"/><g class=\"legendlines\"/><g class=\"legendsymbols\"><g class=\"legendpoints\"><path class=\"legendundefined\" d=\"M6,6H-6V-6H6Z\" transform=\"translate(20,0)\" style=\"stroke-width: 0.5px; fill: rgb(255, 102, 146); fill-opacity: 1; stroke: rgb(229, 236, 246); stroke-opacity: 1;\"/></g></g></g><rect class=\"legendtoggle\" x=\"0\" y=\"-9.5\" width=\"186.78125\" height=\"19\" style=\"fill: rgb(0, 0, 0); fill-opacity: 0;\"/></g></g><g class=\"groups\" transform=\"\"><g class=\"traces\" transform=\"translate(0,165.7)\" style=\"opacity: 1;\"><text class=\"legendtext\" text-anchor=\"start\" x=\"40\" y=\"4.680000000000001\" style=\"font-family: 'Open Sans', verdana, arial, sans-serif; font-size: 12px; fill: rgb(42, 63, 95); fill-opacity: 1; white-space: pre;\">Product/Project Manager</text><g class=\"layers\" style=\"opacity: 1;\"><g class=\"legendfill\"/><g class=\"legendlines\"/><g class=\"legendsymbols\"><g class=\"legendpoints\"><path class=\"legendundefined\" d=\"M6,6H-6V-6H6Z\" transform=\"translate(20,0)\" style=\"stroke-width: 0.5px; fill: rgb(182, 232, 128); fill-opacity: 1; stroke: rgb(229, 236, 246); stroke-opacity: 1;\"/></g></g></g><rect class=\"legendtoggle\" x=\"0\" y=\"-9.5\" width=\"186.78125\" height=\"19\" style=\"fill: rgb(0, 0, 0); fill-opacity: 0;\"/></g></g><g class=\"groups\" transform=\"\"><g class=\"traces\" transform=\"translate(0,184.7)\" style=\"opacity: 1;\"><text class=\"legendtext\" text-anchor=\"start\" x=\"40\" y=\"4.680000000000001\" style=\"font-family: 'Open Sans', verdana, arial, sans-serif; font-size: 12px; fill: rgb(42, 63, 95); fill-opacity: 1; white-space: pre;\">Research Scientist</text><g class=\"layers\" style=\"opacity: 1;\"><g class=\"legendfill\"/><g class=\"legendlines\"/><g class=\"legendsymbols\"><g class=\"legendpoints\"><path class=\"legendundefined\" d=\"M6,6H-6V-6H6Z\" transform=\"translate(20,0)\" style=\"stroke-width: 0.5px; fill: rgb(255, 151, 255); fill-opacity: 1; stroke: rgb(229, 236, 246); stroke-opacity: 1;\"/></g></g></g><rect class=\"legendtoggle\" x=\"0\" y=\"-9.5\" width=\"186.78125\" height=\"19\" style=\"fill: rgb(0, 0, 0); fill-opacity: 0;\"/></g></g><g class=\"groups\" transform=\"\"><g class=\"traces\" transform=\"translate(0,203.7)\" style=\"opacity: 1;\"><text class=\"legendtext\" text-anchor=\"start\" x=\"40\" y=\"4.680000000000001\" style=\"font-family: 'Open Sans', verdana, arial, sans-serif; font-size: 12px; fill: rgb(42, 63, 95); fill-opacity: 1; white-space: pre;\">Software Engineer</text><g class=\"layers\" style=\"opacity: 1;\"><g class=\"legendfill\"/><g class=\"legendlines\"/><g class=\"legendsymbols\"><g class=\"legendpoints\"><path class=\"legendundefined\" d=\"M6,6H-6V-6H6Z\" transform=\"translate(20,0)\" style=\"stroke-width: 0.5px; fill: rgb(254, 203, 82); fill-opacity: 1; stroke: rgb(229, 236, 246); stroke-opacity: 1;\"/></g></g></g><rect class=\"legendtoggle\" x=\"0\" y=\"-9.5\" width=\"186.78125\" height=\"19\" style=\"fill: rgb(0, 0, 0); fill-opacity: 0;\"/></g></g><g class=\"groups\" transform=\"\"><g class=\"traces\" transform=\"translate(0,222.7)\" style=\"opacity: 1;\"><text class=\"legendtext\" text-anchor=\"start\" x=\"40\" y=\"4.680000000000001\" style=\"font-family: 'Open Sans', verdana, arial, sans-serif; font-size: 12px; fill: rgb(42, 63, 95); fill-opacity: 1; white-space: pre;\">Statistician</text><g class=\"layers\" style=\"opacity: 1;\"><g class=\"legendfill\"/><g class=\"legendlines\"/><g class=\"legendsymbols\"><g class=\"legendpoints\"><path class=\"legendundefined\" d=\"M6,6H-6V-6H6Z\" transform=\"translate(20,0)\" style=\"stroke-width: 0.5px; fill: rgb(99, 110, 250); fill-opacity: 1; stroke: rgb(229, 236, 246); stroke-opacity: 1;\"/></g></g></g><rect class=\"legendtoggle\" x=\"0\" y=\"-9.5\" width=\"186.78125\" height=\"19\" style=\"fill: rgb(0, 0, 0); fill-opacity: 0;\"/></g></g></g><rect class=\"scrollbar\" rx=\"20\" ry=\"3\" width=\"0\" height=\"0\" x=\"0\" y=\"0\" style=\"fill: rgb(128, 139, 164); fill-opacity: 1;\"/></g><g class=\"g-gtitle\"/><g class=\"g-xtitle\"><text class=\"xtitle\" x=\"235\" y=\"560.8\" text-anchor=\"middle\" style=\"font-family: 'Open Sans', verdana, arial, sans-serif; font-size: 14px; fill: rgb(42, 63, 95); opacity: 1; font-weight: normal; white-space: pre;\">Corporate Type</text></g><g class=\"g-ytitle\"><text class=\"ytitle\" transform=\"rotate(-90,34.16875,290)\" x=\"34.16875\" y=\"290\" text-anchor=\"middle\" style=\"font-family: 'Open Sans', verdana, arial, sans-serif; font-size: 14px; fill: rgb(42, 63, 95); opacity: 1; font-weight: normal; white-space: pre;\">Pecentage</text></g><g class=\"annotation\" data-index=\"0\" style=\"opacity: 1;\"><g class=\"annotation-text-g\" transform=\"rotate(0,294.5,26.999999999999964)\"><g class=\"cursor-pointer\" transform=\"translate(168,14)\"><rect class=\"bg\" x=\"0.5\" y=\"0.5\" width=\"252\" height=\"25\" style=\"stroke-width: 1px; stroke: rgb(0, 0, 0); stroke-opacity: 0; fill: rgb(0, 0, 0); fill-opacity: 0;\"/><text class=\"annotation-text\" text-anchor=\"middle\" x=\"126.5\" y=\"20\" style=\"font-family: 'Open Sans', verdana, arial, sans-serif; font-size: 12px; fill: rgb(42, 63, 95); fill-opacity: 1; white-space: pre;\"><tspan class=\"line\" dy=\"0em\" x=\"126.5\" y=\"20\"><tspan style=\"font-size:20px; \">Large Vs Small: Split by title</tspan></tspan><tspan class=\"line\" dy=\"1.3em\" x=\"126.5\" y=\"20\"></tspan><tspan class=\"line\" dy=\"2.6em\" x=\"126.5\" y=\"20\"></tspan></text></g></g></g></g></svg>"
      ]
     },
     "metadata": {},
     "output_type": "display_data"
    }
   ],
   "source": [
    "fig.show(format=\"svg\")"
   ]
  },
  {
   "cell_type": "code",
   "execution_count": null,
   "metadata": {
    "execution": {
     "iopub.execute_input": "2021-06-30T04:29:09.493117Z",
     "iopub.status.busy": "2021-06-30T04:29:09.492488Z",
     "iopub.status.idle": "2021-06-30T04:29:09.494395Z",
     "shell.execute_reply": "2021-06-30T04:29:09.494879Z",
     "shell.execute_reply.started": "2021-06-29T17:12:29.54638Z"
    },
    "papermill": {
     "duration": 0.052568,
     "end_time": "2021-06-30T04:29:09.495040",
     "exception": false,
     "start_time": "2021-06-30T04:29:09.442472",
     "status": "completed"
    },
    "tags": []
   },
   "outputs": [],
   "source": [
    "#Function to compare large and small firms\n",
    "def compare_corp(column):\n",
    "    df_temp = df.groupby(['corp_type',column]).size().reset_index(name='counts')\n",
    "    df_temp= df_temp.pivot(index=df_temp.columns[1],columns='corp_type',values='counts')\n",
    "    df_temp['Large']=df_temp['big']/df_temp['big'].sum()*100\n",
    "    df_temp['Small']=df_temp['small']/df_temp['small'].sum()*100\n",
    "    df_temp.reset_index(inplace=True)\n",
    "    df_temp =df_temp [[column, 'Large', 'Small']]\n",
    "    df_temp =pd.melt(df_temp ,id_vars=column, value_name='percent')\n",
    "    return df_temp"
   ]
  },
  {
   "cell_type": "code",
   "execution_count": null,
   "metadata": {},
   "outputs": [],
   "source": []
  },
  {
   "cell_type": "markdown",
   "metadata": {
    "papermill": {
     "duration": 0.04249,
     "end_time": "2021-06-30T04:29:09.580201",
     "exception": false,
     "start_time": "2021-06-30T04:29:09.537711",
     "status": "completed"
    },
    "tags": []
   },
   "source": [
    "**Choice of computing platform**<br>\n",
    "Local machine is preferred choice. Surprisingly one would have expected small firms to be early adopters of cloud and to keep their fixed costs low. However, Cloud platforms are more prevelant in Large firms than small firms"
   ]
  },
  {
   "cell_type": "code",
   "execution_count": null,
   "metadata": {
    "execution": {
     "iopub.execute_input": "2021-06-30T04:29:09.670071Z",
     "iopub.status.busy": "2021-06-30T04:29:09.669445Z",
     "iopub.status.idle": "2021-06-30T04:29:09.772638Z",
     "shell.execute_reply": "2021-06-30T04:29:09.773138Z",
     "shell.execute_reply.started": "2021-06-29T17:12:29.558918Z"
    },
    "papermill": {
     "duration": 0.150324,
     "end_time": "2021-06-30T04:29:09.773321",
     "exception": false,
     "start_time": "2021-06-30T04:29:09.622997",
     "status": "completed"
    },
    "tags": []
   },
   "outputs": [],
   "source": [
    "df_compute=compare_corp('Q11')\n",
    "\n",
    "fig = px.bar(df_compute, x=\"corp_type\", y=\"percent\", color=\"Q11\" ,\n",
    "    width = 700,\n",
    "    height = 400)\n",
    "\n",
    "fig.update_layout(legend_title_text = \"Platform\")\n",
    "fig.update_xaxes(title_text=\"Corporate Type\")\n",
    "fig.update_yaxes(title_text=\"Pecentage\")\n",
    "\n",
    "large_title_format = \"<span style='font-size:20px; '>Large Vs Small: Compute Platform</span>\"\n",
    "\n",
    "fig.add_annotation(dict(\n",
    "                            x= 1.5,\n",
    "                            y=1.1,\n",
    "                            showarrow=False,\n",
    "                            text= large_title_format + \"<br><br>\" ,\n",
    "                            textangle=0,\n",
    "                            xref=\"paper\",\n",
    "                            yref=\"paper\"\n",
    "                           ))\n",
    "fig.show()\n"
   ]
  },
  {
   "cell_type": "markdown",
   "metadata": {
    "papermill": {
     "duration": 0.050363,
     "end_time": "2021-06-30T04:29:09.873957",
     "exception": false,
     "start_time": "2021-06-30T04:29:09.823594",
     "status": "completed"
    },
    "tags": []
   },
   "source": [
    "**ML Maturity**<br>\n",
    "Large firms  have more models in production for more than two years than the small firms and also less percentage have reported not using any ML methods . That being said, most of the small firms would not have existed two years ago and also good place to start working from scratch in ML as response to question \"We are exploring ML methods (and may one day put a model into production)\" ratio is high in small firms  compared to large firms"
   ]
  },
  {
   "cell_type": "code",
   "execution_count": null,
   "metadata": {
    "execution": {
     "iopub.execute_input": "2021-06-30T04:29:09.983027Z",
     "iopub.status.busy": "2021-06-30T04:29:09.982371Z",
     "iopub.status.idle": "2021-06-30T04:29:10.072062Z",
     "shell.execute_reply": "2021-06-30T04:29:10.072564Z",
     "shell.execute_reply.started": "2021-06-29T17:12:29.688725Z"
    },
    "papermill": {
     "duration": 0.148129,
     "end_time": "2021-06-30T04:29:10.072740",
     "exception": false,
     "start_time": "2021-06-30T04:29:09.924611",
     "status": "completed"
    },
    "tags": []
   },
   "outputs": [],
   "source": [
    "\n",
    "df_ml=compare_corp('Q22')\n",
    "fig = px.bar(df_ml, x=\"Q22\", y=\"percent\", color=\"corp_type\" , barmode='group',\n",
    "    width = 900,\n",
    "    height = 600)\n",
    "\n",
    "fig.update_layout(legend_title_text = \"Maturity\")\n",
    "fig.update_xaxes(title_text=\"Corporate Type\")\n",
    "fig.update_yaxes(title_text=\"Pecentage\")\n",
    "\n",
    "large_title_format = \"<span style='font-size:20px; '>Large Vs Small: ML Maturity</span>\"\n",
    "\n",
    "fig.add_annotation(dict(\n",
    "                            x= 1.0,\n",
    "                            y=1.1,\n",
    "                            showarrow=False,\n",
    "                            text= large_title_format + \"<br><br>\" ,\n",
    "                            textangle=0,\n",
    "                            xref=\"paper\",\n",
    "                            yref=\"paper\"\n",
    "                           ))\n",
    "fig.show()\n",
    "\n"
   ]
  },
  {
   "cell_type": "markdown",
   "metadata": {
    "papermill": {
     "duration": 0.057236,
     "end_time": "2021-06-30T04:29:10.187143",
     "exception": false,
     "start_time": "2021-06-30T04:29:10.129907",
     "status": "completed"
    },
    "tags": []
   },
   "source": [
    "**Language Choice**\n",
    "Python is the leader of the pack everywhere. R and SQL is more popular in large firms but Javascript and C++ are slightly more popular in small firms. This could also mean Small firms may tend to work more on Edge devices compared to large firms."
   ]
  },
  {
   "cell_type": "code",
   "execution_count": null,
   "metadata": {
    "execution": {
     "iopub.execute_input": "2021-06-30T04:29:10.313720Z",
     "iopub.status.busy": "2021-06-30T04:29:10.308501Z",
     "iopub.status.idle": "2021-06-30T04:29:10.598290Z",
     "shell.execute_reply": "2021-06-30T04:29:10.598784Z",
     "shell.execute_reply.started": "2021-06-29T17:12:29.790473Z"
    },
    "papermill": {
     "duration": 0.355353,
     "end_time": "2021-06-30T04:29:10.598958",
     "exception": false,
     "start_time": "2021-06-30T04:29:10.243605",
     "status": "completed"
    },
    "tags": []
   },
   "outputs": [],
   "source": [
    "questions = df.columns\n",
    "\n",
    "def compare_multiple(column):\n",
    "    qtemp = [question for question in questions if column in question]\n",
    "\n",
    "    # Creating labels for plot\n",
    "    column_values = []\n",
    "    for qn in qtemp:\n",
    "        for value in df[qn].unique():\n",
    "             column_values.append(value)\n",
    "\n",
    "    column_values  = [str.strip(column_value) for column_value  in column_values  if str(column_value)!='nan']\n",
    "   \n",
    "    \n",
    "    df_big=df[df['corp_type']=='big']\n",
    "    \n",
    "    big_lang = (df_big.shape[0] - df_big[qtemp].isnull().sum()) / df_big.shape[0]*100\n",
    "    big_lang.index = column_values\n",
    "\n",
    "    df_small=df[df['corp_type']=='small']\n",
    "    small_lang = (df_small.shape[0] - df_small[qtemp].isnull().sum()) / df_small.shape[0]*100\n",
    "    small_lang.index = column_values\n",
    "    df_summary=big_lang.to_frame(name = 'Large').join(small_lang.to_frame(name = 'Small'))\n",
    "    df_summary=df_summary[(df_summary['Large']>=15) | (df_summary['Small']>=15)]\n",
    "    \n",
    "    df_summary.reset_index(inplace=True)\n",
    "    df_summary.columns=[column,'Large','Small']\n",
    "    df_summary =pd.melt(df_summary ,id_vars=column, value_name='percent')\n",
    "    return df_summary\n",
    "\n",
    "df_lang=compare_multiple('Q7')\n",
    "\n",
    "fig = px.bar(df_lang, x=\"Q7\", y=\"percent\", color=\"variable\" , barmode='group',\n",
    "    width = 900,\n",
    "    height = 600)\n",
    "\n",
    "fig.update_layout(legend_title_text = \"Maturity\")\n",
    "fig.update_xaxes(title_text=\"Corporate Type\")\n",
    "fig.update_yaxes(title_text=\"Pecentage\")\n",
    "\n",
    "large_title_format = \"<span style='font-size:20px; '>Large Vs Small: Language Choices</span>\"\n",
    "\n",
    "fig.add_annotation(dict(\n",
    "                            x= 0.5,\n",
    "                            y=1.1,\n",
    "                            showarrow=False,\n",
    "                            text= large_title_format + \"<br><br>\" ,\n",
    "                            textangle=0,\n",
    "                            xref=\"paper\",\n",
    "                            yref=\"paper\"\n",
    "                           ))\n",
    "fig.show()\n",
    "\n"
   ]
  },
  {
   "cell_type": "markdown",
   "metadata": {
    "_kg_hide-input": true,
    "_kg_hide-output": true,
    "papermill": {
     "duration": 0.062035,
     "end_time": "2021-06-30T04:29:10.733168",
     "exception": false,
     "start_time": "2021-06-30T04:29:10.671133",
     "status": "completed"
    },
    "tags": []
   },
   "source": [
    "Summary <br>\n",
    "* Thirve in place where ML and cloud adoption is mature with standard languages? Head to large firms\n",
    "* Want to get your hands dirty in protyping and cloud configuration with non traditional ML languages too? Small firms are your best bet"
   ]
  },
  {
   "cell_type": "markdown",
   "metadata": {
    "papermill": {
     "duration": 0.062338,
     "end_time": "2021-06-30T04:29:10.858481",
     "exception": false,
     "start_time": "2021-06-30T04:29:10.796143",
     "status": "completed"
    },
    "tags": []
   },
   "source": [
    "# Second question: What is the future tech to learn? AWS or Google Cloud"
   ]
  },
  {
   "cell_type": "markdown",
   "metadata": {
    "papermill": {
     "duration": 0.062161,
     "end_time": "2021-06-30T04:29:10.983001",
     "exception": false,
     "start_time": "2021-06-30T04:29:10.920840",
     "status": "completed"
    },
    "tags": []
   },
   "source": [
    "Python is still overwhelmingly recommended language to aspiring data scientists"
   ]
  },
  {
   "cell_type": "code",
   "execution_count": null,
   "metadata": {
    "execution": {
     "iopub.execute_input": "2021-06-30T04:29:11.110614Z",
     "iopub.status.busy": "2021-06-30T04:29:11.109959Z",
     "iopub.status.idle": "2021-06-30T04:29:12.151345Z",
     "shell.execute_reply": "2021-06-30T04:29:12.150821Z",
     "shell.execute_reply.started": "2021-06-29T17:12:30.079403Z"
    },
    "papermill": {
     "duration": 1.10633,
     "end_time": "2021-06-30T04:29:12.151490",
     "exception": false,
     "start_time": "2021-06-30T04:29:11.045160",
     "status": "completed"
    },
    "tags": []
   },
   "outputs": [],
   "source": [
    "#reading again csv \n",
    "df=pd.read_csv(\"data/kaggle_survey_2020_responses.csv\")\n",
    "print(\"Survey (No of respondents,No of questions answered):\",df.shape)\n",
    "\n",
    "#let us drop second row with questions text\n",
    "df=df.iloc[1:]\n",
    "df['Q8'].value_counts(dropna=True)"
   ]
  },
  {
   "cell_type": "markdown",
   "metadata": {
    "papermill": {
     "duration": 0.063037,
     "end_time": "2021-06-30T04:29:12.277479",
     "exception": false,
     "start_time": "2021-06-30T04:29:12.214442",
     "status": "completed"
    },
    "tags": []
   },
   "source": [
    "What is the cloud platform data world is keen to get more familiar in next two years?\n",
    "Amazon and Google are neck to neck in their offerings"
   ]
  },
  {
   "cell_type": "code",
   "execution_count": null,
   "metadata": {
    "execution": {
     "iopub.execute_input": "2021-06-30T04:29:12.408565Z",
     "iopub.status.busy": "2021-06-30T04:29:12.407945Z",
     "iopub.status.idle": "2021-06-30T04:29:12.410876Z",
     "shell.execute_reply": "2021-06-30T04:29:12.410401Z",
     "shell.execute_reply.started": "2021-06-29T17:12:31.179013Z"
    },
    "papermill": {
     "duration": 0.070567,
     "end_time": "2021-06-30T04:29:12.411016",
     "exception": false,
     "start_time": "2021-06-30T04:29:12.340449",
     "status": "completed"
    },
    "tags": []
   },
   "outputs": [],
   "source": [
    "#Function to pick all columns beginning with particular Question number\n",
    "def filter_col_startswith(column):\n",
    "    filter_col = [col for col in df if col.startswith(column)]\n",
    "    return filter_col"
   ]
  },
  {
   "cell_type": "code",
   "execution_count": null,
   "metadata": {
    "execution": {
     "iopub.execute_input": "2021-06-30T04:29:12.579909Z",
     "iopub.status.busy": "2021-06-30T04:29:12.545372Z",
     "iopub.status.idle": "2021-06-30T04:29:12.651730Z",
     "shell.execute_reply": "2021-06-30T04:29:12.652212Z",
     "shell.execute_reply.started": "2021-06-29T17:12:31.186326Z"
    },
    "papermill": {
     "duration": 0.178411,
     "end_time": "2021-06-30T04:29:12.652395",
     "exception": false,
     "start_time": "2021-06-30T04:29:12.473984",
     "status": "completed"
    },
    "tags": []
   },
   "outputs": [],
   "source": [
    "#Which of the following cloud computing platforms do you hope to become more familiar with in the next 2 years?\n",
    "\n",
    "df_temp=df[filter_col_startswith('Q26_B_')].apply(pd.Series.value_counts).sum(axis=1).to_frame().reset_index()\n",
    "df_temp.columns = ['Cloud Platform','No of Respondents']\n",
    "df_temp.sort_values(by=['No of Respondents'], ascending=False,inplace=True)\n",
    "\n",
    "fig = px.bar(df_temp, x=\"Cloud Platform\", y=\"No of Respondents\",\n",
    "    width = 600,\n",
    "    height = 600)\n",
    "\n",
    "\n",
    "fig.update_xaxes(title_text=\"Cloud Platform\")\n",
    "fig.update_yaxes(title_text=\"Pecentage\")\n",
    "\n",
    "large_title_format = \"<span style='font-size:20px; '>Cloud Platform Kagglers wish to learn</span>\"\n",
    "\n",
    "fig.add_annotation(dict(\n",
    "                            x= 0.8,\n",
    "                            y=1.1,\n",
    "                            showarrow=False,\n",
    "                            text= large_title_format + \"<br><br>\" ,\n",
    "                            textangle=0,\n",
    "                            xref=\"paper\",\n",
    "                            yref=\"paper\"\n",
    "                           ))\n",
    "fig.show()"
   ]
  },
  {
   "cell_type": "code",
   "execution_count": null,
   "metadata": {
    "execution": {
     "iopub.execute_input": "2021-06-30T04:29:12.866111Z",
     "iopub.status.busy": "2021-06-30T04:29:12.802380Z",
     "iopub.status.idle": "2021-06-30T04:29:12.911445Z",
     "shell.execute_reply": "2021-06-30T04:29:12.910791Z",
     "shell.execute_reply.started": "2021-06-29T17:12:31.308117Z"
    },
    "papermill": {
     "duration": 0.188329,
     "end_time": "2021-06-30T04:29:12.911582",
     "exception": false,
     "start_time": "2021-06-30T04:29:12.723253",
     "status": "completed"
    },
    "tags": []
   },
   "outputs": [],
   "source": [
    "#In the next 2 years, do you hope to become more familiar with any of these specific cloud computing products?\n",
    "\n",
    "df_temp=df[filter_col_startswith('Q27_B_')].apply(pd.Series.value_counts).sum(axis=1).to_frame().reset_index()\n",
    "df_temp.columns = ['Cloud Product','No of Respondents']\n",
    "df_temp.sort_values(by=['No of Respondents'], ascending=False,inplace=True)\n",
    "\n",
    "fig = px.bar(df_temp, x=\"Cloud Product\", y=\"No of Respondents\",\n",
    "    width = 600,\n",
    "    height = 600)\n",
    "\n",
    "\n",
    "fig.update_xaxes(title_text=\"Cloud Product\")\n",
    "fig.update_yaxes(title_text=\"Pecentage\")\n",
    "\n",
    "large_title_format = \"<span style='font-size:20px; '>Cloud Product Kagglers wish to learn</span>\"\n",
    "\n",
    "fig.add_annotation(dict(\n",
    "                            x= 0.8,\n",
    "                            y=1.1,\n",
    "                            showarrow=False,\n",
    "                            text= large_title_format + \"<br><br>\" ,\n",
    "                            textangle=0,\n",
    "                            xref=\"paper\",\n",
    "                            yref=\"paper\"\n",
    "                           ))\n",
    "fig.show()"
   ]
  },
  {
   "cell_type": "code",
   "execution_count": null,
   "metadata": {
    "execution": {
     "iopub.execute_input": "2021-06-30T04:29:13.104854Z",
     "iopub.status.busy": "2021-06-30T04:29:13.073461Z",
     "iopub.status.idle": "2021-06-30T04:29:13.175545Z",
     "shell.execute_reply": "2021-06-30T04:29:13.176042Z",
     "shell.execute_reply.started": "2021-06-29T17:12:31.42476Z"
    },
    "papermill": {
     "duration": 0.187881,
     "end_time": "2021-06-30T04:29:13.176210",
     "exception": false,
     "start_time": "2021-06-30T04:29:12.988329",
     "status": "completed"
    },
    "tags": []
   },
   "outputs": [],
   "source": [
    "#In the next 2 years, do you hope to become more familiar with any of these specific machine learning products?\n",
    "\n",
    "df_temp=df[filter_col_startswith('Q28_B_')].apply(pd.Series.value_counts).sum(axis=1).to_frame().reset_index()\n",
    "df_temp.columns = ['ML Product','No of Respondents']\n",
    "df_temp.sort_values(by=['No of Respondents'], ascending=False,inplace=True)\n",
    "fig = px.bar(df_temp, x=\"ML Product\", y=\"No of Respondents\",\n",
    "    width = 600,\n",
    "    height = 600)\n",
    "\n",
    "\n",
    "fig.update_xaxes(title_text=\"ML Product\")\n",
    "fig.update_yaxes(title_text=\"Pecentage\")\n",
    "\n",
    "large_title_format = \"<span style='font-size:20px; '>ML Product Kagglers wish to learn</span>\"\n",
    "\n",
    "fig.add_annotation(dict(\n",
    "                            x= 0.8,\n",
    "                            y=1.1,\n",
    "                            showarrow=False,\n",
    "                            text= large_title_format + \"<br><br>\" ,\n",
    "                            textangle=0,\n",
    "                            xref=\"paper\",\n",
    "                            yref=\"paper\"\n",
    "                           ))\n",
    "fig.show()"
   ]
  },
  {
   "cell_type": "code",
   "execution_count": null,
   "metadata": {
    "execution": {
     "iopub.execute_input": "2021-06-30T04:29:13.390978Z",
     "iopub.status.busy": "2021-06-30T04:29:13.351016Z",
     "iopub.status.idle": "2021-06-30T04:29:13.453317Z",
     "shell.execute_reply": "2021-06-30T04:29:13.452766Z",
     "shell.execute_reply.started": "2021-06-29T17:12:31.544767Z"
    },
    "papermill": {
     "duration": 0.194502,
     "end_time": "2021-06-30T04:29:13.453465",
     "exception": false,
     "start_time": "2021-06-30T04:29:13.258963",
     "status": "completed"
    },
    "tags": []
   },
   "outputs": [],
   "source": [
    "#In the next 2 years, do you hope to become more familiar with any of these tools for managing ML experiments? (Select all that apply)\n",
    "df_temp=df[filter_col_startswith('Q35_B_')].apply(pd.Series.value_counts).sum(axis=1).to_frame().reset_index()\n",
    "df_temp.columns = ['ML Experiment Tool','No of Respondents']\n",
    "df_temp.sort_values(by=['No of Respondents'], ascending=False,inplace=True)\n",
    "fig = px.bar(df_temp, x=\"ML Experiment Tool\", y=\"No of Respondents\",\n",
    "    width = 600,\n",
    "    height = 600)\n",
    "\n",
    "\n",
    "fig.update_xaxes(title_text=\"ML Experiment Tool\")\n",
    "fig.update_yaxes(title_text=\"Pecentage\")\n",
    "\n",
    "large_title_format = \"<span style='font-size:20px; '>ML Experiment Tool Kagglers wish to learn</span>\"\n",
    "\n",
    "fig.add_annotation(dict(\n",
    "                            x= 0.8,\n",
    "                            y=1.1,\n",
    "                            showarrow=False,\n",
    "                            text= large_title_format + \"<br><br>\" ,\n",
    "                            textangle=0,\n",
    "                            xref=\"paper\",\n",
    "                            yref=\"paper\"\n",
    "                           ))\n",
    "fig.show()\n"
   ]
  },
  {
   "cell_type": "markdown",
   "metadata": {
    "papermill": {
     "duration": 0.120289,
     "end_time": "2021-06-30T04:29:13.713054",
     "exception": false,
     "start_time": "2021-06-30T04:29:13.592765",
     "status": "completed"
    },
    "tags": []
   },
   "source": [
    "**Summary**\n",
    "AWS is leading in preferred cloud platform. However, Google beats hands down Amazon with  its imnpressive ecoystem starting with Google Compute, Google AI Platform and Tensorboard. Google seems to be an favorite over AWS atleast among Kagglers."
   ]
  },
  {
   "cell_type": "markdown",
   "metadata": {
    "papermill": {
     "duration": 0.089456,
     "end_time": "2021-06-30T04:29:13.898383",
     "exception": false,
     "start_time": "2021-06-30T04:29:13.808927",
     "status": "completed"
    },
    "tags": []
   },
   "source": [
    "# Third: What are the factors that influence the salary adjusted for cost of living?"
   ]
  },
  {
   "cell_type": "code",
   "execution_count": null,
   "metadata": {
    "execution": {
     "iopub.execute_input": "2021-06-30T04:29:14.083834Z",
     "iopub.status.busy": "2021-06-30T04:29:14.083127Z",
     "iopub.status.idle": "2021-06-30T04:29:15.142299Z",
     "shell.execute_reply": "2021-06-30T04:29:15.141692Z",
     "shell.execute_reply.started": "2021-06-29T17:12:31.664371Z"
    },
    "papermill": {
     "duration": 1.154298,
     "end_time": "2021-06-30T04:29:15.142476",
     "exception": false,
     "start_time": "2021-06-30T04:29:13.988178",
     "status": "completed"
    },
    "tags": []
   },
   "outputs": [],
   "source": [
    "#resetting the dataframes\n",
    "df=pd.read_csv(\"data/kaggle_survey_2020_responses.csv\")\n",
    "df_livingcost=pd.read_csv(\"data/cost of living 2020.csv\")"
   ]
  },
  {
   "cell_type": "code",
   "execution_count": null,
   "metadata": {
    "execution": {
     "iopub.execute_input": "2021-06-30T04:29:15.326127Z",
     "iopub.status.busy": "2021-06-30T04:29:15.325473Z",
     "iopub.status.idle": "2021-06-30T04:29:15.330099Z",
     "shell.execute_reply": "2021-06-30T04:29:15.329388Z",
     "shell.execute_reply.started": "2021-06-29T17:12:32.767984Z"
    },
    "papermill": {
     "duration": 0.098883,
     "end_time": "2021-06-30T04:29:15.330293",
     "exception": false,
     "start_time": "2021-06-30T04:29:15.231410",
     "status": "completed"
    },
    "tags": []
   },
   "outputs": [],
   "source": [
    "print(df.columns)\n",
    "df=df.iloc[1:]"
   ]
  },
  {
   "cell_type": "code",
   "execution_count": null,
   "metadata": {
    "execution": {
     "iopub.execute_input": "2021-06-30T04:29:15.516573Z",
     "iopub.status.busy": "2021-06-30T04:29:15.515556Z",
     "iopub.status.idle": "2021-06-30T04:29:15.538375Z",
     "shell.execute_reply": "2021-06-30T04:29:15.537843Z",
     "shell.execute_reply.started": "2021-06-29T17:12:32.775308Z"
    },
    "papermill": {
     "duration": 0.118066,
     "end_time": "2021-06-30T04:29:15.538524",
     "exception": false,
     "start_time": "2021-06-30T04:29:15.420458",
     "status": "completed"
    },
    "tags": []
   },
   "outputs": [],
   "source": [
    "#Salary, Country, Experience, Programming lang,\n",
    "df=df[['Q6','Q24','Q3','Q8','Q7_Part_1','Q7_Part_2','Q7_Part_3','Q7_Part_4','Q7_Part_5','Q7_Part_6','Q7_Part_7','Q7_Part_8','Q7_Part_9','Q7_Part_10','Q7_Part_11']]"
   ]
  },
  {
   "cell_type": "code",
   "execution_count": null,
   "metadata": {
    "execution": {
     "iopub.execute_input": "2021-06-30T04:29:15.728199Z",
     "iopub.status.busy": "2021-06-30T04:29:15.727206Z",
     "iopub.status.idle": "2021-06-30T04:29:15.741337Z",
     "shell.execute_reply": "2021-06-30T04:29:15.740672Z",
     "shell.execute_reply.started": "2021-06-29T17:12:32.812995Z"
    },
    "papermill": {
     "duration": 0.113553,
     "end_time": "2021-06-30T04:29:15.741497",
     "exception": false,
     "start_time": "2021-06-30T04:29:15.627944",
     "status": "completed"
    },
    "tags": []
   },
   "outputs": [],
   "source": [
    "#drop all nas in salary,country,experience\n",
    "df=df[df['Q6'].notna()]\n",
    "df=df[df['Q24'].notna()]\n",
    "df=df[df['Q3'].notna()]"
   ]
  },
  {
   "cell_type": "code",
   "execution_count": null,
   "metadata": {
    "execution": {
     "iopub.execute_input": "2021-06-30T04:29:15.936131Z",
     "iopub.status.busy": "2021-06-30T04:29:15.933537Z",
     "iopub.status.idle": "2021-06-30T04:29:15.955378Z",
     "shell.execute_reply": "2021-06-30T04:29:15.954721Z",
     "shell.execute_reply.started": "2021-06-29T17:12:32.834558Z"
    },
    "papermill": {
     "duration": 0.125021,
     "end_time": "2021-06-30T04:29:15.955519",
     "exception": false,
     "start_time": "2021-06-30T04:29:15.830498",
     "status": "completed"
    },
    "tags": []
   },
   "outputs": [],
   "source": [
    "df['Q24'].replace({'100,000-124,999':112000,\n",
    "                     '15,000-19,999':17500,\n",
    "                     '70,000-79,999':75000,\n",
    "                     '30,000-39,999':35000,\n",
    "                     '90,000-99,999':95000,\n",
    "                     '1,000-1,999':1500,\n",
    "                     '150,000-199,999':175000,\n",
    "                     '60,000-69,999':65000,\n",
    "                     '4,000-4,999':4500,\n",
    "                     '> $500,000':500000,\n",
    "                     '300,000-500,000':400000,\n",
    "                     '40,000-49,999':45000,\n",
    "                     '25,000-29,999':27500,\n",
    "                     '80,000-89,999':85000,\n",
    "                     '7,500-9,999':8750,\n",
    "                     '50,000-59,999':55000,\n",
    "                     '250,000-299,999':275000,\n",
    "                     '5,000-7,499':6250,\n",
    "                     '2,000-2,999':2500,\n",
    "                     '20,000-24,999':22500,\n",
    "                     '200,000-249,999':225000,\n",
    "                     '3,000-3,999':3500,\n",
    "                     '$0-999':750,\n",
    "                     '10,000-14,999':12500,\n",
    "                     '125,000-149,999':137000,\n",
    "                    \n",
    "                    }, inplace=True)"
   ]
  },
  {
   "cell_type": "code",
   "execution_count": null,
   "metadata": {
    "execution": {
     "iopub.execute_input": "2021-06-30T04:29:16.146336Z",
     "iopub.status.busy": "2021-06-30T04:29:16.145668Z",
     "iopub.status.idle": "2021-06-30T04:29:16.164980Z",
     "shell.execute_reply": "2021-06-30T04:29:16.164300Z",
     "shell.execute_reply.started": "2021-06-29T17:12:32.870002Z"
    },
    "papermill": {
     "duration": 0.119663,
     "end_time": "2021-06-30T04:29:16.165122",
     "exception": false,
     "start_time": "2021-06-30T04:29:16.045459",
     "status": "completed"
    },
    "tags": []
   },
   "outputs": [],
   "source": [
    "#merging with living cost data\n",
    "df=pd.merge(df,df_livingcost, how='left', left_on='Q3', right_on='Country')\n",
    "df=df[df['Q3']!='Other']"
   ]
  },
  {
   "cell_type": "code",
   "execution_count": null,
   "metadata": {
    "execution": {
     "iopub.execute_input": "2021-06-30T04:29:16.353110Z",
     "iopub.status.busy": "2021-06-30T04:29:16.352432Z",
     "iopub.status.idle": "2021-06-30T04:29:16.373881Z",
     "shell.execute_reply": "2021-06-30T04:29:16.373311Z",
     "shell.execute_reply.started": "2021-06-29T17:12:32.897041Z"
    },
    "papermill": {
     "duration": 0.118909,
     "end_time": "2021-06-30T04:29:16.374028",
     "exception": false,
     "start_time": "2021-06-30T04:29:16.255119",
     "status": "completed"
    },
    "tags": []
   },
   "outputs": [],
   "source": [
    "#checking descriptive stats of the adjusted salary and \n",
    "df['adjusted_salary']=df['Q24']/(df['Cost of Living Index']/100)\n",
    "print(df.agg(       {\n",
    "            \"adjusted_salary\": [\"min\", \"max\", \"median\", \"skew\"]\n",
    "       }\n",
    "))\n",
    "\n",
    "print(df['adjusted_salary'].dropna().quantile([0.0,.1,.2, .5, .90, .95]))\n",
    "\n",
    "#dropping bottom 10 percentile as they seem unrealistic even after adjusting for cost of living\n",
    "df=df[df['adjusted_salary']> 2495.840266]\n",
    "#applying log transformation to reduce the right skewness\n",
    "df['adjusted_salary']=np.log(df['adjusted_salary'])"
   ]
  },
  {
   "cell_type": "code",
   "execution_count": null,
   "metadata": {
    "execution": {
     "iopub.execute_input": "2021-06-30T04:29:16.563757Z",
     "iopub.status.busy": "2021-06-30T04:29:16.562802Z",
     "iopub.status.idle": "2021-06-30T04:29:16.565827Z",
     "shell.execute_reply": "2021-06-30T04:29:16.565216Z",
     "shell.execute_reply.started": "2021-06-29T17:12:32.920723Z"
    },
    "papermill": {
     "duration": 0.100513,
     "end_time": "2021-06-30T04:29:16.565971",
     "exception": false,
     "start_time": "2021-06-30T04:29:16.465458",
     "status": "completed"
    },
    "tags": []
   },
   "outputs": [],
   "source": [
    "df=df[['Q6','Q3','Q7_Part_1','Q7_Part_2','Q7_Part_3','Q7_Part_4','Q7_Part_5','Q7_Part_6','Q7_Part_7','Q7_Part_8','Q7_Part_9','Q7_Part_10','Q7_Part_11','adjusted_salary']]"
   ]
  },
  {
   "cell_type": "code",
   "execution_count": null,
   "metadata": {
    "execution": {
     "iopub.execute_input": "2021-06-30T04:29:16.758557Z",
     "iopub.status.busy": "2021-06-30T04:29:16.757524Z",
     "iopub.status.idle": "2021-06-30T04:29:16.785329Z",
     "shell.execute_reply": "2021-06-30T04:29:16.784758Z",
     "shell.execute_reply.started": "2021-06-29T17:12:32.931212Z"
    },
    "papermill": {
     "duration": 0.12907,
     "end_time": "2021-06-30T04:29:16.785471",
     "exception": false,
     "start_time": "2021-06-30T04:29:16.656401",
     "status": "completed"
    },
    "tags": []
   },
   "outputs": [],
   "source": [
    "#convert categorical vlaues into dummy variables and picking t\n",
    "exp= pd.get_dummies(df['Q6'], prefix='exp', drop_first=True,dummy_na=True)\n",
    "ct = pd.get_dummies(df['Q3'], prefix='ct', drop_first=True,dummy_na=True)\n",
    "python= pd.get_dummies(df['Q7_Part_1'], drop_first=True,dummy_na=True)\n",
    "r= pd.get_dummies(df['Q7_Part_2'], drop_first=True,dummy_na=True)\n",
    "sql= pd.get_dummies(df['Q7_Part_3'], drop_first=True,dummy_na=True)\n",
    "c= pd.get_dummies(df['Q7_Part_4'], drop_first=True,dummy_na=True)\n",
    "cplusplus= pd.get_dummies(df['Q7_Part_5'], drop_first=True,dummy_na=True)\n",
    "java= pd.get_dummies(df['Q7_Part_6'], drop_first=True,dummy_na=True)\n",
    "javascript= pd.get_dummies(df['Q7_Part_7'], drop_first=True,dummy_na=True)\n",
    "julia= pd.get_dummies(df['Q7_Part_8'], drop_first=True,dummy_na=True)\n",
    "swift= pd.get_dummies(df['Q7_Part_9'], drop_first=True,dummy_na=True)\n",
    "bash= pd.get_dummies(df['Q7_Part_10'], drop_first=True,dummy_na=True)\n",
    "matlab= pd.get_dummies(df['Q7_Part_11'], drop_first=True,dummy_na=True)\n"
   ]
  },
  {
   "cell_type": "code",
   "execution_count": null,
   "metadata": {
    "execution": {
     "iopub.execute_input": "2021-06-30T04:29:16.972933Z",
     "iopub.status.busy": "2021-06-30T04:29:16.971830Z",
     "iopub.status.idle": "2021-06-30T04:29:16.980687Z",
     "shell.execute_reply": "2021-06-30T04:29:16.980164Z",
     "shell.execute_reply.started": "2021-06-29T17:12:32.981826Z"
    },
    "papermill": {
     "duration": 0.105823,
     "end_time": "2021-06-30T04:29:16.980828",
     "exception": false,
     "start_time": "2021-06-30T04:29:16.875005",
     "status": "completed"
    },
    "tags": []
   },
   "outputs": [],
   "source": [
    "#creating the final dataset for linear regression\n",
    "df_processed=pd.concat([python,r,sql,c,cplusplus,java,javascript,julia,swift,bash,matlab ],axis=1)\n",
    "df_processed.columns =['lang_python','lang_r','lang_sql','lang_c','lang_cplusplus','lang_java','lang_javascript','lang_julia','lang_swift','lang_bash','lang_matlab']\n",
    "df_processed=pd.concat([df['adjusted_salary'],exp,ct,df_processed],axis=1)\n",
    "df_processed=df_processed.drop('exp_nan',axis=1)\n",
    "df_processed=df_processed.drop('ct_nan',axis=1)"
   ]
  },
  {
   "cell_type": "code",
   "execution_count": null,
   "metadata": {
    "execution": {
     "iopub.execute_input": "2021-06-30T04:29:17.169884Z",
     "iopub.status.busy": "2021-06-30T04:29:17.169149Z",
     "iopub.status.idle": "2021-06-30T04:29:17.467724Z",
     "shell.execute_reply": "2021-06-30T04:29:17.468655Z",
     "shell.execute_reply.started": "2021-06-29T17:12:33.001902Z"
    },
    "papermill": {
     "duration": 0.398537,
     "end_time": "2021-06-30T04:29:17.468927",
     "exception": false,
     "start_time": "2021-06-30T04:29:17.070390",
     "status": "completed"
    },
    "tags": []
   },
   "outputs": [],
   "source": [
    "#linear regression from scikit\n",
    "X=df_processed.drop('adjusted_salary',axis=1)\n",
    "y=df_processed['adjusted_salary']\n",
    "\n",
    "from sklearn.model_selection import train_test_split\n",
    "from sklearn.linear_model import LinearRegression\n",
    "\n",
    "X_train, X_test, y_train, y_test = train_test_split(X, y, test_size=0.2, random_state=101)\n",
    "\n",
    "\n",
    "linreg = LinearRegression()\n",
    "linreg.fit(X_train, y_train)\n",
    "\n",
    "y_hat_train = linreg.predict(X_train)\n",
    "y_hat_test = linreg.predict(X_test)\n",
    "\n",
    "train_residuals = y_hat_train - y_train\n",
    "test_residuals = y_hat_test - y_test\n",
    "\n",
    "mse_train = np.sum((y_train-y_hat_train)**2)/len(y_train)\n",
    "mse_test = np.sum((y_test-y_hat_test)**2)/len(y_test)\n",
    "print('Train Mean Squarred Error:', mse_train)\n",
    "print('Test Mean Squarred Error:', mse_test)"
   ]
  },
  {
   "cell_type": "code",
   "execution_count": null,
   "metadata": {
    "execution": {
     "iopub.execute_input": "2021-06-30T04:29:17.726900Z",
     "iopub.status.busy": "2021-06-30T04:29:17.725639Z",
     "iopub.status.idle": "2021-06-30T04:29:17.740529Z",
     "shell.execute_reply": "2021-06-30T04:29:17.741560Z",
     "shell.execute_reply.started": "2021-06-29T17:12:33.082199Z"
    },
    "papermill": {
     "duration": 0.115872,
     "end_time": "2021-06-30T04:29:17.741842",
     "exception": false,
     "start_time": "2021-06-30T04:29:17.625970",
     "status": "completed"
    },
    "tags": []
   },
   "outputs": [],
   "source": [
    "#printing the coefficients\n",
    "print(linreg.intercept_)\n",
    "print(linreg.score(X,y))\n",
    "\n",
    "coefficients = pd.concat([pd.DataFrame(X.columns),pd.DataFrame(np.transpose(linreg.coef_))], axis = 1)\n",
    "coefficients.to_csv('coefficients.csv',index=False)"
   ]
  },
  {
   "cell_type": "code",
   "execution_count": null,
   "metadata": {
    "execution": {
     "iopub.execute_input": "2021-06-30T04:29:17.976028Z",
     "iopub.status.busy": "2021-06-30T04:29:17.975365Z",
     "iopub.status.idle": "2021-06-30T04:29:17.977974Z",
     "shell.execute_reply": "2021-06-30T04:29:17.978491Z",
     "shell.execute_reply.started": "2021-06-29T17:12:33.123699Z"
    },
    "papermill": {
     "duration": 0.098582,
     "end_time": "2021-06-30T04:29:17.978656",
     "exception": false,
     "start_time": "2021-06-30T04:29:17.880074",
     "status": "completed"
    },
    "tags": []
   },
   "outputs": [],
   "source": [
    "coefficients.columns=['Variable','Coefficient']\n"
   ]
  },
  {
   "cell_type": "code",
   "execution_count": null,
   "metadata": {
    "execution": {
     "iopub.execute_input": "2021-06-30T04:29:18.204742Z",
     "iopub.status.busy": "2021-06-30T04:29:18.204085Z",
     "iopub.status.idle": "2021-06-30T04:29:18.208117Z",
     "shell.execute_reply": "2021-06-30T04:29:18.208694Z",
     "shell.execute_reply.started": "2021-06-29T17:12:33.138185Z"
    },
    "papermill": {
     "duration": 0.139901,
     "end_time": "2021-06-30T04:29:18.208857",
     "exception": false,
     "start_time": "2021-06-30T04:29:18.068956",
     "status": "completed"
    },
    "tags": []
   },
   "outputs": [],
   "source": [
    "#Function to pick all columns beginning with particular string\n",
    "def filter_row_startswith(df,column,keyword,sortcolumn):\n",
    "    filter_row = df[df[column].str.startswith(keyword)]\n",
    "    return filter_row.sort_values(by=sortcolumn,ascending=False).head(10)"
   ]
  },
  {
   "cell_type": "code",
   "execution_count": null,
   "metadata": {
    "execution": {
     "iopub.execute_input": "2021-06-30T04:29:18.392213Z",
     "iopub.status.busy": "2021-06-30T04:29:18.391597Z",
     "iopub.status.idle": "2021-06-30T04:29:18.597212Z",
     "shell.execute_reply": "2021-06-30T04:29:18.597710Z",
     "shell.execute_reply.started": "2021-06-29T17:12:33.157851Z"
    },
    "papermill": {
     "duration": 0.299174,
     "end_time": "2021-06-30T04:29:18.597871",
     "exception": false,
     "start_time": "2021-06-30T04:29:18.298697",
     "status": "completed"
    },
    "tags": []
   },
   "outputs": [],
   "source": [
    "#plotting to map coefficients - Experience\n",
    "df_temp=filter_row_startswith(coefficients,'Variable','exp','Coefficient')\n",
    "fig = px.bar(df_temp, x=\"Variable\", y=\"Coefficient\",\n",
    "    width = 600,\n",
    "    height = 600)\n",
    "\n",
    "\n",
    "fig.update_xaxes(title_text=\"Experience\")\n",
    "fig.update_yaxes(title_text=\"Coefficient\")\n",
    "\n",
    "large_title_format = \"<span style='font-size:20px; '>Top paid kagglers based on Experience</span>\"\n",
    "\n",
    "fig.add_annotation(dict(\n",
    "                            x= 0.8,\n",
    "                            y=1.1,\n",
    "                            showarrow=False,\n",
    "                            text= large_title_format + \"<br><br>\" ,\n",
    "                            textangle=0,\n",
    "                            xref=\"paper\",\n",
    "                            yref=\"paper\"\n",
    "                           ))\n",
    "fig.show()\n",
    "\n",
    "\n"
   ]
  },
  {
   "cell_type": "code",
   "execution_count": null,
   "metadata": {},
   "outputs": [],
   "source": [
    "#plotting to map coefficients - Country\n",
    "df_temp=filter_row_startswith(coefficients,'Variable','ct','Coefficient')\n",
    "fig = px.bar(df_temp, x=\"Variable\", y=\"Coefficient\",\n",
    "    width = 600,\n",
    "    height = 600)\n",
    "\n",
    "\n",
    "fig.update_xaxes(title_text=\"Country\")\n",
    "fig.update_yaxes(title_text=\"Coefficient\")\n",
    "\n",
    "large_title_format = \"<span style='font-size:20px; '>Top paid kagglers based on country</span>\"\n",
    "\n",
    "fig.add_annotation(dict(\n",
    "                            x= 0.8,\n",
    "                            y=1.1,\n",
    "                            showarrow=False,\n",
    "                            text= large_title_format + \"<br><br>\" ,\n",
    "                            textangle=0,\n",
    "                            xref=\"paper\",\n",
    "                            yref=\"paper\"\n",
    "                           ))\n",
    "fig.show()\n"
   ]
  },
  {
   "cell_type": "code",
   "execution_count": null,
   "metadata": {},
   "outputs": [],
   "source": [
    "#plotting to map coefficients - Language\n",
    "df_temp=filter_row_startswith(coefficients,'Variable','lang','Coefficient')\n",
    "fig = px.bar(df_temp, x=\"Variable\", y=\"Coefficient\",\n",
    "    width = 600,\n",
    "    height = 600)\n",
    "\n",
    "\n",
    "fig.update_xaxes(title_text=\"Language\")\n",
    "fig.update_yaxes(title_text=\"Coefficient\")\n",
    "\n",
    "large_title_format = \"<span style='font-size:20px; '>Top paid kagglers based on Language</span>\"\n",
    "\n",
    "fig.add_annotation(dict(\n",
    "                            x= 0.8,\n",
    "                            y=1.1,\n",
    "                            showarrow=False,\n",
    "                            text= large_title_format + \"<br><br>\" ,\n",
    "                            textangle=0,\n",
    "                            xref=\"paper\",\n",
    "                            yref=\"paper\"\n",
    "                           ))\n",
    "fig.show()"
   ]
  },
  {
   "cell_type": "markdown",
   "metadata": {
    "papermill": {
     "duration": 0.109051,
     "end_time": "2021-06-30T04:29:18.818027",
     "exception": false,
     "start_time": "2021-06-30T04:29:18.708976",
     "status": "completed"
    },
    "tags": []
   },
   "source": [
    "**Summary 3**<br>\n",
    "Experienced personnel as expected earn more. In terms of country, USA and UAE top the list of better pay even after adjusting for cost of living. Python being common for almost 90% of people,C and Matlab top the list. One reason is they could be top choice for people with high experience as well."
   ]
  },
  {
   "cell_type": "markdown",
   "metadata": {
    "papermill": {
     "duration": 0.108195,
     "end_time": "2021-06-30T04:29:19.034804",
     "exception": false,
     "start_time": "2021-06-30T04:29:18.926609",
     "status": "completed"
    },
    "tags": []
   },
   "source": [
    "# Appendix\n",
    "1. https://www.kaggle.com/joeypp/cost-of-living-numbeo-dataset\n",
    "2. https://www.kaggle.com/spitfire2nd/enthusiast-to-data-professional-what-changes/\n",
    "3. https://www.kaggle.com/kailex/education-languages-and-salary\n"
   ]
  },
  {
   "cell_type": "code",
   "execution_count": null,
   "metadata": {
    "execution": {
     "iopub.execute_input": "2021-06-30T04:29:19.256169Z",
     "iopub.status.busy": "2021-06-30T04:29:19.255537Z",
     "iopub.status.idle": "2021-06-30T04:29:19.535552Z",
     "shell.execute_reply": "2021-06-30T04:29:19.536865Z",
     "shell.execute_reply.started": "2021-06-29T17:12:33.426602Z"
    },
    "papermill": {
     "duration": 0.392277,
     "end_time": "2021-06-30T04:29:19.537135",
     "exception": false,
     "start_time": "2021-06-30T04:29:19.144858",
     "status": "completed"
    },
    "tags": []
   },
   "outputs": [],
   "source": [
    "#Testing for R2 \n",
    "df_processed.columns = [c.replace(' ', '') for c in df_processed.columns]\n",
    "df_processed.columns = [str(c).lower() for c in df_processed.columns]\n",
    "df_processed.columns = [c.replace('<', '') for c in df_processed.columns]\n",
    "df_processed.columns = [c.replace('-', '') for c in df_processed.columns]\n",
    "df_processed.columns = [c.replace('+', '') for c in df_processed.columns]\n",
    "\n",
    "str1 = df_processed.columns[0] + \" ~ \" + \" + \".join(list(df_processed.columns[1:len(df_processed.columns)]))\n",
    "model = ols(formula=str1,data=df_processed).fit()\n",
    "model.summary()"
   ]
  }
 ],
 "metadata": {
  "kernelspec": {
   "display_name": "Python 3",
   "language": "python",
   "name": "python3"
  },
  "language_info": {
   "codemirror_mode": {
    "name": "ipython",
    "version": 3
   },
   "file_extension": ".py",
   "mimetype": "text/x-python",
   "name": "python",
   "nbconvert_exporter": "python",
   "pygments_lexer": "ipython3",
   "version": "3.8.10"
  },
  "papermill": {
   "default_parameters": {},
   "duration": 26.74288,
   "end_time": "2021-06-30T04:29:20.565625",
   "environment_variables": {},
   "exception": null,
   "input_path": "__notebook__.ipynb",
   "output_path": "__notebook__.ipynb",
   "parameters": {},
   "start_time": "2021-06-30T04:28:53.822745",
   "version": "2.3.3"
  }
 },
 "nbformat": 4,
 "nbformat_minor": 5
}
