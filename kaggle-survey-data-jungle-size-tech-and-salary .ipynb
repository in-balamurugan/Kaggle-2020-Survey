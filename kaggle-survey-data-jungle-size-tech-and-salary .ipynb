{
 "cells": [
  {
   "cell_type": "markdown",
   "metadata": {
    "papermill": {
     "duration": 0.045679,
     "end_time": "2021-07-03T11:15:25.817258",
     "exception": false,
     "start_time": "2021-07-03T11:15:25.771579",
     "status": "completed"
    },
    "tags": []
   },
   "source": [
    "# Data Science Jungle: Large firm or Small Firm; AWS or GCP; Countires with best salaries\n",
    "We are set to explore the kaggle 2020 survey for insights on what is the difference between working for large company vs small company, what is the next tech to learn and how can datascientists better their salary.<br>\n",
    "**List of questions to be answered**<br>\n",
    "1) What is the difference in working for small and large firm?<br>\n",
    "2) What is the cloud technology kagglers looking to learn in next 2 years?<br>\n",
    "3) How does experience,country living and language known influence data science salary?<br>"
   ]
  },
  {
   "cell_type": "code",
   "execution_count": 88,
   "metadata": {
    "execution": {
     "iopub.execute_input": "2021-07-03T11:15:25.910525Z",
     "iopub.status.busy": "2021-07-03T11:15:25.909312Z",
     "iopub.status.idle": "2021-07-03T11:15:30.821578Z",
     "shell.execute_reply": "2021-07-03T11:15:30.820719Z",
     "shell.execute_reply.started": "2021-07-03T10:35:18.164557Z"
    },
    "papermill": {
     "duration": 4.960003,
     "end_time": "2021-07-03T11:15:30.821791",
     "exception": false,
     "start_time": "2021-07-03T11:15:25.861788",
     "status": "completed"
    },
    "tags": []
   },
   "outputs": [
    {
     "data": {
      "text/html": [
       "        <script type=\"text/javascript\">\n",
       "        window.PlotlyConfig = {MathJaxConfig: 'local'};\n",
       "        if (window.MathJax) {MathJax.Hub.Config({SVG: {font: \"STIX-Web\"}});}\n",
       "        if (typeof require !== 'undefined') {\n",
       "        require.undef(\"plotly\");\n",
       "        requirejs.config({\n",
       "            paths: {\n",
       "                'plotly': ['https://cdn.plot.ly/plotly-2.2.0.min']\n",
       "            }\n",
       "        });\n",
       "        require(['plotly'], function(Plotly) {\n",
       "            window._Plotly = Plotly;\n",
       "        });\n",
       "        }\n",
       "        </script>\n",
       "        "
      ]
     },
     "metadata": {},
     "output_type": "display_data"
    }
   ],
   "source": [
    "#All imports \n",
    "import numpy as np # linear algebra\n",
    "import pandas as pd # data processing, CSV file I/O (e.g. pd.read_csv)\n",
    "import warnings\n",
    "warnings.filterwarnings('ignore')\n",
    "import plotly.express as px\n",
    "from plotly.offline import init_notebook_mode, iplot\n",
    "from plotly import subplots\n",
    "import plotly.figure_factory as ff\n",
    "import plotly as py\n",
    "import plotly.graph_objects as go\n",
    "init_notebook_mode(connected=True)\n",
    "import statsmodels.api as sm\n",
    "from statsmodels.formula.api import ols\n",
    "from sklearn.model_selection import train_test_split\n",
    "from sklearn.linear_model import LinearRegression\n",
    "import plotly.io as pio\n",
    "#pio.renderers.default=\"svg\""
   ]
  },
  {
   "cell_type": "markdown",
   "metadata": {
    "papermill": {
     "duration": 0.045356,
     "end_time": "2021-07-03T11:15:30.912729",
     "exception": false,
     "start_time": "2021-07-03T11:15:30.867373",
     "status": "completed"
    },
    "tags": []
   },
   "source": [
    "**Gathering data**"
   ]
  },
  {
   "cell_type": "code",
   "execution_count": 89,
   "metadata": {
    "execution": {
     "iopub.execute_input": "2021-07-03T11:15:31.008521Z",
     "iopub.status.busy": "2021-07-03T11:15:31.007834Z",
     "iopub.status.idle": "2021-07-03T11:15:32.391069Z",
     "shell.execute_reply": "2021-07-03T11:15:32.390466Z",
     "shell.execute_reply.started": "2021-07-03T10:35:18.335156Z"
    },
    "papermill": {
     "duration": 1.433721,
     "end_time": "2021-07-03T11:15:32.391220",
     "exception": false,
     "start_time": "2021-07-03T11:15:30.957499",
     "status": "completed"
    },
    "tags": []
   },
   "outputs": [],
   "source": [
    "#reading csv and see 20k respondents\n",
    "df=pd.read_csv(\"data/kaggle_survey_2020_responses.csv\")\n",
    "#Let us investigate the list of columns and let us drop second row with questions text\n",
    "df=df.iloc[1:]"
   ]
  },
  {
   "cell_type": "markdown",
   "metadata": {
    "papermill": {
     "duration": 0.044913,
     "end_time": "2021-07-03T11:15:32.481516",
     "exception": false,
     "start_time": "2021-07-03T11:15:32.436603",
     "status": "completed"
    },
    "tags": []
   },
   "source": [
    "**Investigating the data**"
   ]
  },
  {
   "cell_type": "markdown",
   "metadata": {
    "papermill": {
     "duration": 0.044681,
     "end_time": "2021-07-03T11:15:32.573379",
     "exception": false,
     "start_time": "2021-07-03T11:15:32.528698",
     "status": "completed"
    },
    "tags": []
   },
   "source": [
    "print(\"Survey (No of respondents,No of questions answered):\",df.shape)\n"
   ]
  },
  {
   "cell_type": "code",
   "execution_count": 90,
   "metadata": {
    "execution": {
     "iopub.execute_input": "2021-07-03T11:15:32.669743Z",
     "iopub.status.busy": "2021-07-03T11:15:32.668882Z",
     "iopub.status.idle": "2021-07-03T11:15:32.673963Z",
     "shell.execute_reply": "2021-07-03T11:15:32.673009Z",
     "shell.execute_reply.started": "2021-07-03T10:35:19.382848Z"
    },
    "papermill": {
     "duration": 0.05544,
     "end_time": "2021-07-03T11:15:32.674196",
     "exception": false,
     "start_time": "2021-07-03T11:15:32.618756",
     "status": "completed"
    },
    "tags": []
   },
   "outputs": [
    {
     "name": "stdout",
     "output_type": "stream",
     "text": [
      "Survey (No of respondents,No of questions answered): (20036, 355)\n"
     ]
    }
   ],
   "source": [
    "print(\"Survey (No of respondents,No of questions answered):\",df.shape)"
   ]
  },
  {
   "cell_type": "code",
   "execution_count": 91,
   "metadata": {
    "execution": {
     "iopub.execute_input": "2021-07-03T11:15:32.770983Z",
     "iopub.status.busy": "2021-07-03T11:15:32.769981Z",
     "iopub.status.idle": "2021-07-03T11:15:32.810351Z",
     "shell.execute_reply": "2021-07-03T11:15:32.809554Z",
     "shell.execute_reply.started": "2021-07-03T10:35:19.390094Z"
    },
    "papermill": {
     "duration": 0.089005,
     "end_time": "2021-07-03T11:15:32.810549",
     "exception": false,
     "start_time": "2021-07-03T11:15:32.721544",
     "status": "completed"
    },
    "tags": []
   },
   "outputs": [
    {
     "name": "stdout",
     "output_type": "stream",
     "text": [
      "<class 'pandas.core.frame.DataFrame'>\n",
      "RangeIndex: 20036 entries, 1 to 20036\n",
      "Columns: 355 entries, Time from Start to Finish (seconds) to Q35_B_OTHER\n",
      "dtypes: object(355)\n",
      "memory usage: 54.3+ MB\n",
      "None\n"
     ]
    }
   ],
   "source": [
    "print(df.info())"
   ]
  },
  {
   "cell_type": "markdown",
   "metadata": {
    "papermill": {
     "duration": 0.045678,
     "end_time": "2021-07-03T11:15:32.903685",
     "exception": false,
     "start_time": "2021-07-03T11:15:32.858007",
     "status": "completed"
    },
    "tags": []
   },
   "source": [
    "Check missing values"
   ]
  },
  {
   "cell_type": "code",
   "execution_count": 92,
   "metadata": {
    "execution": {
     "iopub.execute_input": "2021-07-03T11:15:33.402235Z",
     "iopub.status.busy": "2021-07-03T11:15:33.401557Z",
     "iopub.status.idle": "2021-07-03T11:15:33.425004Z",
     "shell.execute_reply": "2021-07-03T11:15:33.424417Z",
     "shell.execute_reply.started": "2021-07-03T10:35:19.435457Z"
    },
    "papermill": {
     "duration": 0.475394,
     "end_time": "2021-07-03T11:15:33.425147",
     "exception": false,
     "start_time": "2021-07-03T11:15:32.949753",
     "status": "completed"
    },
    "tags": []
   },
   "outputs": [
    {
     "data": {
      "text/plain": [
       "Time from Start to Finish (seconds)        0\n",
       "Q1                                         0\n",
       "Q2                                         0\n",
       "Q3                                         0\n",
       "Q4                                       467\n",
       "                                       ...  \n",
       "Q35_B_Part_7                           19556\n",
       "Q35_B_Part_8                           19190\n",
       "Q35_B_Part_9                           19517\n",
       "Q35_B_Part_10                          16954\n",
       "Q35_B_OTHER                            19785\n",
       "Length: 355, dtype: int64"
      ]
     },
     "execution_count": 92,
     "metadata": {},
     "output_type": "execute_result"
    }
   ],
   "source": [
    "df.isnull().sum()"
   ]
  },
  {
   "cell_type": "markdown",
   "metadata": {
    "papermill": {
     "duration": 0.045612,
     "end_time": "2021-07-03T11:15:33.516611",
     "exception": false,
     "start_time": "2021-07-03T11:15:33.470999",
     "status": "completed"
    },
    "tags": []
   },
   "source": [
    "# **First Question we are tackling is what are the differences encountered in a large firm vs small firm in datascience?**"
   ]
  },
  {
   "cell_type": "markdown",
   "metadata": {
    "papermill": {
     "duration": 0.045685,
     "end_time": "2021-07-03T11:15:33.608397",
     "exception": false,
     "start_time": "2021-07-03T11:15:33.562712",
     "status": "completed"
    },
    "tags": []
   },
   "source": [
    "Analysing the data"
   ]
  },
  {
   "cell_type": "code",
   "execution_count": 93,
   "metadata": {
    "execution": {
     "iopub.execute_input": "2021-07-03T11:15:33.712610Z",
     "iopub.status.busy": "2021-07-03T11:15:33.711641Z",
     "iopub.status.idle": "2021-07-03T11:15:33.716365Z",
     "shell.execute_reply": "2021-07-03T11:15:33.715749Z",
     "shell.execute_reply.started": "2021-07-03T10:35:19.856776Z"
    },
    "papermill": {
     "duration": 0.061219,
     "end_time": "2021-07-03T11:15:33.716502",
     "exception": false,
     "start_time": "2021-07-03T11:15:33.655283",
     "status": "completed"
    },
    "tags": []
   },
   "outputs": [
    {
     "data": {
      "text/plain": [
       "NaN                         8633\n",
       "0-49 employees              4208\n",
       "10,000 or more employees    2238\n",
       "1000-9,999 employees        1934\n",
       "50-249 employees            1671\n",
       "250-999 employees           1352\n",
       "Name: Q20, dtype: int64"
      ]
     },
     "execution_count": 93,
     "metadata": {},
     "output_type": "execute_result"
    }
   ],
   "source": [
    "#check distribution of employess based on the company size\n",
    "df['Q20'].value_counts(dropna=False)"
   ]
  },
  {
   "cell_type": "markdown",
   "metadata": {
    "papermill": {
     "duration": 0.045978,
     "end_time": "2021-07-03T11:15:33.808751",
     "exception": false,
     "start_time": "2021-07-03T11:15:33.762773",
     "status": "completed"
    },
    "tags": []
   },
   "source": [
    "**Cleaning the date**<br>\n",
    "Dropping all NaN in column Size as they are not useful to determine the company size<br>\n",
    "Bucketing all <1000 employees firms as small and >=1000 firms as big\n"
   ]
  },
  {
   "cell_type": "code",
   "execution_count": 94,
   "metadata": {
    "execution": {
     "iopub.execute_input": "2021-07-03T11:15:33.908739Z",
     "iopub.status.busy": "2021-07-03T11:15:33.907848Z",
     "iopub.status.idle": "2021-07-03T11:15:33.975747Z",
     "shell.execute_reply": "2021-07-03T11:15:33.974798Z",
     "shell.execute_reply.started": "2021-07-03T10:35:19.870523Z"
    },
    "papermill": {
     "duration": 0.120924,
     "end_time": "2021-07-03T11:15:33.975951",
     "exception": false,
     "start_time": "2021-07-03T11:15:33.855027",
     "status": "completed"
    },
    "tags": []
   },
   "outputs": [
    {
     "name": "stdout",
     "output_type": "stream",
     "text": [
      "Number of respondents with valid company size: 11403\n"
     ]
    }
   ],
   "source": [
    "#Dropping all NaN in column Size as they are not useful to determine the company size\n",
    "df = df[df['Q20'].notna()]\n",
    "print(\"Number of respondents with valid company size:\",df.shape[0])\n",
    "df_size=df['Q20'].value_counts(dropna=False)"
   ]
  },
  {
   "cell_type": "code",
   "execution_count": 95,
   "metadata": {
    "execution": {
     "iopub.execute_input": "2021-07-03T11:15:34.078849Z",
     "iopub.status.busy": "2021-07-03T11:15:34.078126Z",
     "iopub.status.idle": "2021-07-03T11:15:34.325326Z",
     "shell.execute_reply": "2021-07-03T11:15:34.325855Z",
     "shell.execute_reply.started": "2021-07-03T10:35:19.948496Z"
    },
    "papermill": {
     "duration": 0.302514,
     "end_time": "2021-07-03T11:15:34.326042",
     "exception": false,
     "start_time": "2021-07-03T11:15:34.023528",
     "status": "completed"
    },
    "tags": []
   },
   "outputs": [
    {
     "data": {
      "text/plain": [
       "small    7231\n",
       "big      4172\n",
       "Name: corp_type, dtype: int64"
      ]
     },
     "execution_count": 95,
     "metadata": {},
     "output_type": "execute_result"
    }
   ],
   "source": [
    "#Let us tag each of the company into a bucket based on size\n",
    "#writing a function to categorise <1000 employees as small and >=1000 as big\n",
    "def get_corp_type(row):\n",
    "    '''\n",
    "    Classifies each surveyor into company type based on <1000 employees as small and >=1000 as big\n",
    "    Parameters: \n",
    "        dataframe row(obj):the row to be classified\n",
    "    Returns:\n",
    "        corp_type(str):The string based on classification\n",
    "    '''\n",
    "    \n",
    "    if row['Q20']=='0-49 employees':\n",
    "        return 'small'\n",
    "    if row['Q20']=='50-249 employees':\n",
    "        return 'small'\n",
    "    if row['Q20']=='250-999 employees':\n",
    "        return 'small'\n",
    "    if row['Q20']=='1000-9,999 employees':\n",
    "        return 'big'\n",
    "    if row['Q20']=='10,000 or more employees':\n",
    "        return 'big'\n",
    "\n",
    "df['corp_type'] = df.apply (lambda row: get_corp_type(row), axis=1)\n",
    "df['corp_type'].value_counts(dropna=False)\n"
   ]
  },
  {
   "cell_type": "markdown",
   "metadata": {
    "papermill": {
     "duration": 0.046891,
     "end_time": "2021-07-03T11:15:34.419978",
     "exception": false,
     "start_time": "2021-07-03T11:15:34.373087",
     "status": "completed"
    },
    "tags": []
   },
   "source": [
    "**Are there any difference in titles?**<br>\n",
    "Answer is we see no big difference in the title used."
   ]
  },
  {
   "cell_type": "markdown",
   "metadata": {
    "papermill": {
     "duration": 0.047048,
     "end_time": "2021-07-03T11:15:34.519499",
     "exception": false,
     "start_time": "2021-07-03T11:15:34.472451",
     "status": "completed"
    },
    "tags": []
   },
   "source": [
    "**Gathering the data to analyse Titles**"
   ]
  },
  {
   "cell_type": "code",
   "execution_count": 96,
   "metadata": {
    "execution": {
     "iopub.execute_input": "2021-07-03T11:15:34.622566Z",
     "iopub.status.busy": "2021-07-03T11:15:34.621801Z",
     "iopub.status.idle": "2021-07-03T11:15:34.675414Z",
     "shell.execute_reply": "2021-07-03T11:15:34.675991Z",
     "shell.execute_reply.started": "2021-07-03T10:35:20.212839Z"
    },
    "papermill": {
     "duration": 0.109031,
     "end_time": "2021-07-03T11:15:34.676207",
     "exception": false,
     "start_time": "2021-07-03T11:15:34.567176",
     "status": "completed"
    },
    "tags": []
   },
   "outputs": [],
   "source": [
    "df_title = df.groupby(['corp_type','Q5'], as_index=False).size()\n",
    "df_title = df_title.pivot(index='Q5',columns='corp_type',values='size')\n",
    "df_title ['Large']=df_title ['big']/df_title['big'].sum()*100\n",
    "df_title ['Small']=df_title ['small']/df_title['small'].sum()*100\n",
    "df_title .reset_index(inplace=True)\n",
    "df_title =df_title [['Q5', 'Large', 'Small']]\n",
    "df_title =pd.melt(df_title ,id_vars='Q5', value_name='percent')"
   ]
  },
  {
   "cell_type": "markdown",
   "metadata": {
    "papermill": {
     "duration": 0.047703,
     "end_time": "2021-07-03T11:15:34.771086",
     "exception": false,
     "start_time": "2021-07-03T11:15:34.723383",
     "status": "completed"
    },
    "tags": []
   },
   "source": [
    "**Visualising the Titles**"
   ]
  },
  {
   "cell_type": "code",
   "execution_count": 97,
   "metadata": {
    "_kg_hide-input": true,
    "_kg_hide-output": false,
    "execution": {
     "iopub.execute_input": "2021-07-03T11:15:34.873589Z",
     "iopub.status.busy": "2021-07-03T11:15:34.872587Z",
     "iopub.status.idle": "2021-07-03T11:15:36.116348Z",
     "shell.execute_reply": "2021-07-03T11:15:36.116870Z",
     "shell.execute_reply.started": "2021-07-03T10:35:20.241279Z"
    },
    "papermill": {
     "duration": 1.296863,
     "end_time": "2021-07-03T11:15:36.117053",
     "exception": false,
     "start_time": "2021-07-03T11:15:34.820190",
     "status": "completed"
    },
    "tags": []
   },
   "outputs": [
    {
     "data": {
      "image/svg+xml": [
       "<svg class=\"main-svg\" xmlns=\"http://www.w3.org/2000/svg\" xmlns:xlink=\"http://www.w3.org/1999/xlink\" width=\"600\" height=\"600\" style=\"\" viewBox=\"0 0 600 600\"><rect x=\"0\" y=\"0\" width=\"600\" height=\"600\" style=\"fill: rgb(255, 255, 255); fill-opacity: 1;\"/><defs id=\"defs-a70f0a\"><g class=\"clips\"><clipPath id=\"clipa70f0axyplot\" class=\"plotclip\"><rect width=\"310\" height=\"460\"/></clipPath><clipPath class=\"axesclip\" id=\"clipa70f0ax\"><rect x=\"80\" y=\"0\" width=\"310\" height=\"600\"/></clipPath><clipPath class=\"axesclip\" id=\"clipa70f0ay\"><rect x=\"0\" y=\"60\" width=\"600\" height=\"460\"/></clipPath><clipPath class=\"axesclip\" id=\"clipa70f0axy\"><rect x=\"80\" y=\"60\" width=\"310\" height=\"460\"/></clipPath></g><g class=\"gradients\"/><g class=\"patterns\"/></defs><g class=\"bglayer\"><rect class=\"bg\" x=\"80\" y=\"60\" width=\"310\" height=\"460\" style=\"fill: rgb(229, 236, 246); fill-opacity: 1; stroke-width: 0;\"/></g><g class=\"layer-below\"><g class=\"imagelayer\"/><g class=\"shapelayer\"/></g><g class=\"cartesianlayer\"><g class=\"subplot xy\"><g class=\"layer-subplot\"><g class=\"shapelayer\"/><g class=\"imagelayer\"/></g><g class=\"gridlayer\"><g class=\"x\"/><g class=\"y\"><path class=\"ygrid crisp\" transform=\"translate(0,432.6)\" d=\"M80,0h310\" style=\"stroke: rgb(255, 255, 255); stroke-opacity: 1; stroke-width: 1px;\"/><path class=\"ygrid crisp\" transform=\"translate(0,345.2)\" d=\"M80,0h310\" style=\"stroke: rgb(255, 255, 255); stroke-opacity: 1; stroke-width: 1px;\"/><path class=\"ygrid crisp\" transform=\"translate(0,257.8)\" d=\"M80,0h310\" style=\"stroke: rgb(255, 255, 255); stroke-opacity: 1; stroke-width: 1px;\"/><path class=\"ygrid crisp\" transform=\"translate(0,170.4)\" d=\"M80,0h310\" style=\"stroke: rgb(255, 255, 255); stroke-opacity: 1; stroke-width: 1px;\"/><path class=\"ygrid crisp\" transform=\"translate(0,83)\" d=\"M80,0h310\" style=\"stroke: rgb(255, 255, 255); stroke-opacity: 1; stroke-width: 1px;\"/></g></g><g class=\"zerolinelayer\"><path class=\"yzl zl crisp\" transform=\"translate(0,520)\" d=\"M80,0h310\" style=\"stroke: rgb(255, 255, 255); stroke-opacity: 1; stroke-width: 2px;\"/></g><path class=\"xlines-below\"/><path class=\"ylines-below\"/><g class=\"overlines-below\"/><g class=\"xaxislayer-below\"/><g class=\"yaxislayer-below\"/><g class=\"overaxes-below\"/><g class=\"plot\" transform=\"translate(80,60)\" clip-path=\"url(#clipa70f0axyplot)\"><g class=\"barlayer mlayer\"><g class=\"trace bars\" style=\"opacity: 1;\"><g class=\"points\"><g class=\"point\"><path d=\"M15.5,460V426.8H139.5V460Z\" style=\"vector-effect: non-scaling-stroke; opacity: 1; stroke-width: 0.5px; fill: rgb(99, 110, 250); fill-opacity: 1; stroke: rgb(229, 236, 246); stroke-opacity: 1;\"/></g><g class=\"point\"><path d=\"M170.5,460V436.13H294.5V460Z\" style=\"vector-effect: non-scaling-stroke; opacity: 1; stroke-width: 0.5px; fill: rgb(99, 110, 250); fill-opacity: 1; stroke: rgb(229, 236, 246); stroke-opacity: 1;\"/></g></g></g><g class=\"trace bars\" style=\"opacity: 1;\"><g class=\"points\"><g class=\"point\"><path d=\"M15.5,426.8V421.45H139.5V426.8Z\" style=\"vector-effect: non-scaling-stroke; opacity: 1; stroke-width: 0.5px; fill: rgb(239, 85, 59); fill-opacity: 1; stroke: rgb(229, 236, 246); stroke-opacity: 1;\"/></g><g class=\"point\"><path d=\"M170.5,436.13V432.26H294.5V436.13Z\" style=\"vector-effect: non-scaling-stroke; opacity: 1; stroke-width: 0.5px; fill: rgb(239, 85, 59); fill-opacity: 1; stroke: rgb(229, 236, 246); stroke-opacity: 1;\"/></g></g></g><g class=\"trace bars\" style=\"opacity: 1;\"><g class=\"points\"><g class=\"point\"><path d=\"M15.5,421.45V374.11H139.5V421.45Z\" style=\"vector-effect: non-scaling-stroke; opacity: 1; stroke-width: 0.5px; fill: rgb(0, 204, 150); fill-opacity: 1; stroke: rgb(229, 236, 246); stroke-opacity: 1;\"/></g><g class=\"point\"><path d=\"M170.5,432.26V378.9H294.5V432.26Z\" style=\"vector-effect: non-scaling-stroke; opacity: 1; stroke-width: 0.5px; fill: rgb(0, 204, 150); fill-opacity: 1; stroke: rgb(229, 236, 246); stroke-opacity: 1;\"/></g></g></g><g class=\"trace bars\" style=\"opacity: 1;\"><g class=\"points\"><g class=\"point\"><path d=\"M15.5,374.11V355.99H139.5V374.11Z\" style=\"vector-effect: non-scaling-stroke; opacity: 1; stroke-width: 0.5px; fill: rgb(171, 99, 250); fill-opacity: 1; stroke: rgb(229, 236, 246); stroke-opacity: 1;\"/></g><g class=\"point\"><path d=\"M170.5,378.9V365.84H294.5V378.9Z\" style=\"vector-effect: non-scaling-stroke; opacity: 1; stroke-width: 0.5px; fill: rgb(171, 99, 250); fill-opacity: 1; stroke: rgb(229, 236, 246); stroke-opacity: 1;\"/></g></g></g><g class=\"trace bars\" style=\"opacity: 1;\"><g class=\"points\"><g class=\"point\"><path d=\"M15.5,355.99V253.55H139.5V355.99Z\" style=\"vector-effect: non-scaling-stroke; opacity: 1; stroke-width: 0.5px; fill: rgb(255, 161, 90); fill-opacity: 1; stroke: rgb(229, 236, 246); stroke-opacity: 1;\"/></g><g class=\"point\"><path d=\"M170.5,365.84V273.26H294.5V365.84Z\" style=\"vector-effect: non-scaling-stroke; opacity: 1; stroke-width: 0.5px; fill: rgb(255, 161, 90); fill-opacity: 1; stroke: rgb(229, 236, 246); stroke-opacity: 1;\"/></g></g></g><g class=\"trace bars\" style=\"opacity: 1;\"><g class=\"points\"><g class=\"point\"><path d=\"M15.5,253.55V228.3H139.5V253.55Z\" style=\"vector-effect: non-scaling-stroke; opacity: 1; stroke-width: 0.5px; fill: rgb(25, 211, 243); fill-opacity: 1; stroke: rgb(229, 236, 246); stroke-opacity: 1;\"/></g><g class=\"point\"><path d=\"M170.5,273.26V227.87H294.5V273.26Z\" style=\"vector-effect: non-scaling-stroke; opacity: 1; stroke-width: 0.5px; fill: rgb(25, 211, 243); fill-opacity: 1; stroke: rgb(229, 236, 246); stroke-opacity: 1;\"/></g></g></g><g class=\"trace bars\" style=\"opacity: 1;\"><g class=\"points\"><g class=\"point\"><path d=\"M15.5,228.3V162.63H139.5V228.3Z\" style=\"vector-effect: non-scaling-stroke; opacity: 1; stroke-width: 0.5px; fill: rgb(255, 102, 146); fill-opacity: 1; stroke: rgb(229, 236, 246); stroke-opacity: 1;\"/></g><g class=\"point\"><path d=\"M170.5,227.87V168.71H294.5V227.87Z\" style=\"vector-effect: non-scaling-stroke; opacity: 1; stroke-width: 0.5px; fill: rgb(255, 102, 146); fill-opacity: 1; stroke: rgb(229, 236, 246); stroke-opacity: 1;\"/></g></g></g><g class=\"trace bars\" style=\"opacity: 1;\"><g class=\"points\"><g class=\"point\"><path d=\"M15.5,162.63V136.75H139.5V162.63Z\" style=\"vector-effect: non-scaling-stroke; opacity: 1; stroke-width: 0.5px; fill: rgb(182, 232, 128); fill-opacity: 1; stroke: rgb(229, 236, 246); stroke-opacity: 1;\"/></g><g class=\"point\"><path d=\"M170.5,168.71V145.8H294.5V168.71Z\" style=\"vector-effect: non-scaling-stroke; opacity: 1; stroke-width: 0.5px; fill: rgb(182, 232, 128); fill-opacity: 1; stroke: rgb(229, 236, 246); stroke-opacity: 1;\"/></g></g></g><g class=\"trace bars\" style=\"opacity: 1;\"><g class=\"points\"><g class=\"point\"><path d=\"M15.5,136.75V101.14H139.5V136.75Z\" style=\"vector-effect: non-scaling-stroke; opacity: 1; stroke-width: 0.5px; fill: rgb(255, 151, 255); fill-opacity: 1; stroke: rgb(229, 236, 246); stroke-opacity: 1;\"/></g><g class=\"point\"><path d=\"M170.5,145.8V100.6H294.5V145.8Z\" style=\"vector-effect: non-scaling-stroke; opacity: 1; stroke-width: 0.5px; fill: rgb(255, 151, 255); fill-opacity: 1; stroke: rgb(229, 236, 246); stroke-opacity: 1;\"/></g></g></g><g class=\"trace bars\" style=\"opacity: 1;\"><g class=\"points\"><g class=\"point\"><path d=\"M15.5,101.14V30.44H139.5V101.14Z\" style=\"vector-effect: non-scaling-stroke; opacity: 1; stroke-width: 0.5px; fill: rgb(254, 203, 82); fill-opacity: 1; stroke: rgb(229, 236, 246); stroke-opacity: 1;\"/></g><g class=\"point\"><path d=\"M170.5,100.6V34.78H294.5V100.6Z\" style=\"vector-effect: non-scaling-stroke; opacity: 1; stroke-width: 0.5px; fill: rgb(254, 203, 82); fill-opacity: 1; stroke: rgb(229, 236, 246); stroke-opacity: 1;\"/></g></g></g><g class=\"trace bars\" style=\"opacity: 1;\"><g class=\"points\"><g class=\"point\"><path d=\"M15.5,30.44V23H139.5V30.44Z\" style=\"vector-effect: non-scaling-stroke; opacity: 1; stroke-width: 0.5px; fill: rgb(99, 110, 250); fill-opacity: 1; stroke: rgb(229, 236, 246); stroke-opacity: 1;\"/></g><g class=\"point\"><path d=\"M170.5,34.78V23H294.5V34.78Z\" style=\"vector-effect: non-scaling-stroke; opacity: 1; stroke-width: 0.5px; fill: rgb(99, 110, 250); fill-opacity: 1; stroke: rgb(229, 236, 246); stroke-opacity: 1;\"/></g></g></g></g></g><g class=\"overplot\"/><path class=\"xlines-above crisp\" d=\"M0,0\" style=\"fill: none;\"/><path class=\"ylines-above crisp\" d=\"M0,0\" style=\"fill: none;\"/><g class=\"overlines-above\"/><g class=\"xaxislayer-above\"><g class=\"xtick\"><text text-anchor=\"middle\" x=\"0\" y=\"533\" transform=\"translate(157.5,0)\" style=\"font-family: 'Open Sans', verdana, arial, sans-serif; font-size: 12px; fill: rgb(42, 63, 95); fill-opacity: 1; white-space: pre; opacity: 1;\">Large</text></g><g class=\"xtick\"><text text-anchor=\"middle\" x=\"0\" y=\"533\" transform=\"translate(312.5,0)\" style=\"font-family: 'Open Sans', verdana, arial, sans-serif; font-size: 12px; fill: rgb(42, 63, 95); fill-opacity: 1; white-space: pre; opacity: 1;\">Small</text></g></g><g class=\"yaxislayer-above\"><g class=\"ytick\"><text text-anchor=\"end\" x=\"79\" y=\"4.199999999999999\" transform=\"translate(0,520)\" style=\"font-family: 'Open Sans', verdana, arial, sans-serif; font-size: 12px; fill: rgb(42, 63, 95); fill-opacity: 1; white-space: pre; opacity: 1;\">0</text></g><g class=\"ytick\"><text text-anchor=\"end\" x=\"79\" y=\"4.199999999999999\" style=\"font-family: 'Open Sans', verdana, arial, sans-serif; font-size: 12px; fill: rgb(42, 63, 95); fill-opacity: 1; white-space: pre; opacity: 1;\" transform=\"translate(0,432.6)\">20</text></g><g class=\"ytick\"><text text-anchor=\"end\" x=\"79\" y=\"4.199999999999999\" style=\"font-family: 'Open Sans', verdana, arial, sans-serif; font-size: 12px; fill: rgb(42, 63, 95); fill-opacity: 1; white-space: pre; opacity: 1;\" transform=\"translate(0,345.2)\">40</text></g><g class=\"ytick\"><text text-anchor=\"end\" x=\"79\" y=\"4.199999999999999\" style=\"font-family: 'Open Sans', verdana, arial, sans-serif; font-size: 12px; fill: rgb(42, 63, 95); fill-opacity: 1; white-space: pre; opacity: 1;\" transform=\"translate(0,257.8)\">60</text></g><g class=\"ytick\"><text text-anchor=\"end\" x=\"79\" y=\"4.199999999999999\" style=\"font-family: 'Open Sans', verdana, arial, sans-serif; font-size: 12px; fill: rgb(42, 63, 95); fill-opacity: 1; white-space: pre; opacity: 1;\" transform=\"translate(0,170.4)\">80</text></g><g class=\"ytick\"><text text-anchor=\"end\" x=\"79\" y=\"4.199999999999999\" style=\"font-family: 'Open Sans', verdana, arial, sans-serif; font-size: 12px; fill: rgb(42, 63, 95); fill-opacity: 1; white-space: pre; opacity: 1;\" transform=\"translate(0,83)\">100</text></g></g><g class=\"overaxes-above\"/></g></g><g class=\"polarlayer\"/><g class=\"ternarylayer\"/><g class=\"geolayer\"/><g class=\"funnelarealayer\"/><g class=\"pielayer\"/><g class=\"iciclelayer\"/><g class=\"treemaplayer\"/><g class=\"sunburstlayer\"/><g class=\"glimages\"/><defs id=\"topdefs-a70f0a\"><g class=\"clips\"/><clipPath id=\"legenda70f0a\"><rect width=\"192\" height=\"238\" x=\"0\" y=\"0\"/></clipPath></defs><g class=\"layer-above\"><g class=\"imagelayer\"/><g class=\"shapelayer\"/></g><g class=\"infolayer\"><g class=\"legend\" pointer-events=\"all\" transform=\"translate(396.2,60)\"><rect class=\"bg\" shape-rendering=\"crispEdges\" style=\"stroke: rgb(68, 68, 68); stroke-opacity: 1; fill: rgb(255, 255, 255); fill-opacity: 1; stroke-width: 0px;\" width=\"192\" height=\"238\" x=\"0\" y=\"0\"/><g class=\"scrollbox\" transform=\"\" clip-path=\"url(#legenda70f0a)\"><text class=\"legendtitletext\" text-anchor=\"start\" x=\"2\" y=\"18.2\" style=\"font-family: 'Open Sans', verdana, arial, sans-serif; font-size: 14px; fill: rgb(42, 63, 95); fill-opacity: 1; white-space: pre;\">Title</text><g class=\"groups\" transform=\"\"><g class=\"traces\" transform=\"translate(0,32.7)\" style=\"opacity: 1;\"><text class=\"legendtext\" text-anchor=\"start\" x=\"40\" y=\"4.680000000000001\" style=\"font-family: 'Open Sans', verdana, arial, sans-serif; font-size: 12px; fill: rgb(42, 63, 95); fill-opacity: 1; white-space: pre;\">Business Analyst</text><g class=\"layers\" style=\"opacity: 1;\"><g class=\"legendfill\"/><g class=\"legendlines\"/><g class=\"legendsymbols\"><g class=\"legendpoints\"><path class=\"legendundefined\" d=\"M6,6H-6V-6H6Z\" transform=\"translate(20,0)\" style=\"stroke-width: 0.5px; fill: rgb(99, 110, 250); fill-opacity: 1; stroke: rgb(229, 236, 246); stroke-opacity: 1;\"/></g></g></g><rect class=\"legendtoggle\" x=\"0\" y=\"-9.5\" width=\"186.78125\" height=\"19\" style=\"fill: rgb(0, 0, 0); fill-opacity: 0;\"/></g></g><g class=\"groups\" transform=\"\"><g class=\"traces\" transform=\"translate(0,51.7)\" style=\"opacity: 1;\"><text class=\"legendtext\" text-anchor=\"start\" x=\"40\" y=\"4.680000000000001\" style=\"font-family: 'Open Sans', verdana, arial, sans-serif; font-size: 12px; fill: rgb(42, 63, 95); fill-opacity: 1; white-space: pre;\">DBA/Database Engineer</text><g class=\"layers\" style=\"opacity: 1;\"><g class=\"legendfill\"/><g class=\"legendlines\"/><g class=\"legendsymbols\"><g class=\"legendpoints\"><path class=\"legendundefined\" d=\"M6,6H-6V-6H6Z\" transform=\"translate(20,0)\" style=\"stroke-width: 0.5px; fill: rgb(239, 85, 59); fill-opacity: 1; stroke: rgb(229, 236, 246); stroke-opacity: 1;\"/></g></g></g><rect class=\"legendtoggle\" x=\"0\" y=\"-9.5\" width=\"186.78125\" height=\"19\" style=\"fill: rgb(0, 0, 0); fill-opacity: 0;\"/></g></g><g class=\"groups\" transform=\"\"><g class=\"traces\" transform=\"translate(0,70.7)\" style=\"opacity: 1;\"><text class=\"legendtext\" text-anchor=\"start\" x=\"40\" y=\"4.680000000000001\" style=\"font-family: 'Open Sans', verdana, arial, sans-serif; font-size: 12px; fill: rgb(42, 63, 95); fill-opacity: 1; white-space: pre;\">Data Analyst</text><g class=\"layers\" style=\"opacity: 1;\"><g class=\"legendfill\"/><g class=\"legendlines\"/><g class=\"legendsymbols\"><g class=\"legendpoints\"><path class=\"legendundefined\" d=\"M6,6H-6V-6H6Z\" transform=\"translate(20,0)\" style=\"stroke-width: 0.5px; fill: rgb(0, 204, 150); fill-opacity: 1; stroke: rgb(229, 236, 246); stroke-opacity: 1;\"/></g></g></g><rect class=\"legendtoggle\" x=\"0\" y=\"-9.5\" width=\"186.78125\" height=\"19\" style=\"fill: rgb(0, 0, 0); fill-opacity: 0;\"/></g></g><g class=\"groups\" transform=\"\"><g class=\"traces\" transform=\"translate(0,89.7)\" style=\"opacity: 1;\"><text class=\"legendtext\" text-anchor=\"start\" x=\"40\" y=\"4.680000000000001\" style=\"font-family: 'Open Sans', verdana, arial, sans-serif; font-size: 12px; fill: rgb(42, 63, 95); fill-opacity: 1; white-space: pre;\">Data Engineer</text><g class=\"layers\" style=\"opacity: 1;\"><g class=\"legendfill\"/><g class=\"legendlines\"/><g class=\"legendsymbols\"><g class=\"legendpoints\"><path class=\"legendundefined\" d=\"M6,6H-6V-6H6Z\" transform=\"translate(20,0)\" style=\"stroke-width: 0.5px; fill: rgb(171, 99, 250); fill-opacity: 1; stroke: rgb(229, 236, 246); stroke-opacity: 1;\"/></g></g></g><rect class=\"legendtoggle\" x=\"0\" y=\"-9.5\" width=\"186.78125\" height=\"19\" style=\"fill: rgb(0, 0, 0); fill-opacity: 0;\"/></g></g><g class=\"groups\" transform=\"\"><g class=\"traces\" transform=\"translate(0,108.7)\" style=\"opacity: 1;\"><text class=\"legendtext\" text-anchor=\"start\" x=\"40\" y=\"4.680000000000001\" style=\"font-family: 'Open Sans', verdana, arial, sans-serif; font-size: 12px; fill: rgb(42, 63, 95); fill-opacity: 1; white-space: pre;\">Data Scientist</text><g class=\"layers\" style=\"opacity: 1;\"><g class=\"legendfill\"/><g class=\"legendlines\"/><g class=\"legendsymbols\"><g class=\"legendpoints\"><path class=\"legendundefined\" d=\"M6,6H-6V-6H6Z\" transform=\"translate(20,0)\" style=\"stroke-width: 0.5px; fill: rgb(255, 161, 90); fill-opacity: 1; stroke: rgb(229, 236, 246); stroke-opacity: 1;\"/></g></g></g><rect class=\"legendtoggle\" x=\"0\" y=\"-9.5\" width=\"186.78125\" height=\"19\" style=\"fill: rgb(0, 0, 0); fill-opacity: 0;\"/></g></g><g class=\"groups\" transform=\"\"><g class=\"traces\" transform=\"translate(0,127.7)\" style=\"opacity: 1;\"><text class=\"legendtext\" text-anchor=\"start\" x=\"40\" y=\"4.680000000000001\" style=\"font-family: 'Open Sans', verdana, arial, sans-serif; font-size: 12px; fill: rgb(42, 63, 95); fill-opacity: 1; white-space: pre;\">Machine Learning Engineer</text><g class=\"layers\" style=\"opacity: 1;\"><g class=\"legendfill\"/><g class=\"legendlines\"/><g class=\"legendsymbols\"><g class=\"legendpoints\"><path class=\"legendundefined\" d=\"M6,6H-6V-6H6Z\" transform=\"translate(20,0)\" style=\"stroke-width: 0.5px; fill: rgb(25, 211, 243); fill-opacity: 1; stroke: rgb(229, 236, 246); stroke-opacity: 1;\"/></g></g></g><rect class=\"legendtoggle\" x=\"0\" y=\"-9.5\" width=\"186.78125\" height=\"19\" style=\"fill: rgb(0, 0, 0); fill-opacity: 0;\"/></g></g><g class=\"groups\" transform=\"\"><g class=\"traces\" transform=\"translate(0,146.7)\" style=\"opacity: 1;\"><text class=\"legendtext\" text-anchor=\"start\" x=\"40\" y=\"4.680000000000001\" style=\"font-family: 'Open Sans', verdana, arial, sans-serif; font-size: 12px; fill: rgb(42, 63, 95); fill-opacity: 1; white-space: pre;\">Other</text><g class=\"layers\" style=\"opacity: 1;\"><g class=\"legendfill\"/><g class=\"legendlines\"/><g class=\"legendsymbols\"><g class=\"legendpoints\"><path class=\"legendundefined\" d=\"M6,6H-6V-6H6Z\" transform=\"translate(20,0)\" style=\"stroke-width: 0.5px; fill: rgb(255, 102, 146); fill-opacity: 1; stroke: rgb(229, 236, 246); stroke-opacity: 1;\"/></g></g></g><rect class=\"legendtoggle\" x=\"0\" y=\"-9.5\" width=\"186.78125\" height=\"19\" style=\"fill: rgb(0, 0, 0); fill-opacity: 0;\"/></g></g><g class=\"groups\" transform=\"\"><g class=\"traces\" transform=\"translate(0,165.7)\" style=\"opacity: 1;\"><text class=\"legendtext\" text-anchor=\"start\" x=\"40\" y=\"4.680000000000001\" style=\"font-family: 'Open Sans', verdana, arial, sans-serif; font-size: 12px; fill: rgb(42, 63, 95); fill-opacity: 1; white-space: pre;\">Product/Project Manager</text><g class=\"layers\" style=\"opacity: 1;\"><g class=\"legendfill\"/><g class=\"legendlines\"/><g class=\"legendsymbols\"><g class=\"legendpoints\"><path class=\"legendundefined\" d=\"M6,6H-6V-6H6Z\" transform=\"translate(20,0)\" style=\"stroke-width: 0.5px; fill: rgb(182, 232, 128); fill-opacity: 1; stroke: rgb(229, 236, 246); stroke-opacity: 1;\"/></g></g></g><rect class=\"legendtoggle\" x=\"0\" y=\"-9.5\" width=\"186.78125\" height=\"19\" style=\"fill: rgb(0, 0, 0); fill-opacity: 0;\"/></g></g><g class=\"groups\" transform=\"\"><g class=\"traces\" transform=\"translate(0,184.7)\" style=\"opacity: 1;\"><text class=\"legendtext\" text-anchor=\"start\" x=\"40\" y=\"4.680000000000001\" style=\"font-family: 'Open Sans', verdana, arial, sans-serif; font-size: 12px; fill: rgb(42, 63, 95); fill-opacity: 1; white-space: pre;\">Research Scientist</text><g class=\"layers\" style=\"opacity: 1;\"><g class=\"legendfill\"/><g class=\"legendlines\"/><g class=\"legendsymbols\"><g class=\"legendpoints\"><path class=\"legendundefined\" d=\"M6,6H-6V-6H6Z\" transform=\"translate(20,0)\" style=\"stroke-width: 0.5px; fill: rgb(255, 151, 255); fill-opacity: 1; stroke: rgb(229, 236, 246); stroke-opacity: 1;\"/></g></g></g><rect class=\"legendtoggle\" x=\"0\" y=\"-9.5\" width=\"186.78125\" height=\"19\" style=\"fill: rgb(0, 0, 0); fill-opacity: 0;\"/></g></g><g class=\"groups\" transform=\"\"><g class=\"traces\" transform=\"translate(0,203.7)\" style=\"opacity: 1;\"><text class=\"legendtext\" text-anchor=\"start\" x=\"40\" y=\"4.680000000000001\" style=\"font-family: 'Open Sans', verdana, arial, sans-serif; font-size: 12px; fill: rgb(42, 63, 95); fill-opacity: 1; white-space: pre;\">Software Engineer</text><g class=\"layers\" style=\"opacity: 1;\"><g class=\"legendfill\"/><g class=\"legendlines\"/><g class=\"legendsymbols\"><g class=\"legendpoints\"><path class=\"legendundefined\" d=\"M6,6H-6V-6H6Z\" transform=\"translate(20,0)\" style=\"stroke-width: 0.5px; fill: rgb(254, 203, 82); fill-opacity: 1; stroke: rgb(229, 236, 246); stroke-opacity: 1;\"/></g></g></g><rect class=\"legendtoggle\" x=\"0\" y=\"-9.5\" width=\"186.78125\" height=\"19\" style=\"fill: rgb(0, 0, 0); fill-opacity: 0;\"/></g></g><g class=\"groups\" transform=\"\"><g class=\"traces\" transform=\"translate(0,222.7)\" style=\"opacity: 1;\"><text class=\"legendtext\" text-anchor=\"start\" x=\"40\" y=\"4.680000000000001\" style=\"font-family: 'Open Sans', verdana, arial, sans-serif; font-size: 12px; fill: rgb(42, 63, 95); fill-opacity: 1; white-space: pre;\">Statistician</text><g class=\"layers\" style=\"opacity: 1;\"><g class=\"legendfill\"/><g class=\"legendlines\"/><g class=\"legendsymbols\"><g class=\"legendpoints\"><path class=\"legendundefined\" d=\"M6,6H-6V-6H6Z\" transform=\"translate(20,0)\" style=\"stroke-width: 0.5px; fill: rgb(99, 110, 250); fill-opacity: 1; stroke: rgb(229, 236, 246); stroke-opacity: 1;\"/></g></g></g><rect class=\"legendtoggle\" x=\"0\" y=\"-9.5\" width=\"186.78125\" height=\"19\" style=\"fill: rgb(0, 0, 0); fill-opacity: 0;\"/></g></g></g><rect class=\"scrollbar\" rx=\"20\" ry=\"3\" width=\"0\" height=\"0\" style=\"fill: rgb(128, 139, 164); fill-opacity: 1;\" x=\"0\" y=\"0\"/></g><g class=\"g-gtitle\"/><g class=\"g-xtitle\"><text class=\"xtitle\" x=\"235\" y=\"560.8\" text-anchor=\"middle\" style=\"font-family: 'Open Sans', verdana, arial, sans-serif; font-size: 14px; fill: rgb(42, 63, 95); opacity: 1; font-weight: normal; white-space: pre;\">Corporate Type</text></g><g class=\"g-ytitle\"><text class=\"ytitle\" transform=\"rotate(-90,34.16875,290)\" x=\"34.16875\" y=\"290\" text-anchor=\"middle\" style=\"font-family: 'Open Sans', verdana, arial, sans-serif; font-size: 14px; fill: rgb(42, 63, 95); opacity: 1; font-weight: normal; white-space: pre;\">Pecentage</text></g><g class=\"annotation\" data-index=\"0\" style=\"opacity: 1;\"><g class=\"annotation-text-g\" transform=\"rotate(0,294.5,26.999999999999964)\"><g class=\"cursor-pointer\" transform=\"translate(168,14)\"><rect class=\"bg\" x=\"0.5\" y=\"0.5\" width=\"252\" height=\"25\" style=\"stroke-width: 1px; stroke: rgb(0, 0, 0); stroke-opacity: 0; fill: rgb(0, 0, 0); fill-opacity: 0;\"/><text class=\"annotation-text\" text-anchor=\"middle\" x=\"126.5\" y=\"20\" style=\"font-family: 'Open Sans', verdana, arial, sans-serif; font-size: 12px; fill: rgb(42, 63, 95); fill-opacity: 1; white-space: pre;\"><tspan class=\"line\" dy=\"0em\" x=\"126.5\" y=\"20\"><tspan style=\"font-size:20px; \">Large Vs Small: Split by title</tspan></tspan><tspan class=\"line\" dy=\"1.3em\" x=\"126.5\" y=\"20\"></tspan><tspan class=\"line\" dy=\"2.6em\" x=\"126.5\" y=\"20\"></tspan></text></g></g></g></g></svg>"
      ]
     },
     "metadata": {},
     "output_type": "display_data"
    }
   ],
   "source": [
    "fig = px.bar(df_title, x=\"corp_type\", y=\"percent\", color=\"Q5\" ,\n",
    "    width = 600,\n",
    "    height = 600)\n",
    "\n",
    "fig.update_layout(legend_title_text = \"Title\")\n",
    "fig.update_xaxes(title_text=\"Corporate Type\")\n",
    "fig.update_yaxes(title_text=\"Pecentage\")\n",
    "\n",
    "large_title_format = \"<span style='font-size:20px; '>Large Vs Small: Split by title</span>\"\n",
    "\n",
    "fig.add_annotation(dict(\n",
    "                            x= 1.1,\n",
    "                            y=1.1,\n",
    "                            showarrow=False,\n",
    "                            text= large_title_format + \"<br><br>\" ,\n",
    "                            textangle=0,\n",
    "                            xref=\"paper\",\n",
    "                            yref=\"paper\"\n",
    "                           ))\n",
    "fig.show()"
   ]
  },
  {
   "cell_type": "markdown",
   "metadata": {
    "papermill": {
     "duration": 0.056026,
     "end_time": "2021-07-03T11:15:36.228799",
     "exception": false,
     "start_time": "2021-07-03T11:15:36.172773",
     "status": "completed"
    },
    "tags": []
   },
   "source": [
    "**A function for to compare a particular column values along with size of firm**"
   ]
  },
  {
   "cell_type": "code",
   "execution_count": 98,
   "metadata": {
    "execution": {
     "iopub.execute_input": "2021-07-03T11:15:36.348051Z",
     "iopub.status.busy": "2021-07-03T11:15:36.347357Z",
     "iopub.status.idle": "2021-07-03T11:15:36.349360Z",
     "shell.execute_reply": "2021-07-03T11:15:36.349827Z",
     "shell.execute_reply.started": "2021-07-03T10:35:20.373901Z"
    },
    "papermill": {
     "duration": 0.065712,
     "end_time": "2021-07-03T11:15:36.350001",
     "exception": false,
     "start_time": "2021-07-03T11:15:36.284289",
     "status": "completed"
    },
    "tags": []
   },
   "outputs": [],
   "source": [
    "#Function to compare large and small firms\n",
    "def compare_corp(column):\n",
    "    '''\n",
    "    Compares attribute in a column beginning with string passed along with size and returns percentages select in each category\n",
    "    Parameters: \n",
    "        column(string):the column string to be compared along with size\n",
    "    Returns:\n",
    "        df_temp(dataframe):the datatframe grouped by column attributes and size with percenage contribution of each row\n",
    "    '''\n",
    "    \n",
    "    df_temp = df.groupby(['corp_type',column]).size().reset_index(name='counts')\n",
    "    df_temp= df_temp.pivot(index=df_temp.columns[1],columns='corp_type',values='counts')\n",
    "    df_temp['Large']=df_temp['big']/df_temp['big'].sum()*100\n",
    "    df_temp['Small']=df_temp['small']/df_temp['small'].sum()*100\n",
    "    df_temp.reset_index(inplace=True)\n",
    "    df_temp =df_temp [[column, 'Large', 'Small']]\n",
    "    df_temp =pd.melt(df_temp ,id_vars=column, value_name='percent')\n",
    "    return df_temp"
   ]
  },
  {
   "cell_type": "markdown",
   "metadata": {
    "papermill": {
     "duration": 0.056767,
     "end_time": "2021-07-03T11:15:36.463186",
     "exception": false,
     "start_time": "2021-07-03T11:15:36.406419",
     "status": "completed"
    },
    "tags": []
   },
   "source": [
    "**Visualising Choice of computing platform**<br>\n",
    "Local machine is preferred choice. Surprisingly one would have expected small firms to be early adopters of cloud and to keep their fixed costs low. However, Cloud platforms are more prevelant in Large firms than small firms"
   ]
  },
  {
   "cell_type": "code",
   "execution_count": 99,
   "metadata": {
    "execution": {
     "iopub.execute_input": "2021-07-03T11:15:36.577627Z",
     "iopub.status.busy": "2021-07-03T11:15:36.576937Z",
     "iopub.status.idle": "2021-07-03T11:15:36.683981Z",
     "shell.execute_reply": "2021-07-03T11:15:36.684533Z",
     "shell.execute_reply.started": "2021-07-03T10:35:20.383695Z"
    },
    "papermill": {
     "duration": 0.165963,
     "end_time": "2021-07-03T11:15:36.684724",
     "exception": false,
     "start_time": "2021-07-03T11:15:36.518761",
     "status": "completed"
    },
    "tags": []
   },
   "outputs": [
    {
     "data": {
      "image/svg+xml": [
       "<svg class=\"main-svg\" xmlns=\"http://www.w3.org/2000/svg\" xmlns:xlink=\"http://www.w3.org/1999/xlink\" width=\"700\" height=\"400\" style=\"\" viewBox=\"0 0 700 400\"><rect x=\"0\" y=\"0\" width=\"700\" height=\"400\" style=\"fill: rgb(255, 255, 255); fill-opacity: 1;\"/><defs id=\"defs-f5231b\"><g class=\"clips\"><clipPath id=\"clipf5231bxyplot\" class=\"plotclip\"><rect width=\"182\" height=\"260\"/></clipPath><clipPath class=\"axesclip\" id=\"clipf5231bx\"><rect x=\"80\" y=\"0\" width=\"182\" height=\"400\"/></clipPath><clipPath class=\"axesclip\" id=\"clipf5231by\"><rect x=\"0\" y=\"60\" width=\"700\" height=\"260\"/></clipPath><clipPath class=\"axesclip\" id=\"clipf5231bxy\"><rect x=\"80\" y=\"60\" width=\"182\" height=\"260\"/></clipPath></g><g class=\"gradients\"/><g class=\"patterns\"/></defs><g class=\"bglayer\"><rect class=\"bg\" x=\"80\" y=\"60\" width=\"182\" height=\"260\" style=\"fill: rgb(229, 236, 246); fill-opacity: 1; stroke-width: 0;\"/></g><g class=\"layer-below\"><g class=\"imagelayer\"/><g class=\"shapelayer\"/></g><g class=\"cartesianlayer\"><g class=\"subplot xy\"><g class=\"layer-subplot\"><g class=\"shapelayer\"/><g class=\"imagelayer\"/></g><g class=\"gridlayer\"><g class=\"x\"/><g class=\"y\"><path class=\"ygrid crisp\" transform=\"translate(0,270.6)\" d=\"M80,0h182\" style=\"stroke: rgb(255, 255, 255); stroke-opacity: 1; stroke-width: 1px;\"/><path class=\"ygrid crisp\" transform=\"translate(0,221.2)\" d=\"M80,0h182\" style=\"stroke: rgb(255, 255, 255); stroke-opacity: 1; stroke-width: 1px;\"/><path class=\"ygrid crisp\" transform=\"translate(0,171.8)\" d=\"M80,0h182\" style=\"stroke: rgb(255, 255, 255); stroke-opacity: 1; stroke-width: 1px;\"/><path class=\"ygrid crisp\" transform=\"translate(0,122.4)\" d=\"M80,0h182\" style=\"stroke: rgb(255, 255, 255); stroke-opacity: 1; stroke-width: 1px;\"/><path class=\"ygrid crisp\" transform=\"translate(0,73)\" d=\"M80,0h182\" style=\"stroke: rgb(255, 255, 255); stroke-opacity: 1; stroke-width: 1px;\"/></g></g><g class=\"zerolinelayer\"><path class=\"yzl zl crisp\" transform=\"translate(0,320)\" d=\"M80,0h182\" style=\"stroke: rgb(255, 255, 255); stroke-opacity: 1; stroke-width: 2px;\"/></g><path class=\"xlines-below\"/><path class=\"ylines-below\"/><g class=\"overlines-below\"/><g class=\"xaxislayer-below\"/><g class=\"yaxislayer-below\"/><g class=\"overaxes-below\"/><g class=\"plot\" transform=\"translate(80,60)\" clip-path=\"url(#clipf5231bxyplot)\"><g class=\"barlayer mlayer\"><g class=\"trace bars\" style=\"opacity: 1;\"><g class=\"points\"><g class=\"point\"><path d=\"M9.1,260V211.41H81.9V260Z\" style=\"vector-effect: non-scaling-stroke; opacity: 1; stroke-width: 0.5px; fill: rgb(99, 110, 250); fill-opacity: 1; stroke: rgb(229, 236, 246); stroke-opacity: 1;\"/></g><g class=\"point\"><path d=\"M100.1,260V225.55H172.9V260Z\" style=\"vector-effect: non-scaling-stroke; opacity: 1; stroke-width: 0.5px; fill: rgb(99, 110, 250); fill-opacity: 1; stroke: rgb(229, 236, 246); stroke-opacity: 1;\"/></g></g></g><g class=\"trace bars\" style=\"opacity: 1;\"><g class=\"points\"><g class=\"point\"><path d=\"M9.1,211.41V198.16H81.9V211.41Z\" style=\"vector-effect: non-scaling-stroke; opacity: 1; stroke-width: 0.5px; fill: rgb(239, 85, 59); fill-opacity: 1; stroke: rgb(229, 236, 246); stroke-opacity: 1;\"/></g><g class=\"point\"><path d=\"M100.1,225.55V209.26H172.9V225.55Z\" style=\"vector-effect: non-scaling-stroke; opacity: 1; stroke-width: 0.5px; fill: rgb(239, 85, 59); fill-opacity: 1; stroke: rgb(229, 236, 246); stroke-opacity: 1;\"/></g></g></g><g class=\"trace bars\" style=\"opacity: 1;\"><g class=\"points\"><g class=\"point\"><path d=\"M9.1,198.16V21.13H81.9V198.16Z\" style=\"vector-effect: non-scaling-stroke; opacity: 1; stroke-width: 0.5px; fill: rgb(0, 204, 150); fill-opacity: 1; stroke: rgb(229, 236, 246); stroke-opacity: 1;\"/></g><g class=\"point\"><path d=\"M100.1,209.26V19.21H172.9V209.26Z\" style=\"vector-effect: non-scaling-stroke; opacity: 1; stroke-width: 0.5px; fill: rgb(0, 204, 150); fill-opacity: 1; stroke: rgb(229, 236, 246); stroke-opacity: 1;\"/></g></g></g><g class=\"trace bars\" style=\"opacity: 1;\"><g class=\"points\"><g class=\"point\"><path d=\"M9.1,21.13V17.63H81.9V21.13Z\" style=\"vector-effect: non-scaling-stroke; opacity: 1; stroke-width: 0.5px; fill: rgb(171, 99, 250); fill-opacity: 1; stroke: rgb(229, 236, 246); stroke-opacity: 1;\"/></g><g class=\"point\"><path d=\"M100.1,19.21V16.02H172.9V19.21Z\" style=\"vector-effect: non-scaling-stroke; opacity: 1; stroke-width: 0.5px; fill: rgb(171, 99, 250); fill-opacity: 1; stroke: rgb(229, 236, 246); stroke-opacity: 1;\"/></g></g></g><g class=\"trace bars\" style=\"opacity: 1;\"><g class=\"points\"><g class=\"point\"><path d=\"M9.1,17.63V13H81.9V17.63Z\" style=\"vector-effect: non-scaling-stroke; opacity: 1; stroke-width: 0.5px; fill: rgb(255, 161, 90); fill-opacity: 1; stroke: rgb(229, 236, 246); stroke-opacity: 1;\"/></g><g class=\"point\"><path d=\"M100.1,16.02V13H172.9V16.02Z\" style=\"vector-effect: non-scaling-stroke; opacity: 1; stroke-width: 0.5px; fill: rgb(255, 161, 90); fill-opacity: 1; stroke: rgb(229, 236, 246); stroke-opacity: 1;\"/></g></g></g></g></g><g class=\"overplot\"/><path class=\"xlines-above crisp\" d=\"M0,0\" style=\"fill: none;\"/><path class=\"ylines-above crisp\" d=\"M0,0\" style=\"fill: none;\"/><g class=\"overlines-above\"/><g class=\"xaxislayer-above\"><g class=\"xtick\"><text text-anchor=\"middle\" x=\"0\" y=\"333\" transform=\"translate(125.5,0)\" style=\"font-family: 'Open Sans', verdana, arial, sans-serif; font-size: 12px; fill: rgb(42, 63, 95); fill-opacity: 1; white-space: pre; opacity: 1;\">Large</text></g><g class=\"xtick\"><text text-anchor=\"middle\" x=\"0\" y=\"333\" transform=\"translate(216.5,0)\" style=\"font-family: 'Open Sans', verdana, arial, sans-serif; font-size: 12px; fill: rgb(42, 63, 95); fill-opacity: 1; white-space: pre; opacity: 1;\">Small</text></g></g><g class=\"yaxislayer-above\"><g class=\"ytick\"><text text-anchor=\"end\" x=\"79\" y=\"4.199999999999999\" transform=\"translate(0,320)\" style=\"font-family: 'Open Sans', verdana, arial, sans-serif; font-size: 12px; fill: rgb(42, 63, 95); fill-opacity: 1; white-space: pre; opacity: 1;\">0</text></g><g class=\"ytick\"><text text-anchor=\"end\" x=\"79\" y=\"4.199999999999999\" style=\"font-family: 'Open Sans', verdana, arial, sans-serif; font-size: 12px; fill: rgb(42, 63, 95); fill-opacity: 1; white-space: pre; opacity: 1;\" transform=\"translate(0,270.6)\">20</text></g><g class=\"ytick\"><text text-anchor=\"end\" x=\"79\" y=\"4.199999999999999\" style=\"font-family: 'Open Sans', verdana, arial, sans-serif; font-size: 12px; fill: rgb(42, 63, 95); fill-opacity: 1; white-space: pre; opacity: 1;\" transform=\"translate(0,221.2)\">40</text></g><g class=\"ytick\"><text text-anchor=\"end\" x=\"79\" y=\"4.199999999999999\" style=\"font-family: 'Open Sans', verdana, arial, sans-serif; font-size: 12px; fill: rgb(42, 63, 95); fill-opacity: 1; white-space: pre; opacity: 1;\" transform=\"translate(0,171.8)\">60</text></g><g class=\"ytick\"><text text-anchor=\"end\" x=\"79\" y=\"4.199999999999999\" style=\"font-family: 'Open Sans', verdana, arial, sans-serif; font-size: 12px; fill: rgb(42, 63, 95); fill-opacity: 1; white-space: pre; opacity: 1;\" transform=\"translate(0,122.4)\">80</text></g><g class=\"ytick\"><text text-anchor=\"end\" x=\"79\" y=\"4.199999999999999\" style=\"font-family: 'Open Sans', verdana, arial, sans-serif; font-size: 12px; fill: rgb(42, 63, 95); fill-opacity: 1; white-space: pre; opacity: 1;\" transform=\"translate(0,73)\">100</text></g></g><g class=\"overaxes-above\"/></g></g><g class=\"polarlayer\"/><g class=\"ternarylayer\"/><g class=\"geolayer\"/><g class=\"funnelarealayer\"/><g class=\"pielayer\"/><g class=\"iciclelayer\"/><g class=\"treemaplayer\"/><g class=\"sunburstlayer\"/><g class=\"glimages\"/><defs id=\"topdefs-f5231b\"><g class=\"clips\"/><clipPath id=\"legendf5231b\"><rect width=\"422\" height=\"124\" x=\"0\" y=\"0\"/></clipPath></defs><g class=\"layer-above\"><g class=\"imagelayer\"/><g class=\"shapelayer\"/></g><g class=\"infolayer\"><g class=\"legend\" pointer-events=\"all\" transform=\"translate(265.64,60)\"><rect class=\"bg\" shape-rendering=\"crispEdges\" style=\"stroke: rgb(68, 68, 68); stroke-opacity: 1; fill: rgb(255, 255, 255); fill-opacity: 1; stroke-width: 0px;\" width=\"422\" height=\"124\" x=\"0\" y=\"0\"/><g class=\"scrollbox\" transform=\"\" clip-path=\"url(#legendf5231b)\"><text class=\"legendtitletext\" text-anchor=\"start\" x=\"2\" y=\"18.2\" style=\"font-family: 'Open Sans', verdana, arial, sans-serif; font-size: 14px; fill: rgb(42, 63, 95); fill-opacity: 1; white-space: pre;\">Platform</text><g class=\"groups\" transform=\"\"><g class=\"traces\" transform=\"translate(0,32.7)\" style=\"opacity: 1;\"><text class=\"legendtext\" text-anchor=\"start\" x=\"40\" y=\"4.680000000000001\" style=\"font-family: 'Open Sans', verdana, arial, sans-serif; font-size: 12px; fill: rgb(42, 63, 95); fill-opacity: 1; white-space: pre;\">A cloud computing platform (AWS, Azure, GCP, hosted notebooks, etc)</text><g class=\"layers\" style=\"opacity: 1;\"><g class=\"legendfill\"/><g class=\"legendlines\"/><g class=\"legendsymbols\"><g class=\"legendpoints\"><path class=\"legendundefined\" d=\"M6,6H-6V-6H6Z\" transform=\"translate(20,0)\" style=\"stroke-width: 0.5px; fill: rgb(99, 110, 250); fill-opacity: 1; stroke: rgb(229, 236, 246); stroke-opacity: 1;\"/></g></g></g><rect class=\"legendtoggle\" x=\"0\" y=\"-9.5\" width=\"416.859375\" height=\"19\" style=\"fill: rgb(0, 0, 0); fill-opacity: 0;\"/></g></g><g class=\"groups\" transform=\"\"><g class=\"traces\" transform=\"translate(0,51.7)\" style=\"opacity: 1;\"><text class=\"legendtext\" text-anchor=\"start\" x=\"40\" y=\"4.680000000000001\" style=\"font-family: 'Open Sans', verdana, arial, sans-serif; font-size: 12px; fill: rgb(42, 63, 95); fill-opacity: 1; white-space: pre;\">A deep learning workstation (NVIDIA GTX, LambdaLabs, etc)</text><g class=\"layers\" style=\"opacity: 1;\"><g class=\"legendfill\"/><g class=\"legendlines\"/><g class=\"legendsymbols\"><g class=\"legendpoints\"><path class=\"legendundefined\" d=\"M6,6H-6V-6H6Z\" transform=\"translate(20,0)\" style=\"stroke-width: 0.5px; fill: rgb(239, 85, 59); fill-opacity: 1; stroke: rgb(229, 236, 246); stroke-opacity: 1;\"/></g></g></g><rect class=\"legendtoggle\" x=\"0\" y=\"-9.5\" width=\"416.859375\" height=\"19\" style=\"fill: rgb(0, 0, 0); fill-opacity: 0;\"/></g></g><g class=\"groups\" transform=\"\"><g class=\"traces\" transform=\"translate(0,70.7)\" style=\"opacity: 1;\"><text class=\"legendtext\" text-anchor=\"start\" x=\"40\" y=\"4.680000000000001\" style=\"font-family: 'Open Sans', verdana, arial, sans-serif; font-size: 12px; fill: rgb(42, 63, 95); fill-opacity: 1; white-space: pre;\">A personal computer or laptop</text><g class=\"layers\" style=\"opacity: 1;\"><g class=\"legendfill\"/><g class=\"legendlines\"/><g class=\"legendsymbols\"><g class=\"legendpoints\"><path class=\"legendundefined\" d=\"M6,6H-6V-6H6Z\" transform=\"translate(20,0)\" style=\"stroke-width: 0.5px; fill: rgb(0, 204, 150); fill-opacity: 1; stroke: rgb(229, 236, 246); stroke-opacity: 1;\"/></g></g></g><rect class=\"legendtoggle\" x=\"0\" y=\"-9.5\" width=\"416.859375\" height=\"19\" style=\"fill: rgb(0, 0, 0); fill-opacity: 0;\"/></g></g><g class=\"groups\" transform=\"\"><g class=\"traces\" transform=\"translate(0,89.7)\" style=\"opacity: 1;\"><text class=\"legendtext\" text-anchor=\"start\" x=\"40\" y=\"4.680000000000001\" style=\"font-family: 'Open Sans', verdana, arial, sans-serif; font-size: 12px; fill: rgb(42, 63, 95); fill-opacity: 1; white-space: pre;\">None</text><g class=\"layers\" style=\"opacity: 1;\"><g class=\"legendfill\"/><g class=\"legendlines\"/><g class=\"legendsymbols\"><g class=\"legendpoints\"><path class=\"legendundefined\" d=\"M6,6H-6V-6H6Z\" transform=\"translate(20,0)\" style=\"stroke-width: 0.5px; fill: rgb(171, 99, 250); fill-opacity: 1; stroke: rgb(229, 236, 246); stroke-opacity: 1;\"/></g></g></g><rect class=\"legendtoggle\" x=\"0\" y=\"-9.5\" width=\"416.859375\" height=\"19\" style=\"fill: rgb(0, 0, 0); fill-opacity: 0;\"/></g></g><g class=\"groups\" transform=\"\"><g class=\"traces\" transform=\"translate(0,108.7)\" style=\"opacity: 1;\"><text class=\"legendtext\" text-anchor=\"start\" x=\"40\" y=\"4.680000000000001\" style=\"font-family: 'Open Sans', verdana, arial, sans-serif; font-size: 12px; fill: rgb(42, 63, 95); fill-opacity: 1; white-space: pre;\">Other</text><g class=\"layers\" style=\"opacity: 1;\"><g class=\"legendfill\"/><g class=\"legendlines\"/><g class=\"legendsymbols\"><g class=\"legendpoints\"><path class=\"legendundefined\" d=\"M6,6H-6V-6H6Z\" transform=\"translate(20,0)\" style=\"stroke-width: 0.5px; fill: rgb(255, 161, 90); fill-opacity: 1; stroke: rgb(229, 236, 246); stroke-opacity: 1;\"/></g></g></g><rect class=\"legendtoggle\" x=\"0\" y=\"-9.5\" width=\"416.859375\" height=\"19\" style=\"fill: rgb(0, 0, 0); fill-opacity: 0;\"/></g></g></g><rect class=\"scrollbar\" rx=\"20\" ry=\"3\" width=\"0\" height=\"0\" style=\"fill: rgb(128, 139, 164); fill-opacity: 1;\" x=\"0\" y=\"0\"/></g><g class=\"g-gtitle\"/><g class=\"g-xtitle\"><text class=\"xtitle\" x=\"171\" y=\"360.8\" text-anchor=\"middle\" style=\"font-family: 'Open Sans', verdana, arial, sans-serif; font-size: 14px; fill: rgb(42, 63, 95); opacity: 1; font-weight: normal; white-space: pre;\">Corporate Type</text></g><g class=\"g-ytitle\"><text class=\"ytitle\" transform=\"rotate(-90,34.16875,190)\" x=\"34.16875\" y=\"190\" text-anchor=\"middle\" style=\"font-family: 'Open Sans', verdana, arial, sans-serif; font-size: 14px; fill: rgb(42, 63, 95); opacity: 1; font-weight: normal; white-space: pre;\">Pecentage</text></g><g class=\"annotation\" data-index=\"0\" style=\"opacity: 1;\"><g class=\"annotation-text-g\" transform=\"rotate(0,197,46.999999999999986)\"><g class=\"cursor-pointer\" transform=\"translate(41,34)\"><rect class=\"bg\" x=\"0.5\" y=\"0.5\" width=\"311\" height=\"25\" style=\"stroke-width: 1px; stroke: rgb(0, 0, 0); stroke-opacity: 0; fill: rgb(0, 0, 0); fill-opacity: 0;\"/><text class=\"annotation-text\" text-anchor=\"middle\" x=\"155.953125\" y=\"20\" style=\"font-family: 'Open Sans', verdana, arial, sans-serif; font-size: 12px; fill: rgb(42, 63, 95); fill-opacity: 1; white-space: pre;\"><tspan class=\"line\" dy=\"0em\" x=\"155.953125\" y=\"20\"><tspan style=\"font-size:20px; \">Large Vs Small: Compute Platform</tspan></tspan><tspan class=\"line\" dy=\"1.3em\" x=\"155.953125\" y=\"20\"></tspan><tspan class=\"line\" dy=\"2.6em\" x=\"155.953125\" y=\"20\"></tspan></text></g></g></g></g></svg>"
      ]
     },
     "metadata": {},
     "output_type": "display_data"
    }
   ],
   "source": [
    "df_compute=compare_corp('Q11')\n",
    "\n",
    "fig = px.bar(df_compute, x=\"corp_type\", y=\"percent\", color=\"Q11\" ,\n",
    "    width = 700,\n",
    "    height = 400)\n",
    "\n",
    "fig.update_layout(legend_title_text = \"Platform\")\n",
    "fig.update_xaxes(title_text=\"Corporate Type\")\n",
    "fig.update_yaxes(title_text=\"Pecentage\")\n",
    "\n",
    "large_title_format = \"<span style='font-size:20px; '>Large Vs Small: Compute Platform</span>\"\n",
    "\n",
    "fig.add_annotation(dict(\n",
    "                            x= 1.5,\n",
    "                            y=1.1,\n",
    "                            showarrow=False,\n",
    "                            text= large_title_format + \"<br><br>\" ,\n",
    "                            textangle=0,\n",
    "                            xref=\"paper\",\n",
    "                            yref=\"paper\"\n",
    "                           ))\n",
    "fig.show()\n"
   ]
  },
  {
   "cell_type": "markdown",
   "metadata": {
    "papermill": {
     "duration": 0.061668,
     "end_time": "2021-07-03T11:15:36.808916",
     "exception": false,
     "start_time": "2021-07-03T11:15:36.747248",
     "status": "completed"
    },
    "tags": []
   },
   "source": [
    "**Visualising ML Maturity**<br>\n",
    "Large firms  have more models in production for more than two years than the small firms and also less percentage have reported not using any ML methods . That being said, most of the small firms would not have existed two years ago and also good place to start working from scratch in ML as response to question \"We are exploring ML methods (and may one day put a model into production)\" ratio is high in small firms  compared to large firms"
   ]
  },
  {
   "cell_type": "code",
   "execution_count": 100,
   "metadata": {
    "execution": {
     "iopub.execute_input": "2021-07-03T11:15:36.937541Z",
     "iopub.status.busy": "2021-07-03T11:15:36.936871Z",
     "iopub.status.idle": "2021-07-03T11:15:37.029418Z",
     "shell.execute_reply": "2021-07-03T11:15:37.029918Z",
     "shell.execute_reply.started": "2021-07-03T10:35:20.517154Z"
    },
    "papermill": {
     "duration": 0.15933,
     "end_time": "2021-07-03T11:15:37.030100",
     "exception": false,
     "start_time": "2021-07-03T11:15:36.870770",
     "status": "completed"
    },
    "tags": []
   },
   "outputs": [
    {
     "data": {
      "image/svg+xml": [
       "<svg class=\"main-svg\" xmlns=\"http://www.w3.org/2000/svg\" xmlns:xlink=\"http://www.w3.org/1999/xlink\" width=\"900\" height=\"600\" style=\"\" viewBox=\"0 0 900 600\"><rect x=\"0\" y=\"0\" width=\"900\" height=\"600\" style=\"fill: rgb(255, 255, 255); fill-opacity: 1;\"/><defs id=\"defs-07d9e4\"><g class=\"clips\"><clipPath id=\"clip07d9e4xyplot\" class=\"plotclip\"><rect width=\"421\" height=\"246\"/></clipPath><clipPath class=\"axesclip\" id=\"clip07d9e4x\"><rect x=\"80\" y=\"0\" width=\"421\" height=\"600\"/></clipPath><clipPath class=\"axesclip\" id=\"clip07d9e4y\"><rect x=\"0\" y=\"60\" width=\"900\" height=\"246\"/></clipPath><clipPath class=\"axesclip\" id=\"clip07d9e4xy\"><rect x=\"80\" y=\"60\" width=\"421\" height=\"246\"/></clipPath></g><g class=\"gradients\"/><g class=\"patterns\"/></defs><g class=\"bglayer\"><rect class=\"bg\" x=\"80\" y=\"60\" width=\"421\" height=\"246\" style=\"fill: rgb(229, 236, 246); fill-opacity: 1; stroke-width: 0;\"/></g><g class=\"layer-below\"><g class=\"imagelayer\"/><g class=\"shapelayer\"/></g><g class=\"cartesianlayer\"><g class=\"subplot xy\"><g class=\"layer-subplot\"><g class=\"shapelayer\"/><g class=\"imagelayer\"/></g><g class=\"gridlayer\"><g class=\"x\"/><g class=\"y\"><path class=\"ygrid crisp\" transform=\"translate(0,262.37)\" d=\"M80,0h421\" style=\"stroke: rgb(255, 255, 255); stroke-opacity: 1; stroke-width: 1px;\"/><path class=\"ygrid crisp\" transform=\"translate(0,218.75)\" d=\"M80,0h421\" style=\"stroke: rgb(255, 255, 255); stroke-opacity: 1; stroke-width: 1px;\"/><path class=\"ygrid crisp\" transform=\"translate(0,175.12)\" d=\"M80,0h421\" style=\"stroke: rgb(255, 255, 255); stroke-opacity: 1; stroke-width: 1px;\"/><path class=\"ygrid crisp\" transform=\"translate(0,131.49)\" d=\"M80,0h421\" style=\"stroke: rgb(255, 255, 255); stroke-opacity: 1; stroke-width: 1px;\"/><path class=\"ygrid crisp\" transform=\"translate(0,87.87)\" d=\"M80,0h421\" style=\"stroke: rgb(255, 255, 255); stroke-opacity: 1; stroke-width: 1px;\"/></g></g><g class=\"zerolinelayer\"><path class=\"yzl zl crisp\" transform=\"translate(0,306)\" d=\"M80,0h421\" style=\"stroke: rgb(255, 255, 255); stroke-opacity: 1; stroke-width: 2px;\"/></g><path class=\"xlines-below\"/><path class=\"ylines-below\"/><g class=\"overlines-below\"/><g class=\"xaxislayer-below\"/><g class=\"yaxislayer-below\"/><g class=\"overaxes-below\"/><g class=\"plot\" transform=\"translate(80,60)\" clip-path=\"url(#clip07d9e4xyplot)\"><g class=\"barlayer mlayer\"><g class=\"trace bars\" style=\"opacity: 1;\"><g class=\"points\"><g class=\"point\"><path d=\"M7.02,246V115.72H35.08V246Z\" style=\"vector-effect: non-scaling-stroke; opacity: 1; stroke-width: 0.5px; fill: rgb(99, 110, 250); fill-opacity: 1; stroke: rgb(229, 236, 246); stroke-opacity: 1;\"/></g><g class=\"point\"><path d=\"M77.18,246V130.43H105.25V246Z\" style=\"vector-effect: non-scaling-stroke; opacity: 1; stroke-width: 0.5px; fill: rgb(99, 110, 250); fill-opacity: 1; stroke: rgb(229, 236, 246); stroke-opacity: 1;\"/></g><g class=\"point\"><path d=\"M147.35,246V107.61H175.42V246Z\" style=\"vector-effect: non-scaling-stroke; opacity: 1; stroke-width: 0.5px; fill: rgb(99, 110, 250); fill-opacity: 1; stroke: rgb(229, 236, 246); stroke-opacity: 1;\"/></g><g class=\"point\"><path d=\"M217.52,246V12.3H245.58V246Z\" style=\"vector-effect: non-scaling-stroke; opacity: 1; stroke-width: 0.5px; fill: rgb(99, 110, 250); fill-opacity: 1; stroke: rgb(229, 236, 246); stroke-opacity: 1;\"/></g><g class=\"point\"><path d=\"M287.68,246V86.72H315.75V246Z\" style=\"vector-effect: non-scaling-stroke; opacity: 1; stroke-width: 0.5px; fill: rgb(99, 110, 250); fill-opacity: 1; stroke: rgb(229, 236, 246); stroke-opacity: 1;\"/></g><g class=\"point\"><path d=\"M357.85,246V150.69H385.92V246Z\" style=\"vector-effect: non-scaling-stroke; opacity: 1; stroke-width: 0.5px; fill: rgb(99, 110, 250); fill-opacity: 1; stroke: rgb(229, 236, 246); stroke-opacity: 1;\"/></g></g></g><g class=\"trace bars\" style=\"opacity: 1;\"><g class=\"points\"><g class=\"point\"><path d=\"M35.08,246V124.88H63.15V246Z\" style=\"vector-effect: non-scaling-stroke; opacity: 1; stroke-width: 0.5px; fill: rgb(239, 85, 59); fill-opacity: 1; stroke: rgb(229, 236, 246); stroke-opacity: 1;\"/></g><g class=\"point\"><path d=\"M105.25,246V37.72H133.32V246Z\" style=\"vector-effect: non-scaling-stroke; opacity: 1; stroke-width: 0.5px; fill: rgb(239, 85, 59); fill-opacity: 1; stroke: rgb(229, 236, 246); stroke-opacity: 1;\"/></g><g class=\"point\"><path d=\"M175.42,246V34.75H203.48V246Z\" style=\"vector-effect: non-scaling-stroke; opacity: 1; stroke-width: 0.5px; fill: rgb(239, 85, 59); fill-opacity: 1; stroke: rgb(229, 236, 246); stroke-opacity: 1;\"/></g><g class=\"point\"><path d=\"M245.58,246V144.46H273.65V246Z\" style=\"vector-effect: non-scaling-stroke; opacity: 1; stroke-width: 0.5px; fill: rgb(239, 85, 59); fill-opacity: 1; stroke: rgb(229, 236, 246); stroke-opacity: 1;\"/></g><g class=\"point\"><path d=\"M315.75,246V115.21H343.82V246Z\" style=\"vector-effect: non-scaling-stroke; opacity: 1; stroke-width: 0.5px; fill: rgb(239, 85, 59); fill-opacity: 1; stroke: rgb(229, 236, 246); stroke-opacity: 1;\"/></g><g class=\"point\"><path d=\"M385.92,246V146.45H413.98V246Z\" style=\"vector-effect: non-scaling-stroke; opacity: 1; stroke-width: 0.5px; fill: rgb(239, 85, 59); fill-opacity: 1; stroke: rgb(229, 236, 246); stroke-opacity: 1;\"/></g></g></g></g></g><g class=\"overplot\"/><path class=\"xlines-above crisp\" d=\"M0,0\" style=\"fill: none;\"/><path class=\"ylines-above crisp\" d=\"M0,0\" style=\"fill: none;\"/><g class=\"overlines-above\"/><g class=\"xaxislayer-above\"><g class=\"xtick\"><text text-anchor=\"start\" x=\"0\" y=\"319\" transform=\"translate(115.08,0) rotate(30,0,313)\" style=\"font-family: 'Open Sans', verdana, arial, sans-serif; font-size: 12px; fill: rgb(42, 63, 95); fill-opacity: 1; white-space: pre; opacity: 1;\">I do not know</text></g><g class=\"xtick\"><text text-anchor=\"start\" x=\"0\" y=\"319\" transform=\"translate(185.25,0) rotate(30,0,313)\" style=\"font-family: 'Open Sans', verdana, arial, sans-serif; font-size: 12px; fill: rgb(42, 63, 95); fill-opacity: 1; white-space: pre; opacity: 1;\">No (we do not use ML methods)</text></g><g class=\"xtick\"><text text-anchor=\"start\" x=\"0\" y=\"319\" transform=\"translate(255.42,0) rotate(30,0,313)\" style=\"font-family: 'Open Sans', verdana, arial, sans-serif; font-size: 12px; fill: rgb(42, 63, 95); fill-opacity: 1; white-space: pre; opacity: 1;\">We are exploring ML methods (and may one day put a model into production)</text></g><g class=\"xtick\"><text text-anchor=\"start\" x=\"0\" y=\"319\" transform=\"translate(325.58000000000004,0) rotate(30,0,313)\" style=\"font-family: 'Open Sans', verdana, arial, sans-serif; font-size: 12px; fill: rgb(42, 63, 95); fill-opacity: 1; white-space: pre; opacity: 1;\">We have well established ML methods (i.e., models in production for more than 2 years)</text></g><g class=\"xtick\"><text text-anchor=\"start\" x=\"0\" y=\"319\" transform=\"translate(395.75,0) rotate(30,0,313)\" style=\"font-family: 'Open Sans', verdana, arial, sans-serif; font-size: 12px; fill: rgb(42, 63, 95); fill-opacity: 1; white-space: pre; opacity: 1;\">We recently started using ML methods (i.e., models in production for less than 2 years)</text></g><g class=\"xtick\"><text text-anchor=\"start\" x=\"0\" y=\"319\" transform=\"translate(465.92,0) rotate(30,0,313)\" style=\"font-family: 'Open Sans', verdana, arial, sans-serif; font-size: 12px; fill: rgb(42, 63, 95); fill-opacity: 1; white-space: pre; opacity: 1;\">We use ML methods for generating insights (but do not put working models into production)</text></g></g><g class=\"yaxislayer-above\"><g class=\"ytick\"><text text-anchor=\"end\" x=\"79\" y=\"4.199999999999999\" transform=\"translate(0,306)\" style=\"font-family: 'Open Sans', verdana, arial, sans-serif; font-size: 12px; fill: rgb(42, 63, 95); fill-opacity: 1; white-space: pre; opacity: 1;\">0</text></g><g class=\"ytick\"><text text-anchor=\"end\" x=\"79\" y=\"4.199999999999999\" style=\"font-family: 'Open Sans', verdana, arial, sans-serif; font-size: 12px; fill: rgb(42, 63, 95); fill-opacity: 1; white-space: pre; opacity: 1;\" transform=\"translate(0,262.37)\">5</text></g><g class=\"ytick\"><text text-anchor=\"end\" x=\"79\" y=\"4.199999999999999\" style=\"font-family: 'Open Sans', verdana, arial, sans-serif; font-size: 12px; fill: rgb(42, 63, 95); fill-opacity: 1; white-space: pre; opacity: 1;\" transform=\"translate(0,218.75)\">10</text></g><g class=\"ytick\"><text text-anchor=\"end\" x=\"79\" y=\"4.199999999999999\" style=\"font-family: 'Open Sans', verdana, arial, sans-serif; font-size: 12px; fill: rgb(42, 63, 95); fill-opacity: 1; white-space: pre; opacity: 1;\" transform=\"translate(0,175.12)\">15</text></g><g class=\"ytick\"><text text-anchor=\"end\" x=\"79\" y=\"4.199999999999999\" style=\"font-family: 'Open Sans', verdana, arial, sans-serif; font-size: 12px; fill: rgb(42, 63, 95); fill-opacity: 1; white-space: pre; opacity: 1;\" transform=\"translate(0,131.49)\">20</text></g><g class=\"ytick\"><text text-anchor=\"end\" x=\"79\" y=\"4.199999999999999\" style=\"font-family: 'Open Sans', verdana, arial, sans-serif; font-size: 12px; fill: rgb(42, 63, 95); fill-opacity: 1; white-space: pre; opacity: 1;\" transform=\"translate(0,87.87)\">25</text></g></g><g class=\"overaxes-above\"/></g></g><g class=\"polarlayer\"/><g class=\"ternarylayer\"/><g class=\"geolayer\"/><g class=\"funnelarealayer\"/><g class=\"pielayer\"/><g class=\"iciclelayer\"/><g class=\"treemaplayer\"/><g class=\"sunburstlayer\"/><g class=\"glimages\"/><defs id=\"topdefs-07d9e4\"><g class=\"clips\"/><clipPath id=\"legend07d9e4\"><rect width=\"77\" height=\"67\" x=\"0\" y=\"0\"/></clipPath></defs><g class=\"layer-above\"><g class=\"imagelayer\"/><g class=\"shapelayer\"/></g><g class=\"infolayer\"><g class=\"legend\" pointer-events=\"all\" transform=\"translate(509.42,60)\"><rect class=\"bg\" shape-rendering=\"crispEdges\" style=\"stroke: rgb(68, 68, 68); stroke-opacity: 1; fill: rgb(255, 255, 255); fill-opacity: 1; stroke-width: 0px;\" width=\"77\" height=\"67\" x=\"0\" y=\"0\"/><g class=\"scrollbox\" transform=\"\" clip-path=\"url(#legend07d9e4)\"><text class=\"legendtitletext\" text-anchor=\"start\" x=\"2\" y=\"18.2\" style=\"font-family: 'Open Sans', verdana, arial, sans-serif; font-size: 14px; fill: rgb(42, 63, 95); fill-opacity: 1; white-space: pre;\">Maturity</text><g class=\"groups\" transform=\"\"><g class=\"traces\" transform=\"translate(0,32.7)\" style=\"opacity: 1;\"><text class=\"legendtext\" text-anchor=\"start\" x=\"40\" y=\"4.680000000000001\" style=\"font-family: 'Open Sans', verdana, arial, sans-serif; font-size: 12px; fill: rgb(42, 63, 95); fill-opacity: 1; white-space: pre;\">Large</text><g class=\"layers\" style=\"opacity: 1;\"><g class=\"legendfill\"/><g class=\"legendlines\"/><g class=\"legendsymbols\"><g class=\"legendpoints\"><path class=\"legendundefined\" d=\"M6,6H-6V-6H6Z\" transform=\"translate(20,0)\" style=\"stroke-width: 0.5px; fill: rgb(99, 110, 250); fill-opacity: 1; stroke: rgb(229, 236, 246); stroke-opacity: 1;\"/></g></g></g><rect class=\"legendtoggle\" x=\"0\" y=\"-9.5\" width=\"71.03125\" height=\"19\" style=\"fill: rgb(0, 0, 0); fill-opacity: 0;\"/></g></g><g class=\"groups\" transform=\"\"><g class=\"traces\" transform=\"translate(0,51.7)\" style=\"opacity: 1;\"><text class=\"legendtext\" text-anchor=\"start\" x=\"40\" y=\"4.680000000000001\" style=\"font-family: 'Open Sans', verdana, arial, sans-serif; font-size: 12px; fill: rgb(42, 63, 95); fill-opacity: 1; white-space: pre;\">Small</text><g class=\"layers\" style=\"opacity: 1;\"><g class=\"legendfill\"/><g class=\"legendlines\"/><g class=\"legendsymbols\"><g class=\"legendpoints\"><path class=\"legendundefined\" d=\"M6,6H-6V-6H6Z\" transform=\"translate(20,0)\" style=\"stroke-width: 0.5px; fill: rgb(239, 85, 59); fill-opacity: 1; stroke: rgb(229, 236, 246); stroke-opacity: 1;\"/></g></g></g><rect class=\"legendtoggle\" x=\"0\" y=\"-9.5\" width=\"71.03125\" height=\"19\" style=\"fill: rgb(0, 0, 0); fill-opacity: 0;\"/></g></g></g><rect class=\"scrollbar\" rx=\"20\" ry=\"3\" width=\"0\" height=\"0\" style=\"fill: rgb(128, 139, 164); fill-opacity: 1;\" x=\"0\" y=\"0\"/></g><g class=\"g-gtitle\"/><g class=\"g-xtitle\"><text class=\"xtitle\" x=\"290.5\" y=\"587.9533203125\" text-anchor=\"middle\" style=\"font-family: 'Open Sans', verdana, arial, sans-serif; font-size: 14px; fill: rgb(42, 63, 95); opacity: 1; font-weight: normal; white-space: pre;\">Corporate Type</text></g><g class=\"g-ytitle\"><text class=\"ytitle\" transform=\"rotate(-90,40.840625,183)\" x=\"40.840625\" y=\"183\" text-anchor=\"middle\" style=\"font-family: 'Open Sans', verdana, arial, sans-serif; font-size: 14px; fill: rgb(42, 63, 95); opacity: 1; font-weight: normal; white-space: pre;\">Pecentage</text></g><g class=\"annotation\" data-index=\"0\" style=\"opacity: 1;\"><g class=\"annotation-text-g\" transform=\"rotate(0,373.5,48.399999999999984)\"><g class=\"cursor-pointer\" transform=\"translate(246,35)\"><rect class=\"bg\" x=\"0.5\" y=\"0.5\" width=\"254\" height=\"25\" style=\"stroke-width: 1px; stroke: rgb(0, 0, 0); stroke-opacity: 0; fill: rgb(0, 0, 0); fill-opacity: 0;\"/><text class=\"annotation-text\" text-anchor=\"middle\" x=\"127.609375\" y=\"20\" style=\"font-family: 'Open Sans', verdana, arial, sans-serif; font-size: 12px; fill: rgb(42, 63, 95); fill-opacity: 1; white-space: pre;\"><tspan class=\"line\" dy=\"0em\" x=\"127.609375\" y=\"20\"><tspan style=\"font-size:20px; \">Large Vs Small: ML Maturity</tspan></tspan><tspan class=\"line\" dy=\"1.3em\" x=\"127.609375\" y=\"20\"></tspan><tspan class=\"line\" dy=\"2.6em\" x=\"127.609375\" y=\"20\"></tspan></text></g></g></g></g></svg>"
      ]
     },
     "metadata": {},
     "output_type": "display_data"
    }
   ],
   "source": [
    "df_ml=compare_corp('Q22')\n",
    "fig = px.bar(df_ml, x=\"Q22\", y=\"percent\", color=\"corp_type\" , barmode='group',\n",
    "    width = 900,\n",
    "    height = 600)\n",
    "\n",
    "fig.update_layout(legend_title_text = \"Maturity\")\n",
    "fig.update_xaxes(title_text=\"Corporate Type\")\n",
    "fig.update_yaxes(title_text=\"Pecentage\")\n",
    "\n",
    "large_title_format = \"<span style='font-size:20px; '>Large Vs Small: ML Maturity</span>\"\n",
    "\n",
    "fig.add_annotation(dict(\n",
    "                            x= 1.0,\n",
    "                            y=1.1,\n",
    "                            showarrow=False,\n",
    "                            text= large_title_format + \"<br><br>\" ,\n",
    "                            textangle=0,\n",
    "                            xref=\"paper\",\n",
    "                            yref=\"paper\"\n",
    "                           ))\n",
    "fig.show()"
   ]
  },
  {
   "cell_type": "markdown",
   "metadata": {
    "papermill": {
     "duration": 0.068075,
     "end_time": "2021-07-03T11:15:37.166802",
     "exception": false,
     "start_time": "2021-07-03T11:15:37.098727",
     "status": "completed"
    },
    "tags": []
   },
   "source": [
    "\n",
    "\n",
    "\n",
    "\n"
   ]
  },
  {
   "cell_type": "markdown",
   "metadata": {
    "papermill": {
     "duration": 0.067674,
     "end_time": "2021-07-03T11:15:37.302858",
     "exception": false,
     "start_time": "2021-07-03T11:15:37.235184",
     "status": "completed"
    },
    "tags": []
   },
   "source": [
    "**Cleaning data to compare the language choices**\n"
   ]
  },
  {
   "cell_type": "code",
   "execution_count": 101,
   "metadata": {
    "execution": {
     "iopub.execute_input": "2021-07-03T11:15:37.443057Z",
     "iopub.status.busy": "2021-07-03T11:15:37.442363Z",
     "iopub.status.idle": "2021-07-03T11:15:37.457723Z",
     "shell.execute_reply": "2021-07-03T11:15:37.456791Z",
     "shell.execute_reply.started": "2021-07-03T10:35:20.621271Z"
    },
    "papermill": {
     "duration": 0.086638,
     "end_time": "2021-07-03T11:15:37.457953",
     "exception": false,
     "start_time": "2021-07-03T11:15:37.371315",
     "status": "completed"
    },
    "tags": []
   },
   "outputs": [],
   "source": [
    "questions = df.columns\n",
    "\n",
    "def compare_multiple(column):\n",
    "    '''\n",
    "    Compares multiple columns beginning with string keyword passed along with size and provides a percentage\n",
    "    Parameters: \n",
    "        column(string):multiple columns beginning with string to be compared along with size\n",
    "    Returns:\n",
    "        df_temp(dataframe):the datatframe grouped by column attributes and size with percenage contribution of each row\n",
    "    '''\n",
    "    qtemp = [question for question in questions if column in question]\n",
    "\n",
    "    # Creating labels for plot\n",
    "    column_values = []\n",
    "    for qn in qtemp:\n",
    "        for value in df[qn].unique():\n",
    "             column_values.append(value)\n",
    "\n",
    "    column_values  = [str.strip(column_value) for column_value  in column_values  if str(column_value)!='nan']\n",
    "   \n",
    "    \n",
    "    df_big=df[df['corp_type']=='big']\n",
    "    \n",
    "    big_lang = (df_big.shape[0] - df_big[qtemp].isnull().sum()) / df_big.shape[0]*100\n",
    "    big_lang.index = column_values\n",
    "\n",
    "    df_small=df[df['corp_type']=='small']\n",
    "    small_lang = (df_small.shape[0] - df_small[qtemp].isnull().sum()) / df_small.shape[0]*100\n",
    "    small_lang.index = column_values\n",
    "    df_summary=big_lang.to_frame(name = 'Large').join(small_lang.to_frame(name = 'Small'))\n",
    "    df_summary=df_summary[(df_summary['Large']>=15) | (df_summary['Small']>=15)]\n",
    "    \n",
    "    df_summary.reset_index(inplace=True)\n",
    "    df_summary.columns=[column,'Large','Small']\n",
    "    df_summary =pd.melt(df_summary ,id_vars=column, value_name='percent')\n",
    "    return df_summary\n",
    "\n"
   ]
  },
  {
   "cell_type": "markdown",
   "metadata": {
    "papermill": {
     "duration": 0.070167,
     "end_time": "2021-07-03T11:15:37.619907",
     "exception": false,
     "start_time": "2021-07-03T11:15:37.549740",
     "status": "completed"
    },
    "tags": []
   },
   "source": [
    "**Language Choice**\n",
    "Python is the leader of the pack everywhere. R and SQL is more popular in large firms but Javascript and C++ are slightly more popular in small firms. This could also mean Small firms may tend to work more on Edge devices compared to large firms."
   ]
  },
  {
   "cell_type": "code",
   "execution_count": 102,
   "metadata": {
    "execution": {
     "iopub.execute_input": "2021-07-03T11:15:37.784178Z",
     "iopub.status.busy": "2021-07-03T11:15:37.783472Z",
     "iopub.status.idle": "2021-07-03T11:15:38.044156Z",
     "shell.execute_reply": "2021-07-03T11:15:38.044644Z",
     "shell.execute_reply.started": "2021-07-03T10:35:20.635257Z"
    },
    "papermill": {
     "duration": 0.356597,
     "end_time": "2021-07-03T11:15:38.044830",
     "exception": false,
     "start_time": "2021-07-03T11:15:37.688233",
     "status": "completed"
    },
    "tags": []
   },
   "outputs": [
    {
     "data": {
      "image/svg+xml": [
       "<svg class=\"main-svg\" xmlns=\"http://www.w3.org/2000/svg\" xmlns:xlink=\"http://www.w3.org/1999/xlink\" width=\"900\" height=\"600\" style=\"\" viewBox=\"0 0 900 600\"><rect x=\"0\" y=\"0\" width=\"900\" height=\"600\" style=\"fill: rgb(255, 255, 255); fill-opacity: 1;\"/><defs id=\"defs-c03ebf\"><g class=\"clips\"><clipPath id=\"clipc03ebfxyplot\" class=\"plotclip\"><rect width=\"717\" height=\"460\"/></clipPath><clipPath class=\"axesclip\" id=\"clipc03ebfx\"><rect x=\"80\" y=\"0\" width=\"717\" height=\"600\"/></clipPath><clipPath class=\"axesclip\" id=\"clipc03ebfy\"><rect x=\"0\" y=\"60\" width=\"900\" height=\"460\"/></clipPath><clipPath class=\"axesclip\" id=\"clipc03ebfxy\"><rect x=\"80\" y=\"60\" width=\"717\" height=\"460\"/></clipPath></g><g class=\"gradients\"/><g class=\"patterns\"/></defs><g class=\"bglayer\"><rect class=\"bg\" x=\"80\" y=\"60\" width=\"717\" height=\"460\" style=\"fill: rgb(229, 236, 246); fill-opacity: 1; stroke-width: 0;\"/></g><g class=\"layer-below\"><g class=\"imagelayer\"/><g class=\"shapelayer\"/></g><g class=\"cartesianlayer\"><g class=\"subplot xy\"><g class=\"layer-subplot\"><g class=\"shapelayer\"/><g class=\"imagelayer\"/></g><g class=\"gridlayer\"><g class=\"x\"/><g class=\"y\"><path class=\"ygrid crisp\" transform=\"translate(0,465.96)\" d=\"M80,0h717\" style=\"stroke: rgb(255, 255, 255); stroke-opacity: 1; stroke-width: 1px;\"/><path class=\"ygrid crisp\" transform=\"translate(0,411.93)\" d=\"M80,0h717\" style=\"stroke: rgb(255, 255, 255); stroke-opacity: 1; stroke-width: 1px;\"/><path class=\"ygrid crisp\" transform=\"translate(0,357.89)\" d=\"M80,0h717\" style=\"stroke: rgb(255, 255, 255); stroke-opacity: 1; stroke-width: 1px;\"/><path class=\"ygrid crisp\" transform=\"translate(0,303.86)\" d=\"M80,0h717\" style=\"stroke: rgb(255, 255, 255); stroke-opacity: 1; stroke-width: 1px;\"/><path class=\"ygrid crisp\" transform=\"translate(0,249.82)\" d=\"M80,0h717\" style=\"stroke: rgb(255, 255, 255); stroke-opacity: 1; stroke-width: 1px;\"/><path class=\"ygrid crisp\" transform=\"translate(0,195.79)\" d=\"M80,0h717\" style=\"stroke: rgb(255, 255, 255); stroke-opacity: 1; stroke-width: 1px;\"/><path class=\"ygrid crisp\" transform=\"translate(0,141.75)\" d=\"M80,0h717\" style=\"stroke: rgb(255, 255, 255); stroke-opacity: 1; stroke-width: 1px;\"/><path class=\"ygrid crisp\" transform=\"translate(0,87.71000000000001)\" d=\"M80,0h717\" style=\"stroke: rgb(255, 255, 255); stroke-opacity: 1; stroke-width: 1px;\"/></g></g><g class=\"zerolinelayer\"><path class=\"yzl zl crisp\" transform=\"translate(0,520)\" d=\"M80,0h717\" style=\"stroke: rgb(255, 255, 255); stroke-opacity: 1; stroke-width: 2px;\"/></g><path class=\"xlines-below\"/><path class=\"ylines-below\"/><g class=\"overlines-below\"/><g class=\"xaxislayer-below\"/><g class=\"yaxislayer-below\"/><g class=\"overaxes-below\"/><g class=\"plot\" transform=\"translate(80,60)\" clip-path=\"url(#clipc03ebfxyplot)\"><g class=\"barlayer mlayer\"><g class=\"trace bars\" style=\"opacity: 1;\"><g class=\"points\"><g class=\"point\"><path d=\"M11.95,460V23H59.75V460Z\" style=\"vector-effect: non-scaling-stroke; opacity: 1; stroke-width: 0.5px; fill: rgb(99, 110, 250); fill-opacity: 1; stroke: rgb(229, 236, 246); stroke-opacity: 1;\"/></g><g class=\"point\"><path d=\"M131.45,460V310.4H179.25V460Z\" style=\"vector-effect: non-scaling-stroke; opacity: 1; stroke-width: 0.5px; fill: rgb(99, 110, 250); fill-opacity: 1; stroke: rgb(229, 236, 246); stroke-opacity: 1;\"/></g><g class=\"point\"><path d=\"M250.95,460V184.25H298.75V460Z\" style=\"vector-effect: non-scaling-stroke; opacity: 1; stroke-width: 0.5px; fill: rgb(99, 110, 250); fill-opacity: 1; stroke: rgb(229, 236, 246); stroke-opacity: 1;\"/></g><g class=\"point\"><path d=\"M370.45,460V389.41H418.25V460Z\" style=\"vector-effect: non-scaling-stroke; opacity: 1; stroke-width: 0.5px; fill: rgb(99, 110, 250); fill-opacity: 1; stroke: rgb(229, 236, 246); stroke-opacity: 1;\"/></g><g class=\"point\"><path d=\"M489.95,460V372.44H537.75V460Z\" style=\"vector-effect: non-scaling-stroke; opacity: 1; stroke-width: 0.5px; fill: rgb(99, 110, 250); fill-opacity: 1; stroke: rgb(229, 236, 246); stroke-opacity: 1;\"/></g><g class=\"point\"><path d=\"M609.45,460V388.12H657.25V460Z\" style=\"vector-effect: non-scaling-stroke; opacity: 1; stroke-width: 0.5px; fill: rgb(99, 110, 250); fill-opacity: 1; stroke: rgb(229, 236, 246); stroke-opacity: 1;\"/></g></g></g><g class=\"trace bars\" style=\"opacity: 1;\"><g class=\"points\"><g class=\"point\"><path d=\"M59.75,460V24.79H107.55V460Z\" style=\"vector-effect: non-scaling-stroke; opacity: 1; stroke-width: 0.5px; fill: rgb(239, 85, 59); fill-opacity: 1; stroke: rgb(229, 236, 246); stroke-opacity: 1;\"/></g><g class=\"point\"><path d=\"M179.25,460V331.02H227.05V460Z\" style=\"vector-effect: non-scaling-stroke; opacity: 1; stroke-width: 0.5px; fill: rgb(239, 85, 59); fill-opacity: 1; stroke: rgb(229, 236, 246); stroke-opacity: 1;\"/></g><g class=\"point\"><path d=\"M298.75,460V229.91H346.55V460Z\" style=\"vector-effect: non-scaling-stroke; opacity: 1; stroke-width: 0.5px; fill: rgb(239, 85, 59); fill-opacity: 1; stroke: rgb(229, 236, 246); stroke-opacity: 1;\"/></g><g class=\"point\"><path d=\"M418.25,460V366.29H466.05V460Z\" style=\"vector-effect: non-scaling-stroke; opacity: 1; stroke-width: 0.5px; fill: rgb(239, 85, 59); fill-opacity: 1; stroke: rgb(229, 236, 246); stroke-opacity: 1;\"/></g><g class=\"point\"><path d=\"M537.75,460V373.02H585.55V460Z\" style=\"vector-effect: non-scaling-stroke; opacity: 1; stroke-width: 0.5px; fill: rgb(239, 85, 59); fill-opacity: 1; stroke: rgb(229, 236, 246); stroke-opacity: 1;\"/></g><g class=\"point\"><path d=\"M657.25,460V357.4H705.05V460Z\" style=\"vector-effect: non-scaling-stroke; opacity: 1; stroke-width: 0.5px; fill: rgb(239, 85, 59); fill-opacity: 1; stroke: rgb(229, 236, 246); stroke-opacity: 1;\"/></g></g></g></g></g><g class=\"overplot\"/><path class=\"xlines-above crisp\" d=\"M0,0\" style=\"fill: none;\"/><path class=\"ylines-above crisp\" d=\"M0,0\" style=\"fill: none;\"/><g class=\"overlines-above\"/><g class=\"xaxislayer-above\"><g class=\"xtick\"><text text-anchor=\"middle\" x=\"0\" y=\"533\" transform=\"translate(139.75,0)\" style=\"font-family: 'Open Sans', verdana, arial, sans-serif; font-size: 12px; fill: rgb(42, 63, 95); fill-opacity: 1; white-space: pre; opacity: 1;\">Python</text></g><g class=\"xtick\"><text text-anchor=\"middle\" x=\"0\" y=\"533\" transform=\"translate(259.25,0)\" style=\"font-family: 'Open Sans', verdana, arial, sans-serif; font-size: 12px; fill: rgb(42, 63, 95); fill-opacity: 1; white-space: pre; opacity: 1;\">R</text></g><g class=\"xtick\"><text text-anchor=\"middle\" x=\"0\" y=\"533\" transform=\"translate(378.75,0)\" style=\"font-family: 'Open Sans', verdana, arial, sans-serif; font-size: 12px; fill: rgb(42, 63, 95); fill-opacity: 1; white-space: pre; opacity: 1;\">SQL</text></g><g class=\"xtick\"><text text-anchor=\"middle\" x=\"0\" y=\"533\" transform=\"translate(498.25,0)\" style=\"font-family: 'Open Sans', verdana, arial, sans-serif; font-size: 12px; fill: rgb(42, 63, 95); fill-opacity: 1; white-space: pre; opacity: 1;\">C++</text></g><g class=\"xtick\"><text text-anchor=\"middle\" x=\"0\" y=\"533\" transform=\"translate(617.75,0)\" style=\"font-family: 'Open Sans', verdana, arial, sans-serif; font-size: 12px; fill: rgb(42, 63, 95); fill-opacity: 1; white-space: pre; opacity: 1;\">Java</text></g><g class=\"xtick\"><text text-anchor=\"middle\" x=\"0\" y=\"533\" transform=\"translate(737.25,0)\" style=\"font-family: 'Open Sans', verdana, arial, sans-serif; font-size: 12px; fill: rgb(42, 63, 95); fill-opacity: 1; white-space: pre; opacity: 1;\">Javascript</text></g></g><g class=\"yaxislayer-above\"><g class=\"ytick\"><text text-anchor=\"end\" x=\"79\" y=\"4.199999999999999\" transform=\"translate(0,520)\" style=\"font-family: 'Open Sans', verdana, arial, sans-serif; font-size: 12px; fill: rgb(42, 63, 95); fill-opacity: 1; white-space: pre; opacity: 1;\">0</text></g><g class=\"ytick\"><text text-anchor=\"end\" x=\"79\" y=\"4.199999999999999\" style=\"font-family: 'Open Sans', verdana, arial, sans-serif; font-size: 12px; fill: rgb(42, 63, 95); fill-opacity: 1; white-space: pre; opacity: 1;\" transform=\"translate(0,465.96)\">10</text></g><g class=\"ytick\"><text text-anchor=\"end\" x=\"79\" y=\"4.199999999999999\" style=\"font-family: 'Open Sans', verdana, arial, sans-serif; font-size: 12px; fill: rgb(42, 63, 95); fill-opacity: 1; white-space: pre; opacity: 1;\" transform=\"translate(0,411.93)\">20</text></g><g class=\"ytick\"><text text-anchor=\"end\" x=\"79\" y=\"4.199999999999999\" style=\"font-family: 'Open Sans', verdana, arial, sans-serif; font-size: 12px; fill: rgb(42, 63, 95); fill-opacity: 1; white-space: pre; opacity: 1;\" transform=\"translate(0,357.89)\">30</text></g><g class=\"ytick\"><text text-anchor=\"end\" x=\"79\" y=\"4.199999999999999\" style=\"font-family: 'Open Sans', verdana, arial, sans-serif; font-size: 12px; fill: rgb(42, 63, 95); fill-opacity: 1; white-space: pre; opacity: 1;\" transform=\"translate(0,303.86)\">40</text></g><g class=\"ytick\"><text text-anchor=\"end\" x=\"79\" y=\"4.199999999999999\" style=\"font-family: 'Open Sans', verdana, arial, sans-serif; font-size: 12px; fill: rgb(42, 63, 95); fill-opacity: 1; white-space: pre; opacity: 1;\" transform=\"translate(0,249.82)\">50</text></g><g class=\"ytick\"><text text-anchor=\"end\" x=\"79\" y=\"4.199999999999999\" style=\"font-family: 'Open Sans', verdana, arial, sans-serif; font-size: 12px; fill: rgb(42, 63, 95); fill-opacity: 1; white-space: pre; opacity: 1;\" transform=\"translate(0,195.79)\">60</text></g><g class=\"ytick\"><text text-anchor=\"end\" x=\"79\" y=\"4.199999999999999\" style=\"font-family: 'Open Sans', verdana, arial, sans-serif; font-size: 12px; fill: rgb(42, 63, 95); fill-opacity: 1; white-space: pre; opacity: 1;\" transform=\"translate(0,141.75)\">70</text></g><g class=\"ytick\"><text text-anchor=\"end\" x=\"79\" y=\"4.199999999999999\" style=\"font-family: 'Open Sans', verdana, arial, sans-serif; font-size: 12px; fill: rgb(42, 63, 95); fill-opacity: 1; white-space: pre; opacity: 1;\" transform=\"translate(0,87.71000000000001)\">80</text></g></g><g class=\"overaxes-above\"/></g></g><g class=\"polarlayer\"/><g class=\"ternarylayer\"/><g class=\"geolayer\"/><g class=\"funnelarealayer\"/><g class=\"pielayer\"/><g class=\"iciclelayer\"/><g class=\"treemaplayer\"/><g class=\"sunburstlayer\"/><g class=\"glimages\"/><defs id=\"topdefs-c03ebf\"><g class=\"clips\"/><clipPath id=\"legendc03ebf\"><rect width=\"77\" height=\"67\" x=\"0\" y=\"0\"/></clipPath></defs><g class=\"layer-above\"><g class=\"imagelayer\"/><g class=\"shapelayer\"/></g><g class=\"infolayer\"><g class=\"legend\" pointer-events=\"all\" transform=\"translate(811.34,60)\"><rect class=\"bg\" shape-rendering=\"crispEdges\" width=\"77\" height=\"67\" x=\"0\" y=\"0\" style=\"stroke: rgb(68, 68, 68); stroke-opacity: 1; fill: rgb(255, 255, 255); fill-opacity: 1; stroke-width: 0px;\"/><g class=\"scrollbox\" transform=\"\" clip-path=\"url(#legendc03ebf)\"><text class=\"legendtitletext\" text-anchor=\"start\" x=\"2\" y=\"18.2\" style=\"font-family: 'Open Sans', verdana, arial, sans-serif; font-size: 14px; fill: rgb(42, 63, 95); fill-opacity: 1; white-space: pre;\">Maturity</text><g class=\"groups\" transform=\"\"><g class=\"traces\" transform=\"translate(0,32.7)\" style=\"opacity: 1;\"><text class=\"legendtext\" text-anchor=\"start\" x=\"40\" y=\"4.680000000000001\" style=\"font-family: 'Open Sans', verdana, arial, sans-serif; font-size: 12px; fill: rgb(42, 63, 95); fill-opacity: 1; white-space: pre;\">Large</text><g class=\"layers\" style=\"opacity: 1;\"><g class=\"legendfill\"/><g class=\"legendlines\"/><g class=\"legendsymbols\"><g class=\"legendpoints\"><path class=\"legendundefined\" d=\"M6,6H-6V-6H6Z\" transform=\"translate(20,0)\" style=\"stroke-width: 0.5px; fill: rgb(99, 110, 250); fill-opacity: 1; stroke: rgb(229, 236, 246); stroke-opacity: 1;\"/></g></g></g><rect class=\"legendtoggle\" x=\"0\" y=\"-9.5\" width=\"71.03125\" height=\"19\" style=\"fill: rgb(0, 0, 0); fill-opacity: 0;\"/></g></g><g class=\"groups\" transform=\"\"><g class=\"traces\" transform=\"translate(0,51.7)\" style=\"opacity: 1;\"><text class=\"legendtext\" text-anchor=\"start\" x=\"40\" y=\"4.680000000000001\" style=\"font-family: 'Open Sans', verdana, arial, sans-serif; font-size: 12px; fill: rgb(42, 63, 95); fill-opacity: 1; white-space: pre;\">Small</text><g class=\"layers\" style=\"opacity: 1;\"><g class=\"legendfill\"/><g class=\"legendlines\"/><g class=\"legendsymbols\"><g class=\"legendpoints\"><path class=\"legendundefined\" d=\"M6,6H-6V-6H6Z\" transform=\"translate(20,0)\" style=\"stroke-width: 0.5px; fill: rgb(239, 85, 59); fill-opacity: 1; stroke: rgb(229, 236, 246); stroke-opacity: 1;\"/></g></g></g><rect class=\"legendtoggle\" x=\"0\" y=\"-9.5\" width=\"71.03125\" height=\"19\" style=\"fill: rgb(0, 0, 0); fill-opacity: 0;\"/></g></g></g><rect class=\"scrollbar\" rx=\"20\" ry=\"3\" width=\"0\" height=\"0\" x=\"0\" y=\"0\" style=\"fill: rgb(128, 139, 164); fill-opacity: 1;\"/></g><g class=\"g-gtitle\"/><g class=\"g-xtitle\"><text class=\"xtitle\" x=\"438.5\" y=\"560.8\" text-anchor=\"middle\" style=\"font-family: 'Open Sans', verdana, arial, sans-serif; font-size: 14px; fill: rgb(42, 63, 95); opacity: 1; font-weight: normal; white-space: pre;\">Corporate Type</text></g><g class=\"g-ytitle\"><text class=\"ytitle\" transform=\"rotate(-90,40.840625,290)\" x=\"40.840625\" y=\"290\" text-anchor=\"middle\" style=\"font-family: 'Open Sans', verdana, arial, sans-serif; font-size: 14px; fill: rgb(42, 63, 95); opacity: 1; font-weight: normal; white-space: pre;\">Pecentage</text></g><g class=\"annotation\" data-index=\"0\" style=\"opacity: 1;\"><g class=\"annotation-text-g\" transform=\"rotate(0,438.5,26.999999999999964)\"><g class=\"cursor-pointer\" transform=\"translate(280,14)\"><rect class=\"bg\" x=\"0.5\" y=\"0.5\" width=\"317\" height=\"25\" style=\"stroke-width: 1px; stroke: rgb(0, 0, 0); stroke-opacity: 0; fill: rgb(0, 0, 0); fill-opacity: 0;\"/><text class=\"annotation-text\" text-anchor=\"middle\" x=\"158.765625\" y=\"20\" style=\"font-family: 'Open Sans', verdana, arial, sans-serif; font-size: 12px; fill: rgb(42, 63, 95); fill-opacity: 1; white-space: pre;\"><tspan class=\"line\" dy=\"0em\" x=\"158.765625\" y=\"20\"><tspan style=\"font-size:20px; \">Large Vs Small: Language Choices</tspan></tspan><tspan class=\"line\" dy=\"1.3em\" x=\"158.765625\" y=\"20\"></tspan><tspan class=\"line\" dy=\"2.6em\" x=\"158.765625\" y=\"20\"></tspan></text></g></g></g></g></svg>"
      ]
     },
     "metadata": {},
     "output_type": "display_data"
    }
   ],
   "source": [
    "df_lang=compare_multiple('Q7')\n",
    "\n",
    "fig = px.bar(df_lang, x=\"Q7\", y=\"percent\", color=\"variable\" , barmode='group',\n",
    "    width = 900,\n",
    "    height = 600)\n",
    "\n",
    "fig.update_layout(legend_title_text = \"Maturity\")\n",
    "fig.update_xaxes(title_text=\"Corporate Type\")\n",
    "fig.update_yaxes(title_text=\"Pecentage\")\n",
    "\n",
    "large_title_format = \"<span style='font-size:20px; '>Large Vs Small: Language Choices</span>\"\n",
    "\n",
    "fig.add_annotation(dict(\n",
    "                            x= 0.5,\n",
    "                            y=1.1,\n",
    "                            showarrow=False,\n",
    "                            text= large_title_format + \"<br><br>\" ,\n",
    "                            textangle=0,\n",
    "                            xref=\"paper\",\n",
    "                            yref=\"paper\"\n",
    "                           ))\n",
    "fig.show()\n",
    "\n"
   ]
  },
  {
   "cell_type": "markdown",
   "metadata": {
    "_kg_hide-input": true,
    "_kg_hide-output": true,
    "papermill": {
     "duration": 0.074807,
     "end_time": "2021-07-03T11:15:38.194063",
     "exception": false,
     "start_time": "2021-07-03T11:15:38.119256",
     "status": "completed"
    },
    "tags": []
   },
   "source": [
    "**Summary** <br>\n",
    "* Thirve in place where ML and cloud adoption is mature with standard languages? Head to large firms\n",
    "* Want to get your hands dirty in protyping and cloud configuration with non traditional ML languages too? Small firms are your best bet"
   ]
  },
  {
   "cell_type": "markdown",
   "metadata": {
    "papermill": {
     "duration": 0.075026,
     "end_time": "2021-07-03T11:15:38.344810",
     "exception": false,
     "start_time": "2021-07-03T11:15:38.269784",
     "status": "completed"
    },
    "tags": []
   },
   "source": [
    "# Second question: What is the future tech to learn? AWS or Google Cloud"
   ]
  },
  {
   "cell_type": "markdown",
   "metadata": {
    "papermill": {
     "duration": 0.075407,
     "end_time": "2021-07-03T11:15:38.495281",
     "exception": false,
     "start_time": "2021-07-03T11:15:38.419874",
     "status": "completed"
    },
    "tags": []
   },
   "source": [
    "**Gathering the data for tech analysis**"
   ]
  },
  {
   "cell_type": "code",
   "execution_count": 103,
   "metadata": {
    "execution": {
     "iopub.execute_input": "2021-07-03T11:15:38.652793Z",
     "iopub.status.busy": "2021-07-03T11:15:38.652132Z",
     "iopub.status.idle": "2021-07-03T11:15:39.654726Z",
     "shell.execute_reply": "2021-07-03T11:15:39.653898Z",
     "shell.execute_reply.started": "2021-07-03T10:35:20.925910Z"
    },
    "papermill": {
     "duration": 1.083442,
     "end_time": "2021-07-03T11:15:39.654970",
     "exception": false,
     "start_time": "2021-07-03T11:15:38.571528",
     "status": "completed"
    },
    "tags": []
   },
   "outputs": [
    {
     "name": "stdout",
     "output_type": "stream",
     "text": [
      "Survey (No of respondents,No of questions answered): (20037, 355)\n"
     ]
    },
    {
     "data": {
      "text/plain": [
       "Python        14241\n",
       "R              1259\n",
       "SQL             849\n",
       "C++             325\n",
       "C               301\n",
       "MATLAB          195\n",
       "Java            167\n",
       "Other           151\n",
       "Julia           121\n",
       "Javascript       88\n",
       "None             81\n",
       "Bash             26\n",
       "Swift            17\n",
       "Name: Q8, dtype: int64"
      ]
     },
     "execution_count": 103,
     "metadata": {},
     "output_type": "execute_result"
    }
   ],
   "source": [
    "#reading again csv \n",
    "df=pd.read_csv(\"data/kaggle_survey_2020_responses.csv\")\n",
    "print(\"Survey (No of respondents,No of questions answered):\",df.shape)\n",
    "\n",
    "#let us drop second row with questions text\n",
    "df=df.iloc[1:]\n",
    "df['Q8'].value_counts(dropna=True)"
   ]
  },
  {
   "cell_type": "markdown",
   "metadata": {
    "papermill": {
     "duration": 0.127868,
     "end_time": "2021-07-03T11:15:39.859377",
     "exception": false,
     "start_time": "2021-07-03T11:15:39.731509",
     "status": "completed"
    },
    "tags": []
   },
   "source": [
    "What is the cloud platform data world is keen to get more familiar in next two years?\n",
    "Amazon and Google are neck to neck in their offerings<br>\n",
    "Function below to find a list of all columns in a dataframe beginning with a string"
   ]
  },
  {
   "cell_type": "code",
   "execution_count": 104,
   "metadata": {
    "execution": {
     "iopub.execute_input": "2021-07-03T11:15:40.018809Z",
     "iopub.status.busy": "2021-07-03T11:15:40.018107Z",
     "iopub.status.idle": "2021-07-03T11:15:40.021366Z",
     "shell.execute_reply": "2021-07-03T11:15:40.020730Z",
     "shell.execute_reply.started": "2021-07-03T10:35:21.971322Z"
    },
    "papermill": {
     "duration": 0.085575,
     "end_time": "2021-07-03T11:15:40.021516",
     "exception": false,
     "start_time": "2021-07-03T11:15:39.935941",
     "status": "completed"
    },
    "tags": []
   },
   "outputs": [],
   "source": [
    "#Function to pick all columns beginning with particular Question number\n",
    "def filter_col_startswith(column):\n",
    "    '''\n",
    "    Returns list of columns starting with the string passed\n",
    "    Parameters: \n",
    "        column(string):string to be searched for all column beginnings\n",
    "    Returns:\n",
    "        df_temp(list):list of all columns beginning with the string\n",
    "    '''\n",
    "    filter_col = [col for col in df if col.startswith(column)]\n",
    "    return filter_col"
   ]
  },
  {
   "cell_type": "markdown",
   "metadata": {
    "papermill": {
     "duration": 0.075835,
     "end_time": "2021-07-03T11:15:40.174474",
     "exception": false,
     "start_time": "2021-07-03T11:15:40.098639",
     "status": "completed"
    },
    "tags": []
   },
   "source": [
    "****Visualising cloud computing platforms ****"
   ]
  },
  {
   "cell_type": "code",
   "execution_count": 105,
   "metadata": {
    "execution": {
     "iopub.execute_input": "2021-07-03T11:15:40.377709Z",
     "iopub.status.busy": "2021-07-03T11:15:40.335375Z",
     "iopub.status.idle": "2021-07-03T11:15:40.443215Z",
     "shell.execute_reply": "2021-07-03T11:15:40.442606Z",
     "shell.execute_reply.started": "2021-07-03T10:35:21.978791Z"
    },
    "papermill": {
     "duration": 0.192502,
     "end_time": "2021-07-03T11:15:40.443377",
     "exception": false,
     "start_time": "2021-07-03T11:15:40.250875",
     "status": "completed"
    },
    "tags": []
   },
   "outputs": [
    {
     "data": {
      "image/svg+xml": [
       "<svg class=\"main-svg\" xmlns=\"http://www.w3.org/2000/svg\" xmlns:xlink=\"http://www.w3.org/1999/xlink\" width=\"600\" height=\"600\" style=\"\" viewBox=\"0 0 600 600\"><rect x=\"0\" y=\"0\" width=\"600\" height=\"600\" style=\"fill: rgb(255, 255, 255); fill-opacity: 1;\"/><defs id=\"defs-9abe18\"><g class=\"clips\"><clipPath id=\"clip9abe18xyplot\" class=\"plotclip\"><rect width=\"440\" height=\"405\"/></clipPath><clipPath class=\"axesclip\" id=\"clip9abe18x\"><rect x=\"80\" y=\"0\" width=\"440\" height=\"600\"/></clipPath><clipPath class=\"axesclip\" id=\"clip9abe18y\"><rect x=\"0\" y=\"60\" width=\"600\" height=\"405\"/></clipPath><clipPath class=\"axesclip\" id=\"clip9abe18xy\"><rect x=\"80\" y=\"60\" width=\"440\" height=\"405\"/></clipPath></g><g class=\"gradients\"/><g class=\"patterns\"/></defs><g class=\"bglayer\"><rect class=\"bg\" x=\"80\" y=\"60\" width=\"440\" height=\"405\" style=\"fill: rgb(229, 236, 246); fill-opacity: 1; stroke-width: 0;\"/></g><g class=\"layer-below\"><g class=\"imagelayer\"/><g class=\"shapelayer\"/></g><g class=\"cartesianlayer\"><g class=\"subplot xy\"><g class=\"layer-subplot\"><g class=\"shapelayer\"/><g class=\"imagelayer\"/></g><g class=\"gridlayer\"><g class=\"x\"/><g class=\"y\"><path class=\"ygrid crisp\" transform=\"translate(0,391.52)\" d=\"M80,0h440\" style=\"stroke: rgb(255, 255, 255); stroke-opacity: 1; stroke-width: 1px;\"/><path class=\"ygrid crisp\" transform=\"translate(0,318.04)\" d=\"M80,0h440\" style=\"stroke: rgb(255, 255, 255); stroke-opacity: 1; stroke-width: 1px;\"/><path class=\"ygrid crisp\" transform=\"translate(0,244.56)\" d=\"M80,0h440\" style=\"stroke: rgb(255, 255, 255); stroke-opacity: 1; stroke-width: 1px;\"/><path class=\"ygrid crisp\" transform=\"translate(0,171.07)\" d=\"M80,0h440\" style=\"stroke: rgb(255, 255, 255); stroke-opacity: 1; stroke-width: 1px;\"/><path class=\"ygrid crisp\" transform=\"translate(0,97.59)\" d=\"M80,0h440\" style=\"stroke: rgb(255, 255, 255); stroke-opacity: 1; stroke-width: 1px;\"/></g></g><g class=\"zerolinelayer\"><path class=\"yzl zl crisp\" transform=\"translate(0,465)\" d=\"M80,0h440\" style=\"stroke: rgb(255, 255, 255); stroke-opacity: 1; stroke-width: 2px;\"/></g><path class=\"xlines-below\"/><path class=\"ylines-below\"/><g class=\"overlines-below\"/><g class=\"xaxislayer-below\"/><g class=\"yaxislayer-below\"/><g class=\"overaxes-below\"/><g class=\"plot\" transform=\"translate(80,60)\" clip-path=\"url(#clip9abe18xyplot)\"><g class=\"barlayer mlayer\"><g class=\"trace bars\" style=\"opacity: 1;\"><g class=\"points\"><g class=\"point\"><path d=\"M3.67,405V20.25H33V405Z\" style=\"vector-effect: non-scaling-stroke; opacity: 1; stroke-width: 0.5px; fill: rgb(99, 110, 250); fill-opacity: 1; stroke: rgb(229, 236, 246); stroke-opacity: 1;\"/></g><g class=\"point\"><path d=\"M40.33,405V26.86H69.67V405Z\" style=\"vector-effect: non-scaling-stroke; opacity: 1; stroke-width: 0.5px; fill: rgb(99, 110, 250); fill-opacity: 1; stroke: rgb(229, 236, 246); stroke-opacity: 1;\"/></g><g class=\"point\"><path d=\"M77,405V127.31H106.33V405Z\" style=\"vector-effect: non-scaling-stroke; opacity: 1; stroke-width: 0.5px; fill: rgb(99, 110, 250); fill-opacity: 1; stroke: rgb(229, 236, 246); stroke-opacity: 1;\"/></g><g class=\"point\"><path d=\"M113.67,405V276.7H143V405Z\" style=\"vector-effect: non-scaling-stroke; opacity: 1; stroke-width: 0.5px; fill: rgb(99, 110, 250); fill-opacity: 1; stroke: rgb(229, 236, 246); stroke-opacity: 1;\"/></g><g class=\"point\"><path d=\"M150.33,405V307.71H179.67V405Z\" style=\"vector-effect: non-scaling-stroke; opacity: 1; stroke-width: 0.5px; fill: rgb(99, 110, 250); fill-opacity: 1; stroke: rgb(229, 236, 246); stroke-opacity: 1;\"/></g><g class=\"point\"><path d=\"M187,405V327.11H216.33V405Z\" style=\"vector-effect: non-scaling-stroke; opacity: 1; stroke-width: 0.5px; fill: rgb(99, 110, 250); fill-opacity: 1; stroke: rgb(229, 236, 246); stroke-opacity: 1;\"/></g><g class=\"point\"><path d=\"M223.67,405V362.45H253V405Z\" style=\"vector-effect: non-scaling-stroke; opacity: 1; stroke-width: 0.5px; fill: rgb(99, 110, 250); fill-opacity: 1; stroke: rgb(229, 236, 246); stroke-opacity: 1;\"/></g><g class=\"point\"><path d=\"M260.33,405V369.66H289.67V405Z\" style=\"vector-effect: non-scaling-stroke; opacity: 1; stroke-width: 0.5px; fill: rgb(99, 110, 250); fill-opacity: 1; stroke: rgb(229, 236, 246); stroke-opacity: 1;\"/></g><g class=\"point\"><path d=\"M297,405V373.84H326.33V405Z\" style=\"vector-effect: non-scaling-stroke; opacity: 1; stroke-width: 0.5px; fill: rgb(99, 110, 250); fill-opacity: 1; stroke: rgb(229, 236, 246); stroke-opacity: 1;\"/></g><g class=\"point\"><path d=\"M333.67,405V374.58H363V405Z\" style=\"vector-effect: non-scaling-stroke; opacity: 1; stroke-width: 0.5px; fill: rgb(99, 110, 250); fill-opacity: 1; stroke: rgb(229, 236, 246); stroke-opacity: 1;\"/></g><g class=\"point\"><path d=\"M370.33,405V382.66H399.67V405Z\" style=\"vector-effect: non-scaling-stroke; opacity: 1; stroke-width: 0.5px; fill: rgb(99, 110, 250); fill-opacity: 1; stroke: rgb(229, 236, 246); stroke-opacity: 1;\"/></g><g class=\"point\"><path d=\"M407,405V393.02H436.33V405Z\" style=\"vector-effect: non-scaling-stroke; opacity: 1; stroke-width: 0.5px; fill: rgb(99, 110, 250); fill-opacity: 1; stroke: rgb(229, 236, 246); stroke-opacity: 1;\"/></g></g></g></g></g><g class=\"overplot\"/><path class=\"xlines-above crisp\" d=\"M0,0\" style=\"fill: none;\"/><path class=\"ylines-above crisp\" d=\"M0,0\" style=\"fill: none;\"/><g class=\"overlines-above\"/><g class=\"xaxislayer-above\"><g class=\"xtick\"><text text-anchor=\"start\" x=\"0\" y=\"478\" transform=\"translate(98.33,0) rotate(30,0,472)\" style=\"font-family: 'Open Sans', verdana, arial, sans-serif; font-size: 12px; fill: rgb(42, 63, 95); fill-opacity: 1; white-space: pre; opacity: 1;\"> Amazon Web Services (AWS) </text></g><g class=\"xtick\"><text text-anchor=\"start\" x=\"0\" y=\"478\" transform=\"translate(135,0) rotate(30,0,472)\" style=\"font-family: 'Open Sans', verdana, arial, sans-serif; font-size: 12px; fill: rgb(42, 63, 95); fill-opacity: 1; white-space: pre; opacity: 1;\"> Google Cloud Platform (GCP) </text></g><g class=\"xtick\"><text text-anchor=\"start\" x=\"0\" y=\"478\" transform=\"translate(171.67000000000002,0) rotate(30,0,472)\" style=\"font-family: 'Open Sans', verdana, arial, sans-serif; font-size: 12px; fill: rgb(42, 63, 95); fill-opacity: 1; white-space: pre; opacity: 1;\"> Microsoft Azure </text></g><g class=\"xtick\"><text text-anchor=\"start\" x=\"0\" y=\"478\" transform=\"translate(208.33,0) rotate(30,0,472)\" style=\"font-family: 'Open Sans', verdana, arial, sans-serif; font-size: 12px; fill: rgb(42, 63, 95); fill-opacity: 1; white-space: pre; opacity: 1;\"> IBM Cloud / Red Hat </text></g><g class=\"xtick\"><text text-anchor=\"start\" x=\"0\" y=\"478\" transform=\"translate(245,0) rotate(30,0,472)\" style=\"font-family: 'Open Sans', verdana, arial, sans-serif; font-size: 12px; fill: rgb(42, 63, 95); fill-opacity: 1; white-space: pre; opacity: 1;\">None</text></g><g class=\"xtick\"><text text-anchor=\"start\" x=\"0\" y=\"478\" transform=\"translate(281.66999999999996,0) rotate(30,0,472)\" style=\"font-family: 'Open Sans', verdana, arial, sans-serif; font-size: 12px; fill: rgb(42, 63, 95); fill-opacity: 1; white-space: pre; opacity: 1;\"> Oracle Cloud </text></g><g class=\"xtick\"><text text-anchor=\"start\" x=\"0\" y=\"478\" transform=\"translate(318.33000000000004,0) rotate(30,0,472)\" style=\"font-family: 'Open Sans', verdana, arial, sans-serif; font-size: 12px; fill: rgb(42, 63, 95); fill-opacity: 1; white-space: pre; opacity: 1;\"> SAP Cloud </text></g><g class=\"xtick\"><text text-anchor=\"start\" x=\"0\" y=\"478\" transform=\"translate(355,0) rotate(30,0,472)\" style=\"font-family: 'Open Sans', verdana, arial, sans-serif; font-size: 12px; fill: rgb(42, 63, 95); fill-opacity: 1; white-space: pre; opacity: 1;\"> VMware Cloud </text></g><g class=\"xtick\"><text text-anchor=\"start\" x=\"0\" y=\"478\" transform=\"translate(391.67,0) rotate(30,0,472)\" style=\"font-family: 'Open Sans', verdana, arial, sans-serif; font-size: 12px; fill: rgb(42, 63, 95); fill-opacity: 1; white-space: pre; opacity: 1;\"> Alibaba Cloud </text></g><g class=\"xtick\"><text text-anchor=\"start\" x=\"0\" y=\"478\" transform=\"translate(428.33,0) rotate(30,0,472)\" style=\"font-family: 'Open Sans', verdana, arial, sans-serif; font-size: 12px; fill: rgb(42, 63, 95); fill-opacity: 1; white-space: pre; opacity: 1;\"> Salesforce Cloud </text></g><g class=\"xtick\"><text text-anchor=\"start\" x=\"0\" y=\"478\" transform=\"translate(465,0) rotate(30,0,472)\" style=\"font-family: 'Open Sans', verdana, arial, sans-serif; font-size: 12px; fill: rgb(42, 63, 95); fill-opacity: 1; white-space: pre; opacity: 1;\"> Tencent Cloud </text></g><g class=\"xtick\"><text text-anchor=\"start\" x=\"0\" y=\"478\" transform=\"translate(501.67,0) rotate(30,0,472)\" style=\"font-family: 'Open Sans', verdana, arial, sans-serif; font-size: 12px; fill: rgb(42, 63, 95); fill-opacity: 1; white-space: pre; opacity: 1;\">Other</text></g></g><g class=\"yaxislayer-above\"><g class=\"ytick\"><text text-anchor=\"end\" x=\"79\" y=\"4.199999999999999\" transform=\"translate(0,465)\" style=\"font-family: 'Open Sans', verdana, arial, sans-serif; font-size: 12px; fill: rgb(42, 63, 95); fill-opacity: 1; white-space: pre; opacity: 1;\">0</text></g><g class=\"ytick\"><text text-anchor=\"end\" x=\"79\" y=\"4.199999999999999\" style=\"font-family: 'Open Sans', verdana, arial, sans-serif; font-size: 12px; fill: rgb(42, 63, 95); fill-opacity: 1; white-space: pre; opacity: 1;\" transform=\"translate(0,391.52)\">1000</text></g><g class=\"ytick\"><text text-anchor=\"end\" x=\"79\" y=\"4.199999999999999\" style=\"font-family: 'Open Sans', verdana, arial, sans-serif; font-size: 12px; fill: rgb(42, 63, 95); fill-opacity: 1; white-space: pre; opacity: 1;\" transform=\"translate(0,318.04)\">2000</text></g><g class=\"ytick\"><text text-anchor=\"end\" x=\"79\" y=\"4.199999999999999\" style=\"font-family: 'Open Sans', verdana, arial, sans-serif; font-size: 12px; fill: rgb(42, 63, 95); fill-opacity: 1; white-space: pre; opacity: 1;\" transform=\"translate(0,244.56)\">3000</text></g><g class=\"ytick\"><text text-anchor=\"end\" x=\"79\" y=\"4.199999999999999\" style=\"font-family: 'Open Sans', verdana, arial, sans-serif; font-size: 12px; fill: rgb(42, 63, 95); fill-opacity: 1; white-space: pre; opacity: 1;\" transform=\"translate(0,171.07)\">4000</text></g><g class=\"ytick\"><text text-anchor=\"end\" x=\"79\" y=\"4.199999999999999\" style=\"font-family: 'Open Sans', verdana, arial, sans-serif; font-size: 12px; fill: rgb(42, 63, 95); fill-opacity: 1; white-space: pre; opacity: 1;\" transform=\"translate(0,97.59)\">5000</text></g></g><g class=\"overaxes-above\"/></g></g><g class=\"polarlayer\"/><g class=\"ternarylayer\"/><g class=\"geolayer\"/><g class=\"funnelarealayer\"/><g class=\"pielayer\"/><g class=\"iciclelayer\"/><g class=\"treemaplayer\"/><g class=\"sunburstlayer\"/><g class=\"glimages\"/><defs id=\"topdefs-9abe18\"><g class=\"clips\"/></defs><g class=\"layer-above\"><g class=\"imagelayer\"/><g class=\"shapelayer\"/></g><g class=\"infolayer\"><g class=\"g-gtitle\"/><g class=\"g-xtitle\"><text class=\"xtitle\" x=\"300\" y=\"587.6173828125\" text-anchor=\"middle\" style=\"font-family: 'Open Sans', verdana, arial, sans-serif; font-size: 14px; fill: rgb(42, 63, 95); opacity: 1; font-weight: normal; white-space: pre;\">Cloud Platform</text></g><g class=\"g-ytitle\"><text class=\"ytitle\" transform=\"rotate(-90,27.496875000000003,262.5)\" x=\"27.496875000000003\" y=\"262.5\" text-anchor=\"middle\" style=\"font-family: 'Open Sans', verdana, arial, sans-serif; font-size: 14px; fill: rgb(42, 63, 95); opacity: 1; font-weight: normal; white-space: pre;\">No of respondents</text></g><g class=\"annotation\" data-index=\"0\" style=\"opacity: 1;\"><g class=\"annotation-text-g\" transform=\"rotate(0,262.5,32.49999999999997)\"><g class=\"cursor-pointer\" transform=\"translate(93,19)\"><rect class=\"bg\" x=\"0.5\" y=\"0.5\" width=\"338\" height=\"25\" style=\"stroke-width: 1px; stroke: rgb(0, 0, 0); stroke-opacity: 0; fill: rgb(0, 0, 0); fill-opacity: 0;\"/><text class=\"annotation-text\" text-anchor=\"middle\" x=\"169.3125\" y=\"20\" style=\"font-family: 'Open Sans', verdana, arial, sans-serif; font-size: 12px; fill: rgb(42, 63, 95); fill-opacity: 1; white-space: pre;\"><tspan class=\"line\" dy=\"0em\" x=\"169.3125\" y=\"20\"><tspan style=\"font-size:20px; \">Cloud Platform Kagglers wish to learn</tspan></tspan><tspan class=\"line\" dy=\"1.3em\" x=\"169.3125\" y=\"20\"></tspan><tspan class=\"line\" dy=\"2.6em\" x=\"169.3125\" y=\"20\"></tspan></text></g></g></g></g></svg>"
      ]
     },
     "metadata": {},
     "output_type": "display_data"
    }
   ],
   "source": [
    "#Which of the following cloud computing platforms do you hope to become more familiar with in the next 2 years?\n",
    "\n",
    "df_temp=df[filter_col_startswith('Q26_B_')].apply(pd.Series.value_counts).sum(axis=1).to_frame().reset_index()\n",
    "df_temp.columns = ['Cloud Platform','No of Respondents']\n",
    "df_temp.sort_values(by=['No of Respondents'], ascending=False,inplace=True)\n",
    "\n",
    "fig = px.bar(df_temp, x=\"Cloud Platform\", y=\"No of Respondents\",\n",
    "    width = 600,\n",
    "    height = 600)\n",
    "\n",
    "\n",
    "fig.update_xaxes(title_text=\"Cloud Platform\")\n",
    "fig.update_yaxes(title_text=\"No of respondents\")\n",
    "\n",
    "large_title_format = \"<span style='font-size:20px; '>Cloud Platform Kagglers wish to learn</span>\"\n",
    "\n",
    "fig.add_annotation(dict(\n",
    "                            x= 0.8,\n",
    "                            y=1.1,\n",
    "                            showarrow=False,\n",
    "                            text= large_title_format + \"<br><br>\" ,\n",
    "                            textangle=0,\n",
    "                            xref=\"paper\",\n",
    "                            yref=\"paper\"\n",
    "                           ))\n",
    "fig.show()"
   ]
  },
  {
   "cell_type": "markdown",
   "metadata": {
    "papermill": {
     "duration": 0.082327,
     "end_time": "2021-07-03T11:15:40.609274",
     "exception": false,
     "start_time": "2021-07-03T11:15:40.526947",
     "status": "completed"
    },
    "tags": []
   },
   "source": [
    "**Visualising cloud computing products**"
   ]
  },
  {
   "cell_type": "code",
   "execution_count": 106,
   "metadata": {
    "execution": {
     "iopub.execute_input": "2021-07-03T11:15:40.819752Z",
     "iopub.status.busy": "2021-07-03T11:15:40.783926Z",
     "iopub.status.idle": "2021-07-03T11:15:40.891906Z",
     "shell.execute_reply": "2021-07-03T11:15:40.891189Z",
     "shell.execute_reply.started": "2021-07-03T10:35:22.104072Z"
    },
    "papermill": {
     "duration": 0.200174,
     "end_time": "2021-07-03T11:15:40.892050",
     "exception": false,
     "start_time": "2021-07-03T11:15:40.691876",
     "status": "completed"
    },
    "tags": []
   },
   "outputs": [
    {
     "data": {
      "image/svg+xml": [
       "<svg class=\"main-svg\" xmlns=\"http://www.w3.org/2000/svg\" xmlns:xlink=\"http://www.w3.org/1999/xlink\" width=\"600\" height=\"600\" style=\"\" viewBox=\"0 0 600 600\"><rect x=\"0\" y=\"0\" width=\"600\" height=\"600\" style=\"fill: rgb(255, 255, 255); fill-opacity: 1;\"/><defs id=\"defs-6e6eb4\"><g class=\"clips\"><clipPath id=\"clip6e6eb4xyplot\" class=\"plotclip\"><rect width=\"434\" height=\"388\"/></clipPath><clipPath class=\"axesclip\" id=\"clip6e6eb4x\"><rect x=\"80\" y=\"0\" width=\"434\" height=\"600\"/></clipPath><clipPath class=\"axesclip\" id=\"clip6e6eb4y\"><rect x=\"0\" y=\"60\" width=\"600\" height=\"388\"/></clipPath><clipPath class=\"axesclip\" id=\"clip6e6eb4xy\"><rect x=\"80\" y=\"60\" width=\"434\" height=\"388\"/></clipPath></g><g class=\"gradients\"/><g class=\"patterns\"/></defs><g class=\"bglayer\"><rect class=\"bg\" x=\"80\" y=\"60\" width=\"434\" height=\"388\" style=\"fill: rgb(229, 236, 246); fill-opacity: 1; stroke-width: 0;\"/></g><g class=\"layer-below\"><g class=\"imagelayer\"/><g class=\"shapelayer\"/></g><g class=\"cartesianlayer\"><g class=\"subplot xy\"><g class=\"layer-subplot\"><g class=\"shapelayer\"/><g class=\"imagelayer\"/></g><g class=\"gridlayer\"><g class=\"x\"/><g class=\"y\"><path class=\"ygrid crisp\" transform=\"translate(0,391.33)\" d=\"M80,0h434\" style=\"stroke: rgb(255, 255, 255); stroke-opacity: 1; stroke-width: 1px;\"/><path class=\"ygrid crisp\" transform=\"translate(0,334.65)\" d=\"M80,0h434\" style=\"stroke: rgb(255, 255, 255); stroke-opacity: 1; stroke-width: 1px;\"/><path class=\"ygrid crisp\" transform=\"translate(0,277.98)\" d=\"M80,0h434\" style=\"stroke: rgb(255, 255, 255); stroke-opacity: 1; stroke-width: 1px;\"/><path class=\"ygrid crisp\" transform=\"translate(0,221.31)\" d=\"M80,0h434\" style=\"stroke: rgb(255, 255, 255); stroke-opacity: 1; stroke-width: 1px;\"/><path class=\"ygrid crisp\" transform=\"translate(0,164.64)\" d=\"M80,0h434\" style=\"stroke: rgb(255, 255, 255); stroke-opacity: 1; stroke-width: 1px;\"/><path class=\"ygrid crisp\" transform=\"translate(0,107.96000000000001)\" d=\"M80,0h434\" style=\"stroke: rgb(255, 255, 255); stroke-opacity: 1; stroke-width: 1px;\"/></g></g><g class=\"zerolinelayer\"><path class=\"yzl zl crisp\" transform=\"translate(0,448)\" d=\"M80,0h434\" style=\"stroke: rgb(255, 255, 255); stroke-opacity: 1; stroke-width: 2px;\"/></g><path class=\"xlines-below\"/><path class=\"ylines-below\"/><g class=\"overlines-below\"/><g class=\"xaxislayer-below\"/><g class=\"yaxislayer-below\"/><g class=\"overaxes-below\"/><g class=\"plot\" transform=\"translate(80,60)\" clip-path=\"url(#clip6e6eb4xyplot)\"><g class=\"barlayer mlayer\"><g class=\"trace bars\" style=\"opacity: 1;\"><g class=\"points\"><g class=\"point\"><path d=\"M3.62,388V19.4H32.55V388Z\" style=\"vector-effect: non-scaling-stroke; opacity: 1; stroke-width: 0.5px; fill: rgb(99, 110, 250); fill-opacity: 1; stroke: rgb(229, 236, 246); stroke-opacity: 1;\"/></g><g class=\"point\"><path d=\"M39.78,388V87.63H68.72V388Z\" style=\"vector-effect: non-scaling-stroke; opacity: 1; stroke-width: 0.5px; fill: rgb(99, 110, 250); fill-opacity: 1; stroke: rgb(229, 236, 246); stroke-opacity: 1;\"/></g><g class=\"point\"><path d=\"M75.95,388V104.75H104.88V388Z\" style=\"vector-effect: non-scaling-stroke; opacity: 1; stroke-width: 0.5px; fill: rgb(99, 110, 250); fill-opacity: 1; stroke: rgb(229, 236, 246); stroke-opacity: 1;\"/></g><g class=\"point\"><path d=\"M112.12,388V106H141.05V388Z\" style=\"vector-effect: non-scaling-stroke; opacity: 1; stroke-width: 0.5px; fill: rgb(99, 110, 250); fill-opacity: 1; stroke: rgb(229, 236, 246); stroke-opacity: 1;\"/></g><g class=\"point\"><path d=\"M148.28,388V108.94H177.22V388Z\" style=\"vector-effect: non-scaling-stroke; opacity: 1; stroke-width: 0.5px; fill: rgb(99, 110, 250); fill-opacity: 1; stroke: rgb(229, 236, 246); stroke-opacity: 1;\"/></g><g class=\"point\"><path d=\"M184.45,388V118.69H213.38V388Z\" style=\"vector-effect: non-scaling-stroke; opacity: 1; stroke-width: 0.5px; fill: rgb(99, 110, 250); fill-opacity: 1; stroke: rgb(229, 236, 246); stroke-opacity: 1;\"/></g><g class=\"point\"><path d=\"M220.62,388V164.48H249.55V388Z\" style=\"vector-effect: non-scaling-stroke; opacity: 1; stroke-width: 0.5px; fill: rgb(99, 110, 250); fill-opacity: 1; stroke: rgb(229, 236, 246); stroke-opacity: 1;\"/></g><g class=\"point\"><path d=\"M256.78,388V179.33H285.72V388Z\" style=\"vector-effect: non-scaling-stroke; opacity: 1; stroke-width: 0.5px; fill: rgb(99, 110, 250); fill-opacity: 1; stroke: rgb(229, 236, 246); stroke-opacity: 1;\"/></g><g class=\"point\"><path d=\"M292.95,388V185.9H321.88V388Z\" style=\"vector-effect: non-scaling-stroke; opacity: 1; stroke-width: 0.5px; fill: rgb(99, 110, 250); fill-opacity: 1; stroke: rgb(229, 236, 246); stroke-opacity: 1;\"/></g><g class=\"point\"><path d=\"M329.12,388V197.13H358.05V388Z\" style=\"vector-effect: non-scaling-stroke; opacity: 1; stroke-width: 0.5px; fill: rgb(99, 110, 250); fill-opacity: 1; stroke: rgb(229, 236, 246); stroke-opacity: 1;\"/></g><g class=\"point\"><path d=\"M365.28,388V284.29H394.22V388Z\" style=\"vector-effect: non-scaling-stroke; opacity: 1; stroke-width: 0.5px; fill: rgb(99, 110, 250); fill-opacity: 1; stroke: rgb(229, 236, 246); stroke-opacity: 1;\"/></g><g class=\"point\"><path d=\"M401.45,388V376.55H430.38V388Z\" style=\"vector-effect: non-scaling-stroke; opacity: 1; stroke-width: 0.5px; fill: rgb(99, 110, 250); fill-opacity: 1; stroke: rgb(229, 236, 246); stroke-opacity: 1;\"/></g></g></g></g></g><g class=\"overplot\"/><path class=\"xlines-above crisp\" d=\"M0,0\" style=\"fill: none;\"/><path class=\"ylines-above crisp\" d=\"M0,0\" style=\"fill: none;\"/><g class=\"overlines-above\"/><g class=\"xaxislayer-above\"><g class=\"xtick\"><text text-anchor=\"start\" x=\"0\" y=\"461\" transform=\"translate(98.08,0) rotate(30,0,455)\" style=\"font-family: 'Open Sans', verdana, arial, sans-serif; font-size: 12px; fill: rgb(42, 63, 95); fill-opacity: 1; white-space: pre; opacity: 1;\"> Google Cloud Compute Engine </text></g><g class=\"xtick\"><text text-anchor=\"start\" x=\"0\" y=\"461\" transform=\"translate(134.25,0) rotate(30,0,455)\" style=\"font-family: 'Open Sans', verdana, arial, sans-serif; font-size: 12px; fill: rgb(42, 63, 95); fill-opacity: 1; white-space: pre; opacity: 1;\"> Google Cloud Functions </text></g><g class=\"xtick\"><text text-anchor=\"start\" x=\"0\" y=\"461\" transform=\"translate(170.42000000000002,0) rotate(30,0,455)\" style=\"font-family: 'Open Sans', verdana, arial, sans-serif; font-size: 12px; fill: rgb(42, 63, 95); fill-opacity: 1; white-space: pre; opacity: 1;\"> AWS Lambda </text></g><g class=\"xtick\"><text text-anchor=\"start\" x=\"0\" y=\"461\" transform=\"translate(206.57999999999998,0) rotate(30,0,455)\" style=\"font-family: 'Open Sans', verdana, arial, sans-serif; font-size: 12px; fill: rgb(42, 63, 95); fill-opacity: 1; white-space: pre; opacity: 1;\"> Azure Cloud Services </text></g><g class=\"xtick\"><text text-anchor=\"start\" x=\"0\" y=\"461\" transform=\"translate(242.75,0) rotate(30,0,455)\" style=\"font-family: 'Open Sans', verdana, arial, sans-serif; font-size: 12px; fill: rgb(42, 63, 95); fill-opacity: 1; white-space: pre; opacity: 1;\"> Google Cloud App Engine </text></g><g class=\"xtick\"><text text-anchor=\"start\" x=\"0\" y=\"461\" transform=\"translate(278.91999999999996,0) rotate(30,0,455)\" style=\"font-family: 'Open Sans', verdana, arial, sans-serif; font-size: 12px; fill: rgb(42, 63, 95); fill-opacity: 1; white-space: pre; opacity: 1;\"> Amazon EC2 </text></g><g class=\"xtick\"><text text-anchor=\"start\" x=\"0\" y=\"461\" transform=\"translate(315.08000000000004,0) rotate(30,0,455)\" style=\"font-family: 'Open Sans', verdana, arial, sans-serif; font-size: 12px; fill: rgb(42, 63, 95); fill-opacity: 1; white-space: pre; opacity: 1;\"> Google Cloud Run </text></g><g class=\"xtick\"><text text-anchor=\"start\" x=\"0\" y=\"461\" transform=\"translate(351.25,0) rotate(30,0,455)\" style=\"font-family: 'Open Sans', verdana, arial, sans-serif; font-size: 12px; fill: rgb(42, 63, 95); fill-opacity: 1; white-space: pre; opacity: 1;\"> Microsoft Azure Container Instances </text></g><g class=\"xtick\"><text text-anchor=\"start\" x=\"0\" y=\"461\" transform=\"translate(387.42,0) rotate(30,0,455)\" style=\"font-family: 'Open Sans', verdana, arial, sans-serif; font-size: 12px; fill: rgb(42, 63, 95); fill-opacity: 1; white-space: pre; opacity: 1;\"> Azure Functions </text></g><g class=\"xtick\"><text text-anchor=\"start\" x=\"0\" y=\"461\" transform=\"translate(423.58,0) rotate(30,0,455)\" style=\"font-family: 'Open Sans', verdana, arial, sans-serif; font-size: 12px; fill: rgb(42, 63, 95); fill-opacity: 1; white-space: pre; opacity: 1;\"> Amazon Elastic Container Service </text></g><g class=\"xtick\"><text text-anchor=\"start\" x=\"0\" y=\"461\" transform=\"translate(459.75,0) rotate(30,0,455)\" style=\"font-family: 'Open Sans', verdana, arial, sans-serif; font-size: 12px; fill: rgb(42, 63, 95); fill-opacity: 1; white-space: pre; opacity: 1;\">None</text></g><g class=\"xtick\"><text text-anchor=\"start\" x=\"0\" y=\"461\" transform=\"translate(495.92,0) rotate(30,0,455)\" style=\"font-family: 'Open Sans', verdana, arial, sans-serif; font-size: 12px; fill: rgb(42, 63, 95); fill-opacity: 1; white-space: pre; opacity: 1;\">Other</text></g></g><g class=\"yaxislayer-above\"><g class=\"ytick\"><text text-anchor=\"end\" x=\"79\" y=\"4.199999999999999\" transform=\"translate(0,448)\" style=\"font-family: 'Open Sans', verdana, arial, sans-serif; font-size: 12px; fill: rgb(42, 63, 95); fill-opacity: 1; white-space: pre; opacity: 1;\">0</text></g><g class=\"ytick\"><text text-anchor=\"end\" x=\"79\" y=\"4.199999999999999\" style=\"font-family: 'Open Sans', verdana, arial, sans-serif; font-size: 12px; fill: rgb(42, 63, 95); fill-opacity: 1; white-space: pre; opacity: 1;\" transform=\"translate(0,391.33)\">500</text></g><g class=\"ytick\"><text text-anchor=\"end\" x=\"79\" y=\"4.199999999999999\" style=\"font-family: 'Open Sans', verdana, arial, sans-serif; font-size: 12px; fill: rgb(42, 63, 95); fill-opacity: 1; white-space: pre; opacity: 1;\" transform=\"translate(0,334.65)\">1000</text></g><g class=\"ytick\"><text text-anchor=\"end\" x=\"79\" y=\"4.199999999999999\" style=\"font-family: 'Open Sans', verdana, arial, sans-serif; font-size: 12px; fill: rgb(42, 63, 95); fill-opacity: 1; white-space: pre; opacity: 1;\" transform=\"translate(0,277.98)\">1500</text></g><g class=\"ytick\"><text text-anchor=\"end\" x=\"79\" y=\"4.199999999999999\" style=\"font-family: 'Open Sans', verdana, arial, sans-serif; font-size: 12px; fill: rgb(42, 63, 95); fill-opacity: 1; white-space: pre; opacity: 1;\" transform=\"translate(0,221.31)\">2000</text></g><g class=\"ytick\"><text text-anchor=\"end\" x=\"79\" y=\"4.199999999999999\" style=\"font-family: 'Open Sans', verdana, arial, sans-serif; font-size: 12px; fill: rgb(42, 63, 95); fill-opacity: 1; white-space: pre; opacity: 1;\" transform=\"translate(0,164.64)\">2500</text></g><g class=\"ytick\"><text text-anchor=\"end\" x=\"79\" y=\"4.199999999999999\" style=\"font-family: 'Open Sans', verdana, arial, sans-serif; font-size: 12px; fill: rgb(42, 63, 95); fill-opacity: 1; white-space: pre; opacity: 1;\" transform=\"translate(0,107.96000000000001)\">3000</text></g></g><g class=\"overaxes-above\"/></g></g><g class=\"polarlayer\"/><g class=\"ternarylayer\"/><g class=\"geolayer\"/><g class=\"funnelarealayer\"/><g class=\"pielayer\"/><g class=\"iciclelayer\"/><g class=\"treemaplayer\"/><g class=\"sunburstlayer\"/><g class=\"glimages\"/><defs id=\"topdefs-6e6eb4\"><g class=\"clips\"/></defs><g class=\"layer-above\"><g class=\"imagelayer\"/><g class=\"shapelayer\"/></g><g class=\"infolayer\"><g class=\"g-gtitle\"/><g class=\"g-xtitle\"><text class=\"xtitle\" x=\"297\" y=\"587.6408203125\" text-anchor=\"middle\" style=\"font-family: 'Open Sans', verdana, arial, sans-serif; font-size: 14px; fill: rgb(42, 63, 95); opacity: 1; font-weight: normal; white-space: pre;\">Cloud Product</text></g><g class=\"g-ytitle\"><text class=\"ytitle\" transform=\"rotate(-90,27.496875000000003,254)\" x=\"27.496875000000003\" y=\"254\" text-anchor=\"middle\" style=\"font-family: 'Open Sans', verdana, arial, sans-serif; font-size: 14px; fill: rgb(42, 63, 95); opacity: 1; font-weight: normal; white-space: pre;\">No of respondents</text></g><g class=\"annotation\" data-index=\"0\" style=\"opacity: 1;\"><g class=\"annotation-text-g\" transform=\"rotate(0,260.70000000000005,34.199999999999974)\"><g class=\"cursor-pointer\" transform=\"translate(94,21)\"><rect class=\"bg\" x=\"0.5\" y=\"0.5\" width=\"332\" height=\"25\" style=\"stroke-width: 1px; stroke: rgb(0, 0, 0); stroke-opacity: 0; fill: rgb(0, 0, 0); fill-opacity: 0;\"/><text class=\"annotation-text\" text-anchor=\"middle\" x=\"166.53125\" y=\"20\" style=\"font-family: 'Open Sans', verdana, arial, sans-serif; font-size: 12px; fill: rgb(42, 63, 95); fill-opacity: 1; white-space: pre;\"><tspan class=\"line\" dy=\"0em\" x=\"166.53125\" y=\"20\"><tspan style=\"font-size:20px; \">Cloud Product Kagglers wish to learn</tspan></tspan><tspan class=\"line\" dy=\"1.3em\" x=\"166.53125\" y=\"20\"></tspan><tspan class=\"line\" dy=\"2.6em\" x=\"166.53125\" y=\"20\"></tspan></text></g></g></g></g></svg>"
      ]
     },
     "metadata": {},
     "output_type": "display_data"
    }
   ],
   "source": [
    "#In the next 2 years, do you hope to become more familiar with any of these specific cloud computing products?\n",
    "\n",
    "df_temp=df[filter_col_startswith('Q27_B_')].apply(pd.Series.value_counts).sum(axis=1).to_frame().reset_index()\n",
    "df_temp.columns = ['Cloud Product','No of Respondents']\n",
    "df_temp.sort_values(by=['No of Respondents'], ascending=False,inplace=True)\n",
    "\n",
    "fig = px.bar(df_temp, x=\"Cloud Product\", y=\"No of Respondents\",\n",
    "    width = 600,\n",
    "    height = 600)\n",
    "\n",
    "\n",
    "fig.update_xaxes(title_text=\"Cloud Product\")\n",
    "fig.update_yaxes(title_text=\"No of respondents\")\n",
    "\n",
    "large_title_format = \"<span style='font-size:20px; '>Cloud Product Kagglers wish to learn</span>\"\n",
    "\n",
    "fig.add_annotation(dict(\n",
    "                            x= 0.8,\n",
    "                            y=1.1,\n",
    "                            showarrow=False,\n",
    "                            text= large_title_format + \"<br><br>\" ,\n",
    "                            textangle=0,\n",
    "                            xref=\"paper\",\n",
    "                            yref=\"paper\"\n",
    "                           ))\n",
    "fig.show()"
   ]
  },
  {
   "cell_type": "markdown",
   "metadata": {
    "papermill": {
     "duration": 0.09022,
     "end_time": "2021-07-03T11:15:41.072426",
     "exception": false,
     "start_time": "2021-07-03T11:15:40.982206",
     "status": "completed"
    },
    "tags": []
   },
   "source": [
    "**Visualising ML products**"
   ]
  },
  {
   "cell_type": "code",
   "execution_count": 107,
   "metadata": {
    "execution": {
     "iopub.execute_input": "2021-07-03T11:15:41.290406Z",
     "iopub.status.busy": "2021-07-03T11:15:41.260145Z",
     "iopub.status.idle": "2021-07-03T11:15:41.365173Z",
     "shell.execute_reply": "2021-07-03T11:15:41.365754Z",
     "shell.execute_reply.started": "2021-07-03T10:35:22.236825Z"
    },
    "papermill": {
     "duration": 0.204242,
     "end_time": "2021-07-03T11:15:41.365943",
     "exception": false,
     "start_time": "2021-07-03T11:15:41.161701",
     "status": "completed"
    },
    "tags": []
   },
   "outputs": [
    {
     "data": {
      "image/svg+xml": [
       "<svg class=\"main-svg\" xmlns=\"http://www.w3.org/2000/svg\" xmlns:xlink=\"http://www.w3.org/1999/xlink\" width=\"600\" height=\"600\" style=\"\" viewBox=\"0 0 600 600\"><rect x=\"0\" y=\"0\" width=\"600\" height=\"600\" style=\"fill: rgb(255, 255, 255); fill-opacity: 1;\"/><defs id=\"defs-a5a9c6\"><g class=\"clips\"><clipPath id=\"clipa5a9c6xyplot\" class=\"plotclip\"><rect width=\"440\" height=\"346\"/></clipPath><clipPath class=\"axesclip\" id=\"clipa5a9c6x\"><rect x=\"80\" y=\"0\" width=\"440\" height=\"600\"/></clipPath><clipPath class=\"axesclip\" id=\"clipa5a9c6y\"><rect x=\"0\" y=\"60\" width=\"600\" height=\"346\"/></clipPath><clipPath class=\"axesclip\" id=\"clipa5a9c6xy\"><rect x=\"80\" y=\"60\" width=\"440\" height=\"346\"/></clipPath></g><g class=\"gradients\"/><g class=\"patterns\"/></defs><g class=\"bglayer\"><rect class=\"bg\" x=\"80\" y=\"60\" width=\"440\" height=\"346\" style=\"fill: rgb(229, 236, 246); fill-opacity: 1; stroke-width: 0;\"/></g><g class=\"layer-below\"><g class=\"imagelayer\"/><g class=\"shapelayer\"/></g><g class=\"cartesianlayer\"><g class=\"subplot xy\"><g class=\"layer-subplot\"><g class=\"shapelayer\"/><g class=\"imagelayer\"/></g><g class=\"gridlayer\"><g class=\"x\"/><g class=\"y\"><path class=\"ygrid crisp\" transform=\"translate(0,357.4)\" d=\"M80,0h440\" style=\"stroke: rgb(255, 255, 255); stroke-opacity: 1; stroke-width: 1px;\"/><path class=\"ygrid crisp\" transform=\"translate(0,308.81)\" d=\"M80,0h440\" style=\"stroke: rgb(255, 255, 255); stroke-opacity: 1; stroke-width: 1px;\"/><path class=\"ygrid crisp\" transform=\"translate(0,260.21000000000004)\" d=\"M80,0h440\" style=\"stroke: rgb(255, 255, 255); stroke-opacity: 1; stroke-width: 1px;\"/><path class=\"ygrid crisp\" transform=\"translate(0,211.62)\" d=\"M80,0h440\" style=\"stroke: rgb(255, 255, 255); stroke-opacity: 1; stroke-width: 1px;\"/><path class=\"ygrid crisp\" transform=\"translate(0,163.01999999999998)\" d=\"M80,0h440\" style=\"stroke: rgb(255, 255, 255); stroke-opacity: 1; stroke-width: 1px;\"/><path class=\"ygrid crisp\" transform=\"translate(0,114.43)\" d=\"M80,0h440\" style=\"stroke: rgb(255, 255, 255); stroke-opacity: 1; stroke-width: 1px;\"/><path class=\"ygrid crisp\" transform=\"translate(0,65.83)\" d=\"M80,0h440\" style=\"stroke: rgb(255, 255, 255); stroke-opacity: 1; stroke-width: 1px;\"/></g></g><g class=\"zerolinelayer\"><path class=\"yzl zl crisp\" transform=\"translate(0,406)\" d=\"M80,0h440\" style=\"stroke: rgb(255, 255, 255); stroke-opacity: 1; stroke-width: 2px;\"/></g><path class=\"xlines-below\"/><path class=\"ylines-below\"/><g class=\"overlines-below\"/><g class=\"xaxislayer-below\"/><g class=\"yaxislayer-below\"/><g class=\"overaxes-below\"/><g class=\"plot\" transform=\"translate(80,60)\" clip-path=\"url(#clipa5a9c6xyplot)\"><g class=\"barlayer mlayer\"><g class=\"trace bars\" style=\"opacity: 1;\"><g class=\"points\"><g class=\"point\"><path d=\"M4,346V17.3H36V346Z\" style=\"vector-effect: non-scaling-stroke; opacity: 1; stroke-width: 0.5px; fill: rgb(99, 110, 250); fill-opacity: 1; stroke: rgb(229, 236, 246); stroke-opacity: 1;\"/></g><g class=\"point\"><path d=\"M44,346V70.17H76V346Z\" style=\"vector-effect: non-scaling-stroke; opacity: 1; stroke-width: 0.5px; fill: rgb(99, 110, 250); fill-opacity: 1; stroke: rgb(229, 236, 246); stroke-opacity: 1;\"/></g><g class=\"point\"><path d=\"M84,346V78.04H116V346Z\" style=\"vector-effect: non-scaling-stroke; opacity: 1; stroke-width: 0.5px; fill: rgb(99, 110, 250); fill-opacity: 1; stroke: rgb(229, 236, 246); stroke-opacity: 1;\"/></g><g class=\"point\"><path d=\"M124,346V108.85H156V346Z\" style=\"vector-effect: non-scaling-stroke; opacity: 1; stroke-width: 0.5px; fill: rgb(99, 110, 250); fill-opacity: 1; stroke: rgb(229, 236, 246); stroke-opacity: 1;\"/></g><g class=\"point\"><path d=\"M164,346V147.44H196V346Z\" style=\"vector-effect: non-scaling-stroke; opacity: 1; stroke-width: 0.5px; fill: rgb(99, 110, 250); fill-opacity: 1; stroke: rgb(229, 236, 246); stroke-opacity: 1;\"/></g><g class=\"point\"><path d=\"M204,346V180.58H236V346Z\" style=\"vector-effect: non-scaling-stroke; opacity: 1; stroke-width: 0.5px; fill: rgb(99, 110, 250); fill-opacity: 1; stroke: rgb(229, 236, 246); stroke-opacity: 1;\"/></g><g class=\"point\"><path d=\"M244,346V186.32H276V346Z\" style=\"vector-effect: non-scaling-stroke; opacity: 1; stroke-width: 0.5px; fill: rgb(99, 110, 250); fill-opacity: 1; stroke: rgb(229, 236, 246); stroke-opacity: 1;\"/></g><g class=\"point\"><path d=\"M284,346V210.03H316V346Z\" style=\"vector-effect: non-scaling-stroke; opacity: 1; stroke-width: 0.5px; fill: rgb(99, 110, 250); fill-opacity: 1; stroke: rgb(229, 236, 246); stroke-opacity: 1;\"/></g><g class=\"point\"><path d=\"M324,346V210.61H356V346Z\" style=\"vector-effect: non-scaling-stroke; opacity: 1; stroke-width: 0.5px; fill: rgb(99, 110, 250); fill-opacity: 1; stroke: rgb(229, 236, 246); stroke-opacity: 1;\"/></g><g class=\"point\"><path d=\"M364,346V227.23H396V346Z\" style=\"vector-effect: non-scaling-stroke; opacity: 1; stroke-width: 0.5px; fill: rgb(99, 110, 250); fill-opacity: 1; stroke: rgb(229, 236, 246); stroke-opacity: 1;\"/></g><g class=\"point\"><path d=\"M404,346V337.45H436V346Z\" style=\"vector-effect: non-scaling-stroke; opacity: 1; stroke-width: 0.5px; fill: rgb(99, 110, 250); fill-opacity: 1; stroke: rgb(229, 236, 246); stroke-opacity: 1;\"/></g></g></g></g></g><g class=\"overplot\"/><path class=\"xlines-above crisp\" d=\"M0,0\" style=\"fill: none;\"/><path class=\"ylines-above crisp\" d=\"M0,0\" style=\"fill: none;\"/><g class=\"overlines-above\"/><g class=\"xaxislayer-above\"><g class=\"xtick\"><text text-anchor=\"start\" x=\"0\" y=\"419\" transform=\"translate(100,0) rotate(30,0,413)\" style=\"font-family: 'Open Sans', verdana, arial, sans-serif; font-size: 12px; fill: rgb(42, 63, 95); fill-opacity: 1; white-space: pre; opacity: 1;\"> Google Cloud AI Platform / Google Cloud ML Engine</text></g><g class=\"xtick\"><text text-anchor=\"start\" x=\"0\" y=\"419\" transform=\"translate(140,0) rotate(30,0,413)\" style=\"font-family: 'Open Sans', verdana, arial, sans-serif; font-size: 12px; fill: rgb(42, 63, 95); fill-opacity: 1; white-space: pre; opacity: 1;\"> Google Cloud Vision AI </text></g><g class=\"xtick\"><text text-anchor=\"start\" x=\"0\" y=\"419\" transform=\"translate(180,0) rotate(30,0,413)\" style=\"font-family: 'Open Sans', verdana, arial, sans-serif; font-size: 12px; fill: rgb(42, 63, 95); fill-opacity: 1; white-space: pre; opacity: 1;\"> Google Cloud Natural Language </text></g><g class=\"xtick\"><text text-anchor=\"start\" x=\"0\" y=\"419\" transform=\"translate(220,0) rotate(30,0,413)\" style=\"font-family: 'Open Sans', verdana, arial, sans-serif; font-size: 12px; fill: rgb(42, 63, 95); fill-opacity: 1; white-space: pre; opacity: 1;\"> Azure Machine Learning Studio </text></g><g class=\"xtick\"><text text-anchor=\"start\" x=\"0\" y=\"419\" transform=\"translate(260,0) rotate(30,0,413)\" style=\"font-family: 'Open Sans', verdana, arial, sans-serif; font-size: 12px; fill: rgb(42, 63, 95); fill-opacity: 1; white-space: pre; opacity: 1;\"> Google Cloud Video AI </text></g><g class=\"xtick\"><text text-anchor=\"start\" x=\"0\" y=\"419\" transform=\"translate(300,0) rotate(30,0,413)\" style=\"font-family: 'Open Sans', verdana, arial, sans-serif; font-size: 12px; fill: rgb(42, 63, 95); fill-opacity: 1; white-space: pre; opacity: 1;\"> Amazon SageMaker </text></g><g class=\"xtick\"><text text-anchor=\"start\" x=\"0\" y=\"419\" transform=\"translate(340,0) rotate(30,0,413)\" style=\"font-family: 'Open Sans', verdana, arial, sans-serif; font-size: 12px; fill: rgb(42, 63, 95); fill-opacity: 1; white-space: pre; opacity: 1;\"> Amazon Forecast </text></g><g class=\"xtick\"><text text-anchor=\"start\" x=\"0\" y=\"419\" transform=\"translate(380,0) rotate(30,0,413)\" style=\"font-family: 'Open Sans', verdana, arial, sans-serif; font-size: 12px; fill: rgb(42, 63, 95); fill-opacity: 1; white-space: pre; opacity: 1;\"> Amazon Rekognition </text></g><g class=\"xtick\"><text text-anchor=\"start\" x=\"0\" y=\"419\" transform=\"translate(420,0) rotate(30,0,413)\" style=\"font-family: 'Open Sans', verdana, arial, sans-serif; font-size: 12px; fill: rgb(42, 63, 95); fill-opacity: 1; white-space: pre; opacity: 1;\"> Azure Cognitive Services </text></g><g class=\"xtick\"><text text-anchor=\"start\" x=\"0\" y=\"419\" transform=\"translate(460,0) rotate(30,0,413)\" style=\"font-family: 'Open Sans', verdana, arial, sans-serif; font-size: 12px; fill: rgb(42, 63, 95); fill-opacity: 1; white-space: pre; opacity: 1;\">None</text></g><g class=\"xtick\"><text text-anchor=\"start\" x=\"0\" y=\"419\" transform=\"translate(500,0) rotate(30,0,413)\" style=\"font-family: 'Open Sans', verdana, arial, sans-serif; font-size: 12px; fill: rgb(42, 63, 95); fill-opacity: 1; white-space: pre; opacity: 1;\">Other</text></g></g><g class=\"yaxislayer-above\"><g class=\"ytick\"><text text-anchor=\"end\" x=\"79\" y=\"4.199999999999999\" transform=\"translate(0,406)\" style=\"font-family: 'Open Sans', verdana, arial, sans-serif; font-size: 12px; fill: rgb(42, 63, 95); fill-opacity: 1; white-space: pre; opacity: 1;\">0</text></g><g class=\"ytick\"><text text-anchor=\"end\" x=\"79\" y=\"4.199999999999999\" style=\"font-family: 'Open Sans', verdana, arial, sans-serif; font-size: 12px; fill: rgb(42, 63, 95); fill-opacity: 1; white-space: pre; opacity: 1;\" transform=\"translate(0,357.4)\">500</text></g><g class=\"ytick\"><text text-anchor=\"end\" x=\"79\" y=\"4.199999999999999\" style=\"font-family: 'Open Sans', verdana, arial, sans-serif; font-size: 12px; fill: rgb(42, 63, 95); fill-opacity: 1; white-space: pre; opacity: 1;\" transform=\"translate(0,308.81)\">1000</text></g><g class=\"ytick\"><text text-anchor=\"end\" x=\"79\" y=\"4.199999999999999\" style=\"font-family: 'Open Sans', verdana, arial, sans-serif; font-size: 12px; fill: rgb(42, 63, 95); fill-opacity: 1; white-space: pre; opacity: 1;\" transform=\"translate(0,260.21000000000004)\">1500</text></g><g class=\"ytick\"><text text-anchor=\"end\" x=\"79\" y=\"4.199999999999999\" style=\"font-family: 'Open Sans', verdana, arial, sans-serif; font-size: 12px; fill: rgb(42, 63, 95); fill-opacity: 1; white-space: pre; opacity: 1;\" transform=\"translate(0,211.62)\">2000</text></g><g class=\"ytick\"><text text-anchor=\"end\" x=\"79\" y=\"4.199999999999999\" style=\"font-family: 'Open Sans', verdana, arial, sans-serif; font-size: 12px; fill: rgb(42, 63, 95); fill-opacity: 1; white-space: pre; opacity: 1;\" transform=\"translate(0,163.01999999999998)\">2500</text></g><g class=\"ytick\"><text text-anchor=\"end\" x=\"79\" y=\"4.199999999999999\" style=\"font-family: 'Open Sans', verdana, arial, sans-serif; font-size: 12px; fill: rgb(42, 63, 95); fill-opacity: 1; white-space: pre; opacity: 1;\" transform=\"translate(0,114.43)\">3000</text></g><g class=\"ytick\"><text text-anchor=\"end\" x=\"79\" y=\"4.199999999999999\" style=\"font-family: 'Open Sans', verdana, arial, sans-serif; font-size: 12px; fill: rgb(42, 63, 95); fill-opacity: 1; white-space: pre; opacity: 1;\" transform=\"translate(0,65.83)\">3500</text></g></g><g class=\"overaxes-above\"/></g></g><g class=\"polarlayer\"/><g class=\"ternarylayer\"/><g class=\"geolayer\"/><g class=\"funnelarealayer\"/><g class=\"pielayer\"/><g class=\"iciclelayer\"/><g class=\"treemaplayer\"/><g class=\"sunburstlayer\"/><g class=\"glimages\"/><defs id=\"topdefs-a5a9c6\"><g class=\"clips\"/></defs><g class=\"layer-above\"><g class=\"imagelayer\"/><g class=\"shapelayer\"/></g><g class=\"infolayer\"><g class=\"g-gtitle\"/><g class=\"g-xtitle\"><text class=\"xtitle\" x=\"300\" y=\"587.5080078125\" text-anchor=\"middle\" style=\"font-family: 'Open Sans', verdana, arial, sans-serif; font-size: 14px; fill: rgb(42, 63, 95); opacity: 1; font-weight: normal; white-space: pre;\">ML Product</text></g><g class=\"g-ytitle\"><text class=\"ytitle\" transform=\"rotate(-90,27.496875000000003,233)\" x=\"27.496875000000003\" y=\"233\" text-anchor=\"middle\" style=\"font-family: 'Open Sans', verdana, arial, sans-serif; font-size: 14px; fill: rgb(42, 63, 95); opacity: 1; font-weight: normal; white-space: pre;\">No of respondents</text></g><g class=\"annotation\" data-index=\"0\" style=\"opacity: 1;\"><g class=\"annotation-text-g\" transform=\"rotate(0,277.5,38.39999999999998)\"><g class=\"cursor-pointer\" transform=\"translate(123,25)\"><rect class=\"bg\" x=\"0.5\" y=\"0.5\" width=\"308\" height=\"25\" style=\"stroke-width: 1px; stroke: rgb(0, 0, 0); stroke-opacity: 0; fill: rgb(0, 0, 0); fill-opacity: 0;\"/><text class=\"annotation-text\" text-anchor=\"middle\" x=\"154.296875\" y=\"20\" style=\"font-family: 'Open Sans', verdana, arial, sans-serif; font-size: 12px; fill: rgb(42, 63, 95); fill-opacity: 1; white-space: pre;\"><tspan class=\"line\" dy=\"0em\" x=\"154.296875\" y=\"20\"><tspan style=\"font-size:20px; \">ML Product Kagglers wish to learn</tspan></tspan><tspan class=\"line\" dy=\"1.3em\" x=\"154.296875\" y=\"20\"></tspan><tspan class=\"line\" dy=\"2.6em\" x=\"154.296875\" y=\"20\"></tspan></text></g></g></g></g></svg>"
      ]
     },
     "metadata": {},
     "output_type": "display_data"
    }
   ],
   "source": [
    "#In the next 2 years, do you hope to become more familiar with any of these specific machine learning products?\n",
    "\n",
    "df_temp=df[filter_col_startswith('Q28_B_')].apply(pd.Series.value_counts).sum(axis=1).to_frame().reset_index()\n",
    "df_temp.columns = ['ML Product','No of Respondents']\n",
    "df_temp.sort_values(by=['No of Respondents'], ascending=False,inplace=True)\n",
    "fig = px.bar(df_temp, x=\"ML Product\", y=\"No of Respondents\",\n",
    "    width = 600,\n",
    "    height = 600)\n",
    "\n",
    "\n",
    "fig.update_xaxes(title_text=\"ML Product\")\n",
    "fig.update_yaxes(title_text=\"No of respondents\")\n",
    "\n",
    "large_title_format = \"<span style='font-size:20px; '>ML Product Kagglers wish to learn</span>\"\n",
    "\n",
    "fig.add_annotation(dict(\n",
    "                            x= 0.8,\n",
    "                            y=1.1,\n",
    "                            showarrow=False,\n",
    "                            text= large_title_format + \"<br><br>\" ,\n",
    "                            textangle=0,\n",
    "                            xref=\"paper\",\n",
    "                            yref=\"paper\"\n",
    "                           ))\n",
    "fig.show()"
   ]
  },
  {
   "cell_type": "markdown",
   "metadata": {
    "papermill": {
     "duration": 0.094835,
     "end_time": "2021-07-03T11:15:41.556877",
     "exception": false,
     "start_time": "2021-07-03T11:15:41.462042",
     "status": "completed"
    },
    "tags": []
   },
   "source": [
    "**Visualising ML experiments platforms**"
   ]
  },
  {
   "cell_type": "code",
   "execution_count": 108,
   "metadata": {
    "execution": {
     "iopub.execute_input": "2021-07-03T11:15:41.784435Z",
     "iopub.status.busy": "2021-07-03T11:15:41.755459Z",
     "iopub.status.idle": "2021-07-03T11:15:41.855150Z",
     "shell.execute_reply": "2021-07-03T11:15:41.854554Z",
     "shell.execute_reply.started": "2021-07-03T10:35:22.361087Z"
    },
    "papermill": {
     "duration": 0.203113,
     "end_time": "2021-07-03T11:15:41.855293",
     "exception": false,
     "start_time": "2021-07-03T11:15:41.652180",
     "status": "completed"
    },
    "tags": []
   },
   "outputs": [
    {
     "data": {
      "image/svg+xml": [
       "<svg class=\"main-svg\" xmlns=\"http://www.w3.org/2000/svg\" xmlns:xlink=\"http://www.w3.org/1999/xlink\" width=\"600\" height=\"600\" style=\"\" viewBox=\"0 0 600 600\"><rect x=\"0\" y=\"0\" width=\"600\" height=\"600\" style=\"fill: rgb(255, 255, 255); fill-opacity: 1;\"/><defs id=\"defs-18923a\"><g class=\"clips\"><clipPath id=\"clip18923axyplot\" class=\"plotclip\"><rect width=\"440\" height=\"425\"/></clipPath><clipPath class=\"axesclip\" id=\"clip18923ax\"><rect x=\"80\" y=\"0\" width=\"440\" height=\"600\"/></clipPath><clipPath class=\"axesclip\" id=\"clip18923ay\"><rect x=\"0\" y=\"60\" width=\"600\" height=\"425\"/></clipPath><clipPath class=\"axesclip\" id=\"clip18923axy\"><rect x=\"80\" y=\"60\" width=\"440\" height=\"425\"/></clipPath></g><g class=\"gradients\"/><g class=\"patterns\"/></defs><g class=\"bglayer\"><rect class=\"bg\" x=\"80\" y=\"60\" width=\"440\" height=\"425\" style=\"fill: rgb(229, 236, 246); fill-opacity: 1; stroke-width: 0;\"/></g><g class=\"layer-below\"><g class=\"imagelayer\"/><g class=\"shapelayer\"/></g><g class=\"cartesianlayer\"><g class=\"subplot xy\"><g class=\"layer-subplot\"><g class=\"shapelayer\"/><g class=\"imagelayer\"/></g><g class=\"gridlayer\"><g class=\"x\"/><g class=\"y\"><path class=\"ygrid crisp\" transform=\"translate(0,421.89)\" d=\"M80,0h440\" style=\"stroke: rgb(255, 255, 255); stroke-opacity: 1; stroke-width: 1px;\"/><path class=\"ygrid crisp\" transform=\"translate(0,358.79)\" d=\"M80,0h440\" style=\"stroke: rgb(255, 255, 255); stroke-opacity: 1; stroke-width: 1px;\"/><path class=\"ygrid crisp\" transform=\"translate(0,295.68)\" d=\"M80,0h440\" style=\"stroke: rgb(255, 255, 255); stroke-opacity: 1; stroke-width: 1px;\"/><path class=\"ygrid crisp\" transform=\"translate(0,232.58)\" d=\"M80,0h440\" style=\"stroke: rgb(255, 255, 255); stroke-opacity: 1; stroke-width: 1px;\"/><path class=\"ygrid crisp\" transform=\"translate(0,169.47)\" d=\"M80,0h440\" style=\"stroke: rgb(255, 255, 255); stroke-opacity: 1; stroke-width: 1px;\"/><path class=\"ygrid crisp\" transform=\"translate(0,106.37)\" d=\"M80,0h440\" style=\"stroke: rgb(255, 255, 255); stroke-opacity: 1; stroke-width: 1px;\"/></g></g><g class=\"zerolinelayer\"><path class=\"yzl zl crisp\" transform=\"translate(0,485)\" d=\"M80,0h440\" style=\"stroke: rgb(255, 255, 255); stroke-opacity: 1; stroke-width: 2px;\"/></g><path class=\"xlines-below\"/><path class=\"ylines-below\"/><g class=\"overlines-below\"/><g class=\"xaxislayer-below\"/><g class=\"yaxislayer-below\"/><g class=\"overaxes-below\"/><g class=\"plot\" transform=\"translate(80,60)\" clip-path=\"url(#clip18923axyplot)\"><g class=\"barlayer mlayer\"><g class=\"trace bars\" style=\"opacity: 1;\"><g class=\"points\"><g class=\"point\"><path d=\"M4,425V21.25H36V425Z\" style=\"vector-effect: non-scaling-stroke; opacity: 1; stroke-width: 0.5px; fill: rgb(99, 110, 250); fill-opacity: 1; stroke: rgb(229, 236, 246); stroke-opacity: 1;\"/></g><g class=\"point\"><path d=\"M44,425V36.02H76V425Z\" style=\"vector-effect: non-scaling-stroke; opacity: 1; stroke-width: 0.5px; fill: rgb(99, 110, 250); fill-opacity: 1; stroke: rgb(229, 236, 246); stroke-opacity: 1;\"/></g><g class=\"point\"><path d=\"M84,425V276.45H116V425Z\" style=\"vector-effect: non-scaling-stroke; opacity: 1; stroke-width: 0.5px; fill: rgb(99, 110, 250); fill-opacity: 1; stroke: rgb(229, 236, 246); stroke-opacity: 1;\"/></g><g class=\"point\"><path d=\"M124,425V306.99H156V425Z\" style=\"vector-effect: non-scaling-stroke; opacity: 1; stroke-width: 0.5px; fill: rgb(99, 110, 250); fill-opacity: 1; stroke: rgb(229, 236, 246); stroke-opacity: 1;\"/></g><g class=\"point\"><path d=\"M164,425V318.23H196V425Z\" style=\"vector-effect: non-scaling-stroke; opacity: 1; stroke-width: 0.5px; fill: rgb(99, 110, 250); fill-opacity: 1; stroke: rgb(229, 236, 246); stroke-opacity: 1;\"/></g><g class=\"point\"><path d=\"M204,425V354.7H236V425Z\" style=\"vector-effect: non-scaling-stroke; opacity: 1; stroke-width: 0.5px; fill: rgb(99, 110, 250); fill-opacity: 1; stroke: rgb(229, 236, 246); stroke-opacity: 1;\"/></g><g class=\"point\"><path d=\"M244,425V359.5H276V425Z\" style=\"vector-effect: non-scaling-stroke; opacity: 1; stroke-width: 0.5px; fill: rgb(99, 110, 250); fill-opacity: 1; stroke: rgb(229, 236, 246); stroke-opacity: 1;\"/></g><g class=\"point\"><path d=\"M284,425V362.65H316V425Z\" style=\"vector-effect: non-scaling-stroke; opacity: 1; stroke-width: 0.5px; fill: rgb(99, 110, 250); fill-opacity: 1; stroke: rgb(229, 236, 246); stroke-opacity: 1;\"/></g><g class=\"point\"><path d=\"M324,425V364.42H356V425Z\" style=\"vector-effect: non-scaling-stroke; opacity: 1; stroke-width: 0.5px; fill: rgb(99, 110, 250); fill-opacity: 1; stroke: rgb(229, 236, 246); stroke-opacity: 1;\"/></g><g class=\"point\"><path d=\"M364,425V370.73H396V425Z\" style=\"vector-effect: non-scaling-stroke; opacity: 1; stroke-width: 0.5px; fill: rgb(99, 110, 250); fill-opacity: 1; stroke: rgb(229, 236, 246); stroke-opacity: 1;\"/></g><g class=\"point\"><path d=\"M404,425V393.32H436V425Z\" style=\"vector-effect: non-scaling-stroke; opacity: 1; stroke-width: 0.5px; fill: rgb(99, 110, 250); fill-opacity: 1; stroke: rgb(229, 236, 246); stroke-opacity: 1;\"/></g></g></g></g></g><g class=\"overplot\"/><path class=\"xlines-above crisp\" d=\"M0,0\" style=\"fill: none;\"/><path class=\"ylines-above crisp\" d=\"M0,0\" style=\"fill: none;\"/><g class=\"overlines-above\"/><g class=\"xaxislayer-above\"><g class=\"xtick\"><text text-anchor=\"start\" x=\"0\" y=\"498\" transform=\"translate(100,0) rotate(30,0,492)\" style=\"font-family: 'Open Sans', verdana, arial, sans-serif; font-size: 12px; fill: rgb(42, 63, 95); fill-opacity: 1; white-space: pre; opacity: 1;\"> TensorBoard </text></g><g class=\"xtick\"><text text-anchor=\"start\" x=\"0\" y=\"498\" transform=\"translate(140,0) rotate(30,0,492)\" style=\"font-family: 'Open Sans', verdana, arial, sans-serif; font-size: 12px; fill: rgb(42, 63, 95); fill-opacity: 1; white-space: pre; opacity: 1;\">None</text></g><g class=\"xtick\"><text text-anchor=\"start\" x=\"0\" y=\"498\" transform=\"translate(180,0) rotate(30,0,492)\" style=\"font-family: 'Open Sans', verdana, arial, sans-serif; font-size: 12px; fill: rgb(42, 63, 95); fill-opacity: 1; white-space: pre; opacity: 1;\"> Weights &amp; Biases </text></g><g class=\"xtick\"><text text-anchor=\"start\" x=\"0\" y=\"498\" transform=\"translate(220,0) rotate(30,0,492)\" style=\"font-family: 'Open Sans', verdana, arial, sans-serif; font-size: 12px; fill: rgb(42, 63, 95); fill-opacity: 1; white-space: pre; opacity: 1;\"> Neptune.ai </text></g><g class=\"xtick\"><text text-anchor=\"start\" x=\"0\" y=\"498\" transform=\"translate(260,0) rotate(30,0,492)\" style=\"font-family: 'Open Sans', verdana, arial, sans-serif; font-size: 12px; fill: rgb(42, 63, 95); fill-opacity: 1; white-space: pre; opacity: 1;\"> Trains </text></g><g class=\"xtick\"><text text-anchor=\"start\" x=\"0\" y=\"498\" transform=\"translate(300,0) rotate(30,0,492)\" style=\"font-family: 'Open Sans', verdana, arial, sans-serif; font-size: 12px; fill: rgb(42, 63, 95); fill-opacity: 1; white-space: pre; opacity: 1;\"> Guild.ai </text></g><g class=\"xtick\"><text text-anchor=\"start\" x=\"0\" y=\"498\" transform=\"translate(340,0) rotate(30,0,492)\" style=\"font-family: 'Open Sans', verdana, arial, sans-serif; font-size: 12px; fill: rgb(42, 63, 95); fill-opacity: 1; white-space: pre; opacity: 1;\"> Domino Model Monitor </text></g><g class=\"xtick\"><text text-anchor=\"start\" x=\"0\" y=\"498\" transform=\"translate(380,0) rotate(30,0,492)\" style=\"font-family: 'Open Sans', verdana, arial, sans-serif; font-size: 12px; fill: rgb(42, 63, 95); fill-opacity: 1; white-space: pre; opacity: 1;\"> Comet.ml </text></g><g class=\"xtick\"><text text-anchor=\"start\" x=\"0\" y=\"498\" transform=\"translate(420,0) rotate(30,0,492)\" style=\"font-family: 'Open Sans', verdana, arial, sans-serif; font-size: 12px; fill: rgb(42, 63, 95); fill-opacity: 1; white-space: pre; opacity: 1;\"> Polyaxon </text></g><g class=\"xtick\"><text text-anchor=\"start\" x=\"0\" y=\"498\" transform=\"translate(460,0) rotate(30,0,492)\" style=\"font-family: 'Open Sans', verdana, arial, sans-serif; font-size: 12px; fill: rgb(42, 63, 95); fill-opacity: 1; white-space: pre; opacity: 1;\"> Sacred + Omniboard </text></g><g class=\"xtick\"><text text-anchor=\"start\" x=\"0\" y=\"498\" transform=\"translate(500,0) rotate(30,0,492)\" style=\"font-family: 'Open Sans', verdana, arial, sans-serif; font-size: 12px; fill: rgb(42, 63, 95); fill-opacity: 1; white-space: pre; opacity: 1;\">Other</text></g></g><g class=\"yaxislayer-above\"><g class=\"ytick\"><text text-anchor=\"end\" x=\"79\" y=\"4.199999999999999\" transform=\"translate(0,485)\" style=\"font-family: 'Open Sans', verdana, arial, sans-serif; font-size: 12px; fill: rgb(42, 63, 95); fill-opacity: 1; white-space: pre; opacity: 1;\">0</text></g><g class=\"ytick\"><text text-anchor=\"end\" x=\"79\" y=\"4.199999999999999\" style=\"font-family: 'Open Sans', verdana, arial, sans-serif; font-size: 12px; fill: rgb(42, 63, 95); fill-opacity: 1; white-space: pre; opacity: 1;\" transform=\"translate(0,421.89)\">500</text></g><g class=\"ytick\"><text text-anchor=\"end\" x=\"79\" y=\"4.199999999999999\" style=\"font-family: 'Open Sans', verdana, arial, sans-serif; font-size: 12px; fill: rgb(42, 63, 95); fill-opacity: 1; white-space: pre; opacity: 1;\" transform=\"translate(0,358.79)\">1000</text></g><g class=\"ytick\"><text text-anchor=\"end\" x=\"79\" y=\"4.199999999999999\" style=\"font-family: 'Open Sans', verdana, arial, sans-serif; font-size: 12px; fill: rgb(42, 63, 95); fill-opacity: 1; white-space: pre; opacity: 1;\" transform=\"translate(0,295.68)\">1500</text></g><g class=\"ytick\"><text text-anchor=\"end\" x=\"79\" y=\"4.199999999999999\" style=\"font-family: 'Open Sans', verdana, arial, sans-serif; font-size: 12px; fill: rgb(42, 63, 95); fill-opacity: 1; white-space: pre; opacity: 1;\" transform=\"translate(0,232.58)\">2000</text></g><g class=\"ytick\"><text text-anchor=\"end\" x=\"79\" y=\"4.199999999999999\" style=\"font-family: 'Open Sans', verdana, arial, sans-serif; font-size: 12px; fill: rgb(42, 63, 95); fill-opacity: 1; white-space: pre; opacity: 1;\" transform=\"translate(0,169.47)\">2500</text></g><g class=\"ytick\"><text text-anchor=\"end\" x=\"79\" y=\"4.199999999999999\" style=\"font-family: 'Open Sans', verdana, arial, sans-serif; font-size: 12px; fill: rgb(42, 63, 95); fill-opacity: 1; white-space: pre; opacity: 1;\" transform=\"translate(0,106.37)\">3000</text></g></g><g class=\"overaxes-above\"/></g></g><g class=\"polarlayer\"/><g class=\"ternarylayer\"/><g class=\"geolayer\"/><g class=\"funnelarealayer\"/><g class=\"pielayer\"/><g class=\"iciclelayer\"/><g class=\"treemaplayer\"/><g class=\"sunburstlayer\"/><g class=\"glimages\"/><defs id=\"topdefs-18923a\"><g class=\"clips\"/></defs><g class=\"layer-above\"><g class=\"imagelayer\"/><g class=\"shapelayer\"/></g><g class=\"infolayer\"><g class=\"g-gtitle\"/><g class=\"g-xtitle\"><text class=\"xtitle\" x=\"300\" y=\"588.2892578125\" text-anchor=\"middle\" style=\"font-family: 'Open Sans', verdana, arial, sans-serif; font-size: 14px; fill: rgb(42, 63, 95); opacity: 1; font-weight: normal; white-space: pre;\">ML Experiment Tool</text></g><g class=\"g-ytitle\"><text class=\"ytitle\" transform=\"rotate(-90,27.496875000000003,272.5)\" x=\"27.496875000000003\" y=\"272.5\" text-anchor=\"middle\" style=\"font-family: 'Open Sans', verdana, arial, sans-serif; font-size: 14px; fill: rgb(42, 63, 95); opacity: 1; font-weight: normal; white-space: pre;\">No of respondents</text></g><g class=\"annotation\" data-index=\"0\" style=\"opacity: 1;\"><g class=\"annotation-text-g\" transform=\"rotate(0,240.5,30.49999999999998)\"><g class=\"cursor-pointer\" transform=\"translate(49,17)\"><rect class=\"bg\" x=\"0.5\" y=\"0.5\" width=\"382\" height=\"25\" style=\"stroke-width: 1px; stroke: rgb(0, 0, 0); stroke-opacity: 0; fill: rgb(0, 0, 0); fill-opacity: 0;\"/><text class=\"annotation-text\" text-anchor=\"middle\" x=\"191.53125\" y=\"20\" style=\"font-family: 'Open Sans', verdana, arial, sans-serif; font-size: 12px; fill: rgb(42, 63, 95); fill-opacity: 1; white-space: pre;\"><tspan class=\"line\" dy=\"0em\" x=\"191.53125\" y=\"20\"><tspan style=\"font-size:20px; \">ML Experiment Tool Kagglers wish to learn</tspan></tspan><tspan class=\"line\" dy=\"1.3em\" x=\"191.53125\" y=\"20\"></tspan><tspan class=\"line\" dy=\"2.6em\" x=\"191.53125\" y=\"20\"></tspan></text></g></g></g></g></svg>"
      ]
     },
     "metadata": {},
     "output_type": "display_data"
    }
   ],
   "source": [
    "#In the next 2 years, do you hope to become more familiar with any of these tools for managing ML experiments? (Select all that apply)\n",
    "df_temp=df[filter_col_startswith('Q35_B_')].apply(pd.Series.value_counts).sum(axis=1).to_frame().reset_index()\n",
    "df_temp.columns = ['ML Experiment Tool','No of Respondents']\n",
    "df_temp.sort_values(by=['No of Respondents'], ascending=False,inplace=True)\n",
    "fig = px.bar(df_temp, x=\"ML Experiment Tool\", y=\"No of Respondents\",\n",
    "    width = 600,\n",
    "    height = 600)\n",
    "\n",
    "\n",
    "fig.update_xaxes(title_text=\"ML Experiment Tool\")\n",
    "fig.update_yaxes(title_text=\"No of respondents\")\n",
    "\n",
    "large_title_format = \"<span style='font-size:20px; '>ML Experiment Tool Kagglers wish to learn</span>\"\n",
    "\n",
    "fig.add_annotation(dict(\n",
    "                            x= 0.8,\n",
    "                            y=1.1,\n",
    "                            showarrow=False,\n",
    "                            text= large_title_format + \"<br><br>\" ,\n",
    "                            textangle=0,\n",
    "                            xref=\"paper\",\n",
    "                            yref=\"paper\"\n",
    "                           ))\n",
    "fig.show()\n"
   ]
  },
  {
   "cell_type": "markdown",
   "metadata": {
    "papermill": {
     "duration": 0.103943,
     "end_time": "2021-07-03T11:15:42.062132",
     "exception": false,
     "start_time": "2021-07-03T11:15:41.958189",
     "status": "completed"
    },
    "tags": []
   },
   "source": [
    "**Summary**\n",
    "AWS is leading in preferred cloud platform. However, Google beats hands down Amazon with  its imnpressive ecoystem starting with Google Compute, Google AI Platform and Tensorboard. Google seems to be an favorite over AWS atleast among Kagglers."
   ]
  },
  {
   "cell_type": "markdown",
   "metadata": {
    "papermill": {
     "duration": 0.1005,
     "end_time": "2021-07-03T11:15:42.266084",
     "exception": false,
     "start_time": "2021-07-03T11:15:42.165584",
     "status": "completed"
    },
    "tags": []
   },
   "source": [
    "# Third: What are the factors that influence the salary adjusted for cost of living?"
   ]
  },
  {
   "cell_type": "markdown",
   "metadata": {
    "papermill": {
     "duration": 0.100379,
     "end_time": "2021-07-03T11:15:42.468975",
     "exception": false,
     "start_time": "2021-07-03T11:15:42.368596",
     "status": "completed"
    },
    "tags": []
   },
   "source": [
    "Gathering data for linear regression"
   ]
  },
  {
   "cell_type": "code",
   "execution_count": 109,
   "metadata": {
    "execution": {
     "iopub.execute_input": "2021-07-03T11:15:42.676581Z",
     "iopub.status.busy": "2021-07-03T11:15:42.675882Z",
     "iopub.status.idle": "2021-07-03T11:15:43.696215Z",
     "shell.execute_reply": "2021-07-03T11:15:43.695295Z",
     "shell.execute_reply.started": "2021-07-03T10:35:22.475625Z"
    },
    "papermill": {
     "duration": 1.1264,
     "end_time": "2021-07-03T11:15:43.696364",
     "exception": false,
     "start_time": "2021-07-03T11:15:42.569964",
     "status": "completed"
    },
    "tags": []
   },
   "outputs": [],
   "source": [
    "#resetting the dataframes\n",
    "df=pd.read_csv(\"data/kaggle_survey_2020_responses.csv\")\n",
    "df_livingcost=pd.read_csv(\"data/cost of living 2020.csv\")"
   ]
  },
  {
   "cell_type": "markdown",
   "metadata": {
    "papermill": {
     "duration": 0.101166,
     "end_time": "2021-07-03T11:15:43.899519",
     "exception": false,
     "start_time": "2021-07-03T11:15:43.798353",
     "status": "completed"
    },
    "tags": []
   },
   "source": [
    "Cleaning the data by picking right columns, dropping all NaN, replacing salary category with median and merging with living cost"
   ]
  },
  {
   "cell_type": "code",
   "execution_count": 110,
   "metadata": {
    "execution": {
     "iopub.execute_input": "2021-07-03T11:15:44.117580Z",
     "iopub.status.busy": "2021-07-03T11:15:44.116486Z",
     "iopub.status.idle": "2021-07-03T11:15:44.189263Z",
     "shell.execute_reply": "2021-07-03T11:15:44.189795Z",
     "shell.execute_reply.started": "2021-07-03T10:35:23.540878Z"
    },
    "papermill": {
     "duration": 0.188641,
     "end_time": "2021-07-03T11:15:44.189985",
     "exception": false,
     "start_time": "2021-07-03T11:15:44.001344",
     "status": "completed"
    },
    "tags": []
   },
   "outputs": [
    {
     "name": "stdout",
     "output_type": "stream",
     "text": [
      "Index(['Time from Start to Finish (seconds)', 'Q1', 'Q2', 'Q3', 'Q4', 'Q5',\n",
      "       'Q6', 'Q7_Part_1', 'Q7_Part_2', 'Q7_Part_3',\n",
      "       ...\n",
      "       'Q35_B_Part_2', 'Q35_B_Part_3', 'Q35_B_Part_4', 'Q35_B_Part_5',\n",
      "       'Q35_B_Part_6', 'Q35_B_Part_7', 'Q35_B_Part_8', 'Q35_B_Part_9',\n",
      "       'Q35_B_Part_10', 'Q35_B_OTHER'],\n",
      "      dtype='object', length=355)\n"
     ]
    }
   ],
   "source": [
    "print(df.columns)\n",
    "df=df.iloc[1:]\n",
    "\n",
    "#Salary, Country, Experience, Programming lang,\n",
    "df=df[['Q6','Q24','Q3','Q8','Q7_Part_1','Q7_Part_2','Q7_Part_3','Q7_Part_4','Q7_Part_5','Q7_Part_6','Q7_Part_7','Q7_Part_8','Q7_Part_9','Q7_Part_10','Q7_Part_11']]\n",
    "\n",
    "#drop all nas in salary,country,experience\n",
    "df=df[df['Q6'].notna()]\n",
    "df=df[df['Q24'].notna()]\n",
    "df=df[df['Q3'].notna()]\n",
    "\n",
    "#replacing categories with midpoint of the range\n",
    "df['Q24'].replace({'100,000-124,999':112000,\n",
    "                     '15,000-19,999':17500,\n",
    "                     '70,000-79,999':75000,\n",
    "                     '30,000-39,999':35000,\n",
    "                     '90,000-99,999':95000,\n",
    "                     '1,000-1,999':1500,\n",
    "                     '150,000-199,999':175000,\n",
    "                     '60,000-69,999':65000,\n",
    "                     '4,000-4,999':4500,\n",
    "                     '> $500,000':500000,\n",
    "                     '300,000-500,000':400000,\n",
    "                     '40,000-49,999':45000,\n",
    "                     '25,000-29,999':27500,\n",
    "                     '80,000-89,999':85000,\n",
    "                     '7,500-9,999':8750,\n",
    "                     '50,000-59,999':55000,\n",
    "                     '250,000-299,999':275000,\n",
    "                     '5,000-7,499':6250,\n",
    "                     '2,000-2,999':2500,\n",
    "                     '20,000-24,999':22500,\n",
    "                     '200,000-249,999':225000,\n",
    "                     '3,000-3,999':3500,\n",
    "                     '$0-999':750,\n",
    "                     '10,000-14,999':12500,\n",
    "                     '125,000-149,999':137500,\n",
    "                    \n",
    "                    }, inplace=True)\n",
    "\n",
    "#merging with living cost data\n",
    "df=pd.merge(df,df_livingcost, how='left', left_on='Q3', right_on='Country')\n",
    "df=df[df['Q3']!='Other']"
   ]
  },
  {
   "cell_type": "markdown",
   "metadata": {
    "papermill": {
     "duration": 0.101849,
     "end_time": "2021-07-03T11:15:44.394008",
     "exception": false,
     "start_time": "2021-07-03T11:15:44.292159",
     "status": "completed"
    },
    "tags": []
   },
   "source": [
    "**Assessing descriptive stats of the adjusted salary, dropping bottom 10 percentile as they seem unrealistic even after adjusting for cost of living and applying log transformation to reduce the right skewness**"
   ]
  },
  {
   "cell_type": "code",
   "execution_count": 111,
   "metadata": {
    "execution": {
     "iopub.execute_input": "2021-07-03T11:15:44.650975Z",
     "iopub.status.busy": "2021-07-03T11:15:44.650275Z",
     "iopub.status.idle": "2021-07-03T11:15:44.675562Z",
     "shell.execute_reply": "2021-07-03T11:15:44.675043Z",
     "shell.execute_reply.started": "2021-07-03T10:35:23.759374Z"
    },
    "papermill": {
     "duration": 0.178102,
     "end_time": "2021-07-03T11:15:44.675736",
     "exception": false,
     "start_time": "2021-07-03T11:15:44.497634",
     "status": "completed"
    },
    "tags": []
   },
   "outputs": [
    {
     "name": "stdout",
     "output_type": "stream",
     "text": [
      "        adjusted_salary\n",
      "min        8.698678e+02\n",
      "max        2.380952e+06\n",
      "median     5.182421e+04\n",
      "skew       6.448621e+00\n",
      "0.00       869.867780\n",
      "0.10      2495.840266\n",
      "0.20      3109.452736\n",
      "0.50     51824.212272\n",
      "0.90    189733.682903\n",
      "0.95    263792.583660\n",
      "Name: adjusted_salary, dtype: float64\n"
     ]
    }
   ],
   "source": [
    "#checking descriptive stats of the adjusted salary and \n",
    "df['adjusted_salary']=df['Q24']/(df['Cost of Living Index']/100)\n",
    "print(df.agg(       {\n",
    "            \"adjusted_salary\": [\"min\", \"max\", \"median\", \"skew\"]\n",
    "       }\n",
    "))\n",
    "\n",
    "print(df['adjusted_salary'].dropna().quantile([0.0,.1,.2, .5, .90, .95]))\n",
    "\n",
    "#dropping bottom 10 percentile as they seem unrealistic even after adjusting for cost of living\n",
    "df=df[df['adjusted_salary']> 2495.840266]\n",
    "#df=df[df['adjusted_salary']<  189043.742238]\n",
    "#applying log transformation to reduce the right skewness\n",
    "df['adjusted_salary']=np.log(df['adjusted_salary'])\n",
    "\n",
    "#selecting the columns needed for linear regression\n",
    "df=df[['Q6','Q3','Q7_Part_1','Q7_Part_2','Q7_Part_3','Q7_Part_4','Q7_Part_5','Q7_Part_6','Q7_Part_7','Q7_Part_8','Q7_Part_9','Q7_Part_10','Q7_Part_11','adjusted_salary']]"
   ]
  },
  {
   "cell_type": "markdown",
   "metadata": {
    "papermill": {
     "duration": 0.105225,
     "end_time": "2021-07-03T11:15:44.883730",
     "exception": false,
     "start_time": "2021-07-03T11:15:44.778505",
     "status": "completed"
    },
    "tags": []
   },
   "source": [
    "**Visualising the salary boxplot before processing**"
   ]
  },
  {
   "cell_type": "code",
   "execution_count": 112,
   "metadata": {
    "execution": {
     "iopub.execute_input": "2021-07-03T11:15:45.120274Z",
     "iopub.status.busy": "2021-07-03T11:15:45.117381Z",
     "iopub.status.idle": "2021-07-03T11:15:45.282542Z",
     "shell.execute_reply": "2021-07-03T11:15:45.283126Z",
     "shell.execute_reply.started": "2021-07-03T10:35:23.787334Z"
    },
    "papermill": {
     "duration": 0.290412,
     "end_time": "2021-07-03T11:15:45.283302",
     "exception": false,
     "start_time": "2021-07-03T11:15:44.992890",
     "status": "completed"
    },
    "tags": []
   },
   "outputs": [
    {
     "data": {
      "image/svg+xml": [
       "<svg class=\"main-svg\" xmlns=\"http://www.w3.org/2000/svg\" xmlns:xlink=\"http://www.w3.org/1999/xlink\" width=\"700\" height=\"500\" style=\"\" viewBox=\"0 0 700 500\"><rect x=\"0\" y=\"0\" width=\"700\" height=\"500\" style=\"fill: rgb(255, 255, 255); fill-opacity: 1;\"/><defs id=\"defs-9a7d12\"><g class=\"clips\"><clipPath id=\"clip9a7d12xyplot\" class=\"plotclip\"><rect width=\"540\" height=\"360\"/></clipPath><clipPath class=\"axesclip\" id=\"clip9a7d12x\"><rect x=\"80\" y=\"0\" width=\"540\" height=\"500\"/></clipPath><clipPath class=\"axesclip\" id=\"clip9a7d12y\"><rect x=\"0\" y=\"60\" width=\"700\" height=\"360\"/></clipPath><clipPath class=\"axesclip\" id=\"clip9a7d12xy\"><rect x=\"80\" y=\"60\" width=\"540\" height=\"360\"/></clipPath></g><g class=\"gradients\"/><g class=\"patterns\"/></defs><g class=\"bglayer\"><rect class=\"bg\" x=\"80\" y=\"60\" width=\"540\" height=\"360\" style=\"fill: rgb(229, 236, 246); fill-opacity: 1; stroke-width: 0;\"/></g><g class=\"layer-below\"><g class=\"imagelayer\"/><g class=\"shapelayer\"/></g><g class=\"cartesianlayer\"><g class=\"subplot xy\"><g class=\"layer-subplot\"><g class=\"shapelayer\"/><g class=\"imagelayer\"/></g><g class=\"gridlayer\"><g class=\"x\"/><g class=\"y\"><path class=\"ygrid crisp\" transform=\"translate(0,393.61)\" d=\"M80,0h540\" style=\"stroke: rgb(255, 255, 255); stroke-opacity: 1; stroke-width: 1px;\"/><path class=\"ygrid crisp\" transform=\"translate(0,346.39)\" d=\"M80,0h540\" style=\"stroke: rgb(255, 255, 255); stroke-opacity: 1; stroke-width: 1px;\"/><path class=\"ygrid crisp\" transform=\"translate(0,299.15999999999997)\" d=\"M80,0h540\" style=\"stroke: rgb(255, 255, 255); stroke-opacity: 1; stroke-width: 1px;\"/><path class=\"ygrid crisp\" transform=\"translate(0,251.93)\" d=\"M80,0h540\" style=\"stroke: rgb(255, 255, 255); stroke-opacity: 1; stroke-width: 1px;\"/><path class=\"ygrid crisp\" transform=\"translate(0,204.71)\" d=\"M80,0h540\" style=\"stroke: rgb(255, 255, 255); stroke-opacity: 1; stroke-width: 1px;\"/><path class=\"ygrid crisp\" transform=\"translate(0,157.48000000000002)\" d=\"M80,0h540\" style=\"stroke: rgb(255, 255, 255); stroke-opacity: 1; stroke-width: 1px;\"/><path class=\"ygrid crisp\" transform=\"translate(0,110.25999999999999)\" d=\"M80,0h540\" style=\"stroke: rgb(255, 255, 255); stroke-opacity: 1; stroke-width: 1px;\"/><path class=\"ygrid crisp\" transform=\"translate(0,63.03)\" d=\"M80,0h540\" style=\"stroke: rgb(255, 255, 255); stroke-opacity: 1; stroke-width: 1px;\"/></g></g><g class=\"zerolinelayer\"/><path class=\"xlines-below\"/><path class=\"ylines-below\"/><g class=\"overlines-below\"/><g class=\"xaxislayer-below\"/><g class=\"yaxislayer-below\"/><g class=\"overaxes-below\"/><g class=\"plot\" transform=\"translate(80,60)\" clip-path=\"url(#clip9a7d12xyplot)\"><g class=\"boxlayer mlayer\"><g class=\"trace boxes\" style=\"opacity: 1;\"><path class=\"box\" d=\"M137.7,193.99H402.3M137.7,258.87H402.3V155.89H137.7ZM270,258.87V342M270,155.89V18M203.85,342H336.15M203.85,18H336.15\" style=\"vector-effect: non-scaling-stroke; stroke-width: 2px; stroke: rgb(99, 110, 250); stroke-opacity: 1; fill: rgb(99, 110, 250); fill-opacity: 0.5;\"/><g class=\"points\"/></g></g></g><g class=\"overplot\"/><path class=\"xlines-above crisp\" d=\"M0,0\" style=\"fill: none;\"/><path class=\"ylines-above crisp\" d=\"M0,0\" style=\"fill: none;\"/><g class=\"overlines-above\"/><g class=\"xaxislayer-above\"><g class=\"xtick\"><text text-anchor=\"middle\" x=\"0\" y=\"433\" transform=\"translate(350,0)\" style=\"font-family: 'Open Sans', verdana, arial, sans-serif; font-size: 12px; fill: rgb(42, 63, 95); fill-opacity: 1; white-space: pre; opacity: 1;\"> </text></g></g><g class=\"yaxislayer-above\"><g class=\"ytick\"><text text-anchor=\"end\" x=\"79\" y=\"4.199999999999999\" transform=\"translate(0,393.61)\" style=\"font-family: 'Open Sans', verdana, arial, sans-serif; font-size: 12px; fill: rgb(42, 63, 95); fill-opacity: 1; white-space: pre; opacity: 1;\">8</text></g><g class=\"ytick\"><text text-anchor=\"end\" x=\"79\" y=\"4.199999999999999\" style=\"font-family: 'Open Sans', verdana, arial, sans-serif; font-size: 12px; fill: rgb(42, 63, 95); fill-opacity: 1; white-space: pre; opacity: 1;\" transform=\"translate(0,346.39)\">9</text></g><g class=\"ytick\"><text text-anchor=\"end\" x=\"79\" y=\"4.199999999999999\" style=\"font-family: 'Open Sans', verdana, arial, sans-serif; font-size: 12px; fill: rgb(42, 63, 95); fill-opacity: 1; white-space: pre; opacity: 1;\" transform=\"translate(0,299.15999999999997)\">10</text></g><g class=\"ytick\"><text text-anchor=\"end\" x=\"79\" y=\"4.199999999999999\" style=\"font-family: 'Open Sans', verdana, arial, sans-serif; font-size: 12px; fill: rgb(42, 63, 95); fill-opacity: 1; white-space: pre; opacity: 1;\" transform=\"translate(0,251.93)\">11</text></g><g class=\"ytick\"><text text-anchor=\"end\" x=\"79\" y=\"4.199999999999999\" style=\"font-family: 'Open Sans', verdana, arial, sans-serif; font-size: 12px; fill: rgb(42, 63, 95); fill-opacity: 1; white-space: pre; opacity: 1;\" transform=\"translate(0,204.71)\">12</text></g><g class=\"ytick\"><text text-anchor=\"end\" x=\"79\" y=\"4.199999999999999\" style=\"font-family: 'Open Sans', verdana, arial, sans-serif; font-size: 12px; fill: rgb(42, 63, 95); fill-opacity: 1; white-space: pre; opacity: 1;\" transform=\"translate(0,157.48000000000002)\">13</text></g><g class=\"ytick\"><text text-anchor=\"end\" x=\"79\" y=\"4.199999999999999\" style=\"font-family: 'Open Sans', verdana, arial, sans-serif; font-size: 12px; fill: rgb(42, 63, 95); fill-opacity: 1; white-space: pre; opacity: 1;\" transform=\"translate(0,110.25999999999999)\">14</text></g><g class=\"ytick\"><text text-anchor=\"end\" x=\"79\" y=\"4.199999999999999\" style=\"font-family: 'Open Sans', verdana, arial, sans-serif; font-size: 12px; fill: rgb(42, 63, 95); fill-opacity: 1; white-space: pre; opacity: 1;\" transform=\"translate(0,63.03)\">15</text></g></g><g class=\"overaxes-above\"/></g></g><g class=\"polarlayer\"/><g class=\"ternarylayer\"/><g class=\"geolayer\"/><g class=\"funnelarealayer\"/><g class=\"pielayer\"/><g class=\"iciclelayer\"/><g class=\"treemaplayer\"/><g class=\"sunburstlayer\"/><g class=\"glimages\"/><defs id=\"topdefs-9a7d12\"><g class=\"clips\"/></defs><g class=\"layer-above\"><g class=\"imagelayer\"/><g class=\"shapelayer\"/></g><g class=\"infolayer\"><g class=\"g-gtitle\"/><g class=\"g-xtitle\"/><g class=\"g-ytitle\"><text class=\"ytitle\" transform=\"rotate(-90,40.840625,240)\" x=\"40.840625\" y=\"240\" text-anchor=\"middle\" style=\"font-family: 'Open Sans', verdana, arial, sans-serif; font-size: 14px; fill: rgb(42, 63, 95); opacity: 1; font-weight: normal; white-space: pre;\">adjusted_salary</text></g></g></svg>"
      ]
     },
     "metadata": {},
     "output_type": "display_data"
    }
   ],
   "source": [
    "fig = px.box(df, y='adjusted_salary')\n",
    "fig.show()"
   ]
  },
  {
   "cell_type": "markdown",
   "metadata": {
    "papermill": {
     "duration": 0.138236,
     "end_time": "2021-07-03T11:15:45.561944",
     "exception": false,
     "start_time": "2021-07-03T11:15:45.423708",
     "status": "completed"
    },
    "tags": []
   },
   "source": [
    "**Encoding categorical variables**"
   ]
  },
  {
   "cell_type": "code",
   "execution_count": 113,
   "metadata": {
    "execution": {
     "iopub.execute_input": "2021-07-03T11:15:45.840757Z",
     "iopub.status.busy": "2021-07-03T11:15:45.840083Z",
     "iopub.status.idle": "2021-07-03T11:15:45.872810Z",
     "shell.execute_reply": "2021-07-03T11:15:45.873362Z",
     "shell.execute_reply.started": "2021-07-03T10:35:23.940893Z"
    },
    "papermill": {
     "duration": 0.173697,
     "end_time": "2021-07-03T11:15:45.873537",
     "exception": false,
     "start_time": "2021-07-03T11:15:45.699840",
     "status": "completed"
    },
    "tags": []
   },
   "outputs": [],
   "source": [
    "#convert categorical vlaues into dummy variables and picking t\n",
    "exp= pd.get_dummies(df['Q6'], prefix='exp', drop_first=True,dummy_na=True)\n",
    "ct = pd.get_dummies(df['Q3'], prefix='ct', drop_first=True,dummy_na=True)\n",
    "python= pd.get_dummies(df['Q7_Part_1'], drop_first=True,dummy_na=True)\n",
    "r= pd.get_dummies(df['Q7_Part_2'], drop_first=True,dummy_na=True)\n",
    "sql= pd.get_dummies(df['Q7_Part_3'], drop_first=True,dummy_na=True)\n",
    "c= pd.get_dummies(df['Q7_Part_4'], drop_first=True,dummy_na=True)\n",
    "cplusplus= pd.get_dummies(df['Q7_Part_5'], drop_first=True,dummy_na=True)\n",
    "java= pd.get_dummies(df['Q7_Part_6'], drop_first=True,dummy_na=True)\n",
    "javascript= pd.get_dummies(df['Q7_Part_7'], drop_first=True,dummy_na=True)\n",
    "julia= pd.get_dummies(df['Q7_Part_8'], drop_first=True,dummy_na=True)\n",
    "swift= pd.get_dummies(df['Q7_Part_9'], drop_first=True,dummy_na=True)\n",
    "bash= pd.get_dummies(df['Q7_Part_10'], drop_first=True,dummy_na=True)\n",
    "matlab= pd.get_dummies(df['Q7_Part_11'], drop_first=True,dummy_na=True)\n"
   ]
  },
  {
   "cell_type": "markdown",
   "metadata": {
    "papermill": {
     "duration": 0.137636,
     "end_time": "2021-07-03T11:15:46.148365",
     "exception": false,
     "start_time": "2021-07-03T11:15:46.010729",
     "status": "completed"
    },
    "tags": []
   },
   "source": [
    "Creating the final data frame for linear regression by adding all the columns"
   ]
  },
  {
   "cell_type": "code",
   "execution_count": 114,
   "metadata": {
    "execution": {
     "iopub.execute_input": "2021-07-03T11:15:46.425723Z",
     "iopub.status.busy": "2021-07-03T11:15:46.425059Z",
     "iopub.status.idle": "2021-07-03T11:15:46.439336Z",
     "shell.execute_reply": "2021-07-03T11:15:46.438613Z",
     "shell.execute_reply.started": "2021-07-03T10:35:23.987789Z"
    },
    "papermill": {
     "duration": 0.153804,
     "end_time": "2021-07-03T11:15:46.439500",
     "exception": false,
     "start_time": "2021-07-03T11:15:46.285696",
     "status": "completed"
    },
    "tags": []
   },
   "outputs": [],
   "source": [
    "#creating the final dataset for linear regression\n",
    "df_processed=pd.concat([python,r,sql,c,cplusplus,java,javascript,julia,swift,bash,matlab ],axis=1)\n",
    "df_processed.columns =['lang_python','lang_r','lang_sql','lang_c','lang_cplusplus','lang_java','lang_javascript','lang_julia','lang_swift','lang_bash','lang_matlab']\n",
    "df_processed=pd.concat([df['adjusted_salary'],exp,ct,df_processed],axis=1)\n",
    "df_processed=df_processed.drop('exp_nan',axis=1)\n",
    "df_processed=df_processed.drop('ct_nan',axis=1)"
   ]
  },
  {
   "cell_type": "markdown",
   "metadata": {
    "papermill": {
     "duration": 0.138349,
     "end_time": "2021-07-03T11:15:46.716993",
     "exception": false,
     "start_time": "2021-07-03T11:15:46.578644",
     "status": "completed"
    },
    "tags": []
   },
   "source": [
    "**Modelling the dataframe for linear regression analysis**"
   ]
  },
  {
   "cell_type": "code",
   "execution_count": 115,
   "metadata": {
    "execution": {
     "iopub.execute_input": "2021-07-03T11:15:47.003068Z",
     "iopub.status.busy": "2021-07-03T11:15:47.002369Z",
     "iopub.status.idle": "2021-07-03T11:15:47.079711Z",
     "shell.execute_reply": "2021-07-03T11:15:47.081427Z",
     "shell.execute_reply.started": "2021-07-03T10:35:24.005983Z"
    },
    "papermill": {
     "duration": 0.224928,
     "end_time": "2021-07-03T11:15:47.081777",
     "exception": false,
     "start_time": "2021-07-03T11:15:46.856849",
     "status": "completed"
    },
    "tags": []
   },
   "outputs": [
    {
     "name": "stdout",
     "output_type": "stream",
     "text": [
      "Train Mean Squarred Error: 1.3328847607945835\n",
      "Test Mean Squarred Error: 1.5096075418376957\n"
     ]
    }
   ],
   "source": [
    "#linear regression from scikit\n",
    "X=df_processed.drop('adjusted_salary',axis=1)\n",
    "y=df_processed['adjusted_salary']\n",
    "\n",
    "X_train, X_test, y_train, y_test = train_test_split(X, y, test_size=0.2, random_state=101)\n",
    "\n",
    "\n",
    "linreg = LinearRegression()\n",
    "linreg.fit(X_train, y_train)\n",
    "\n",
    "y_hat_train = linreg.predict(X_train)\n",
    "y_hat_test = linreg.predict(X_test)\n",
    "\n",
    "train_residuals = y_hat_train - y_train\n",
    "test_residuals = y_hat_test - y_test\n",
    "\n",
    "mse_train = np.sum((y_train-y_hat_train)**2)/len(y_train)\n",
    "mse_test = np.sum((y_test-y_hat_test)**2)/len(y_test)\n",
    "print('Train Mean Squarred Error:', mse_train)\n",
    "print('Test Mean Squarred Error:', mse_test)"
   ]
  },
  {
   "cell_type": "markdown",
   "metadata": {
    "papermill": {
     "duration": 0.13797,
     "end_time": "2021-07-03T11:15:47.423928",
     "exception": false,
     "start_time": "2021-07-03T11:15:47.285958",
     "status": "completed"
    },
    "tags": []
   },
   "source": [
    "Persisting the model output"
   ]
  },
  {
   "cell_type": "code",
   "execution_count": 116,
   "metadata": {
    "execution": {
     "iopub.execute_input": "2021-07-03T11:15:47.712769Z",
     "iopub.status.busy": "2021-07-03T11:15:47.711536Z",
     "iopub.status.idle": "2021-07-03T11:15:47.726062Z",
     "shell.execute_reply": "2021-07-03T11:15:47.725140Z",
     "shell.execute_reply.started": "2021-07-03T10:35:24.094999Z"
    },
    "papermill": {
     "duration": 0.161122,
     "end_time": "2021-07-03T11:15:47.726281",
     "exception": false,
     "start_time": "2021-07-03T11:15:47.565159",
     "status": "completed"
    },
    "tags": []
   },
   "outputs": [
    {
     "name": "stdout",
     "output_type": "stream",
     "text": [
      "9.855740973419401\n",
      "0.3748360053807097\n"
     ]
    }
   ],
   "source": [
    "#printing the coefficients\n",
    "print(linreg.intercept_)\n",
    "print(linreg.score(X,y))\n",
    "\n",
    "coefficients = pd.concat([pd.DataFrame(X.columns),pd.DataFrame(np.transpose(linreg.coef_))], axis = 1)\n",
    "coefficients.to_csv('coefficients.csv',index=False)"
   ]
  },
  {
   "cell_type": "code",
   "execution_count": 117,
   "metadata": {
    "execution": {
     "iopub.execute_input": "2021-07-03T11:15:48.054843Z",
     "iopub.status.busy": "2021-07-03T11:15:48.054135Z",
     "iopub.status.idle": "2021-07-03T11:15:48.056976Z",
     "shell.execute_reply": "2021-07-03T11:15:48.056382Z",
     "shell.execute_reply.started": "2021-07-03T10:35:24.146742Z"
    },
    "papermill": {
     "duration": 0.145702,
     "end_time": "2021-07-03T11:15:48.057116",
     "exception": false,
     "start_time": "2021-07-03T11:15:47.911414",
     "status": "completed"
    },
    "tags": []
   },
   "outputs": [],
   "source": [
    "#renaming columns\n",
    "coefficients.columns=['Variable','Coefficient']"
   ]
  },
  {
   "cell_type": "code",
   "execution_count": 118,
   "metadata": {
    "execution": {
     "iopub.execute_input": "2021-07-03T11:15:48.338827Z",
     "iopub.status.busy": "2021-07-03T11:15:48.338099Z",
     "iopub.status.idle": "2021-07-03T11:15:48.342996Z",
     "shell.execute_reply": "2021-07-03T11:15:48.343461Z",
     "shell.execute_reply.started": "2021-07-03T10:35:24.163580Z"
    },
    "papermill": {
     "duration": 0.146829,
     "end_time": "2021-07-03T11:15:48.343648",
     "exception": false,
     "start_time": "2021-07-03T11:15:48.196819",
     "status": "completed"
    },
    "tags": []
   },
   "outputs": [],
   "source": [
    "#Function to pick all rows beginning with particular string\n",
    "def filter_row_startswith(df,column,keyword,sortcolumn):\n",
    "    '''\n",
    "    Returns top 10 rows starting with the string passed and sorts descenging based on columne provided for clean charts\n",
    "    Parameters: \n",
    "        df(dataframe):datframe to be processed\n",
    "        column(string): column on which the filter to be applied\n",
    "        keyword(string):string to be searched in rows\n",
    "        sortcolumn(String):column to be sorted descending\n",
    "        \n",
    "    Returns:\n",
    "        filter_row(dataframe):dataframe of top 10 rows which are filtered and sorted \n",
    "    '''\n",
    "    filter_row = df[df[column].str.startswith(keyword)]\n",
    "    return filter_row.sort_values(by=sortcolumn,ascending=False).head(10)"
   ]
  },
  {
   "cell_type": "markdown",
   "metadata": {
    "papermill": {
     "duration": 0.153818,
     "end_time": "2021-07-03T11:15:48.645540",
     "exception": false,
     "start_time": "2021-07-03T11:15:48.491722",
     "status": "completed"
    },
    "tags": []
   },
   "source": [
    "**Visualising the coefficients**"
   ]
  },
  {
   "cell_type": "code",
   "execution_count": 119,
   "metadata": {
    "execution": {
     "iopub.execute_input": "2021-07-03T11:15:48.969527Z",
     "iopub.status.busy": "2021-07-03T11:15:48.968847Z",
     "iopub.status.idle": "2021-07-03T11:15:49.176401Z",
     "shell.execute_reply": "2021-07-03T11:15:49.175713Z",
     "shell.execute_reply.started": "2021-07-03T10:35:24.181717Z"
    },
    "papermill": {
     "duration": 0.348709,
     "end_time": "2021-07-03T11:15:49.176545",
     "exception": false,
     "start_time": "2021-07-03T11:15:48.827836",
     "status": "completed"
    },
    "tags": []
   },
   "outputs": [
    {
     "data": {
      "image/svg+xml": [
       "<svg class=\"main-svg\" xmlns=\"http://www.w3.org/2000/svg\" xmlns:xlink=\"http://www.w3.org/1999/xlink\" width=\"600\" height=\"600\" style=\"\" viewBox=\"0 0 600 600\"><rect x=\"0\" y=\"0\" width=\"600\" height=\"600\" style=\"fill: rgb(255, 255, 255); fill-opacity: 1;\"/><defs id=\"defs-b78a8f\"><g class=\"clips\"><clipPath id=\"clipb78a8fxyplot\" class=\"plotclip\"><rect width=\"440\" height=\"408\"/></clipPath><clipPath class=\"axesclip\" id=\"clipb78a8fx\"><rect x=\"80\" y=\"0\" width=\"440\" height=\"600\"/></clipPath><clipPath class=\"axesclip\" id=\"clipb78a8fy\"><rect x=\"0\" y=\"60\" width=\"600\" height=\"408\"/></clipPath><clipPath class=\"axesclip\" id=\"clipb78a8fxy\"><rect x=\"80\" y=\"60\" width=\"440\" height=\"408\"/></clipPath></g><g class=\"gradients\"/><g class=\"patterns\"/></defs><g class=\"bglayer\"><rect class=\"bg\" x=\"80\" y=\"60\" width=\"440\" height=\"408\" style=\"fill: rgb(229, 236, 246); fill-opacity: 1; stroke-width: 0;\"/></g><g class=\"layer-below\"><g class=\"imagelayer\"/><g class=\"shapelayer\"/></g><g class=\"cartesianlayer\"><g class=\"subplot xy\"><g class=\"layer-subplot\"><g class=\"shapelayer\"/><g class=\"imagelayer\"/></g><g class=\"gridlayer\"><g class=\"x\"/><g class=\"y\"><path class=\"ygrid crisp\" transform=\"translate(0,465.67)\" d=\"M80,0h440\" style=\"stroke: rgb(255, 255, 255); stroke-opacity: 1; stroke-width: 1px;\"/><path class=\"ygrid crisp\" transform=\"translate(0,338.42)\" d=\"M80,0h440\" style=\"stroke: rgb(255, 255, 255); stroke-opacity: 1; stroke-width: 1px;\"/><path class=\"ygrid crisp\" transform=\"translate(0,274.8)\" d=\"M80,0h440\" style=\"stroke: rgb(255, 255, 255); stroke-opacity: 1; stroke-width: 1px;\"/><path class=\"ygrid crisp\" transform=\"translate(0,211.17)\" d=\"M80,0h440\" style=\"stroke: rgb(255, 255, 255); stroke-opacity: 1; stroke-width: 1px;\"/><path class=\"ygrid crisp\" transform=\"translate(0,147.54000000000002)\" d=\"M80,0h440\" style=\"stroke: rgb(255, 255, 255); stroke-opacity: 1; stroke-width: 1px;\"/><path class=\"ygrid crisp\" transform=\"translate(0,83.92)\" d=\"M80,0h440\" style=\"stroke: rgb(255, 255, 255); stroke-opacity: 1; stroke-width: 1px;\"/></g></g><g class=\"zerolinelayer\"><path class=\"yzl zl crisp\" transform=\"translate(0,402.05)\" d=\"M80,0h440\" style=\"stroke: rgb(255, 255, 255); stroke-opacity: 1; stroke-width: 2px;\"/></g><path class=\"xlines-below\"/><path class=\"ylines-below\"/><g class=\"overlines-below\"/><g class=\"xaxislayer-below\"/><g class=\"yaxislayer-below\"/><g class=\"overaxes-below\"/><g class=\"plot\" transform=\"translate(80,60)\" clip-path=\"url(#clipb78a8fxyplot)\"><g class=\"barlayer mlayer\"><g class=\"trace bars\" style=\"opacity: 1;\"><g class=\"points\"><g class=\"point\"><path d=\"M7.33,342.05V20.4H66V342.05Z\" style=\"vector-effect: non-scaling-stroke; opacity: 1; stroke-width: 0.5px; fill: rgb(99, 110, 250); fill-opacity: 1; stroke: rgb(229, 236, 246); stroke-opacity: 1;\"/></g><g class=\"point\"><path d=\"M80.67,342.05V25.24H139.33V342.05Z\" style=\"vector-effect: non-scaling-stroke; opacity: 1; stroke-width: 0.5px; fill: rgb(99, 110, 250); fill-opacity: 1; stroke: rgb(229, 236, 246); stroke-opacity: 1;\"/></g><g class=\"point\"><path d=\"M154,342.05V111.72H212.67V342.05Z\" style=\"vector-effect: non-scaling-stroke; opacity: 1; stroke-width: 0.5px; fill: rgb(99, 110, 250); fill-opacity: 1; stroke: rgb(229, 236, 246); stroke-opacity: 1;\"/></g><g class=\"point\"><path d=\"M227.33,342.05V237.66H286V342.05Z\" style=\"vector-effect: non-scaling-stroke; opacity: 1; stroke-width: 0.5px; fill: rgb(99, 110, 250); fill-opacity: 1; stroke: rgb(229, 236, 246); stroke-opacity: 1;\"/></g><g class=\"point\"><path d=\"M300.67,342.05V325.02H359.33V342.05Z\" style=\"vector-effect: non-scaling-stroke; opacity: 1; stroke-width: 0.5px; fill: rgb(99, 110, 250); fill-opacity: 1; stroke: rgb(229, 236, 246); stroke-opacity: 1;\"/></g><g class=\"point\"><path d=\"M374,342.05V387.6H432.67V342.05Z\" style=\"vector-effect: non-scaling-stroke; opacity: 1; stroke-width: 0.5px; fill: rgb(99, 110, 250); fill-opacity: 1; stroke: rgb(229, 236, 246); stroke-opacity: 1;\"/></g></g></g></g></g><g class=\"overplot\"/><path class=\"xlines-above crisp\" d=\"M0,0\" style=\"fill: none;\"/><path class=\"ylines-above crisp\" d=\"M0,0\" style=\"fill: none;\"/><g class=\"overlines-above\"/><g class=\"xaxislayer-above\"><g class=\"xtick\"><text text-anchor=\"start\" x=\"0\" y=\"481\" transform=\"translate(116.67,0) rotate(30,0,475)\" style=\"font-family: 'Open Sans', verdana, arial, sans-serif; font-size: 12px; fill: rgb(42, 63, 95); fill-opacity: 1; white-space: pre; opacity: 1;\">exp_10-20 years</text></g><g class=\"xtick\"><text text-anchor=\"start\" x=\"0\" y=\"481\" transform=\"translate(190,0) rotate(30,0,475)\" style=\"font-family: 'Open Sans', verdana, arial, sans-serif; font-size: 12px; fill: rgb(42, 63, 95); fill-opacity: 1; white-space: pre; opacity: 1;\">exp_20+ years</text></g><g class=\"xtick\"><text text-anchor=\"start\" x=\"0\" y=\"481\" transform=\"translate(263.33000000000004,0) rotate(30,0,475)\" style=\"font-family: 'Open Sans', verdana, arial, sans-serif; font-size: 12px; fill: rgb(42, 63, 95); fill-opacity: 1; white-space: pre; opacity: 1;\">exp_5-10 years</text></g><g class=\"xtick\"><text text-anchor=\"start\" x=\"0\" y=\"481\" transform=\"translate(336.67,0) rotate(30,0,475)\" style=\"font-family: 'Open Sans', verdana, arial, sans-serif; font-size: 12px; fill: rgb(42, 63, 95); fill-opacity: 1; white-space: pre; opacity: 1;\">exp_3-5 years</text></g><g class=\"xtick\"><text text-anchor=\"start\" x=\"0\" y=\"481\" transform=\"translate(410,0) rotate(30,0,475)\" style=\"font-family: 'Open Sans', verdana, arial, sans-serif; font-size: 12px; fill: rgb(42, 63, 95); fill-opacity: 1; white-space: pre; opacity: 1;\">exp_I have never written code</text></g><g class=\"xtick\"><text text-anchor=\"start\" x=\"0\" y=\"481\" transform=\"translate(483.33,0) rotate(30,0,475)\" style=\"font-family: 'Open Sans', verdana, arial, sans-serif; font-size: 12px; fill: rgb(42, 63, 95); fill-opacity: 1; white-space: pre; opacity: 1;\">exp_&#60; 1 years</text></g></g><g class=\"yaxislayer-above\"><g class=\"ytick\"><text text-anchor=\"end\" x=\"79\" y=\"4.199999999999999\" transform=\"translate(0,465.67)\" style=\"font-family: 'Open Sans', verdana, arial, sans-serif; font-size: 12px; fill: rgb(42, 63, 95); fill-opacity: 1; white-space: pre; opacity: 1;\">−0.2</text></g><g class=\"ytick\"><text text-anchor=\"end\" x=\"79\" y=\"4.199999999999999\" style=\"font-family: 'Open Sans', verdana, arial, sans-serif; font-size: 12px; fill: rgb(42, 63, 95); fill-opacity: 1; white-space: pre; opacity: 1;\" transform=\"translate(0,402.05)\">0</text></g><g class=\"ytick\"><text text-anchor=\"end\" x=\"79\" y=\"4.199999999999999\" style=\"font-family: 'Open Sans', verdana, arial, sans-serif; font-size: 12px; fill: rgb(42, 63, 95); fill-opacity: 1; white-space: pre; opacity: 1;\" transform=\"translate(0,338.42)\">0.2</text></g><g class=\"ytick\"><text text-anchor=\"end\" x=\"79\" y=\"4.199999999999999\" style=\"font-family: 'Open Sans', verdana, arial, sans-serif; font-size: 12px; fill: rgb(42, 63, 95); fill-opacity: 1; white-space: pre; opacity: 1;\" transform=\"translate(0,274.8)\">0.4</text></g><g class=\"ytick\"><text text-anchor=\"end\" x=\"79\" y=\"4.199999999999999\" style=\"font-family: 'Open Sans', verdana, arial, sans-serif; font-size: 12px; fill: rgb(42, 63, 95); fill-opacity: 1; white-space: pre; opacity: 1;\" transform=\"translate(0,211.17)\">0.6</text></g><g class=\"ytick\"><text text-anchor=\"end\" x=\"79\" y=\"4.199999999999999\" style=\"font-family: 'Open Sans', verdana, arial, sans-serif; font-size: 12px; fill: rgb(42, 63, 95); fill-opacity: 1; white-space: pre; opacity: 1;\" transform=\"translate(0,147.54000000000002)\">0.8</text></g><g class=\"ytick\"><text text-anchor=\"end\" x=\"79\" y=\"4.199999999999999\" style=\"font-family: 'Open Sans', verdana, arial, sans-serif; font-size: 12px; fill: rgb(42, 63, 95); fill-opacity: 1; white-space: pre; opacity: 1;\" transform=\"translate(0,83.92)\">1</text></g></g><g class=\"overaxes-above\"/></g></g><g class=\"polarlayer\"/><g class=\"ternarylayer\"/><g class=\"geolayer\"/><g class=\"funnelarealayer\"/><g class=\"pielayer\"/><g class=\"iciclelayer\"/><g class=\"treemaplayer\"/><g class=\"sunburstlayer\"/><g class=\"glimages\"/><defs id=\"topdefs-b78a8f\"><g class=\"clips\"/></defs><g class=\"layer-above\"><g class=\"imagelayer\"/><g class=\"shapelayer\"/></g><g class=\"infolayer\"><g class=\"g-gtitle\"/><g class=\"g-xtitle\"><text class=\"xtitle\" x=\"300\" y=\"587.8048828125\" text-anchor=\"middle\" style=\"font-family: 'Open Sans', verdana, arial, sans-serif; font-size: 14px; fill: rgb(42, 63, 95); opacity: 1; font-weight: normal; white-space: pre;\">Experience</text></g><g class=\"g-ytitle\"><text class=\"ytitle\" transform=\"rotate(-90,30.496875000000003,264)\" x=\"30.496875000000003\" y=\"264\" text-anchor=\"middle\" style=\"font-family: 'Open Sans', verdana, arial, sans-serif; font-size: 14px; fill: rgb(42, 63, 95); opacity: 1; font-weight: normal; white-space: pre;\">Coefficient</text></g><g class=\"annotation\" data-index=\"0\" style=\"opacity: 1;\"><g class=\"annotation-text-g\" transform=\"rotate(0,255,32.199999999999974)\"><g class=\"cursor-pointer\" transform=\"translate(78,19)\"><rect class=\"bg\" x=\"0.5\" y=\"0.5\" width=\"353\" height=\"25\" style=\"stroke-width: 1px; stroke: rgb(0, 0, 0); stroke-opacity: 0; fill: rgb(0, 0, 0); fill-opacity: 0;\"/><text class=\"annotation-text\" text-anchor=\"middle\" x=\"177.125\" y=\"20\" style=\"font-family: 'Open Sans', verdana, arial, sans-serif; font-size: 12px; fill: rgb(42, 63, 95); fill-opacity: 1; white-space: pre;\"><tspan class=\"line\" dy=\"0em\" x=\"177.125\" y=\"20\"><tspan style=\"font-size:20px; \">Top paid kagglers based on Experience</tspan></tspan><tspan class=\"line\" dy=\"1.3em\" x=\"177.125\" y=\"20\"></tspan><tspan class=\"line\" dy=\"2.6em\" x=\"177.125\" y=\"20\"></tspan></text></g></g></g></g></svg>"
      ]
     },
     "metadata": {},
     "output_type": "display_data"
    }
   ],
   "source": [
    "#plotting to map coefficients - Experience\n",
    "df_temp=filter_row_startswith(coefficients,'Variable','exp','Coefficient')\n",
    "fig = px.bar(df_temp, x=\"Variable\", y=\"Coefficient\",\n",
    "    width = 600,\n",
    "    height = 600)\n",
    "\n",
    "\n",
    "fig.update_xaxes(title_text=\"Experience\")\n",
    "fig.update_yaxes(title_text=\"Coefficient\")\n",
    "\n",
    "large_title_format = \"<span style='font-size:20px; '>Top paid kagglers based on Experience</span>\"\n",
    "\n",
    "fig.add_annotation(dict(\n",
    "                            x= 0.8,\n",
    "                            y=1.1,\n",
    "                            showarrow=False,\n",
    "                            text= large_title_format + \"<br><br>\" ,\n",
    "                            textangle=0,\n",
    "                            xref=\"paper\",\n",
    "                            yref=\"paper\"\n",
    "                           ))\n",
    "fig.show()\n",
    "\n"
   ]
  },
  {
   "cell_type": "code",
   "execution_count": 120,
   "metadata": {},
   "outputs": [
    {
     "data": {
      "image/svg+xml": [
       "<svg class=\"main-svg\" xmlns=\"http://www.w3.org/2000/svg\" xmlns:xlink=\"http://www.w3.org/1999/xlink\" width=\"600\" height=\"600\" style=\"\" viewBox=\"0 0 600 600\"><rect x=\"0\" y=\"0\" width=\"600\" height=\"600\" style=\"fill: rgb(255, 255, 255); fill-opacity: 1;\"/><defs id=\"defs-bc5fc5\"><g class=\"clips\"><clipPath id=\"clipbc5fc5xyplot\" class=\"plotclip\"><rect width=\"440\" height=\"414\"/></clipPath><clipPath class=\"axesclip\" id=\"clipbc5fc5x\"><rect x=\"80\" y=\"0\" width=\"440\" height=\"600\"/></clipPath><clipPath class=\"axesclip\" id=\"clipbc5fc5y\"><rect x=\"0\" y=\"60\" width=\"600\" height=\"414\"/></clipPath><clipPath class=\"axesclip\" id=\"clipbc5fc5xy\"><rect x=\"80\" y=\"60\" width=\"440\" height=\"414\"/></clipPath></g><g class=\"gradients\"/><g class=\"patterns\"/></defs><g class=\"bglayer\"><rect class=\"bg\" x=\"80\" y=\"60\" width=\"440\" height=\"414\" style=\"fill: rgb(229, 236, 246); fill-opacity: 1; stroke-width: 0;\"/></g><g class=\"layer-below\"><g class=\"imagelayer\"/><g class=\"shapelayer\"/></g><g class=\"cartesianlayer\"><g class=\"subplot xy\"><g class=\"layer-subplot\"><g class=\"shapelayer\"/><g class=\"imagelayer\"/></g><g class=\"gridlayer\"><g class=\"x\"/><g class=\"y\"><path class=\"ygrid crisp\" transform=\"translate(0,412)\" d=\"M80,0h440\" style=\"stroke: rgb(255, 255, 255); stroke-opacity: 1; stroke-width: 1px;\"/><path class=\"ygrid crisp\" transform=\"translate(0,349.99)\" d=\"M80,0h440\" style=\"stroke: rgb(255, 255, 255); stroke-opacity: 1; stroke-width: 1px;\"/><path class=\"ygrid crisp\" transform=\"translate(0,287.99)\" d=\"M80,0h440\" style=\"stroke: rgb(255, 255, 255); stroke-opacity: 1; stroke-width: 1px;\"/><path class=\"ygrid crisp\" transform=\"translate(0,225.98)\" d=\"M80,0h440\" style=\"stroke: rgb(255, 255, 255); stroke-opacity: 1; stroke-width: 1px;\"/><path class=\"ygrid crisp\" transform=\"translate(0,163.98000000000002)\" d=\"M80,0h440\" style=\"stroke: rgb(255, 255, 255); stroke-opacity: 1; stroke-width: 1px;\"/><path class=\"ygrid crisp\" transform=\"translate(0,101.97)\" d=\"M80,0h440\" style=\"stroke: rgb(255, 255, 255); stroke-opacity: 1; stroke-width: 1px;\"/></g></g><g class=\"zerolinelayer\"><path class=\"yzl zl crisp\" transform=\"translate(0,474)\" d=\"M80,0h440\" style=\"stroke: rgb(255, 255, 255); stroke-opacity: 1; stroke-width: 2px;\"/></g><path class=\"xlines-below\"/><path class=\"ylines-below\"/><g class=\"overlines-below\"/><g class=\"xaxislayer-below\"/><g class=\"yaxislayer-below\"/><g class=\"overaxes-below\"/><g class=\"plot\" transform=\"translate(80,60)\" clip-path=\"url(#clipbc5fc5xyplot)\"><g class=\"barlayer mlayer\"><g class=\"trace bars\" style=\"opacity: 1;\"><g class=\"points\"><g class=\"point\"><path d=\"M4.4,414V20.7H39.6V414Z\" style=\"vector-effect: non-scaling-stroke; opacity: 1; stroke-width: 0.5px; fill: rgb(99, 110, 250); fill-opacity: 1; stroke: rgb(229, 236, 246); stroke-opacity: 1;\"/></g><g class=\"point\"><path d=\"M48.4,414V88.52H83.6V414Z\" style=\"vector-effect: non-scaling-stroke; opacity: 1; stroke-width: 0.5px; fill: rgb(99, 110, 250); fill-opacity: 1; stroke: rgb(229, 236, 246); stroke-opacity: 1;\"/></g><g class=\"point\"><path d=\"M92.4,414V92.39H127.6V414Z\" style=\"vector-effect: non-scaling-stroke; opacity: 1; stroke-width: 0.5px; fill: rgb(99, 110, 250); fill-opacity: 1; stroke: rgb(229, 236, 246); stroke-opacity: 1;\"/></g><g class=\"point\"><path d=\"M136.4,414V114.39H171.6V414Z\" style=\"vector-effect: non-scaling-stroke; opacity: 1; stroke-width: 0.5px; fill: rgb(99, 110, 250); fill-opacity: 1; stroke: rgb(229, 236, 246); stroke-opacity: 1;\"/></g><g class=\"point\"><path d=\"M180.4,414V154.25H215.6V414Z\" style=\"vector-effect: non-scaling-stroke; opacity: 1; stroke-width: 0.5px; fill: rgb(99, 110, 250); fill-opacity: 1; stroke: rgb(229, 236, 246); stroke-opacity: 1;\"/></g><g class=\"point\"><path d=\"M224.4,414V173.1H259.6V414Z\" style=\"vector-effect: non-scaling-stroke; opacity: 1; stroke-width: 0.5px; fill: rgb(99, 110, 250); fill-opacity: 1; stroke: rgb(229, 236, 246); stroke-opacity: 1;\"/></g><g class=\"point\"><path d=\"M268.4,414V179.88H303.6V414Z\" style=\"vector-effect: non-scaling-stroke; opacity: 1; stroke-width: 0.5px; fill: rgb(99, 110, 250); fill-opacity: 1; stroke: rgb(229, 236, 246); stroke-opacity: 1;\"/></g><g class=\"point\"><path d=\"M312.4,414V199.08H347.6V414Z\" style=\"vector-effect: non-scaling-stroke; opacity: 1; stroke-width: 0.5px; fill: rgb(99, 110, 250); fill-opacity: 1; stroke: rgb(229, 236, 246); stroke-opacity: 1;\"/></g><g class=\"point\"><path d=\"M356.4,414V218.11H391.6V414Z\" style=\"vector-effect: non-scaling-stroke; opacity: 1; stroke-width: 0.5px; fill: rgb(99, 110, 250); fill-opacity: 1; stroke: rgb(229, 236, 246); stroke-opacity: 1;\"/></g><g class=\"point\"><path d=\"M400.4,414V220.85H435.6V414Z\" style=\"vector-effect: non-scaling-stroke; opacity: 1; stroke-width: 0.5px; fill: rgb(99, 110, 250); fill-opacity: 1; stroke: rgb(229, 236, 246); stroke-opacity: 1;\"/></g></g></g></g></g><g class=\"overplot\"/><path class=\"xlines-above crisp\" d=\"M0,0\" style=\"fill: none;\"/><path class=\"ylines-above crisp\" d=\"M0,0\" style=\"fill: none;\"/><g class=\"overlines-above\"/><g class=\"xaxislayer-above\"><g class=\"xtick\"><text text-anchor=\"start\" x=\"0\" y=\"487\" transform=\"translate(102,0) rotate(30,0,481)\" style=\"font-family: 'Open Sans', verdana, arial, sans-serif; font-size: 12px; fill: rgb(42, 63, 95); fill-opacity: 1; white-space: pre; opacity: 1;\">ct_United States of America</text></g><g class=\"xtick\"><text text-anchor=\"start\" x=\"0\" y=\"487\" transform=\"translate(146,0) rotate(30,0,481)\" style=\"font-family: 'Open Sans', verdana, arial, sans-serif; font-size: 12px; fill: rgb(42, 63, 95); fill-opacity: 1; white-space: pre; opacity: 1;\">ct_United Arab Emirates</text></g><g class=\"xtick\"><text text-anchor=\"start\" x=\"0\" y=\"487\" transform=\"translate(190,0) rotate(30,0,481)\" style=\"font-family: 'Open Sans', verdana, arial, sans-serif; font-size: 12px; fill: rgb(42, 63, 95); fill-opacity: 1; white-space: pre; opacity: 1;\">ct_Australia</text></g><g class=\"xtick\"><text text-anchor=\"start\" x=\"0\" y=\"487\" transform=\"translate(234,0) rotate(30,0,481)\" style=\"font-family: 'Open Sans', verdana, arial, sans-serif; font-size: 12px; fill: rgb(42, 63, 95); fill-opacity: 1; white-space: pre; opacity: 1;\">ct_Israel</text></g><g class=\"xtick\"><text text-anchor=\"start\" x=\"0\" y=\"487\" transform=\"translate(278,0) rotate(30,0,481)\" style=\"font-family: 'Open Sans', verdana, arial, sans-serif; font-size: 12px; fill: rgb(42, 63, 95); fill-opacity: 1; white-space: pre; opacity: 1;\">ct_Canada</text></g><g class=\"xtick\"><text text-anchor=\"start\" x=\"0\" y=\"487\" transform=\"translate(322,0) rotate(30,0,481)\" style=\"font-family: 'Open Sans', verdana, arial, sans-serif; font-size: 12px; fill: rgb(42, 63, 95); fill-opacity: 1; white-space: pre; opacity: 1;\">ct_Germany</text></g><g class=\"xtick\"><text text-anchor=\"start\" x=\"0\" y=\"487\" transform=\"translate(366,0) rotate(30,0,481)\" style=\"font-family: 'Open Sans', verdana, arial, sans-serif; font-size: 12px; fill: rgb(42, 63, 95); fill-opacity: 1; white-space: pre; opacity: 1;\">ct_Switzerland</text></g><g class=\"xtick\"><text text-anchor=\"start\" x=\"0\" y=\"487\" transform=\"translate(410,0) rotate(30,0,481)\" style=\"font-family: 'Open Sans', verdana, arial, sans-serif; font-size: 12px; fill: rgb(42, 63, 95); fill-opacity: 1; white-space: pre; opacity: 1;\">ct_Netherlands</text></g><g class=\"xtick\"><text text-anchor=\"start\" x=\"0\" y=\"487\" transform=\"translate(454,0) rotate(30,0,481)\" style=\"font-family: 'Open Sans', verdana, arial, sans-serif; font-size: 12px; fill: rgb(42, 63, 95); fill-opacity: 1; white-space: pre; opacity: 1;\">ct_Ireland</text></g><g class=\"xtick\"><text text-anchor=\"start\" x=\"0\" y=\"487\" transform=\"translate(498,0) rotate(30,0,481)\" style=\"font-family: 'Open Sans', verdana, arial, sans-serif; font-size: 12px; fill: rgb(42, 63, 95); fill-opacity: 1; white-space: pre; opacity: 1;\">ct_South Africa</text></g></g><g class=\"yaxislayer-above\"><g class=\"ytick\"><text text-anchor=\"end\" x=\"79\" y=\"4.199999999999999\" transform=\"translate(0,474)\" style=\"font-family: 'Open Sans', verdana, arial, sans-serif; font-size: 12px; fill: rgb(42, 63, 95); fill-opacity: 1; white-space: pre; opacity: 1;\">0</text></g><g class=\"ytick\"><text text-anchor=\"end\" x=\"79\" y=\"4.199999999999999\" style=\"font-family: 'Open Sans', verdana, arial, sans-serif; font-size: 12px; fill: rgb(42, 63, 95); fill-opacity: 1; white-space: pre; opacity: 1;\" transform=\"translate(0,412)\">0.2</text></g><g class=\"ytick\"><text text-anchor=\"end\" x=\"79\" y=\"4.199999999999999\" style=\"font-family: 'Open Sans', verdana, arial, sans-serif; font-size: 12px; fill: rgb(42, 63, 95); fill-opacity: 1; white-space: pre; opacity: 1;\" transform=\"translate(0,349.99)\">0.4</text></g><g class=\"ytick\"><text text-anchor=\"end\" x=\"79\" y=\"4.199999999999999\" style=\"font-family: 'Open Sans', verdana, arial, sans-serif; font-size: 12px; fill: rgb(42, 63, 95); fill-opacity: 1; white-space: pre; opacity: 1;\" transform=\"translate(0,287.99)\">0.6</text></g><g class=\"ytick\"><text text-anchor=\"end\" x=\"79\" y=\"4.199999999999999\" style=\"font-family: 'Open Sans', verdana, arial, sans-serif; font-size: 12px; fill: rgb(42, 63, 95); fill-opacity: 1; white-space: pre; opacity: 1;\" transform=\"translate(0,225.98)\">0.8</text></g><g class=\"ytick\"><text text-anchor=\"end\" x=\"79\" y=\"4.199999999999999\" style=\"font-family: 'Open Sans', verdana, arial, sans-serif; font-size: 12px; fill: rgb(42, 63, 95); fill-opacity: 1; white-space: pre; opacity: 1;\" transform=\"translate(0,163.98000000000002)\">1</text></g><g class=\"ytick\"><text text-anchor=\"end\" x=\"79\" y=\"4.199999999999999\" style=\"font-family: 'Open Sans', verdana, arial, sans-serif; font-size: 12px; fill: rgb(42, 63, 95); fill-opacity: 1; white-space: pre; opacity: 1;\" transform=\"translate(0,101.97)\">1.2</text></g></g><g class=\"overaxes-above\"/></g></g><g class=\"polarlayer\"/><g class=\"ternarylayer\"/><g class=\"geolayer\"/><g class=\"funnelarealayer\"/><g class=\"pielayer\"/><g class=\"iciclelayer\"/><g class=\"treemaplayer\"/><g class=\"sunburstlayer\"/><g class=\"glimages\"/><defs id=\"topdefs-bc5fc5\"><g class=\"clips\"/></defs><g class=\"layer-above\"><g class=\"imagelayer\"/><g class=\"shapelayer\"/></g><g class=\"infolayer\"><g class=\"g-gtitle\"/><g class=\"g-xtitle\"><text class=\"xtitle\" x=\"300\" y=\"588.1251953125\" text-anchor=\"middle\" style=\"font-family: 'Open Sans', verdana, arial, sans-serif; font-size: 14px; fill: rgb(42, 63, 95); opacity: 1; font-weight: normal; white-space: pre;\">Country</text></g><g class=\"g-ytitle\"><text class=\"ytitle\" transform=\"rotate(-90,37.5125,267)\" x=\"37.5125\" y=\"267\" text-anchor=\"middle\" style=\"font-family: 'Open Sans', verdana, arial, sans-serif; font-size: 14px; fill: rgb(42, 63, 95); opacity: 1; font-weight: normal; white-space: pre;\">Coefficient</text></g><g class=\"annotation\" data-index=\"0\" style=\"opacity: 1;\"><g class=\"annotation-text-g\" transform=\"rotate(0,272,31.599999999999977)\"><g class=\"cursor-pointer\" transform=\"translate(112,19)\"><rect class=\"bg\" x=\"0.5\" y=\"0.5\" width=\"319\" height=\"25\" style=\"stroke-width: 1px; stroke: rgb(0, 0, 0); stroke-opacity: 0; fill: rgb(0, 0, 0); fill-opacity: 0;\"/><text class=\"annotation-text\" text-anchor=\"middle\" x=\"159.890625\" y=\"20\" style=\"font-family: 'Open Sans', verdana, arial, sans-serif; font-size: 12px; fill: rgb(42, 63, 95); fill-opacity: 1; white-space: pre;\"><tspan class=\"line\" dy=\"0em\" x=\"159.890625\" y=\"20\"><tspan style=\"font-size:20px; \">Top paid kagglers based on country</tspan></tspan><tspan class=\"line\" dy=\"1.3em\" x=\"159.890625\" y=\"20\"></tspan><tspan class=\"line\" dy=\"2.6em\" x=\"159.890625\" y=\"20\"></tspan></text></g></g></g></g></svg>"
      ]
     },
     "metadata": {},
     "output_type": "display_data"
    }
   ],
   "source": [
    "#plotting to map coefficients - Country\n",
    "df_temp=filter_row_startswith(coefficients,'Variable','ct','Coefficient')\n",
    "fig = px.bar(df_temp, x=\"Variable\", y=\"Coefficient\",\n",
    "    width = 600,\n",
    "    height = 600)\n",
    "\n",
    "\n",
    "fig.update_xaxes(title_text=\"Country\")\n",
    "fig.update_yaxes(title_text=\"Coefficient\")\n",
    "\n",
    "large_title_format = \"<span style='font-size:20px; '>Top paid kagglers based on country</span>\"\n",
    "\n",
    "fig.add_annotation(dict(\n",
    "                            x= 0.8,\n",
    "                            y=1.1,\n",
    "                            showarrow=False,\n",
    "                            text= large_title_format + \"<br><br>\" ,\n",
    "                            textangle=0,\n",
    "                            xref=\"paper\",\n",
    "                            yref=\"paper\"\n",
    "                           ))\n",
    "fig.show()\n",
    "\n"
   ]
  },
  {
   "cell_type": "code",
   "execution_count": 121,
   "metadata": {},
   "outputs": [
    {
     "data": {
      "image/svg+xml": [
       "<svg class=\"main-svg\" xmlns=\"http://www.w3.org/2000/svg\" xmlns:xlink=\"http://www.w3.org/1999/xlink\" width=\"600\" height=\"600\" style=\"\" viewBox=\"0 0 600 600\"><rect x=\"0\" y=\"0\" width=\"600\" height=\"600\" style=\"fill: rgb(255, 255, 255); fill-opacity: 1;\"/><defs id=\"defs-ae5f65\"><g class=\"clips\"><clipPath id=\"clipae5f65xyplot\" class=\"plotclip\"><rect width=\"440\" height=\"448\"/></clipPath><clipPath class=\"axesclip\" id=\"clipae5f65x\"><rect x=\"80\" y=\"0\" width=\"440\" height=\"600\"/></clipPath><clipPath class=\"axesclip\" id=\"clipae5f65y\"><rect x=\"0\" y=\"60\" width=\"600\" height=\"448\"/></clipPath><clipPath class=\"axesclip\" id=\"clipae5f65xy\"><rect x=\"80\" y=\"60\" width=\"440\" height=\"448\"/></clipPath></g><g class=\"gradients\"/><g class=\"patterns\"/></defs><g class=\"bglayer\"><rect class=\"bg\" x=\"80\" y=\"60\" width=\"440\" height=\"448\" style=\"fill: rgb(229, 236, 246); fill-opacity: 1; stroke-width: 0;\"/></g><g class=\"layer-below\"><g class=\"imagelayer\"/><g class=\"shapelayer\"/></g><g class=\"cartesianlayer\"><g class=\"subplot xy\"><g class=\"layer-subplot\"><g class=\"shapelayer\"/><g class=\"imagelayer\"/></g><g class=\"gridlayer\"><g class=\"x\"/><g class=\"y\"><path class=\"ygrid crisp\" transform=\"translate(0,491.88)\" d=\"M80,0h440\" style=\"stroke: rgb(255, 255, 255); stroke-opacity: 1; stroke-width: 1px;\"/><path class=\"ygrid crisp\" transform=\"translate(0,417.84)\" d=\"M80,0h440\" style=\"stroke: rgb(255, 255, 255); stroke-opacity: 1; stroke-width: 1px;\"/><path class=\"ygrid crisp\" transform=\"translate(0,269.74)\" d=\"M80,0h440\" style=\"stroke: rgb(255, 255, 255); stroke-opacity: 1; stroke-width: 1px;\"/><path class=\"ygrid crisp\" transform=\"translate(0,195.7)\" d=\"M80,0h440\" style=\"stroke: rgb(255, 255, 255); stroke-opacity: 1; stroke-width: 1px;\"/><path class=\"ygrid crisp\" transform=\"translate(0,121.65)\" d=\"M80,0h440\" style=\"stroke: rgb(255, 255, 255); stroke-opacity: 1; stroke-width: 1px;\"/></g></g><g class=\"zerolinelayer\"><path class=\"yzl zl crisp\" transform=\"translate(0,343.79)\" d=\"M80,0h440\" style=\"stroke: rgb(255, 255, 255); stroke-opacity: 1; stroke-width: 2px;\"/></g><path class=\"xlines-below\"/><path class=\"ylines-below\"/><g class=\"overlines-below\"/><g class=\"xaxislayer-below\"/><g class=\"yaxislayer-below\"/><g class=\"overaxes-below\"/><g class=\"plot\" transform=\"translate(80,60)\" clip-path=\"url(#clipae5f65xyplot)\"><g class=\"barlayer mlayer\"><g class=\"trace bars\" style=\"opacity: 1;\"><g class=\"points\"><g class=\"point\"><path d=\"M4.4,283.79V22.4H39.6V283.79Z\" style=\"vector-effect: non-scaling-stroke; opacity: 1; stroke-width: 0.5px; fill: rgb(99, 110, 250); fill-opacity: 1; stroke: rgb(229, 236, 246); stroke-opacity: 1;\"/></g><g class=\"point\"><path d=\"M48.4,283.79V178.28H83.6V283.79Z\" style=\"vector-effect: non-scaling-stroke; opacity: 1; stroke-width: 0.5px; fill: rgb(99, 110, 250); fill-opacity: 1; stroke: rgb(229, 236, 246); stroke-opacity: 1;\"/></g><g class=\"point\"><path d=\"M92.4,283.79V208.73H127.6V283.79Z\" style=\"vector-effect: non-scaling-stroke; opacity: 1; stroke-width: 0.5px; fill: rgb(99, 110, 250); fill-opacity: 1; stroke: rgb(229, 236, 246); stroke-opacity: 1;\"/></g><g class=\"point\"><path d=\"M136.4,283.79V230.72H171.6V283.79Z\" style=\"vector-effect: non-scaling-stroke; opacity: 1; stroke-width: 0.5px; fill: rgb(99, 110, 250); fill-opacity: 1; stroke: rgb(229, 236, 246); stroke-opacity: 1;\"/></g><g class=\"point\"><path d=\"M180.4,283.79V236.86H215.6V283.79Z\" style=\"vector-effect: non-scaling-stroke; opacity: 1; stroke-width: 0.5px; fill: rgb(99, 110, 250); fill-opacity: 1; stroke: rgb(229, 236, 246); stroke-opacity: 1;\"/></g><g class=\"point\"><path d=\"M224.4,283.79V242.03H259.6V283.79Z\" style=\"vector-effect: non-scaling-stroke; opacity: 1; stroke-width: 0.5px; fill: rgb(99, 110, 250); fill-opacity: 1; stroke: rgb(229, 236, 246); stroke-opacity: 1;\"/></g><g class=\"point\"><path d=\"M268.4,283.79V300.2H303.6V283.79Z\" style=\"vector-effect: non-scaling-stroke; opacity: 1; stroke-width: 0.5px; fill: rgb(99, 110, 250); fill-opacity: 1; stroke: rgb(229, 236, 246); stroke-opacity: 1;\"/></g><g class=\"point\"><path d=\"M312.4,283.79V322.3H347.6V283.79Z\" style=\"vector-effect: non-scaling-stroke; opacity: 1; stroke-width: 0.5px; fill: rgb(99, 110, 250); fill-opacity: 1; stroke: rgb(229, 236, 246); stroke-opacity: 1;\"/></g><g class=\"point\"><path d=\"M356.4,283.79V372.3H391.6V283.79Z\" style=\"vector-effect: non-scaling-stroke; opacity: 1; stroke-width: 0.5px; fill: rgb(99, 110, 250); fill-opacity: 1; stroke: rgb(229, 236, 246); stroke-opacity: 1;\"/></g><g class=\"point\"><path d=\"M400.4,283.79V425.6H435.6V283.79Z\" style=\"vector-effect: non-scaling-stroke; opacity: 1; stroke-width: 0.5px; fill: rgb(99, 110, 250); fill-opacity: 1; stroke: rgb(229, 236, 246); stroke-opacity: 1;\"/></g></g></g></g></g><g class=\"overplot\"/><path class=\"xlines-above crisp\" d=\"M0,0\" style=\"fill: none;\"/><path class=\"ylines-above crisp\" d=\"M0,0\" style=\"fill: none;\"/><g class=\"overlines-above\"/><g class=\"xaxislayer-above\"><g class=\"xtick\"><text text-anchor=\"start\" x=\"0\" y=\"521\" transform=\"translate(102,0) rotate(30,0,515)\" style=\"font-family: 'Open Sans', verdana, arial, sans-serif; font-size: 12px; fill: rgb(42, 63, 95); fill-opacity: 1; white-space: pre; opacity: 1;\">lang_c</text></g><g class=\"xtick\"><text text-anchor=\"start\" x=\"0\" y=\"521\" transform=\"translate(146,0) rotate(30,0,515)\" style=\"font-family: 'Open Sans', verdana, arial, sans-serif; font-size: 12px; fill: rgb(42, 63, 95); fill-opacity: 1; white-space: pre; opacity: 1;\">lang_matlab</text></g><g class=\"xtick\"><text text-anchor=\"start\" x=\"0\" y=\"521\" transform=\"translate(190,0) rotate(30,0,515)\" style=\"font-family: 'Open Sans', verdana, arial, sans-serif; font-size: 12px; fill: rgb(42, 63, 95); fill-opacity: 1; white-space: pre; opacity: 1;\">lang_javascript</text></g><g class=\"xtick\"><text text-anchor=\"start\" x=\"0\" y=\"521\" transform=\"translate(234,0) rotate(30,0,515)\" style=\"font-family: 'Open Sans', verdana, arial, sans-serif; font-size: 12px; fill: rgb(42, 63, 95); fill-opacity: 1; white-space: pre; opacity: 1;\">lang_cplusplus</text></g><g class=\"xtick\"><text text-anchor=\"start\" x=\"0\" y=\"521\" transform=\"translate(278,0) rotate(30,0,515)\" style=\"font-family: 'Open Sans', verdana, arial, sans-serif; font-size: 12px; fill: rgb(42, 63, 95); fill-opacity: 1; white-space: pre; opacity: 1;\">lang_python</text></g><g class=\"xtick\"><text text-anchor=\"start\" x=\"0\" y=\"521\" transform=\"translate(322,0) rotate(30,0,515)\" style=\"font-family: 'Open Sans', verdana, arial, sans-serif; font-size: 12px; fill: rgb(42, 63, 95); fill-opacity: 1; white-space: pre; opacity: 1;\">lang_java</text></g><g class=\"xtick\"><text text-anchor=\"start\" x=\"0\" y=\"521\" transform=\"translate(366,0) rotate(30,0,515)\" style=\"font-family: 'Open Sans', verdana, arial, sans-serif; font-size: 12px; fill: rgb(42, 63, 95); fill-opacity: 1; white-space: pre; opacity: 1;\">lang_r</text></g><g class=\"xtick\"><text text-anchor=\"start\" x=\"0\" y=\"521\" transform=\"translate(410,0) rotate(30,0,515)\" style=\"font-family: 'Open Sans', verdana, arial, sans-serif; font-size: 12px; fill: rgb(42, 63, 95); fill-opacity: 1; white-space: pre; opacity: 1;\">lang_sql</text></g><g class=\"xtick\"><text text-anchor=\"start\" x=\"0\" y=\"521\" transform=\"translate(454,0) rotate(30,0,515)\" style=\"font-family: 'Open Sans', verdana, arial, sans-serif; font-size: 12px; fill: rgb(42, 63, 95); fill-opacity: 1; white-space: pre; opacity: 1;\">lang_julia</text></g><g class=\"xtick\"><text text-anchor=\"start\" x=\"0\" y=\"521\" transform=\"translate(498,0) rotate(30,0,515)\" style=\"font-family: 'Open Sans', verdana, arial, sans-serif; font-size: 12px; fill: rgb(42, 63, 95); fill-opacity: 1; white-space: pre; opacity: 1;\">lang_swift</text></g></g><g class=\"yaxislayer-above\"><g class=\"ytick\"><text text-anchor=\"end\" x=\"79\" y=\"4.199999999999999\" transform=\"translate(0,491.88)\" style=\"font-family: 'Open Sans', verdana, arial, sans-serif; font-size: 12px; fill: rgb(42, 63, 95); fill-opacity: 1; white-space: pre; opacity: 1;\">−0.2</text></g><g class=\"ytick\"><text text-anchor=\"end\" x=\"79\" y=\"4.199999999999999\" style=\"font-family: 'Open Sans', verdana, arial, sans-serif; font-size: 12px; fill: rgb(42, 63, 95); fill-opacity: 1; white-space: pre; opacity: 1;\" transform=\"translate(0,417.84)\">−0.1</text></g><g class=\"ytick\"><text text-anchor=\"end\" x=\"79\" y=\"4.199999999999999\" style=\"font-family: 'Open Sans', verdana, arial, sans-serif; font-size: 12px; fill: rgb(42, 63, 95); fill-opacity: 1; white-space: pre; opacity: 1;\" transform=\"translate(0,343.79)\">0</text></g><g class=\"ytick\"><text text-anchor=\"end\" x=\"79\" y=\"4.199999999999999\" style=\"font-family: 'Open Sans', verdana, arial, sans-serif; font-size: 12px; fill: rgb(42, 63, 95); fill-opacity: 1; white-space: pre; opacity: 1;\" transform=\"translate(0,269.74)\">0.1</text></g><g class=\"ytick\"><text text-anchor=\"end\" x=\"79\" y=\"4.199999999999999\" style=\"font-family: 'Open Sans', verdana, arial, sans-serif; font-size: 12px; fill: rgb(42, 63, 95); fill-opacity: 1; white-space: pre; opacity: 1;\" transform=\"translate(0,195.7)\">0.2</text></g><g class=\"ytick\"><text text-anchor=\"end\" x=\"79\" y=\"4.199999999999999\" style=\"font-family: 'Open Sans', verdana, arial, sans-serif; font-size: 12px; fill: rgb(42, 63, 95); fill-opacity: 1; white-space: pre; opacity: 1;\" transform=\"translate(0,121.65)\">0.3</text></g></g><g class=\"overaxes-above\"/></g></g><g class=\"polarlayer\"/><g class=\"ternarylayer\"/><g class=\"geolayer\"/><g class=\"funnelarealayer\"/><g class=\"pielayer\"/><g class=\"iciclelayer\"/><g class=\"treemaplayer\"/><g class=\"sunburstlayer\"/><g class=\"glimages\"/><defs id=\"topdefs-ae5f65\"><g class=\"clips\"/></defs><g class=\"layer-above\"><g class=\"imagelayer\"/><g class=\"shapelayer\"/></g><g class=\"infolayer\"><g class=\"g-gtitle\"/><g class=\"g-xtitle\"><text class=\"xtitle\" x=\"300\" y=\"587.9533203125\" text-anchor=\"middle\" style=\"font-family: 'Open Sans', verdana, arial, sans-serif; font-size: 14px; fill: rgb(42, 63, 95); opacity: 1; font-weight: normal; white-space: pre;\">Language</text></g><g class=\"g-ytitle\"><text class=\"ytitle\" transform=\"rotate(-90,30.496875000000003,284)\" x=\"30.496875000000003\" y=\"284\" text-anchor=\"middle\" style=\"font-family: 'Open Sans', verdana, arial, sans-serif; font-size: 14px; fill: rgb(42, 63, 95); opacity: 1; font-weight: normal; white-space: pre;\">Coefficient</text></g><g class=\"annotation\" data-index=\"0\" style=\"opacity: 1;\"><g class=\"annotation-text-g\" transform=\"rotate(0,260.5,28.19999999999997)\"><g class=\"cursor-pointer\" transform=\"translate(89,15)\"><rect class=\"bg\" x=\"0.5\" y=\"0.5\" width=\"342\" height=\"25\" style=\"stroke-width: 1px; stroke: rgb(0, 0, 0); stroke-opacity: 0; fill: rgb(0, 0, 0); fill-opacity: 0;\"/><text class=\"annotation-text\" text-anchor=\"middle\" x=\"171.59375\" y=\"20\" style=\"font-family: 'Open Sans', verdana, arial, sans-serif; font-size: 12px; fill: rgb(42, 63, 95); fill-opacity: 1; white-space: pre;\"><tspan class=\"line\" dy=\"0em\" x=\"171.59375\" y=\"20\"><tspan style=\"font-size:20px; \">Top paid kagglers based on Language</tspan></tspan><tspan class=\"line\" dy=\"1.3em\" x=\"171.59375\" y=\"20\"></tspan><tspan class=\"line\" dy=\"2.6em\" x=\"171.59375\" y=\"20\"></tspan></text></g></g></g></g></svg>"
      ]
     },
     "metadata": {},
     "output_type": "display_data"
    }
   ],
   "source": [
    "#plotting to map coefficients - Langauge\n",
    "df_temp=filter_row_startswith(coefficients,'Variable','lang','Coefficient')\n",
    "fig = px.bar(df_temp, x=\"Variable\", y=\"Coefficient\",\n",
    "    width = 600,\n",
    "    height = 600)\n",
    "\n",
    "\n",
    "fig.update_xaxes(title_text=\"Language\")\n",
    "fig.update_yaxes(title_text=\"Coefficient\")\n",
    "\n",
    "large_title_format = \"<span style='font-size:20px; '>Top paid kagglers based on Language</span>\"\n",
    "\n",
    "fig.add_annotation(dict(\n",
    "                            x= 0.8,\n",
    "                            y=1.1,\n",
    "                            showarrow=False,\n",
    "                            text= large_title_format + \"<br><br>\" ,\n",
    "                            textangle=0,\n",
    "                            xref=\"paper\",\n",
    "                            yref=\"paper\"\n",
    "                           ))\n",
    "fig.show()"
   ]
  },
  {
   "cell_type": "markdown",
   "metadata": {
    "papermill": {
     "duration": 0.170879,
     "end_time": "2021-07-03T11:15:49.509031",
     "exception": false,
     "start_time": "2021-07-03T11:15:49.338152",
     "status": "completed"
    },
    "tags": []
   },
   "source": [
    "**Summary 3**<br>\n",
    "Experienced personnel as expected earn more. In terms of country, USA and UAE top the list of better pay even after adjusting for cost of living. Python being common for almost 90% of people,C and Matlab top the list. One reason is they could be top choice for people with high experience as well."
   ]
  },
  {
   "cell_type": "markdown",
   "metadata": {
    "papermill": {
     "duration": 0.157432,
     "end_time": "2021-07-03T11:15:49.854918",
     "exception": false,
     "start_time": "2021-07-03T11:15:49.697486",
     "status": "completed"
    },
    "tags": []
   },
   "source": [
    "# Appendix\n",
    "**References**\n",
    "1. https://www.kaggle.com/joeypp/cost-of-living-numbeo-dataset\n",
    "2. https://www.kaggle.com/spitfire2nd/enthusiast-to-data-professional-what-changes/\n",
    "3. https://www.kaggle.com/kailex/education-languages-and-salary\n"
   ]
  },
  {
   "cell_type": "markdown",
   "metadata": {
    "papermill": {
     "duration": 0.160833,
     "end_time": "2021-07-03T11:15:50.172689",
     "exception": false,
     "start_time": "2021-07-03T11:15:50.011856",
     "status": "completed"
    },
    "tags": []
   },
   "source": [
    "**Recreating Linear regression using stats model for validation**"
   ]
  },
  {
   "cell_type": "code",
   "execution_count": 122,
   "metadata": {
    "execution": {
     "iopub.execute_input": "2021-07-03T11:15:50.511559Z",
     "iopub.status.busy": "2021-07-03T11:15:50.506283Z",
     "iopub.status.idle": "2021-07-03T11:15:50.772761Z",
     "shell.execute_reply": "2021-07-03T11:15:50.773606Z",
     "shell.execute_reply.started": "2021-07-03T10:35:24.451582Z"
    },
    "papermill": {
     "duration": 0.443886,
     "end_time": "2021-07-03T11:15:50.773939",
     "exception": false,
     "start_time": "2021-07-03T11:15:50.330053",
     "status": "completed"
    },
    "tags": []
   },
   "outputs": [
    {
     "data": {
      "text/html": [
       "<table class=\"simpletable\">\n",
       "<caption>OLS Regression Results</caption>\n",
       "<tr>\n",
       "  <th>Dep. Variable:</th>     <td>adjusted_salary</td> <th>  R-squared:         </th> <td>   0.376</td> \n",
       "</tr>\n",
       "<tr>\n",
       "  <th>Model:</th>                   <td>OLS</td>       <th>  Adj. R-squared:    </th> <td>   0.371</td> \n",
       "</tr>\n",
       "<tr>\n",
       "  <th>Method:</th>             <td>Least Squares</td>  <th>  F-statistic:       </th> <td>   76.50</td> \n",
       "</tr>\n",
       "<tr>\n",
       "  <th>Date:</th>             <td>Sat, 03 Jul 2021</td> <th>  Prob (F-statistic):</th>  <td>  0.00</td>  \n",
       "</tr>\n",
       "<tr>\n",
       "  <th>Time:</th>                 <td>16:58:20</td>     <th>  Log-Likelihood:    </th> <td> -13278.</td> \n",
       "</tr>\n",
       "<tr>\n",
       "  <th>No. Observations:</th>      <td>  8433</td>      <th>  AIC:               </th> <td>2.669e+04</td>\n",
       "</tr>\n",
       "<tr>\n",
       "  <th>Df Residuals:</th>          <td>  8366</td>      <th>  BIC:               </th> <td>2.716e+04</td>\n",
       "</tr>\n",
       "<tr>\n",
       "  <th>Df Model:</th>              <td>    66</td>      <th>                     </th>     <td> </td>    \n",
       "</tr>\n",
       "<tr>\n",
       "  <th>Covariance Type:</th>      <td>nonrobust</td>    <th>                     </th>     <td> </td>    \n",
       "</tr>\n",
       "</table>\n",
       "<table class=\"simpletable\">\n",
       "<tr>\n",
       "              <td></td>                 <th>coef</th>     <th>std err</th>      <th>t</th>      <th>P>|t|</th>  <th>[0.025</th>    <th>0.975]</th>  \n",
       "</tr>\n",
       "<tr>\n",
       "  <th>Intercept</th>                 <td>    9.7986</td> <td>    0.225</td> <td>   43.518</td> <td> 0.000</td> <td>    9.357</td> <td>   10.240</td>\n",
       "</tr>\n",
       "<tr>\n",
       "  <th>exp_1020years</th>             <td>    0.9758</td> <td>    0.048</td> <td>   20.364</td> <td> 0.000</td> <td>    0.882</td> <td>    1.070</td>\n",
       "</tr>\n",
       "<tr>\n",
       "  <th>exp_20years</th>               <td>    0.9707</td> <td>    0.053</td> <td>   18.223</td> <td> 0.000</td> <td>    0.866</td> <td>    1.075</td>\n",
       "</tr>\n",
       "<tr>\n",
       "  <th>exp_35years</th>               <td>    0.2961</td> <td>    0.041</td> <td>    7.198</td> <td> 0.000</td> <td>    0.215</td> <td>    0.377</td>\n",
       "</tr>\n",
       "<tr>\n",
       "  <th>exp_510years</th>              <td>    0.6907</td> <td>    0.044</td> <td>   15.596</td> <td> 0.000</td> <td>    0.604</td> <td>    0.777</td>\n",
       "</tr>\n",
       "<tr>\n",
       "  <th>exp_1years</th>                <td>   -0.1412</td> <td>    0.049</td> <td>   -2.870</td> <td> 0.004</td> <td>   -0.238</td> <td>   -0.045</td>\n",
       "</tr>\n",
       "<tr>\n",
       "  <th>exp_ihaveneverwrittencode</th> <td>    0.0692</td> <td>    0.076</td> <td>    0.912</td> <td> 0.362</td> <td>   -0.080</td> <td>    0.218</td>\n",
       "</tr>\n",
       "<tr>\n",
       "  <th>ct_australia</th>              <td>    0.9896</td> <td>    0.179</td> <td>    5.537</td> <td> 0.000</td> <td>    0.639</td> <td>    1.340</td>\n",
       "</tr>\n",
       "<tr>\n",
       "  <th>ct_bangladesh</th>             <td>   -0.6187</td> <td>    0.269</td> <td>   -2.298</td> <td> 0.022</td> <td>   -1.146</td> <td>   -0.091</td>\n",
       "</tr>\n",
       "<tr>\n",
       "  <th>ct_belarus</th>                <td>   -0.0295</td> <td>    0.259</td> <td>   -0.114</td> <td> 0.909</td> <td>   -0.538</td> <td>    0.479</td>\n",
       "</tr>\n",
       "<tr>\n",
       "  <th>ct_belgium</th>                <td>    0.1351</td> <td>    0.266</td> <td>    0.509</td> <td> 0.611</td> <td>   -0.385</td> <td>    0.656</td>\n",
       "</tr>\n",
       "<tr>\n",
       "  <th>ct_brazil</th>                 <td>    0.1426</td> <td>    0.158</td> <td>    0.904</td> <td> 0.366</td> <td>   -0.167</td> <td>    0.452</td>\n",
       "</tr>\n",
       "<tr>\n",
       "  <th>ct_canada</th>                 <td>    0.9414</td> <td>    0.170</td> <td>    5.539</td> <td> 0.000</td> <td>    0.608</td> <td>    1.275</td>\n",
       "</tr>\n",
       "<tr>\n",
       "  <th>ct_chile</th>                  <td>    0.0728</td> <td>    0.218</td> <td>    0.335</td> <td> 0.738</td> <td>   -0.354</td> <td>    0.499</td>\n",
       "</tr>\n",
       "<tr>\n",
       "  <th>ct_china</th>                  <td>    0.5161</td> <td>    0.181</td> <td>    2.852</td> <td> 0.004</td> <td>    0.161</td> <td>    0.871</td>\n",
       "</tr>\n",
       "<tr>\n",
       "  <th>ct_colombia</th>               <td>   -0.3962</td> <td>    0.181</td> <td>   -2.188</td> <td> 0.029</td> <td>   -0.751</td> <td>   -0.041</td>\n",
       "</tr>\n",
       "<tr>\n",
       "  <th>ct_egypt</th>                  <td>   -1.0995</td> <td>    0.191</td> <td>   -5.744</td> <td> 0.000</td> <td>   -1.475</td> <td>   -0.724</td>\n",
       "</tr>\n",
       "<tr>\n",
       "  <th>ct_france</th>                 <td>    0.3743</td> <td>    0.171</td> <td>    2.188</td> <td> 0.029</td> <td>    0.039</td> <td>    0.710</td>\n",
       "</tr>\n",
       "<tr>\n",
       "  <th>ct_germany</th>                <td>    0.7999</td> <td>    0.165</td> <td>    4.851</td> <td> 0.000</td> <td>    0.477</td> <td>    1.123</td>\n",
       "</tr>\n",
       "<tr>\n",
       "  <th>ct_ghana</th>                  <td>   -0.4105</td> <td>    0.337</td> <td>   -1.220</td> <td> 0.223</td> <td>   -1.070</td> <td>    0.249</td>\n",
       "</tr>\n",
       "<tr>\n",
       "  <th>ct_greece</th>                 <td>   -0.0844</td> <td>    0.217</td> <td>   -0.388</td> <td> 0.698</td> <td>   -0.511</td> <td>    0.342</td>\n",
       "</tr>\n",
       "<tr>\n",
       "  <th>ct_india</th>                  <td>   -0.2052</td> <td>    0.149</td> <td>   -1.382</td> <td> 0.167</td> <td>   -0.496</td> <td>    0.086</td>\n",
       "</tr>\n",
       "<tr>\n",
       "  <th>ct_indonesia</th>              <td>   -0.4004</td> <td>    0.204</td> <td>   -1.960</td> <td> 0.050</td> <td>   -0.801</td> <td>    0.000</td>\n",
       "</tr>\n",
       "<tr>\n",
       "  <th>ct_ireland</th>                <td>    0.5508</td> <td>    0.257</td> <td>    2.147</td> <td> 0.032</td> <td>    0.048</td> <td>    1.054</td>\n",
       "</tr>\n",
       "<tr>\n",
       "  <th>ct_israel</th>                 <td>    0.9207</td> <td>    0.213</td> <td>    4.317</td> <td> 0.000</td> <td>    0.503</td> <td>    1.339</td>\n",
       "</tr>\n",
       "<tr>\n",
       "  <th>ct_italy</th>                  <td>    0.2858</td> <td>    0.174</td> <td>    1.645</td> <td> 0.100</td> <td>   -0.055</td> <td>    0.626</td>\n",
       "</tr>\n",
       "<tr>\n",
       "  <th>ct_japan</th>                  <td>    0.2281</td> <td>    0.161</td> <td>    1.421</td> <td> 0.155</td> <td>   -0.087</td> <td>    0.543</td>\n",
       "</tr>\n",
       "<tr>\n",
       "  <th>ct_kenya</th>                  <td>   -0.5367</td> <td>    0.227</td> <td>   -2.369</td> <td> 0.018</td> <td>   -0.981</td> <td>   -0.093</td>\n",
       "</tr>\n",
       "<tr>\n",
       "  <th>ct_malaysia</th>               <td>    0.1015</td> <td>    0.228</td> <td>    0.445</td> <td> 0.656</td> <td>   -0.345</td> <td>    0.548</td>\n",
       "</tr>\n",
       "<tr>\n",
       "  <th>ct_mexico</th>                 <td>    0.3369</td> <td>    0.182</td> <td>    1.854</td> <td> 0.064</td> <td>   -0.019</td> <td>    0.693</td>\n",
       "</tr>\n",
       "<tr>\n",
       "  <th>ct_morocco</th>                <td>    0.0547</td> <td>    0.260</td> <td>    0.210</td> <td> 0.834</td> <td>   -0.456</td> <td>    0.565</td>\n",
       "</tr>\n",
       "<tr>\n",
       "  <th>ct_nepal</th>                  <td>   -0.7875</td> <td>    0.301</td> <td>   -2.619</td> <td> 0.009</td> <td>   -1.377</td> <td>   -0.198</td>\n",
       "</tr>\n",
       "<tr>\n",
       "  <th>ct_netherlands</th>            <td>    0.6874</td> <td>    0.184</td> <td>    3.739</td> <td> 0.000</td> <td>    0.327</td> <td>    1.048</td>\n",
       "</tr>\n",
       "<tr>\n",
       "  <th>ct_nigeria</th>                <td>   -1.3945</td> <td>    0.165</td> <td>   -8.465</td> <td> 0.000</td> <td>   -1.717</td> <td>   -1.072</td>\n",
       "</tr>\n",
       "<tr>\n",
       "  <th>ct_pakistan</th>               <td>   -0.7999</td> <td>    0.182</td> <td>   -4.404</td> <td> 0.000</td> <td>   -1.156</td> <td>   -0.444</td>\n",
       "</tr>\n",
       "<tr>\n",
       "  <th>ct_peru</th>                   <td>   -0.4082</td> <td>    0.223</td> <td>   -1.834</td> <td> 0.067</td> <td>   -0.845</td> <td>    0.028</td>\n",
       "</tr>\n",
       "<tr>\n",
       "  <th>ct_philippines</th>            <td>   -0.1395</td> <td>    0.233</td> <td>   -0.599</td> <td> 0.549</td> <td>   -0.596</td> <td>    0.317</td>\n",
       "</tr>\n",
       "<tr>\n",
       "  <th>ct_poland</th>                 <td>    0.5069</td> <td>    0.190</td> <td>    2.668</td> <td> 0.008</td> <td>    0.134</td> <td>    0.879</td>\n",
       "</tr>\n",
       "<tr>\n",
       "  <th>ct_portugal</th>               <td>    0.1774</td> <td>    0.195</td> <td>    0.908</td> <td> 0.364</td> <td>   -0.206</td> <td>    0.560</td>\n",
       "</tr>\n",
       "<tr>\n",
       "  <th>ct_romania</th>                <td>    0.2445</td> <td>    0.249</td> <td>    0.983</td> <td> 0.326</td> <td>   -0.243</td> <td>    0.732</td>\n",
       "</tr>\n",
       "<tr>\n",
       "  <th>ct_russia</th>                 <td>    0.2549</td> <td>    0.162</td> <td>    1.570</td> <td> 0.116</td> <td>   -0.063</td> <td>    0.573</td>\n",
       "</tr>\n",
       "<tr>\n",
       "  <th>ct_saudiarabia</th>            <td>    0.0158</td> <td>    0.236</td> <td>    0.067</td> <td> 0.947</td> <td>   -0.448</td> <td>    0.479</td>\n",
       "</tr>\n",
       "<tr>\n",
       "  <th>ct_singapore</th>              <td>    0.3612</td> <td>    0.195</td> <td>    1.850</td> <td> 0.064</td> <td>   -0.022</td> <td>    0.744</td>\n",
       "</tr>\n",
       "<tr>\n",
       "  <th>ct_southafrica</th>            <td>    0.5744</td> <td>    0.203</td> <td>    2.828</td> <td> 0.005</td> <td>    0.176</td> <td>    0.973</td>\n",
       "</tr>\n",
       "<tr>\n",
       "  <th>ct_southkorea</th>             <td>    0.0488</td> <td>    0.203</td> <td>    0.240</td> <td> 0.811</td> <td>   -0.350</td> <td>    0.448</td>\n",
       "</tr>\n",
       "<tr>\n",
       "  <th>ct_spain</th>                  <td>    0.5192</td> <td>    0.166</td> <td>    3.124</td> <td> 0.002</td> <td>    0.193</td> <td>    0.845</td>\n",
       "</tr>\n",
       "<tr>\n",
       "  <th>ct_srilanka</th>               <td>   -0.1301</td> <td>    0.301</td> <td>   -0.432</td> <td> 0.665</td> <td>   -0.720</td> <td>    0.460</td>\n",
       "</tr>\n",
       "<tr>\n",
       "  <th>ct_sweden</th>                 <td>    0.6107</td> <td>    0.219</td> <td>    2.794</td> <td> 0.005</td> <td>    0.182</td> <td>    1.039</td>\n",
       "</tr>\n",
       "<tr>\n",
       "  <th>ct_switzerland</th>            <td>    0.7933</td> <td>    0.225</td> <td>    3.529</td> <td> 0.000</td> <td>    0.353</td> <td>    1.234</td>\n",
       "</tr>\n",
       "<tr>\n",
       "  <th>ct_taiwan</th>                 <td>    0.0108</td> <td>    0.189</td> <td>    0.057</td> <td> 0.954</td> <td>   -0.360</td> <td>    0.381</td>\n",
       "</tr>\n",
       "<tr>\n",
       "  <th>ct_thailand</th>               <td>   -0.1784</td> <td>    0.214</td> <td>   -0.835</td> <td> 0.404</td> <td>   -0.597</td> <td>    0.240</td>\n",
       "</tr>\n",
       "<tr>\n",
       "  <th>ct_tunisia</th>                <td>   -1.0577</td> <td>    0.222</td> <td>   -4.769</td> <td> 0.000</td> <td>   -1.493</td> <td>   -0.623</td>\n",
       "</tr>\n",
       "<tr>\n",
       "  <th>ct_turkey</th>                 <td>    0.1030</td> <td>    0.182</td> <td>    0.566</td> <td> 0.572</td> <td>   -0.254</td> <td>    0.460</td>\n",
       "</tr>\n",
       "<tr>\n",
       "  <th>ct_ukraine</th>                <td>   -0.2569</td> <td>    0.183</td> <td>   -1.404</td> <td> 0.160</td> <td>   -0.615</td> <td>    0.102</td>\n",
       "</tr>\n",
       "<tr>\n",
       "  <th>ct_unitedarabemirates</th>     <td>    0.9299</td> <td>    0.240</td> <td>    3.873</td> <td> 0.000</td> <td>    0.459</td> <td>    1.401</td>\n",
       "</tr>\n",
       "<tr>\n",
       "  <th>ct_unitedstatesofamerica</th>  <td>    1.2831</td> <td>    0.149</td> <td>    8.599</td> <td> 0.000</td> <td>    0.991</td> <td>    1.576</td>\n",
       "</tr>\n",
       "<tr>\n",
       "  <th>lang_python</th>               <td>    0.0613</td> <td>    0.039</td> <td>    1.568</td> <td> 0.117</td> <td>   -0.015</td> <td>    0.138</td>\n",
       "</tr>\n",
       "<tr>\n",
       "  <th>lang_r</th>                    <td>   -0.0326</td> <td>    0.031</td> <td>   -1.065</td> <td> 0.287</td> <td>   -0.093</td> <td>    0.027</td>\n",
       "</tr>\n",
       "<tr>\n",
       "  <th>lang_sql</th>                  <td>   -0.0648</td> <td>    0.028</td> <td>   -2.342</td> <td> 0.019</td> <td>   -0.119</td> <td>   -0.011</td>\n",
       "</tr>\n",
       "<tr>\n",
       "  <th>lang_c</th>                    <td>    0.3032</td> <td>    0.044</td> <td>    6.913</td> <td> 0.000</td> <td>    0.217</td> <td>    0.389</td>\n",
       "</tr>\n",
       "<tr>\n",
       "  <th>lang_cplusplus</th>            <td>    0.1015</td> <td>    0.041</td> <td>    2.476</td> <td> 0.013</td> <td>    0.021</td> <td>    0.182</td>\n",
       "</tr>\n",
       "<tr>\n",
       "  <th>lang_java</th>                 <td>    0.0623</td> <td>    0.038</td> <td>    1.639</td> <td> 0.101</td> <td>   -0.012</td> <td>    0.137</td>\n",
       "</tr>\n",
       "<tr>\n",
       "  <th>lang_javascript</th>           <td>    0.1067</td> <td>    0.037</td> <td>    2.909</td> <td> 0.004</td> <td>    0.035</td> <td>    0.179</td>\n",
       "</tr>\n",
       "<tr>\n",
       "  <th>lang_julia</th>                <td>   -0.1881</td> <td>    0.103</td> <td>   -1.832</td> <td> 0.067</td> <td>   -0.389</td> <td>    0.013</td>\n",
       "</tr>\n",
       "<tr>\n",
       "  <th>lang_swift</th>                <td>   -0.0502</td> <td>    0.121</td> <td>   -0.415</td> <td> 0.678</td> <td>   -0.288</td> <td>    0.187</td>\n",
       "</tr>\n",
       "<tr>\n",
       "  <th>lang_bash</th>                 <td>   -0.2019</td> <td>    0.040</td> <td>   -5.029</td> <td> 0.000</td> <td>   -0.281</td> <td>   -0.123</td>\n",
       "</tr>\n",
       "<tr>\n",
       "  <th>lang_matlab</th>               <td>    0.1549</td> <td>    0.045</td> <td>    3.415</td> <td> 0.001</td> <td>    0.066</td> <td>    0.244</td>\n",
       "</tr>\n",
       "</table>\n",
       "<table class=\"simpletable\">\n",
       "<tr>\n",
       "  <th>Omnibus:</th>       <td>57.304</td> <th>  Durbin-Watson:     </th> <td>   1.999</td>\n",
       "</tr>\n",
       "<tr>\n",
       "  <th>Prob(Omnibus):</th> <td> 0.000</td> <th>  Jarque-Bera (JB):  </th> <td>  86.727</td>\n",
       "</tr>\n",
       "<tr>\n",
       "  <th>Skew:</th>          <td> 0.010</td> <th>  Prob(JB):          </th> <td>1.47e-19</td>\n",
       "</tr>\n",
       "<tr>\n",
       "  <th>Kurtosis:</th>      <td> 3.496</td> <th>  Cond. No.          </th> <td>    240.</td>\n",
       "</tr>\n",
       "</table><br/><br/>Notes:<br/>[1] Standard Errors assume that the covariance matrix of the errors is correctly specified."
      ],
      "text/plain": [
       "<class 'statsmodels.iolib.summary.Summary'>\n",
       "\"\"\"\n",
       "                            OLS Regression Results                            \n",
       "==============================================================================\n",
       "Dep. Variable:        adjusted_salary   R-squared:                       0.376\n",
       "Model:                            OLS   Adj. R-squared:                  0.371\n",
       "Method:                 Least Squares   F-statistic:                     76.50\n",
       "Date:                Sat, 03 Jul 2021   Prob (F-statistic):               0.00\n",
       "Time:                        16:58:20   Log-Likelihood:                -13278.\n",
       "No. Observations:                8433   AIC:                         2.669e+04\n",
       "Df Residuals:                    8366   BIC:                         2.716e+04\n",
       "Df Model:                          66                                         \n",
       "Covariance Type:            nonrobust                                         \n",
       "=============================================================================================\n",
       "                                coef    std err          t      P>|t|      [0.025      0.975]\n",
       "---------------------------------------------------------------------------------------------\n",
       "Intercept                     9.7986      0.225     43.518      0.000       9.357      10.240\n",
       "exp_1020years                 0.9758      0.048     20.364      0.000       0.882       1.070\n",
       "exp_20years                   0.9707      0.053     18.223      0.000       0.866       1.075\n",
       "exp_35years                   0.2961      0.041      7.198      0.000       0.215       0.377\n",
       "exp_510years                  0.6907      0.044     15.596      0.000       0.604       0.777\n",
       "exp_1years                   -0.1412      0.049     -2.870      0.004      -0.238      -0.045\n",
       "exp_ihaveneverwrittencode     0.0692      0.076      0.912      0.362      -0.080       0.218\n",
       "ct_australia                  0.9896      0.179      5.537      0.000       0.639       1.340\n",
       "ct_bangladesh                -0.6187      0.269     -2.298      0.022      -1.146      -0.091\n",
       "ct_belarus                   -0.0295      0.259     -0.114      0.909      -0.538       0.479\n",
       "ct_belgium                    0.1351      0.266      0.509      0.611      -0.385       0.656\n",
       "ct_brazil                     0.1426      0.158      0.904      0.366      -0.167       0.452\n",
       "ct_canada                     0.9414      0.170      5.539      0.000       0.608       1.275\n",
       "ct_chile                      0.0728      0.218      0.335      0.738      -0.354       0.499\n",
       "ct_china                      0.5161      0.181      2.852      0.004       0.161       0.871\n",
       "ct_colombia                  -0.3962      0.181     -2.188      0.029      -0.751      -0.041\n",
       "ct_egypt                     -1.0995      0.191     -5.744      0.000      -1.475      -0.724\n",
       "ct_france                     0.3743      0.171      2.188      0.029       0.039       0.710\n",
       "ct_germany                    0.7999      0.165      4.851      0.000       0.477       1.123\n",
       "ct_ghana                     -0.4105      0.337     -1.220      0.223      -1.070       0.249\n",
       "ct_greece                    -0.0844      0.217     -0.388      0.698      -0.511       0.342\n",
       "ct_india                     -0.2052      0.149     -1.382      0.167      -0.496       0.086\n",
       "ct_indonesia                 -0.4004      0.204     -1.960      0.050      -0.801       0.000\n",
       "ct_ireland                    0.5508      0.257      2.147      0.032       0.048       1.054\n",
       "ct_israel                     0.9207      0.213      4.317      0.000       0.503       1.339\n",
       "ct_italy                      0.2858      0.174      1.645      0.100      -0.055       0.626\n",
       "ct_japan                      0.2281      0.161      1.421      0.155      -0.087       0.543\n",
       "ct_kenya                     -0.5367      0.227     -2.369      0.018      -0.981      -0.093\n",
       "ct_malaysia                   0.1015      0.228      0.445      0.656      -0.345       0.548\n",
       "ct_mexico                     0.3369      0.182      1.854      0.064      -0.019       0.693\n",
       "ct_morocco                    0.0547      0.260      0.210      0.834      -0.456       0.565\n",
       "ct_nepal                     -0.7875      0.301     -2.619      0.009      -1.377      -0.198\n",
       "ct_netherlands                0.6874      0.184      3.739      0.000       0.327       1.048\n",
       "ct_nigeria                   -1.3945      0.165     -8.465      0.000      -1.717      -1.072\n",
       "ct_pakistan                  -0.7999      0.182     -4.404      0.000      -1.156      -0.444\n",
       "ct_peru                      -0.4082      0.223     -1.834      0.067      -0.845       0.028\n",
       "ct_philippines               -0.1395      0.233     -0.599      0.549      -0.596       0.317\n",
       "ct_poland                     0.5069      0.190      2.668      0.008       0.134       0.879\n",
       "ct_portugal                   0.1774      0.195      0.908      0.364      -0.206       0.560\n",
       "ct_romania                    0.2445      0.249      0.983      0.326      -0.243       0.732\n",
       "ct_russia                     0.2549      0.162      1.570      0.116      -0.063       0.573\n",
       "ct_saudiarabia                0.0158      0.236      0.067      0.947      -0.448       0.479\n",
       "ct_singapore                  0.3612      0.195      1.850      0.064      -0.022       0.744\n",
       "ct_southafrica                0.5744      0.203      2.828      0.005       0.176       0.973\n",
       "ct_southkorea                 0.0488      0.203      0.240      0.811      -0.350       0.448\n",
       "ct_spain                      0.5192      0.166      3.124      0.002       0.193       0.845\n",
       "ct_srilanka                  -0.1301      0.301     -0.432      0.665      -0.720       0.460\n",
       "ct_sweden                     0.6107      0.219      2.794      0.005       0.182       1.039\n",
       "ct_switzerland                0.7933      0.225      3.529      0.000       0.353       1.234\n",
       "ct_taiwan                     0.0108      0.189      0.057      0.954      -0.360       0.381\n",
       "ct_thailand                  -0.1784      0.214     -0.835      0.404      -0.597       0.240\n",
       "ct_tunisia                   -1.0577      0.222     -4.769      0.000      -1.493      -0.623\n",
       "ct_turkey                     0.1030      0.182      0.566      0.572      -0.254       0.460\n",
       "ct_ukraine                   -0.2569      0.183     -1.404      0.160      -0.615       0.102\n",
       "ct_unitedarabemirates         0.9299      0.240      3.873      0.000       0.459       1.401\n",
       "ct_unitedstatesofamerica      1.2831      0.149      8.599      0.000       0.991       1.576\n",
       "lang_python                   0.0613      0.039      1.568      0.117      -0.015       0.138\n",
       "lang_r                       -0.0326      0.031     -1.065      0.287      -0.093       0.027\n",
       "lang_sql                     -0.0648      0.028     -2.342      0.019      -0.119      -0.011\n",
       "lang_c                        0.3032      0.044      6.913      0.000       0.217       0.389\n",
       "lang_cplusplus                0.1015      0.041      2.476      0.013       0.021       0.182\n",
       "lang_java                     0.0623      0.038      1.639      0.101      -0.012       0.137\n",
       "lang_javascript               0.1067      0.037      2.909      0.004       0.035       0.179\n",
       "lang_julia                   -0.1881      0.103     -1.832      0.067      -0.389       0.013\n",
       "lang_swift                   -0.0502      0.121     -0.415      0.678      -0.288       0.187\n",
       "lang_bash                    -0.2019      0.040     -5.029      0.000      -0.281      -0.123\n",
       "lang_matlab                   0.1549      0.045      3.415      0.001       0.066       0.244\n",
       "==============================================================================\n",
       "Omnibus:                       57.304   Durbin-Watson:                   1.999\n",
       "Prob(Omnibus):                  0.000   Jarque-Bera (JB):               86.727\n",
       "Skew:                           0.010   Prob(JB):                     1.47e-19\n",
       "Kurtosis:                       3.496   Cond. No.                         240.\n",
       "==============================================================================\n",
       "\n",
       "Notes:\n",
       "[1] Standard Errors assume that the covariance matrix of the errors is correctly specified.\n",
       "\"\"\""
      ]
     },
     "execution_count": 122,
     "metadata": {},
     "output_type": "execute_result"
    }
   ],
   "source": [
    "#Testing for R2 \n",
    "df_processed.columns = [c.replace(' ', '') for c in df_processed.columns]\n",
    "df_processed.columns = [str(c).lower() for c in df_processed.columns]\n",
    "df_processed.columns = [c.replace('<', '') for c in df_processed.columns]\n",
    "df_processed.columns = [c.replace('-', '') for c in df_processed.columns]\n",
    "df_processed.columns = [c.replace('+', '') for c in df_processed.columns]\n",
    "\n",
    "str1 = df_processed.columns[0] + \" ~ \" + \" + \".join(list(df_processed.columns[1:len(df_processed.columns)]))\n",
    "model = ols(formula=str1,data=df_processed).fit()\n",
    "model.summary()"
   ]
  }
 ],
 "metadata": {
  "kernelspec": {
   "display_name": "Python 3",
   "language": "python",
   "name": "python3"
  },
  "language_info": {
   "codemirror_mode": {
    "name": "ipython",
    "version": 3
   },
   "file_extension": ".py",
   "mimetype": "text/x-python",
   "name": "python",
   "nbconvert_exporter": "python",
   "pygments_lexer": "ipython3",
   "version": "3.8.10"
  },
  "papermill": {
   "default_parameters": {},
   "duration": 34.926576,
   "end_time": "2021-07-03T11:15:51.955505",
   "environment_variables": {},
   "exception": null,
   "input_path": "__notebook__.ipynb",
   "output_path": "__notebook__.ipynb",
   "parameters": {},
   "start_time": "2021-07-03T11:15:17.028929",
   "version": "2.3.3"
  }
 },
 "nbformat": 4,
 "nbformat_minor": 5
}
